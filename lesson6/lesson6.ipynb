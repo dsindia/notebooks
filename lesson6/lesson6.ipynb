{
 "cells": [
  {
   "cell_type": "code",
   "execution_count": null,
   "metadata": {
    "collapsed": true
   },
   "outputs": [],
   "source": [
    "import matplotlib.pyplot as plt\n",
    "import math\n",
    "import numpy as np\n",
    "import matplotlib.mlab as mlab\n",
    "import random\n",
    "from datascience import *\n",
    "%matplotlib inline\n",
    "import matplotlib.pyplot as plots\n",
    "plots.style.use('fivethirtyeight')\n",
    "import math"
   ]
  },
  {
   "cell_type": "markdown",
   "metadata": {},
   "source": [
    "# Intro to Probability -- Digging Deeper"
   ]
  },
  {
   "cell_type": "markdown",
   "metadata": {},
   "source": [
    "## Probability Distributions\n",
    "\n",
    "In the lesson, we ended with an experiment about coin flipping and we compared the empirical probabilities with the theoretical probabilites. Here, the same experiement is simulated, with an extra column for the theoretical probability. The experiment has been run 10 times, 100 times, 1000 times, and 10,000 times so you can see the difference between experimental and theoretical probablity as the numbers get extremely high. Run the cells and note what you see!\n",
    "\n",
    "Remember the table that we make in this way is known as a \"probability distribution.\" That's just a fancy way of saying that it tells us what the probability of each outcome is."
   ]
  },
  {
   "cell_type": "code",
   "execution_count": null,
   "metadata": {
    "collapsed": false
   },
   "outputs": [],
   "source": [
    "run_amount=10\n",
    "heads,tails=0,0\n",
    "for i in range(run_amount):\n",
    "    coin=random.randint(0,1)\n",
    "    if coin==0:\n",
    "        heads+=1\n",
    "    else:\n",
    "        tails+=1\n",
    "theoretical_prob=(.5*run_amount)/run_amount\n",
    "Table().with_columns(\n",
    "    'Side', make_array('heads','tails'),\n",
    "    'Count', make_array(heads,tails),\n",
    "    'Empirical Probability', make_array(heads/run_amount,tails/run_amount),\n",
    "    'Theoretical Probability', make_array(theoretical_prob,theoretical_prob)\n",
    ")"
   ]
  },
  {
   "cell_type": "code",
   "execution_count": null,
   "metadata": {
    "collapsed": false
   },
   "outputs": [],
   "source": [
    "run_amount=100\n",
    "heads,tails=0,0\n",
    "for i in range(run_amount):\n",
    "    coin=random.randint(0,1)\n",
    "    if coin==0:\n",
    "        heads+=1\n",
    "    else:\n",
    "        tails+=1\n",
    "theoretical_prob=(.5*run_amount)/run_amount\n",
    "Table().with_columns(\n",
    "    'Side', make_array('heads','tails'),\n",
    "    'Count', make_array(heads,tails),\n",
    "    'Empirical Probability', make_array(heads/run_amount,tails/run_amount),\n",
    "    'Theoretical Probability', make_array(theoretical_prob,theoretical_prob)\n",
    ")"
   ]
  },
  {
   "cell_type": "code",
   "execution_count": null,
   "metadata": {
    "collapsed": false
   },
   "outputs": [],
   "source": [
    "run_amount=1000\n",
    "heads,tails=0,0\n",
    "for i in range(run_amount):\n",
    "    coin=random.randint(0,1)\n",
    "    if coin==0:\n",
    "        heads+=1\n",
    "    else:\n",
    "        tails+=1\n",
    "theoretical_prob=(.5*run_amount)/run_amount\n",
    "Table().with_columns(\n",
    "    'Side', make_array('heads','tails'),\n",
    "    'Count', make_array(heads,tails),\n",
    "    'Empirical Probability', make_array(heads/run_amount,tails/run_amount),\n",
    "    'Theoretical Probability', make_array(theoretical_prob,theoretical_prob)\n",
    ")"
   ]
  },
  {
   "cell_type": "code",
   "execution_count": null,
   "metadata": {
    "collapsed": false
   },
   "outputs": [],
   "source": [
    "run_amount=10000\n",
    "heads,tails=0,0\n",
    "for i in range(run_amount):\n",
    "    coin=random.randint(0,1)\n",
    "    if coin==0:\n",
    "        heads+=1\n",
    "    else:\n",
    "        tails+=1\n",
    "theoretical_prob=(.5*run_amount)/run_amount\n",
    "Table().with_columns(\n",
    "    'Side', make_array('heads','tails'),\n",
    "    'Count', make_array(heads,tails),\n",
    "    'Empirical Probability', make_array(heads/run_amount,tails/run_amount),\n",
    "    'Theoretical Probability', make_array(theoretical_prob,theoretical_prob)\n",
    ")\n"
   ]
  },
  {
   "cell_type": "markdown",
   "metadata": {},
   "source": [
    "You probably noticed that as the experiement is run more times, the experimental and theoretical probabilities begin to align more and more. This is known as the law of large numbers.\n",
    "\n",
    "Now it's your turn! Let's consider a different scenario. Suppose we were rolling a die with numbers 1 through 6 on it instead. What's the theoretical probability of rolling any number? What does the empirical probability of rolling a 6 if you do this experiment 100 times? Fill in the code in the cell below with the right values to answer this question! After you do that, try increasing the run_amount to see what happens to the probability distribution."
   ]
  },
  {
   "cell_type": "code",
   "execution_count": null,
   "metadata": {
    "collapsed": false
   },
   "outputs": [],
   "source": [
    "run_amount = # fill in this value\n",
    "ones, others = 0, 0\n",
    "for i in range(run_amount):\n",
    "    die_roll = random.randint( ) # fill in this function\n",
    "    if die_roll == 0:\n",
    "        ones += 1\n",
    "    else:\n",
    "        others += 1\n",
    "theoretical_prob_ones = # What's the probability of getting a 6 (or any one number)?\n",
    "theoretical_prob_others = # What's the probability of getting a value that's not a 6 (or your desired number)? \n",
    "#Hint: Use the complement rule\n",
    "Table().with_columns(\n",
    "    'Side', make_array(\"ones\", \"others\")\n",
    "    'Count', make_array(ones, others),\n",
    "    'Empirical Probability', make_array(ones/run_amount,others/run_amount),\n",
    "    'Theoretical Probability', make_array(theoretical_prob,theoretical_prob)\n",
    ")"
   ]
  },
  {
   "cell_type": "markdown",
   "metadata": {},
   "source": [
    "## Normal Distribution\n",
    "\n",
    "Coin tosses and die rolls are examples of \"discrete\" random variables. There are only a few specific outcomes: a coin toss can be either heads or tails, and a die roll can be 1, 2, 3, 4, 5, or 6. But some random variables are \"continuous\": they can take on any value in a range.\n",
    "\n",
    "For these continuous random variables, we can't display the probability distribution in a table like we could for coin tosses. Instead, we need to graph the distribution. In the lesson today, you learned about one such graph: the normal distribution. Let's take a look at it by running the following cells:"
   ]
  },
  {
   "cell_type": "code",
   "execution_count": null,
   "metadata": {
    "collapsed": false
   },
   "outputs": [],
   "source": [
    "mu = 100\n",
    "variance = 225\n",
    "sigma = 15\n",
    "x = np.linspace(mu-3*variance,mu+3*variance, 100)\n",
    "plt.plot(x,mlab.normpdf(x, mu, sigma))\n",
    "plt.axis([0,200, 0, 0.025])\n",
    "plt.show()\n"
   ]
  },
  {
   "cell_type": "markdown",
   "metadata": {},
   "source": [
    "As you can see, the shape of the normal distribution is affected by two variables: mu, or it's mean, and sigma, or it's standard deviation. Here are a few more examples of normal distributions that have different values for mu and sigma:"
   ]
  },
  {
   "cell_type": "code",
   "execution_count": null,
   "metadata": {
    "collapsed": false
   },
   "outputs": [],
   "source": [
    "mu = 0\n",
    "variance = 1\n",
    "sigma = math.sqrt(variance)\n",
    "x = np.linspace(mu-3*variance,mu+3*variance, 100)\n",
    "plt.plot(x,mlab.normpdf(x, mu, sigma))\n",
    "plt.show()"
   ]
  },
  {
   "cell_type": "code",
   "execution_count": null,
   "metadata": {
    "collapsed": false,
    "scrolled": true
   },
   "outputs": [],
   "source": [
    "mu = 0\n",
    "variance = 100\n",
    "sigma = math.sqrt(variance)\n",
    "x = np.linspace(mu-3*variance,mu+3*variance, 100)\n",
    "plt.plot(x,mlab.normpdf(x, mu, sigma))\n",
    "plt.show()"
   ]
  },
  {
   "cell_type": "markdown",
   "metadata": {},
   "source": [
    "Now make your own! Insert values for mu and variance, run the cell, and see what happens!\n"
   ]
  },
  {
   "cell_type": "code",
   "execution_count": null,
   "metadata": {
    "collapsed": false
   },
   "outputs": [],
   "source": [
    "mu = ##\n",
    "variance = ##\n",
    "sigma = math.sqrt(variance)\n",
    "x = np.linspace(mu-3*variance,mu+3*variance, 100)\n",
    "plt.plot(x,mlab.normpdf(x, mu, sigma))\n",
    "plt.show()"
   ]
  },
  {
   "cell_type": "markdown",
   "metadata": {
    "collapsed": true
   },
   "source": [
    "## Normal Distributions and Coin Tosses\n",
    "\n",
    "Now we're gonna try an experiment. Earlier, we flipped a coin 100 times and saw how many times it came heads up. Now we're gonna repeat that same experiment a LOT of times and see what happens by plotting the resulting values in a histogram. First run the following cell:"
   ]
  },
  {
   "cell_type": "code",
   "execution_count": null,
   "metadata": {
    "collapsed": false
   },
   "outputs": [],
   "source": [
    "num_trials = 100\n",
    "results = [0]*101\n",
    "run_amount = 100\n",
    "for j in range(num_trials):\n",
    "    heads = 0\n",
    "    for i in range(run_amount):\n",
    "        coin = random.randint(0,1)\n",
    "        if coin == 0:\n",
    "            heads += 1\n",
    "    results[heads] = results[heads] + 1\n",
    "\n",
    "ticks = np.arange(len(results)) # this tells matplotlib how to arrange the bars\n",
    "plt.bar(ticks, results)\n",
    "plt.xlabel(\"Number of Heads\")\n",
    "plt.ylabel(\"Count\")"
   ]
  },
  {
   "cell_type": "markdown",
   "metadata": {},
   "source": [
    "Does the outline of the histogram look familiar? What if we increase the number of trials?"
   ]
  },
  {
   "cell_type": "code",
   "execution_count": null,
   "metadata": {
    "collapsed": false
   },
   "outputs": [],
   "source": [
    "num_trials = 1000\n",
    "run_amount = 100\n",
    "results = [0]*(run_amount + 1)\n",
    "for j in range(num_trials):\n",
    "    heads = 0\n",
    "    for i in range(run_amount):\n",
    "        coin = random.randint(0,1)\n",
    "        if coin == 0:\n",
    "            heads += 1\n",
    "    results[heads] = results[heads] + 1\n",
    "\n",
    "ticks = np.arange(len(results))\n",
    "plt.bar(ticks, results)\n",
    "plt.xlabel(\"Number of Heads\")\n",
    "plt.ylabel(\"Count\")"
   ]
  },
  {
   "cell_type": "markdown",
   "metadata": {},
   "source": [
    "It turns out that the shape of the graph is actually very similar to a normal distribution! This is what makes the normal distribution so powerful - it is a good approximation of what happens when we run a trial with a fixed probability of success many times.\n",
    "\n",
    "Now, one last exercise. Try to implement the same experiment for a die roll - that is, instead of counting the number of heads, count the number of \"one's\" on a die rolled 100 times for many trials. What happens to the graph? Does it still look like a normal curve? Try experimenting with different values of num_trials too."
   ]
  },
  {
   "cell_type": "code",
   "execution_count": null,
   "metadata": {
    "collapsed": true
   },
   "outputs": [],
   "source": [
    "num_trials = #\n",
    "run_amount = #\n",
    "results = [0]*(run_amount + 1)\n",
    "for j in range(num_trials):\n",
    "    ones = 0\n",
    "    for i in range(run_amount):\n",
    "        die_roll = random.randint(  ) # fill in this value so that the experiment is a die roll, not a coin toss\n",
    "        if die_roll == 0:\n",
    "            ones += 1\n",
    "    results[ones] = results[ones] + 1\n",
    "\n",
    "ticks = np.arange(len(results))\n",
    "plt.bar(ticks, results)\n",
    "plt.xlabel(\"Number of Ones\")\n",
    "plt.ylabel(\"Count\")"
   ]
  }
 ],
 "metadata": {
  "kernelspec": {
   "display_name": "Python 3",
   "language": "python",
   "name": "python3"
  },
  "language_info": {
   "codemirror_mode": {
    "name": "ipython",
    "version": 3
   },
   "file_extension": ".py",
   "mimetype": "text/x-python",
   "name": "python",
   "nbconvert_exporter": "python",
   "pygments_lexer": "ipython3",
   "version": "3.6.0"
  }
 },
 "nbformat": 4,
 "nbformat_minor": 2
}
