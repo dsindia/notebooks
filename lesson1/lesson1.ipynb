{
 "cells": [
  {
   "cell_type": "markdown",
   "metadata": {
    "deletable": true,
    "editable": true
   },
   "source": [
    "<img src=\"../dsi.png\" style=\"height:128px;\">"
   ]
  },
  {
   "cell_type": "markdown",
   "metadata": {
    "deletable": true,
    "editable": true
   },
   "source": [
    "# Lesson 1: Why Data Science?"
   ]
  },
  {
   "cell_type": "markdown",
   "metadata": {
    "deletable": true,
    "editable": true
   },
   "source": [
    "Welcome to the interactive Jupyter Notebook-based component of Data Science for India! Each week, we're going to supplement what we covered in the worksheets with *programs* on the computer. We talked a lot about how computers are useful when working with data, so let's close out today's session with an example.\n",
    "\n",
    "Today we're going to look at some data, and how we can *visualize* it! Along the way, we'll learn about Jupyter Notebooks and how to use them. In this notebook, you will also see some lines of *code*. Code is something that a machine can understand and *interpret*, or make sense of. \n",
    "\n",
    "Just like you know how to speak languages like English, Hindi, and many more, you'll soon know how to write code in a language called Python. Python is just one of the many languages computers can understand! For today, you won't need to write any code unless you are curious and want to play around (go ahead!). Instead, just look at a few of the cool things we can do with data science."
   ]
  },
  {
   "cell_type": "markdown",
   "metadata": {
    "deletable": true,
    "editable": true
   },
   "source": [
    "Run each \"cell\", or block of code, by pressing the keys \"Shift\" and \"Enter\" at the same time. "
   ]
  },
  {
   "cell_type": "code",
   "execution_count": 1,
   "metadata": {
    "collapsed": true,
    "deletable": true,
    "editable": true
   },
   "outputs": [],
   "source": [
    "# Below we have `import` statements, which help us set up the notebook! \n",
    "import numpy as np\n",
    "from datascience import *\n",
    "import matplotlib\n",
    "%matplotlib inline\n",
    "import matplotlib.pyplot as plt\n",
    "plt.style.use('fivethirtyeight')"
   ]
  },
  {
   "cell_type": "markdown",
   "metadata": {
    "deletable": true,
    "editable": true
   },
   "source": [
    "Some lines of code are equal to a value. Running each cell of a Jupyter notebooks shows the value of the last line code in that cell (or nothing, if that line doesn't have a value)."
   ]
  },
  {
   "cell_type": "markdown",
   "metadata": {
    "deletable": true,
    "editable": true
   },
   "source": [
    "Here, we're going to read a *table* of data about the quality of different bodies of water all over India. You might recognize some of these rivers and lakes. In fact, you might have even been there!\n"
   ]
  },
  {
   "cell_type": "markdown",
   "metadata": {
    "deletable": true,
    "editable": true
   },
   "source": [
    "> The *rows* of the table (displayed horizontally) represent the location where the measurements were taken, and the *columns* (displayed vertically), show the different types of measurements. You might even recognize some from chemistry class.\n",
    "\n",
    "(Data from: https://data.gov.in/catalog/status-water-quality-india-2008-and-2011)"
   ]
  },
  {
   "cell_type": "code",
   "execution_count": 2,
   "metadata": {
    "collapsed": false,
    "deletable": true,
    "editable": true
   },
   "outputs": [
    {
     "data": {
      "text/html": [
       "<table border=\"1\" class=\"dataframe\">\n",
       "    <thead>\n",
       "        <tr>\n",
       "            <th>Station Code</th> <th>Water Quality</th> <th>Locations</th> <th>State Name</th> <th>TEMPERATURE (degree Centigrade)-Minimum</th> <th>TEMPERATURE (degree Centigrade)-Maximum</th> <th>TEMPERATURE (degree Centigrade)-Mean</th> <th>Dissolved Oxygen(D.O.) (mg/l)-Minimum</th> <th>Dissolved Oxygen(D.O.) (mg/l)-Maximum</th> <th>Dissolved Oxygen(D.O.) (mg/l)-Mean</th> <th>pH-Minimum</th> <th>pH-Maximum</th> <th>pH-Mean</th> <th>CONDUCTIVITY (µmhos/cm)-Minimum</th> <th>CONDUCTIVITY (µmhos/cm)-Maximum</th> <th>CONDUCTIVITY (µmhos/cm)-Mean</th> <th>Biochemical oxygen demand (B.O.D.) (mg/l)-Minimum</th> <th>Biochemical oxygen demand (B.O.D.) (mg/l)-Maximum</th> <th>Biochemical oxygen demand (B.O.D.) (mg/l)-Mean</th> <th>NITRATE- N+ NITRITE-N (mg/l)-Minimum</th> <th>NITRATE- N+ NITRITE-N (mg/l)-Maximum</th> <th>NITRATE- N+ NITRITE-N (mg/l)-Mean</th> <th>FECAL COLIFORM (MPN/100ml)-Minimum</th> <th>FECAL COLIFORM (MPN/100ml)-Maximum</th> <th>FECAL COLIFORM (MPN/100ml)-Mean</th> <th>TOTAL COLIFORM (MPN/100ml)-Minimum</th> <th>TOTAL COLIFORM (MPN/100ml)-Maximum</th> <th>TOTAL COLIFORM (MPN/100ml)-Mean</th> <th>FLUORIDE(mg/l)-Minimum</th> <th>FLUORIDE(mg/l)-Maximum</th> <th>FLUORIDE(mg/l)-Mean</th>\n",
       "        </tr>\n",
       "    </thead>\n",
       "    <tbody>\n",
       "        <tr>\n",
       "            <td>1001        </td> <td>\"WATER QUALITY OF RIVER- BEAS\"</td> <td>\"BEAS AT UPSTREAM MANALI\"                 </td> <td>Himachal Pradesh</td> <td>2.5                                    </td> <td>14                                     </td> <td>9                                   </td> <td>8.4                                  </td> <td>10.3                                 </td> <td>9                                 </td> <td>7.2       </td> <td>8         </td> <td>8      </td> <td>68                             </td> <td>101                            </td> <td>85                          </td> <td>0.1                                              </td> <td>0.3                                              </td> <td>0.1                                           </td> <td>0.06                                </td> <td>0.42                                </td> <td>0.2                              </td> <td>0                                 </td> <td>920                               </td> <td>106                            </td> <td>11                                </td> <td>2400                              </td> <td>397                            </td> <td>nan                   </td> <td>nan                   </td> <td>nan                </td>\n",
       "        </tr>\n",
       "    </tbody>\n",
       "        <tr>\n",
       "            <td>1002        </td> <td>\"WATER QUALITY OF RIVER- BEAS\"</td> <td>\"BEAS AT DOWNSTREAM KULU\"                 </td> <td>Himachal Pradesh</td> <td>5.6                                    </td> <td>14                                     </td> <td>10                                  </td> <td>8                                    </td> <td>10.2                                 </td> <td>9                                 </td> <td>7.1       </td> <td>8.3       </td> <td>8      </td> <td>69                             </td> <td>165                            </td> <td>102                         </td> <td>0.2                                              </td> <td>0.4                                              </td> <td>0.3                                           </td> <td>0.04                                </td> <td>0.89                                </td> <td>0.4                              </td> <td>33                                </td> <td>350                               </td> <td>153                            </td> <td>160                               </td> <td>2400                              </td> <td>954                            </td> <td>nan                   </td> <td>nan                   </td> <td>nan                </td>\n",
       "        </tr>\n",
       "    </tbody>\n",
       "        <tr>\n",
       "            <td>1003        </td> <td>\"WATER QUALITY OF RIVER- BEAS\"</td> <td>\"BEAS AT DOWNSTREAM AUT\"                  </td> <td>Himachal Pradesh</td> <td>5                                      </td> <td>14.1                                   </td> <td>11                                  </td> <td>8.2                                  </td> <td>10.5                                 </td> <td>9                                 </td> <td>7.3       </td> <td>8.5       </td> <td>8      </td> <td>65                             </td> <td>178                            </td> <td>96                          </td> <td>0.1                                              </td> <td>0.5                                              </td> <td>0.2                                           </td> <td>0.04                                </td> <td>0.64                                </td> <td>0.3                              </td> <td>2                                 </td> <td>140                               </td> <td>58                             </td> <td>27                                </td> <td>2400                              </td> <td>653                            </td> <td>nan                   </td> <td>nan                   </td> <td>nan                </td>\n",
       "        </tr>\n",
       "    </tbody>\n",
       "        <tr>\n",
       "            <td>1004        </td> <td>\"WATER QUALITY OF RIVER- BEAS\"</td> <td>\"BEAS AT UPSTREAM PANDON DAM\"             </td> <td>Himachal Pradesh</td> <td>5.5                                    </td> <td>18                                     </td> <td>13                                  </td> <td>8.1                                  </td> <td>10.6                                 </td> <td>9                                 </td> <td>7         </td> <td>8.2       </td> <td>8      </td> <td>56                             </td> <td>130                            </td> <td>94                          </td> <td>0.1                                              </td> <td>0.2                                              </td> <td>0.2                                           </td> <td>0.24                                </td> <td>0.71                                </td> <td>0.4                              </td> <td>7                                 </td> <td>79                                </td> <td>34                             </td> <td>34                                </td> <td>920                               </td> <td>317                            </td> <td>nan                   </td> <td>nan                   </td> <td>nan                </td>\n",
       "        </tr>\n",
       "    </tbody>\n",
       "        <tr>\n",
       "            <td>1005        </td> <td>\"WATER QUALITY OF RIVER- BEAS\"</td> <td>\"BEAS AT EXIT OF TUNNEL DEHAL POWER HOUSE\"</td> <td>Himachal Pradesh</td> <td>5                                      </td> <td>21                                     </td> <td>14                                  </td> <td>7.9                                  </td> <td>12                                   </td> <td>10                                </td> <td>7.3       </td> <td>8.4       </td> <td>8      </td> <td>56                             </td> <td>227                            </td> <td>112                         </td> <td>0.1                                              </td> <td>0.4                                              </td> <td>0.2                                           </td> <td>0.08                                </td> <td>0.69                                </td> <td>0.5                              </td> <td>23                                </td> <td>920                               </td> <td>213                            </td> <td>160                               </td> <td>2400                              </td> <td>1072                           </td> <td>nan                   </td> <td>nan                   </td> <td>nan                </td>\n",
       "        </tr>\n",
       "    </tbody>\n",
       "        <tr>\n",
       "            <td>1550        </td> <td>\"WATER QUALITY OF RIVER- BEAS\"</td> <td>\"UPSTREAM MANDI\"                          </td> <td>Himachal Pradesh</td> <td>6                                      </td> <td>20                                     </td> <td>16                                  </td> <td>7.1                                  </td> <td>11.1                                 </td> <td>9                                 </td> <td>7.2       </td> <td>8.7       </td> <td>8      </td> <td>66                             </td> <td>164                            </td> <td>117                         </td> <td>0.1                                              </td> <td>0.4                                              </td> <td>0.2                                           </td> <td>0.01                                </td> <td>1.39                                </td> <td>0.5                              </td> <td>17                                </td> <td>350                               </td> <td>100                            </td> <td>220                               </td> <td>2400                              </td> <td>722                            </td> <td>nan                   </td> <td>nan                   </td> <td>nan                </td>\n",
       "        </tr>\n",
       "    </tbody>\n",
       "        <tr>\n",
       "            <td>1006        </td> <td>\"WATER QUALITY OF RIVER- BEAS\"</td> <td>\"BEAS AT DOWNSTREAM MANDI\"                </td> <td>Himachal Pradesh</td> <td>6.5                                    </td> <td>21                                     </td> <td>16                                  </td> <td>7.8                                  </td> <td>10.3                                 </td> <td>9                                 </td> <td>7.4       </td> <td>8.4       </td> <td>8      </td> <td>86                             </td> <td>220                            </td> <td>155                         </td> <td>0.2                                              </td> <td>0.6                                              </td> <td>0.5                                           </td> <td>0.08                                </td> <td>1.53                                </td> <td>0.7                              </td> <td>27                                </td> <td>920                               </td> <td>445                            </td> <td>540                               </td> <td>2400                              </td> <td>1855                           </td> <td>nan                   </td> <td>nan                   </td> <td>nan                </td>\n",
       "        </tr>\n",
       "    </tbody>\n",
       "        <tr>\n",
       "            <td>2604        </td> <td>\"WATER QUALITY OF RIVER- BEAS\"</td> <td>\"BEAS AT DOWNSTREAM JAISINGHPUR\"          </td> <td>Himachal Pradesh</td> <td>8.9                                    </td> <td>22                                     </td> <td>19                                  </td> <td>7.8                                  </td> <td>9                                    </td> <td>8                                 </td> <td>7.5       </td> <td>8.7       </td> <td>8      </td> <td>97                             </td> <td>361                            </td> <td>211                         </td> <td>0.2                                              </td> <td>0.8                                              </td> <td>0.5                                           </td> <td>0.15                                </td> <td>1.46                                </td> <td>0.5                              </td> <td>4                                 </td> <td>11                                </td> <td>7                              </td> <td>22                                </td> <td>170                               </td> <td>72                             </td> <td>nan                   </td> <td>nan                   </td> <td>nan                </td>\n",
       "        </tr>\n",
       "    </tbody>\n",
       "        <tr>\n",
       "            <td>1007        </td> <td>\"WATER QUALITY OF RIVER- BEAS\"</td> <td>\"BEAS AT DOWNSTREAM ALAMPUR\"              </td> <td>Himachal Pradesh</td> <td>20                                     </td> <td>22                                     </td> <td>19                                  </td> <td>8.3                                  </td> <td>9.1                                  </td> <td>8                                 </td> <td>8.2       </td> <td>8.9       </td> <td>8      </td> <td>130                            </td> <td>356                            </td> <td>202                         </td> <td>1                                                </td> <td>1                                                </td> <td>0.6                                           </td> <td>0.1                                 </td> <td>1.18                                </td> <td>0.4                              </td> <td>6                                 </td> <td>14                                </td> <td>9                              </td> <td>94                                </td> <td>280                               </td> <td>123                            </td> <td>nan                   </td> <td>nan                   </td> <td>nan                </td>\n",
       "        </tr>\n",
       "    </tbody>\n",
       "        <tr>\n",
       "            <td>1008        </td> <td>\"WATER QUALITY OF RIVER- BEAS\"</td> <td>\"BEAS AT DOWNSTREAM DEHRAGOPIPUR\"         </td> <td>Himachal Pradesh</td> <td>9                                      </td> <td>24                                     </td> <td>19                                  </td> <td>7.5                                  </td> <td>9.6                                  </td> <td>8                                 </td> <td>7.1       </td> <td>8.4       </td> <td>8      </td> <td>124                            </td> <td>638                            </td> <td>280                         </td> <td>0.1                                              </td> <td>1.1                                              </td> <td>0.7                                           </td> <td>0                                   </td> <td>7.07                                </td> <td>1.1                              </td> <td>0                                 </td> <td>21                                </td> <td>10                             </td> <td>12                                </td> <td>540                               </td> <td>157                            </td> <td>nan                   </td> <td>nan                   </td> <td>nan                </td>\n",
       "        </tr>\n",
       "    </tbody>\n",
       "</table>\n",
       "<p>... (1682 rows omitted)</p"
      ],
      "text/plain": [
       "Station Code | Water Quality                  | Locations                                  | State Name       | TEMPERATURE (degree Centigrade)-Minimum | TEMPERATURE (degree Centigrade)-Maximum | TEMPERATURE (degree Centigrade)-Mean | Dissolved Oxygen(D.O.) (mg/l)-Minimum | Dissolved Oxygen(D.O.) (mg/l)-Maximum | Dissolved Oxygen(D.O.) (mg/l)-Mean | pH-Minimum | pH-Maximum | pH-Mean | CONDUCTIVITY (µmhos/cm)-Minimum | CONDUCTIVITY (µmhos/cm)-Maximum | CONDUCTIVITY (µmhos/cm)-Mean | Biochemical oxygen demand (B.O.D.) (mg/l)-Minimum | Biochemical oxygen demand (B.O.D.) (mg/l)-Maximum | Biochemical oxygen demand (B.O.D.) (mg/l)-Mean | NITRATE- N+ NITRITE-N (mg/l)-Minimum | NITRATE- N+ NITRITE-N (mg/l)-Maximum | NITRATE- N+ NITRITE-N (mg/l)-Mean | FECAL COLIFORM (MPN/100ml)-Minimum | FECAL COLIFORM (MPN/100ml)-Maximum | FECAL COLIFORM (MPN/100ml)-Mean | TOTAL COLIFORM (MPN/100ml)-Minimum | TOTAL COLIFORM (MPN/100ml)-Maximum | TOTAL COLIFORM (MPN/100ml)-Mean | FLUORIDE(mg/l)-Minimum | FLUORIDE(mg/l)-Maximum | FLUORIDE(mg/l)-Mean\n",
       "1001         | \"WATER QUALITY OF RIVER- BEAS\" | \"BEAS AT UPSTREAM MANALI\"                  | Himachal Pradesh | 2.5                                     | 14                                      | 9                                    | 8.4                                   | 10.3                                  | 9                                  | 7.2        | 8          | 8       | 68                              | 101                             | 85                           | 0.1                                               | 0.3                                               | 0.1                                            | 0.06                                 | 0.42                                 | 0.2                               | 0                                  | 920                                | 106                             | 11                                 | 2400                               | 397                             | nan                    | nan                    | nan\n",
       "1002         | \"WATER QUALITY OF RIVER- BEAS\" | \"BEAS AT DOWNSTREAM KULU\"                  | Himachal Pradesh | 5.6                                     | 14                                      | 10                                   | 8                                     | 10.2                                  | 9                                  | 7.1        | 8.3        | 8       | 69                              | 165                             | 102                          | 0.2                                               | 0.4                                               | 0.3                                            | 0.04                                 | 0.89                                 | 0.4                               | 33                                 | 350                                | 153                             | 160                                | 2400                               | 954                             | nan                    | nan                    | nan\n",
       "1003         | \"WATER QUALITY OF RIVER- BEAS\" | \"BEAS AT DOWNSTREAM AUT\"                   | Himachal Pradesh | 5                                       | 14.1                                    | 11                                   | 8.2                                   | 10.5                                  | 9                                  | 7.3        | 8.5        | 8       | 65                              | 178                             | 96                           | 0.1                                               | 0.5                                               | 0.2                                            | 0.04                                 | 0.64                                 | 0.3                               | 2                                  | 140                                | 58                              | 27                                 | 2400                               | 653                             | nan                    | nan                    | nan\n",
       "1004         | \"WATER QUALITY OF RIVER- BEAS\" | \"BEAS AT UPSTREAM PANDON DAM\"              | Himachal Pradesh | 5.5                                     | 18                                      | 13                                   | 8.1                                   | 10.6                                  | 9                                  | 7          | 8.2        | 8       | 56                              | 130                             | 94                           | 0.1                                               | 0.2                                               | 0.2                                            | 0.24                                 | 0.71                                 | 0.4                               | 7                                  | 79                                 | 34                              | 34                                 | 920                                | 317                             | nan                    | nan                    | nan\n",
       "1005         | \"WATER QUALITY OF RIVER- BEAS\" | \"BEAS AT EXIT OF TUNNEL DEHAL POWER HOUSE\" | Himachal Pradesh | 5                                       | 21                                      | 14                                   | 7.9                                   | 12                                    | 10                                 | 7.3        | 8.4        | 8       | 56                              | 227                             | 112                          | 0.1                                               | 0.4                                               | 0.2                                            | 0.08                                 | 0.69                                 | 0.5                               | 23                                 | 920                                | 213                             | 160                                | 2400                               | 1072                            | nan                    | nan                    | nan\n",
       "1550         | \"WATER QUALITY OF RIVER- BEAS\" | \"UPSTREAM MANDI\"                           | Himachal Pradesh | 6                                       | 20                                      | 16                                   | 7.1                                   | 11.1                                  | 9                                  | 7.2        | 8.7        | 8       | 66                              | 164                             | 117                          | 0.1                                               | 0.4                                               | 0.2                                            | 0.01                                 | 1.39                                 | 0.5                               | 17                                 | 350                                | 100                             | 220                                | 2400                               | 722                             | nan                    | nan                    | nan\n",
       "1006         | \"WATER QUALITY OF RIVER- BEAS\" | \"BEAS AT DOWNSTREAM MANDI\"                 | Himachal Pradesh | 6.5                                     | 21                                      | 16                                   | 7.8                                   | 10.3                                  | 9                                  | 7.4        | 8.4        | 8       | 86                              | 220                             | 155                          | 0.2                                               | 0.6                                               | 0.5                                            | 0.08                                 | 1.53                                 | 0.7                               | 27                                 | 920                                | 445                             | 540                                | 2400                               | 1855                            | nan                    | nan                    | nan\n",
       "2604         | \"WATER QUALITY OF RIVER- BEAS\" | \"BEAS AT DOWNSTREAM JAISINGHPUR\"           | Himachal Pradesh | 8.9                                     | 22                                      | 19                                   | 7.8                                   | 9                                     | 8                                  | 7.5        | 8.7        | 8       | 97                              | 361                             | 211                          | 0.2                                               | 0.8                                               | 0.5                                            | 0.15                                 | 1.46                                 | 0.5                               | 4                                  | 11                                 | 7                               | 22                                 | 170                                | 72                              | nan                    | nan                    | nan\n",
       "1007         | \"WATER QUALITY OF RIVER- BEAS\" | \"BEAS AT DOWNSTREAM ALAMPUR\"               | Himachal Pradesh | 20                                      | 22                                      | 19                                   | 8.3                                   | 9.1                                   | 8                                  | 8.2        | 8.9        | 8       | 130                             | 356                             | 202                          | 1                                                 | 1                                                 | 0.6                                            | 0.1                                  | 1.18                                 | 0.4                               | 6                                  | 14                                 | 9                               | 94                                 | 280                                | 123                             | nan                    | nan                    | nan\n",
       "1008         | \"WATER QUALITY OF RIVER- BEAS\" | \"BEAS AT DOWNSTREAM DEHRAGOPIPUR\"          | Himachal Pradesh | 9                                       | 24                                      | 19                                   | 7.5                                   | 9.6                                   | 8                                  | 7.1        | 8.4        | 8       | 124                             | 638                             | 280                          | 0.1                                               | 1.1                                               | 0.7                                            | 0                                    | 7.07                                 | 1.1                               | 0                                  | 21                                 | 10                              | 12                                 | 540                                | 157                             | nan                    | nan                    | nan\n",
       "... (1682 rows omitted)"
      ]
     },
     "execution_count": 2,
     "metadata": {},
     "output_type": "execute_result"
    }
   ],
   "source": [
    "water = Table().read_table(\"water_quality.csv\")\n",
    "water"
   ]
  },
  {
   "cell_type": "markdown",
   "metadata": {},
   "source": [
    "### Locations and States"
   ]
  },
  {
   "cell_type": "markdown",
   "metadata": {
    "deletable": true,
    "editable": true
   },
   "source": [
    "Of course, the Jupyter notebook won't show us *all* the data points. Let's see\n",
    "- how many locations were part of the survey, and\n",
    "- in which states the data was taken."
   ]
  },
  {
   "cell_type": "code",
   "execution_count": null,
   "metadata": {
    "collapsed": false,
    "deletable": true,
    "editable": true
   },
   "outputs": [],
   "source": [
    "print(\"Data was taken at \" + str(water.num_rows) + \" locations\" + \" in \" +\n",
    "      str(water.group(\"State Name\").num_rows) + \" states.\")\n",
    "water.group(\"State Name\")"
   ]
  },
  {
   "cell_type": "markdown",
   "metadata": {},
   "source": [
    "### Temperature"
   ]
  },
  {
   "cell_type": "markdown",
   "metadata": {
    "deletable": true,
    "editable": true
   },
   "source": [
    "Let's see if we can figure out some information about the temperature of the water from each state. Because there were multiple sites in each state, we need to find the value best represents data from the entire state.\n",
    "So, we'll take the *average* of each column. The *average*, or *mean*, is a number that represents the center of a group of numbers. We'll learn more about this next session! We can now *visualize* this data with a *bar graph*."
   ]
  },
  {
   "cell_type": "code",
   "execution_count": null,
   "metadata": {
    "collapsed": false,
    "deletable": true,
    "editable": true
   },
   "outputs": [],
   "source": [
    "grouped = water.where(water.column(6), lambda x : x == x).group(\"State Name\", np.average)\n",
    "temperatures = Table().with_columns(\"State\", grouped.column(0),\n",
    "                                   \"Average of Minimum Site Temperatures\", grouped.column(4),\n",
    "                                   \"Average of Maximum Site Temperatures\", grouped.column(5),\n",
    "                                   \"Average of Averaged Site Temperatures\", grouped.column(6))\n",
    "temperatures.barh(\"State\", \"Average of Averaged Site Temperatures\")"
   ]
  },
  {
   "cell_type": "markdown",
   "metadata": {},
   "source": [
    "### Diseases"
   ]
  },
  {
   "cell_type": "markdown",
   "metadata": {
    "deletable": true,
    "editable": true
   },
   "source": [
    "The `water` table also contains information on the amount of coliform bacteria detected in the water. This is extremely important to know, because it shows that some sites have more germs than others and at which locations you're more likely to get sick as a result of using the water without purifying it first. It'll be helpful for doctors and public health officials to know what diseases are caused by infected water.\n",
    "\n",
    "Here's another table that shows reports of the cases for certain diseases by state.\n",
    "\n",
    "(Source: https://data.gov.in/keywords/acute-diarrhoeal-diseases)"
   ]
  },
  {
   "cell_type": "code",
   "execution_count": null,
   "metadata": {
    "collapsed": false,
    "deletable": true,
    "editable": true
   },
   "outputs": [],
   "source": [
    "disease = Table.read_table(\"diseases.csv\")\n",
    "disease"
   ]
  },
  {
   "cell_type": "markdown",
   "metadata": {
    "deletable": true,
    "editable": true
   },
   "source": [
    "Now, let's combine and analyze the data from both tables, so we'll do the following: *group* bacterial content by state (find the average), and *join* the two tables."
   ]
  },
  {
   "cell_type": "code",
   "execution_count": null,
   "metadata": {
    "collapsed": false,
    "deletable": true,
    "editable": true
   },
   "outputs": [],
   "source": [
    "def clean(tbl, col_1, col_2):\n",
    "    cleaned_col_1 = tbl.where(tbl.column(col_1), lambda x : x == x)\n",
    "    return cleaned_col_1.where(cleaned_col_1.column(col_2), lambda x: x == x)\n",
    "\n",
    "\n",
    "cleaned = clean(water, 24, 27)\n",
    "bacteria = Table().with_columns(\"State Name\", cleaned.column(3),\n",
    "                                \"Fecal Coliform\", cleaned.column(24),\n",
    "                                \"Total Coliform\", cleaned.column(27))\n",
    "grouped = bacteria.group(\"State Name\", np.average)\n",
    "grouped"
   ]
  },
  {
   "cell_type": "code",
   "execution_count": null,
   "metadata": {
    "collapsed": false,
    "deletable": true,
    "editable": true
   },
   "outputs": [],
   "source": [
    "joined_avgs = grouped.join(\"State Name\", disease, \"State/UTs\")\n",
    "joined_avgs"
   ]
  },
  {
   "cell_type": "markdown",
   "metadata": {
    "deletable": true,
    "editable": true
   },
   "source": [
    "The code below will help us make a graph with the presence of all the diseases based on the amount of bacteria in the water."
   ]
  },
  {
   "cell_type": "code",
   "execution_count": null,
   "metadata": {
    "collapsed": true,
    "deletable": true,
    "editable": true
   },
   "outputs": [],
   "source": [
    "def make_plot(ax, tbl, xcol, ycol):\n",
    "    if type(ycol) == int:\n",
    "        lbl = tbl.labels[ycol]\n",
    "    else:\n",
    "        lbl = ycol\n",
    "    ax.scatter(tbl.column(xcol), tbl.column(ycol), label=lbl)\n",
    "    return lbl"
   ]
  },
  {
   "cell_type": "code",
   "execution_count": null,
   "metadata": {
    "collapsed": false,
    "deletable": true,
    "editable": true,
    "scrolled": true
   },
   "outputs": [],
   "source": [
    "fig, ax = plt.subplots()\n",
    "ax.set_title('Disease Prevalence vs. Coliform Level')\n",
    "labels = []\n",
    "for disease in joined_avgs.labels[4:14:2]:\n",
    "    labels.append(make_plot(ax, joined_avgs, 'Fecal Coliform average', disease))\n",
    "leg = ax.legend(loc='upper right', fancybox=True, shadow=True)\n",
    "leg.get_frame().set_alpha(0.4)\n",
    "shown = {}\n",
    "for legentry, axentry in zip(leg.get_label(), labels):\n",
    "    legentry.set_picker(5)\n",
    "    shown[legentry] = axentry\n",
    "    \n",
    "\n",
    "def onpick(event):\n",
    "    # on the pick event, find the orig line corresponding to the\n",
    "    # legend proxy line, and toggle the visibility\n",
    "    legline = event.artist\n",
    "    origline = lined[legline]\n",
    "    vis = not origline.get_visible()\n",
    "    origline.set_visible(vis)\n",
    "    # Change the alpha on the line in the legend so we can see what lines\n",
    "    # have been toggled\n",
    "    if vis:\n",
    "        legline.set_alpha(1.0)\n",
    "    else:\n",
    "        legline.set_alpha(0.2)\n",
    "    fig.canvas.draw()\n",
    "\n",
    "    \n",
    "fig.canvas.mpl_connect('pick_event', onpick)\n",
    "\n",
    "plt.show()"
   ]
  },
  {
   "cell_type": "markdown",
   "metadata": {
    "collapsed": true,
    "deletable": true,
    "editable": true
   },
   "source": [
    "**Conclusion:**\n",
    "Today we learned about the average water temperature and tried to see how the prevalence of a disease is affected by the amount of coliform bacteria in water (bacteria definitely does contribute to some diseases)\n",
    "\n",
    "Data science has many uses apart from analysing water quality. Now, let's look at work that our team did at UC Berkeley, where they investigated how much the world has changed over the years. They did this in their introductory data science class and by the end of this course, you'll have the skills to do it too!\n",
    "\n",
    "Full project at: https://github.com/data-8/data8assets/tree/gh-pages/materials/sp17/project/project1"
   ]
  },
  {
   "cell_type": "markdown",
   "metadata": {
    "collapsed": true,
    "deletable": true,
    "editable": true
   },
   "source": [
    "## Population Growth and Fertility over Time"
   ]
  },
  {
   "cell_type": "markdown",
   "metadata": {
    "deletable": true,
    "editable": true
   },
   "source": [
    "This table contains data about the population(amount of people living in a place) from every country in the world! The column `geo` is a three-letter code for a country, `time` is a year, and `population_total` is the amount of people recorded to be living in that country at that year.\n",
    "\n",
    "(Source: https://github.com/open-numbers/ddf--gapminder--systema_globalis/raw/master/ddf--datapoints--population_total--by--geo--time.csv)\n"
   ]
  },
  {
   "cell_type": "code",
   "execution_count": null,
   "metadata": {
    "collapsed": false,
    "deletable": true,
    "editable": true
   },
   "outputs": [],
   "source": [
    "population = Table.read_table('population.csv')\n",
    "population"
   ]
  },
  {
   "cell_type": "markdown",
   "metadata": {
    "collapsed": true,
    "deletable": true,
    "editable": true
   },
   "source": [
    "Let's now just look the data for India and see how much the population has grown since the year 1800."
   ]
  },
  {
   "cell_type": "code",
   "execution_count": null,
   "metadata": {
    "collapsed": false,
    "deletable": true,
    "editable": true
   },
   "outputs": [],
   "source": [
    "india = population.where(\"geo\", are.equal_to(\"ind\")).where(\"time\", are.between(1800, 2017))"
   ]
  },
  {
   "cell_type": "code",
   "execution_count": null,
   "metadata": {
    "collapsed": false,
    "deletable": true,
    "editable": true
   },
   "outputs": [],
   "source": [
    "plt.plot(india.column(\"time\"), india.column(\"population_total\"))\n",
    "plt.title(\"India's Population Growth\")\n",
    "plt.xlabel(\"Year\")\n",
    "plt.ylabel(\"Population (billions)\")"
   ]
  },
  {
   "cell_type": "markdown",
   "metadata": {
    "deletable": true,
    "editable": true
   },
   "source": [
    "As we can see, India's popuation is rising, and fast. Let's now look at the whole world's population."
   ]
  },
  {
   "cell_type": "code",
   "execution_count": null,
   "metadata": {
    "collapsed": false,
    "deletable": true,
    "editable": true
   },
   "outputs": [],
   "source": [
    "total_pop = population.group(\"time\", sum).drop(\"geo sum\").where(\"time\", are.between(1800, 2017))\n",
    "plt.plot(total_pop.column(0), total_pop.column(1))\n",
    "plt.title(\"World Population\")\n",
    "plt.xlabel(\"Year\")\n",
    "plt.ylabel(\"Population (billions)\")"
   ]
  },
  {
   "cell_type": "markdown",
   "metadata": {
    "deletable": true,
    "editable": true
   },
   "source": [
    "Let's take a closer look at this by looking at *fertility rates*, which measure the amount of babies born. "
   ]
  },
  {
   "cell_type": "code",
   "execution_count": null,
   "metadata": {
    "collapsed": true,
    "deletable": true,
    "editable": true
   },
   "outputs": [],
   "source": [
    "life_expectancy = Table.read_table('life_expectancy.csv')\n",
    "child_mortality = Table.read_table('child_mortality.csv').relabeled(2, 'child_mortality_under_5_per_1000_born')\n",
    "fertility = Table.read_table('fertility.csv')"
   ]
  },
  {
   "cell_type": "code",
   "execution_count": null,
   "metadata": {
    "collapsed": false,
    "deletable": true,
    "editable": true
   },
   "outputs": [],
   "source": [
    "Table().with_columns(\n",
    "    '1960', fertility.where('time', 1960).column(2),\n",
    "    '2010', fertility.where('time', 2010).column(2)\n",
    ").hist(bins=np.arange(0, 10, 0.5), unit='child')\n",
    "plt.xlabel('Children per woman')\n",
    "plt.xticks(np.arange(10))\n",
    "plt.show()"
   ]
  },
  {
   "cell_type": "markdown",
   "metadata": {
    "deletable": true,
    "editable": true
   },
   "source": [
    "This figure shows us two overlaid *histograms*, one for 1960 and one for 2010, that show the *distributions* of total fertility rates for these two years among all 201 countries in the `fertility` table."
   ]
  },
  {
   "cell_type": "markdown",
   "metadata": {
    "deletable": true,
    "editable": true
   },
   "source": [
    "Let's look at the 50 most populous countries in 2010 (to make this run faster)."
   ]
  },
  {
   "cell_type": "code",
   "execution_count": null,
   "metadata": {
    "collapsed": false,
    "deletable": true,
    "editable": true
   },
   "outputs": [],
   "source": [
    "# We first create a population table that only includes the \n",
    "# 50 countries with the largest 2010 populations. We focus on \n",
    "# these 50 countries only so that plotting later will run faster.\n",
    "big_50 = population.where('time', 2010).sort(2, descending=True).take(np.arange(50)).column('geo')\n",
    "population_of_big_50 = population.where('time', are.above(1959)).where('geo', are.contained_in(big_50))\n",
    "\n",
    "def stats_for_year(year):\n",
    "    \"\"\"Return a table of the stats for each country that year.\"\"\"\n",
    "    p = population_of_big_50.where('time', year).drop('time')\n",
    "    f = fertility.where('time', year).drop('time').where(\"geo\", are.contained_in(big_50))\n",
    "    c = child_mortality.where('time', year).drop('time').where(\"geo\", are.contained_in(big_50))\n",
    "    return p.join('geo', f).join('geo', c)"
   ]
  },
  {
   "cell_type": "markdown",
   "metadata": {
    "deletable": true,
    "editable": true
   },
   "source": [
    "Here, we create a table called `pop_by_decade` with two columns called `decade` and `population`. It has a row for each `year` since 1960 that starts a decade. The `population` column contains the total population of all countries included in the result of `stats_for_year(year)` for the first `year` of the decade. For example, 1960 is the first year of the 1960's decade. You should see that these countries contain most of the world's population."
   ]
  },
  {
   "cell_type": "code",
   "execution_count": null,
   "metadata": {
    "collapsed": false,
    "deletable": true,
    "editable": true
   },
   "outputs": [],
   "source": [
    "decades = Table().with_column('decade', np.arange(1960, 2011, 10))\n",
    "\n",
    "def pop_for_year(year):\n",
    "    return sum(stats_for_year(year).column(\"population_total\"))\n",
    "\n",
    "pop_by_decade = decades.with_column(\"population\",decades.apply(pop_for_year, 'decade'))\n",
    "pop_by_decade.set_format(1, NumberFormatter)"
   ]
  },
  {
   "cell_type": "markdown",
   "metadata": {
    "deletable": true,
    "editable": true
   },
   "source": [
    "The `countries` table describes various characteristics of countries. The `country` column contains the same codes as the `geo` column in each of the other data tables (`population`, `fertility`, and `child_mortality`). The `world_6region` column classifies each country into a region of the world. Run the cell below to inspect the data."
   ]
  },
  {
   "cell_type": "code",
   "execution_count": null,
   "metadata": {
    "collapsed": false,
    "deletable": true,
    "editable": true
   },
   "outputs": [],
   "source": [
    "countries = Table.read_table('countries.csv').where('country', are.contained_in(population.group('geo').column(0)))\n",
    "countries.select('country', 'name', 'world_6region')"
   ]
  },
  {
   "cell_type": "markdown",
   "metadata": {
    "deletable": true,
    "editable": true
   },
   "source": [
    "After this, we create a table called `region_counts` that describes the count of how many countries in each region appear in the result of `stats_for_year(1960)`.\n",
    "\n",
    "For example, one row would have `south_asia` as its `world_6region` value and an integer as its `count` value: the number of large South Asian countries for which we have population, fertility, and child mortality numbers from 1960."
   ]
  },
  {
   "cell_type": "code",
   "execution_count": null,
   "metadata": {
    "collapsed": false,
    "deletable": true,
    "editable": true
   },
   "outputs": [],
   "source": [
    "top_50 = stats_for_year(1960)\n",
    "region_counts = top_50.join(\"geo\", countries, \"country\").group(\"world_6region\").relabel(\"world_6region\", \"region\")\n",
    "region_counts"
   ]
  },
  {
   "cell_type": "markdown",
   "metadata": {
    "deletable": true,
    "editable": true
   },
   "source": [
    "The following diagram compares total fertility rate and child mortality rate for each country in 1960. The area of each dot represents the population of the country, and the color represents its region of the world. Run the cell below. Do you think you can identify any of the dots?"
   ]
  },
  {
   "cell_type": "code",
   "execution_count": null,
   "metadata": {
    "collapsed": false,
    "deletable": true,
    "editable": true
   },
   "outputs": [],
   "source": [
    "from functools import lru_cache as cache\n",
    "\n",
    "# This cache annotation makes sure that if the same year\n",
    "# is passed as an argument twice, the work of computing\n",
    "# the result is only carried out once.\n",
    "@cache(None)\n",
    "def stats_relabeled(year):\n",
    "    \"\"\"Relabeled and cached version of stats_for_year.\"\"\"\n",
    "    return stats_for_year(year).relabeled(2, 'Children per woman').relabeled(3, 'Child deaths per 1000 born')\n",
    "\n",
    "def fertilty_vs_child_mortality(year):\n",
    "    \"\"\"Draw a color scatter diagram comparing child mortality and fertility.\"\"\"\n",
    "    with_region = stats_relabeled(year).join('geo', countries.select('country', 'world_6region'), 'country')\n",
    "    with_region.scatter(2, 3, sizes=1, colors=4, s=500)\n",
    "    plt.xlim(0,10)\n",
    "    plt.ylim(-50, 500)\n",
    "    plt.title(year)\n",
    "\n",
    "fertilty_vs_child_mortality(1960)"
   ]
  },
  {
   "cell_type": "markdown",
   "metadata": {
    "deletable": true,
    "editable": true
   },
   "source": [
    "Drag the slider to the right to see how countries have changed over time. "
   ]
  },
  {
   "cell_type": "code",
   "execution_count": null,
   "metadata": {
    "collapsed": false,
    "deletable": true,
    "editable": true
   },
   "outputs": [],
   "source": [
    "import ipywidgets as widgets\n",
    "\n",
    "# This part takes a few minutes to run because it \n",
    "# computes 55 tables in advance: one for each year.\n",
    "Table().with_column('Year', np.arange(1960, 2016)).apply(stats_relabeled, 'Year')\n",
    "\n",
    "_ = widgets.interact(fertilty_vs_child_mortality, \n",
    "                     year=widgets.IntSlider(min=1960, max=2015, value=1960))"
   ]
  },
  {
   "cell_type": "markdown",
   "metadata": {
    "collapsed": true,
    "deletable": true,
    "editable": true
   },
   "source": [
    "**Conclusion:** You'll find that the great divide between countries like America and Britain and countries like India and China that existed in the 1960's has nearly disappeared. This shift in fertility rates is the reason that the global population is expected to grow more slowly in the 21st century than it did in the 19th and 20th centuries.\n",
    "\n",
    "These are just two examples in which data science can help us learn more about the world around us! At the end of this course, you'll be able to conduct similar analyses yourself!"
   ]
  }
 ],
 "metadata": {
  "anaconda-cloud": {},
  "kernelspec": {
   "display_name": "Python 3",
   "language": "python",
   "name": "python3"
  },
  "language_info": {
   "codemirror_mode": {
    "name": "ipython",
    "version": 3
   },
   "file_extension": ".py",
   "mimetype": "text/x-python",
   "name": "python",
   "nbconvert_exporter": "python",
   "pygments_lexer": "ipython3",
   "version": "3.6.0"
  }
 },
 "nbformat": 4,
 "nbformat_minor": 1
}
