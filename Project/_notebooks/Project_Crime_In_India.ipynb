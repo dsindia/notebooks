{
 "cells": [
  {
   "cell_type": "code",
   "execution_count": 49,
   "metadata": {
    "collapsed": false
   },
   "outputs": [
    {
     "name": "stderr",
     "output_type": "stream",
     "text": [
      "/Library/Frameworks/Python.framework/Versions/3.6/lib/python3.6/site-packages/matplotlib/__init__.py:1401: UserWarning:  This call to matplotlib.use() has no effect\n",
      "because the backend has already been chosen;\n",
      "matplotlib.use() must be called *before* pylab, matplotlib.pyplot,\n",
      "or matplotlib.backends is imported for the first time.\n",
      "\n",
      "  warnings.warn(_use_error_msg)\n"
     ]
    }
   ],
   "source": [
    "import matplotlib\n",
    "matplotlib.use('Agg')\n",
    "from datascience import Table, predicates\n",
    "%matplotlib inline\n",
    "import matplotlib.pyplot as plt\n",
    "import numpy as np\n",
    "plt.style.use('fivethirtyeight')"
   ]
  },
  {
   "cell_type": "markdown",
   "metadata": {},
   "source": [
    "# Project: Crime In India\n",
    "\n",
    "We've spent the last ten weeks learning a lot about how we can use programming to explore and visualize data. Now it's time to put everything you've learned into practice with a project!"
   ]
  },
  {
   "cell_type": "code",
   "execution_count": 50,
   "metadata": {
    "collapsed": false
   },
   "outputs": [
    {
     "data": {
      "text/html": [
       "<table border=\"1\" class=\"dataframe\">\n",
       "    <thead>\n",
       "        <tr>\n",
       "            <th>STATE/UT</th> <th>Total Male</th> <th>Total Female</th> <th>Grand Total</th> <th>Total population</th>\n",
       "        </tr>\n",
       "    </thead>\n",
       "    <tbody>\n",
       "        <tr>\n",
       "            <td>ANDHRA PRADESH</td> <td>64916     </td> <td>13660       </td> <td>78576      </td> <td>1015986396      </td>\n",
       "        </tr>\n",
       "    </tbody>\n",
       "        <tr>\n",
       "            <td>UTTAR PRADESH </td> <td>70157     </td> <td>7588        </td> <td>77745      </td> <td>2195396247      </td>\n",
       "        </tr>\n",
       "    </tbody>\n",
       "        <tr>\n",
       "            <td>MAHARASHTRA   </td> <td>29897     </td> <td>11151       </td> <td>41048      </td> <td>1236102692      </td>\n",
       "        </tr>\n",
       "    </tbody>\n",
       "        <tr>\n",
       "            <td>WEST BENGAL   </td> <td>25332     </td> <td>8691        </td> <td>34023      </td> <td>1004825096      </td>\n",
       "        </tr>\n",
       "    </tbody>\n",
       "        <tr>\n",
       "            <td>MADHYA PRADESH</td> <td>25227     </td> <td>4020        </td> <td>29247      </td> <td>798573215       </td>\n",
       "        </tr>\n",
       "    </tbody>\n",
       "        <tr>\n",
       "            <td>GUJARAT       </td> <td>18026     </td> <td>5939        </td> <td>23965      </td> <td>664219908       </td>\n",
       "        </tr>\n",
       "    </tbody>\n",
       "        <tr>\n",
       "            <td>BIHAR         </td> <td>17420     </td> <td>2727        </td> <td>20147      </td> <td>1141851007      </td>\n",
       "        </tr>\n",
       "    </tbody>\n",
       "        <tr>\n",
       "            <td>ODISHA        </td> <td>14719     </td> <td>2464        </td> <td>17183      </td> <td>461420938       </td>\n",
       "        </tr>\n",
       "    </tbody>\n",
       "        <tr>\n",
       "            <td>RAJASTHAN     </td> <td>14795     </td> <td>2300        </td> <td>17095      </td> <td>754831132       </td>\n",
       "        </tr>\n",
       "    </tbody>\n",
       "        <tr>\n",
       "            <td>KARNATAKA     </td> <td>12946     </td> <td>3734        </td> <td>16680      </td> <td>672437744       </td>\n",
       "        </tr>\n",
       "    </tbody>\n",
       "</table>\n",
       "<p>... (25 rows omitted)</p"
      ],
      "text/plain": [
       "STATE/UT       | Total Male | Total Female | Grand Total | Total population\n",
       "ANDHRA PRADESH | 64916      | 13660        | 78576       | 1015986396\n",
       "UTTAR PRADESH  | 70157      | 7588         | 77745       | 2195396247\n",
       "MAHARASHTRA    | 29897      | 11151        | 41048       | 1236102692\n",
       "WEST BENGAL    | 25332      | 8691         | 34023       | 1004825096\n",
       "MADHYA PRADESH | 25227      | 4020         | 29247       | 798573215\n",
       "GUJARAT        | 18026      | 5939         | 23965       | 664219908\n",
       "BIHAR          | 17420      | 2727         | 20147       | 1141851007\n",
       "ODISHA         | 14719      | 2464         | 17183       | 461420938\n",
       "RAJASTHAN      | 14795      | 2300         | 17095       | 754831132\n",
       "KARNATAKA      | 12946      | 3734         | 16680       | 672437744\n",
       "... (25 rows omitted)"
      ]
     },
     "execution_count": 50,
     "metadata": {},
     "output_type": "execute_result"
    }
   ],
   "source": [
    "crime_data = Table.read_table('crime_by_state.csv')\n",
    "crime_data"
   ]
  },
  {
   "cell_type": "code",
   "execution_count": 51,
   "metadata": {
    "collapsed": false
   },
   "outputs": [
    {
     "data": {
      "text/html": [
       "<table border=\"1\" class=\"dataframe\">\n",
       "    <thead>\n",
       "        <tr>\n",
       "            <th>STATE/UT</th> <th>Total Male</th> <th>Total Female</th> <th>Grand Total</th> <th>Total population</th> <th>Weighted Crime</th>\n",
       "        </tr>\n",
       "    </thead>\n",
       "    <tbody>\n",
       "        <tr>\n",
       "            <td>ANDHRA PRADESH</td> <td>64916     </td> <td>13660       </td> <td>78576      </td> <td>1015986396      </td> <td>7.73396       </td>\n",
       "        </tr>\n",
       "    </tbody>\n",
       "        <tr>\n",
       "            <td>UTTAR PRADESH </td> <td>70157     </td> <td>7588        </td> <td>77745      </td> <td>2195396247      </td> <td>3.54127       </td>\n",
       "        </tr>\n",
       "    </tbody>\n",
       "        <tr>\n",
       "            <td>MAHARASHTRA   </td> <td>29897     </td> <td>11151       </td> <td>41048      </td> <td>1236102692      </td> <td>3.32076       </td>\n",
       "        </tr>\n",
       "    </tbody>\n",
       "        <tr>\n",
       "            <td>WEST BENGAL   </td> <td>25332     </td> <td>8691        </td> <td>34023      </td> <td>1004825096      </td> <td>3.38596       </td>\n",
       "        </tr>\n",
       "    </tbody>\n",
       "        <tr>\n",
       "            <td>MADHYA PRADESH</td> <td>25227     </td> <td>4020        </td> <td>29247      </td> <td>798573215       </td> <td>3.66241       </td>\n",
       "        </tr>\n",
       "    </tbody>\n",
       "        <tr>\n",
       "            <td>GUJARAT       </td> <td>18026     </td> <td>5939        </td> <td>23965      </td> <td>664219908       </td> <td>3.60799       </td>\n",
       "        </tr>\n",
       "    </tbody>\n",
       "        <tr>\n",
       "            <td>BIHAR         </td> <td>17420     </td> <td>2727        </td> <td>20147      </td> <td>1141851007      </td> <td>1.76442       </td>\n",
       "        </tr>\n",
       "    </tbody>\n",
       "        <tr>\n",
       "            <td>ODISHA        </td> <td>14719     </td> <td>2464        </td> <td>17183      </td> <td>461420938       </td> <td>3.72393       </td>\n",
       "        </tr>\n",
       "    </tbody>\n",
       "        <tr>\n",
       "            <td>RAJASTHAN     </td> <td>14795     </td> <td>2300        </td> <td>17095      </td> <td>754831132       </td> <td>2.26474       </td>\n",
       "        </tr>\n",
       "    </tbody>\n",
       "        <tr>\n",
       "            <td>KARNATAKA     </td> <td>12946     </td> <td>3734        </td> <td>16680      </td> <td>672437744       </td> <td>2.48053       </td>\n",
       "        </tr>\n",
       "    </tbody>\n",
       "</table>\n",
       "<p>... (25 rows omitted)</p"
      ],
      "text/plain": [
       "STATE/UT       | Total Male | Total Female | Grand Total | Total population | Weighted Crime\n",
       "ANDHRA PRADESH | 64916      | 13660        | 78576       | 1015986396       | 7.73396\n",
       "UTTAR PRADESH  | 70157      | 7588         | 77745       | 2195396247       | 3.54127\n",
       "MAHARASHTRA    | 29897      | 11151        | 41048       | 1236102692       | 3.32076\n",
       "WEST BENGAL    | 25332      | 8691         | 34023       | 1004825096       | 3.38596\n",
       "MADHYA PRADESH | 25227      | 4020         | 29247       | 798573215        | 3.66241\n",
       "GUJARAT        | 18026      | 5939         | 23965       | 664219908        | 3.60799\n",
       "BIHAR          | 17420      | 2727         | 20147       | 1141851007       | 1.76442\n",
       "ODISHA         | 14719      | 2464         | 17183       | 461420938        | 3.72393\n",
       "RAJASTHAN      | 14795      | 2300         | 17095       | 754831132        | 2.26474\n",
       "KARNATAKA      | 12946      | 3734         | 16680       | 672437744        | 2.48053\n",
       "... (25 rows omitted)"
      ]
     },
     "execution_count": 51,
     "metadata": {},
     "output_type": "execute_result"
    }
   ],
   "source": [
    "total_crime_by_state = crime_data.column(\"Grand Total\")\n",
    "population_by_state = crime_data.column(\"Total population\")\n",
    "weighted_crime_by_state = np.divide(100000.0 * total_crime_by_state, population_by_state)\n",
    "crime_data = crime_data.with_column(\"Weighted Crime\", weighted_crime_by_state)\n",
    "crime_data"
   ]
  },
  {
   "cell_type": "code",
   "execution_count": 52,
   "metadata": {
    "collapsed": false
   },
   "outputs": [
    {
     "data": {
      "text/html": [
       "<table border=\"1\" class=\"dataframe\">\n",
       "    <thead>\n",
       "        <tr>\n",
       "            <th>STATE/UT</th> <th>Persons Arrested</th> <th>Persons Chargesheeted</th> <th>Persons Convicted</th> <th>Persons Acquitted</th>\n",
       "        </tr>\n",
       "    </thead>\n",
       "    <tbody>\n",
       "        <tr>\n",
       "            <td>A & N ISLANDS    </td> <td>73              </td> <td>73                   </td> <td>5                </td> <td>68               </td>\n",
       "        </tr>\n",
       "    </tbody>\n",
       "        <tr>\n",
       "            <td>ANDHRA PRADESH   </td> <td>39288           </td> <td>39191                </td> <td>3527             </td> <td>35761            </td>\n",
       "        </tr>\n",
       "    </tbody>\n",
       "        <tr>\n",
       "            <td>ARUNACHAL PRADESH</td> <td>202             </td> <td>130                  </td> <td>24               </td> <td>178              </td>\n",
       "        </tr>\n",
       "    </tbody>\n",
       "        <tr>\n",
       "            <td>ASSAM            </td> <td>12346           </td> <td>7694                 </td> <td>637              </td> <td>11709            </td>\n",
       "        </tr>\n",
       "    </tbody>\n",
       "        <tr>\n",
       "            <td>BIHAR            </td> <td>20147           </td> <td>19282                </td> <td>1317             </td> <td>18830            </td>\n",
       "        </tr>\n",
       "    </tbody>\n",
       "        <tr>\n",
       "            <td>CHANDIGARH       </td> <td>268             </td> <td>265                  </td> <td>38               </td> <td>230              </td>\n",
       "        </tr>\n",
       "    </tbody>\n",
       "        <tr>\n",
       "            <td>CHHATTISGARH     </td> <td>6594            </td> <td>6566                 </td> <td>1605             </td> <td>4989             </td>\n",
       "        </tr>\n",
       "    </tbody>\n",
       "        <tr>\n",
       "            <td>D & N HAVELI     </td> <td>30              </td> <td>38                   </td> <td>4                </td> <td>26               </td>\n",
       "        </tr>\n",
       "    </tbody>\n",
       "        <tr>\n",
       "            <td>DAMAN & DIU      </td> <td>45              </td> <td>54                   </td> <td>1                </td> <td>44               </td>\n",
       "        </tr>\n",
       "    </tbody>\n",
       "        <tr>\n",
       "            <td>DELHI            </td> <td>3981            </td> <td>3397                 </td> <td>1771             </td> <td>2210             </td>\n",
       "        </tr>\n",
       "    </tbody>\n",
       "</table>\n",
       "<p>... (25 rows omitted)</p"
      ],
      "text/plain": [
       "STATE/UT          | Persons Arrested | Persons Chargesheeted | Persons Convicted | Persons Acquitted\n",
       "A & N ISLANDS     | 73               | 73                    | 5                 | 68\n",
       "ANDHRA PRADESH    | 39288            | 39191                 | 3527              | 35761\n",
       "ARUNACHAL PRADESH | 202              | 130                   | 24                | 178\n",
       "ASSAM             | 12346            | 7694                  | 637               | 11709\n",
       "BIHAR             | 20147            | 19282                 | 1317              | 18830\n",
       "CHANDIGARH        | 268              | 265                   | 38                | 230\n",
       "CHHATTISGARH      | 6594             | 6566                  | 1605              | 4989\n",
       "D & N HAVELI      | 30               | 38                    | 4                 | 26\n",
       "DAMAN & DIU       | 45               | 54                    | 1                 | 44\n",
       "DELHI             | 3981             | 3397                  | 1771              | 2210\n",
       "... (25 rows omitted)"
      ]
     },
     "execution_count": 52,
     "metadata": {},
     "output_type": "execute_result"
    }
   ],
   "source": [
    "conviction_data = Table.read_table(\"convictions_by_state.csv\")\n",
    "conviction_data"
   ]
  },
  {
   "cell_type": "code",
   "execution_count": 53,
   "metadata": {
    "collapsed": false
   },
   "outputs": [
    {
     "data": {
      "text/html": [
       "<table border=\"1\" class=\"dataframe\">\n",
       "    <thead>\n",
       "        <tr>\n",
       "            <th>STATE/UT</th> <th>Persons Arrested</th> <th>Persons Chargesheeted</th> <th>Persons Convicted</th> <th>Persons Acquitted</th> <th>Percentage Acquitted</th>\n",
       "        </tr>\n",
       "    </thead>\n",
       "    <tbody>\n",
       "        <tr>\n",
       "            <td>A & N ISLANDS    </td> <td>73              </td> <td>73                   </td> <td>5                </td> <td>68               </td> <td>93.1507             </td>\n",
       "        </tr>\n",
       "    </tbody>\n",
       "        <tr>\n",
       "            <td>ANDHRA PRADESH   </td> <td>39288           </td> <td>39191                </td> <td>3527             </td> <td>35761            </td> <td>91.0227             </td>\n",
       "        </tr>\n",
       "    </tbody>\n",
       "        <tr>\n",
       "            <td>ARUNACHAL PRADESH</td> <td>202             </td> <td>130                  </td> <td>24               </td> <td>178              </td> <td>88.1188             </td>\n",
       "        </tr>\n",
       "    </tbody>\n",
       "        <tr>\n",
       "            <td>ASSAM            </td> <td>12346           </td> <td>7694                 </td> <td>637              </td> <td>11709            </td> <td>94.8404             </td>\n",
       "        </tr>\n",
       "    </tbody>\n",
       "        <tr>\n",
       "            <td>BIHAR            </td> <td>20147           </td> <td>19282                </td> <td>1317             </td> <td>18830            </td> <td>93.463              </td>\n",
       "        </tr>\n",
       "    </tbody>\n",
       "        <tr>\n",
       "            <td>CHANDIGARH       </td> <td>268             </td> <td>265                  </td> <td>38               </td> <td>230              </td> <td>85.8209             </td>\n",
       "        </tr>\n",
       "    </tbody>\n",
       "        <tr>\n",
       "            <td>CHHATTISGARH     </td> <td>6594            </td> <td>6566                 </td> <td>1605             </td> <td>4989             </td> <td>75.6597             </td>\n",
       "        </tr>\n",
       "    </tbody>\n",
       "        <tr>\n",
       "            <td>D & N HAVELI     </td> <td>30              </td> <td>38                   </td> <td>4                </td> <td>26               </td> <td>86.6667             </td>\n",
       "        </tr>\n",
       "    </tbody>\n",
       "        <tr>\n",
       "            <td>DAMAN & DIU      </td> <td>45              </td> <td>54                   </td> <td>1                </td> <td>44               </td> <td>97.7778             </td>\n",
       "        </tr>\n",
       "    </tbody>\n",
       "        <tr>\n",
       "            <td>DELHI            </td> <td>3981            </td> <td>3397                 </td> <td>1771             </td> <td>2210             </td> <td>55.5137             </td>\n",
       "        </tr>\n",
       "    </tbody>\n",
       "</table>\n",
       "<p>... (25 rows omitted)</p"
      ],
      "text/plain": [
       "STATE/UT          | Persons Arrested | Persons Chargesheeted | Persons Convicted | Persons Acquitted | Percentage Acquitted\n",
       "A & N ISLANDS     | 73               | 73                    | 5                 | 68                | 93.1507\n",
       "ANDHRA PRADESH    | 39288            | 39191                 | 3527              | 35761             | 91.0227\n",
       "ARUNACHAL PRADESH | 202              | 130                   | 24                | 178               | 88.1188\n",
       "ASSAM             | 12346            | 7694                  | 637               | 11709             | 94.8404\n",
       "BIHAR             | 20147            | 19282                 | 1317              | 18830             | 93.463\n",
       "CHANDIGARH        | 268              | 265                   | 38                | 230               | 85.8209\n",
       "CHHATTISGARH      | 6594             | 6566                  | 1605              | 4989              | 75.6597\n",
       "D & N HAVELI      | 30               | 38                    | 4                 | 26                | 86.6667\n",
       "DAMAN & DIU       | 45               | 54                    | 1                 | 44                | 97.7778\n",
       "DELHI             | 3981             | 3397                  | 1771              | 2210              | 55.5137\n",
       "... (25 rows omitted)"
      ]
     },
     "execution_count": 53,
     "metadata": {},
     "output_type": "execute_result"
    }
   ],
   "source": [
    "number_acquitted = conviction_data.column(\"Persons Acquitted\")\n",
    "number_arrested = conviction_data.column(\"Persons Arrested\")\n",
    "percentage_acquitted = np.divide(100*number_acquitted, number_arrested)\n",
    "conviction_data = conviction_data.with_column(\"Percentage Acquitted\", percentage_acquitted)\n",
    "conviction_data"
   ]
  },
  {
   "cell_type": "code",
   "execution_count": 54,
   "metadata": {
    "collapsed": false
   },
   "outputs": [
    {
     "data": {
      "text/html": [
       "<table border=\"1\" class=\"dataframe\">\n",
       "    <thead>\n",
       "        <tr>\n",
       "            <th>State</th> <th>Literacy Rate</th>\n",
       "        </tr>\n",
       "    </thead>\n",
       "    <tbody>\n",
       "        <tr>\n",
       "            <td>Andaman & Nicobar Islands</td> <td>86.3         </td>\n",
       "        </tr>\n",
       "    </tbody>\n",
       "        <tr>\n",
       "            <td>Andhra Pradesh           </td> <td>67.89        </td>\n",
       "        </tr>\n",
       "    </tbody>\n",
       "        <tr>\n",
       "            <td>Arunachal Pradesh        </td> <td>67           </td>\n",
       "        </tr>\n",
       "    </tbody>\n",
       "        <tr>\n",
       "            <td>Assam                    </td> <td>73.2         </td>\n",
       "        </tr>\n",
       "    </tbody>\n",
       "        <tr>\n",
       "            <td>Bihar                    </td> <td>63.8         </td>\n",
       "        </tr>\n",
       "    </tbody>\n",
       "        <tr>\n",
       "            <td>Chandigarh               </td> <td>86.4         </td>\n",
       "        </tr>\n",
       "    </tbody>\n",
       "        <tr>\n",
       "            <td>Chhattisgarh             </td> <td>71           </td>\n",
       "        </tr>\n",
       "    </tbody>\n",
       "        <tr>\n",
       "            <td>Dadra & Nagar Haveli     </td> <td>77.7         </td>\n",
       "        </tr>\n",
       "    </tbody>\n",
       "        <tr>\n",
       "            <td>Daman & Diu              </td> <td>87.1         </td>\n",
       "        </tr>\n",
       "    </tbody>\n",
       "        <tr>\n",
       "            <td>Delhi                    </td> <td>86.3         </td>\n",
       "        </tr>\n",
       "    </tbody>\n",
       "</table>\n",
       "<p>... (25 rows omitted)</p"
      ],
      "text/plain": [
       "State                     | Literacy Rate\n",
       "Andaman & Nicobar Islands | 86.3\n",
       "Andhra Pradesh            | 67.89\n",
       "Arunachal Pradesh         | 67\n",
       "Assam                     | 73.2\n",
       "Bihar                     | 63.8\n",
       "Chandigarh                | 86.4\n",
       "Chhattisgarh              | 71\n",
       "Dadra & Nagar Haveli      | 77.7\n",
       "Daman & Diu               | 87.1\n",
       "Delhi                     | 86.3\n",
       "... (25 rows omitted)"
      ]
     },
     "execution_count": 54,
     "metadata": {},
     "output_type": "execute_result"
    }
   ],
   "source": [
    "literacy_data = Table.read_table(\"literacy_by_state.csv\")\n",
    "literacy_data"
   ]
  },
  {
   "cell_type": "code",
   "execution_count": 55,
   "metadata": {
    "collapsed": false
   },
   "outputs": [
    {
     "data": {
      "text/html": [
       "<table border=\"1\" class=\"dataframe\">\n",
       "    <thead>\n",
       "        <tr>\n",
       "            <th>State</th> <th>Literacy Rate</th> <th>Percentage Acquitted in 2012</th>\n",
       "        </tr>\n",
       "    </thead>\n",
       "    <tbody>\n",
       "        <tr>\n",
       "            <td>Andaman & Nicobar Islands</td> <td>86.3         </td> <td>93.1507                     </td>\n",
       "        </tr>\n",
       "    </tbody>\n",
       "        <tr>\n",
       "            <td>Andhra Pradesh           </td> <td>67.89        </td> <td>91.0227                     </td>\n",
       "        </tr>\n",
       "    </tbody>\n",
       "        <tr>\n",
       "            <td>Arunachal Pradesh        </td> <td>67           </td> <td>88.1188                     </td>\n",
       "        </tr>\n",
       "    </tbody>\n",
       "        <tr>\n",
       "            <td>Assam                    </td> <td>73.2         </td> <td>94.8404                     </td>\n",
       "        </tr>\n",
       "    </tbody>\n",
       "        <tr>\n",
       "            <td>Bihar                    </td> <td>63.8         </td> <td>93.463                      </td>\n",
       "        </tr>\n",
       "    </tbody>\n",
       "        <tr>\n",
       "            <td>Chandigarh               </td> <td>86.4         </td> <td>85.8209                     </td>\n",
       "        </tr>\n",
       "    </tbody>\n",
       "        <tr>\n",
       "            <td>Chhattisgarh             </td> <td>71           </td> <td>75.6597                     </td>\n",
       "        </tr>\n",
       "    </tbody>\n",
       "        <tr>\n",
       "            <td>Dadra & Nagar Haveli     </td> <td>77.7         </td> <td>86.6667                     </td>\n",
       "        </tr>\n",
       "    </tbody>\n",
       "        <tr>\n",
       "            <td>Daman & Diu              </td> <td>87.1         </td> <td>97.7778                     </td>\n",
       "        </tr>\n",
       "    </tbody>\n",
       "        <tr>\n",
       "            <td>Delhi                    </td> <td>86.3         </td> <td>55.5137                     </td>\n",
       "        </tr>\n",
       "    </tbody>\n",
       "</table>\n",
       "<p>... (25 rows omitted)</p"
      ],
      "text/plain": [
       "State                     | Literacy Rate | Percentage Acquitted in 2012\n",
       "Andaman & Nicobar Islands | 86.3          | 93.1507\n",
       "Andhra Pradesh            | 67.89         | 91.0227\n",
       "Arunachal Pradesh         | 67            | 88.1188\n",
       "Assam                     | 73.2          | 94.8404\n",
       "Bihar                     | 63.8          | 93.463\n",
       "Chandigarh                | 86.4          | 85.8209\n",
       "Chhattisgarh              | 71            | 75.6597\n",
       "Dadra & Nagar Haveli      | 77.7          | 86.6667\n",
       "Daman & Diu               | 87.1          | 97.7778\n",
       "Delhi                     | 86.3          | 55.5137\n",
       "... (25 rows omitted)"
      ]
     },
     "execution_count": 55,
     "metadata": {},
     "output_type": "execute_result"
    }
   ],
   "source": [
    "literacy_data = literacy_data.with_column(\"Percentage Acquitted in 2012\", conviction_data.column(\"Percentage Acquitted\"))\n",
    "literacy_data"
   ]
  },
  {
   "cell_type": "code",
   "execution_count": null,
   "metadata": {
    "collapsed": true
   },
   "outputs": [],
   "source": []
  }
 ],
 "metadata": {
  "kernelspec": {
   "display_name": "Python 3",
   "language": "python",
   "name": "python3"
  },
  "language_info": {
   "codemirror_mode": {
    "name": "ipython",
    "version": 3
   },
   "file_extension": ".py",
   "mimetype": "text/x-python",
   "name": "python",
   "nbconvert_exporter": "python",
   "pygments_lexer": "ipython3",
   "version": "3.6.0"
  }
 },
 "nbformat": 4,
 "nbformat_minor": 2
}
