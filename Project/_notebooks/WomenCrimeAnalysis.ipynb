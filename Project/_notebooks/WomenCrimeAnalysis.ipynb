{
 "cells": [
  {
   "cell_type": "markdown",
   "metadata": {},
   "source": [
    "### INTRODUCTION"
   ]
  },
  {
   "cell_type": "markdown",
   "metadata": {},
   "source": [
    "Crime has always been one of the larger problems in India, especially since it is the second most populous country in the world. Also, some of the cultural peculiarities - sex being a taboo in India, the skewed sex ratio, age-old customs like Sati and Dowry and the lower status women hold in society - cause women to be at higher risk than usual. There is also lack of awareness, inadequate infrastructure and insufficient programs in place for their safety and protection. The problem is most severe in rural areas, but some urban areas like Tier 1 cities, and surprisingly, even the capital, are recognized as high risk zones. In recent times, this has become a matter of great concern after a series of very brutal crimes against young girls have been reported and have made international headlines over the past few years. Safety of women has suddenly become a national priority and is even playing an influential role in the upcoming central elections. These motivations compel us to analyze crime data from India with the goal of gaining an insight into the nature and depth of the problem. We use data from the Open Government Data (OGD) Platform India (http://data.gov.in)"
   ]
  },
  {
   "cell_type": "markdown",
   "metadata": {},
   "source": [
    "### CODE"
   ]
  },
  {
   "cell_type": "code",
   "execution_count": 10,
   "metadata": {},
   "outputs": [
    {
     "name": "stdout",
     "output_type": "stream",
     "text": [
      "Populating the interactive namespace from numpy and matplotlib\n"
     ]
    }
   ],
   "source": [
    "%pylab --no-import-all inline\n",
    "%matplotlib inline"
   ]
  },
  {
   "cell_type": "code",
   "execution_count": 11,
   "metadata": {},
   "outputs": [],
   "source": [
    "import numpy as np\n",
    "import os\n",
    "import pandas as pd\n",
    "import codecs\n",
    "import matplotlib.pyplot as plt\n",
    "import uuid\n",
    "import jinja2\n",
    "import folium\n",
    "import json\n",
    "import scipy.stats as stats\n",
    "\n",
    "from itertools import islice\n",
    "from pandas import DataFrame, Series\n",
    "from numpy.random import randn\n",
    "from IPython.display import display, Image, HTML, clear_output\n",
    "from IPython.html import widgets\n",
    "\n",
    "# CSS_URL = \"http://cdn.leafletjs.com/leaflet-0.7.2/leaflet.css\"\n",
    "# LEAFLET_JS_URL = \"http://cdn.leafletjs.com/leaflet-0.7.2/leaflet\""
   ]
  },
  {
   "cell_type": "markdown",
   "metadata": {},
   "source": [
    "DATA RETRIEVAL\n",
    "\n",
    "We start by importing the data from the csv data files. We then create data frames that we will use to analyze data for the current year."
   ]
  },
  {
   "cell_type": "code",
   "execution_count": 12,
   "metadata": {
    "collapsed": true
   },
   "outputs": [],
   "source": [
    "# Set the path to get the files to be the base directory of the application\n",
    "FILES_DIR = os.path.join(os.pardir, \"_data\")\n",
    "\n",
    "# Open the file with current year statistics and create a data frame\n",
    "currentFile = codecs.open(os.path.join(FILES_DIR,'CurrentYear2012Data.csv'), encoding='iso-8859-1')\n",
    "currentYear = DataFrame(pd.read_csv(currentFile))\n",
    "\n",
    "# Remove summary (total) rows from the data\n",
    "currentYear = currentYear[(currentYear['STATE/UT'] != 'TOTAL (UTs)') & (currentYear['STATE/UT'] != 'TOTAL (STATES)') & (currentYear['STATE/UT'] != 'TOTAL (ALL-INDIA)')]\n",
    "currentYear = currentYear[(currentYear['Crime head'] != 'TOTAL CRIMES AGAINST WOMEN')]\n",
    "\n",
    "# Open the file with current year population and create a data frame\n",
    "currentFile = codecs.open(os.path.join(FILES_DIR,'indiaStatesPopulation.csv'), encoding='iso-8859-1')\n",
    "currentPopulation = DataFrame(pd.read_csv(currentFile))\n",
    "\n",
    "# Merge the two dataframes to create a dataframe with current year statistics and population.\n",
    "currentYear = DataFrame(pd.merge(currentYear, currentPopulation, on='STATE/UT'))\n",
    "\n",
    "#Open the file with historic crime type\n",
    "currentFile = codecs.open(os.path.join(FILES_DIR,'historicCrimeTypeYearly.csv'), encoding='iso-8859-1')\n",
    "historicCrimes = DataFrame(pd.read_csv(currentFile))\n",
    "historicCrimes = historicCrimes[(historicCrimes['CRIME HEAD'] != 'Total Crimes against Women')]\n",
    "\n",
    "#Open the file with historic crime type and Create the data frame\n",
    "currentFile = codecs.open(os.path.join(FILES_DIR,'literacy_rate_2011.csv'), encoding='iso-8859-1')\n",
    "literacyRates = DataFrame(pd.read_csv(currentFile))\n",
    "\n",
    "#Open the file with charges and convictions for 2010 - 2012\n",
    "currentFile = codecs.open(os.path.join(FILES_DIR,'CasesPersonsHeldUnderCAW2010-2012.csv'), encoding='iso-8859-1')\n",
    "Year2010_2012 = DataFrame(pd.read_csv(currentFile))\n",
    "Year2010_2012 = Year2010_2012[Year2010_2012[\"CRIME HEAD\"] != \"TOTAL CRIMES AGAINST WOMEN\"]\n",
    "newdf = Year2010_2012[(Year2010_2012['STATE/UT'] != \"TOTAL (STATES)\") & (Year2010_2012['STATE/UT'] != \"TOTAL (UTs)\") & (Year2010_2012['STATE/UT'] != \"TOTAL (ALL-INDIA)\")]\n",
    "arrestCharges = Year2010_2012[['STATE/UT', 'CRIME HEAD', 'CASES REGISTERED - 2010', 'CASES CHARGESHEETED - 2010', 'CASES CONVICTED - 2010', 'CASES REGISTERED - 2011', 'CASES CHARGESHEETED - 2011', 'CASES CONVICTED - 2011', 'CASES REGISTERED - 2012', 'CASES CHARGESHEETED - 2012', 'CASES CONVICTED - 2012']]\n",
    "\n",
    "#Open the file with charges and convictions for 2010 - 2012\n",
    "currentFile = codecs.open(os.path.join(FILES_DIR,'CasesRegisteredAndTheirDisposalUnderCrimeAgainstWomen2012.csv'), encoding='iso-8859-1')\n",
    "allCases = DataFrame(pd.read_csv(currentFile))\n",
    "allCases = allCases[(allCases['STATE/UT'] != \"TOTAL (STATES)\") & (allCases['STATE/UT'] != \"TOTAL (UTs)\") & (allCases['STATE/UT'] != \"TOTAL (ALL-INDIA)\")]\n"
   ]
  },
  {
   "cell_type": "markdown",
   "metadata": {},
   "source": [
    "CURRENT YEAR ANALYSIS\n",
    "\n",
    "Our initial analysis, focuses on the current crime numbers for the year 2012. "
   ]
  },
  {
   "cell_type": "code",
   "execution_count": 13,
   "metadata": {},
   "outputs": [
    {
     "name": "stdout",
     "output_type": "stream",
     "text": [
      "433663\n"
     ]
    }
   ],
   "source": [
    "#Total Crimes Against Women in 2012\n",
    "print(sum(currentYear['Grand Total']))"
   ]
  },
  {
   "cell_type": "markdown",
   "metadata": {},
   "source": [
    "A total 433663 crimes against women were reported in the year 2012. \n",
    "\n"
   ]
  },
  {
   "cell_type": "code",
   "execution_count": 14,
   "metadata": {},
   "outputs": [
    {
     "name": "stderr",
     "output_type": "stream",
     "text": [
      "/Library/Frameworks/Python.framework/Versions/3.6/lib/python3.6/site-packages/ipykernel_launcher.py:3: FutureWarning: sort(columns=....) is deprecated, use sort_values(by=.....)\n",
      "  This is separate from the ipykernel package so we can avoid doing imports until\n"
     ]
    },
    {
     "data": {
      "text/html": [
       "<div>\n",
       "<table border=\"1\" class=\"dataframe\">\n",
       "  <thead>\n",
       "    <tr style=\"text-align: right;\">\n",
       "      <th></th>\n",
       "      <th>Total Male</th>\n",
       "      <th>Total Female</th>\n",
       "      <th>Grand Total</th>\n",
       "      <th>Total population</th>\n",
       "    </tr>\n",
       "    <tr>\n",
       "      <th>STATE/UT</th>\n",
       "      <th></th>\n",
       "      <th></th>\n",
       "      <th></th>\n",
       "      <th></th>\n",
       "    </tr>\n",
       "  </thead>\n",
       "  <tbody>\n",
       "    <tr>\n",
       "      <th>ANDHRA PRADESH</th>\n",
       "      <td>64916</td>\n",
       "      <td>13660</td>\n",
       "      <td>78576</td>\n",
       "      <td>1015986396</td>\n",
       "    </tr>\n",
       "    <tr>\n",
       "      <th>MEGHALAYA</th>\n",
       "      <td>252</td>\n",
       "      <td>19</td>\n",
       "      <td>271</td>\n",
       "      <td>32604077</td>\n",
       "    </tr>\n",
       "    <tr>\n",
       "      <th>KARNATAKA</th>\n",
       "      <td>12946</td>\n",
       "      <td>3734</td>\n",
       "      <td>16680</td>\n",
       "      <td>672437744</td>\n",
       "    </tr>\n",
       "    <tr>\n",
       "      <th>GOA</th>\n",
       "      <td>234</td>\n",
       "      <td>52</td>\n",
       "      <td>286</td>\n",
       "      <td>16034953</td>\n",
       "    </tr>\n",
       "    <tr>\n",
       "      <th>GUJARAT</th>\n",
       "      <td>18026</td>\n",
       "      <td>5939</td>\n",
       "      <td>23965</td>\n",
       "      <td>664219908</td>\n",
       "    </tr>\n",
       "    <tr>\n",
       "      <th>HARYANA</th>\n",
       "      <td>6268</td>\n",
       "      <td>996</td>\n",
       "      <td>7264</td>\n",
       "      <td>278883891</td>\n",
       "    </tr>\n",
       "    <tr>\n",
       "      <th>NCT OF DELHI</th>\n",
       "      <td>3657</td>\n",
       "      <td>324</td>\n",
       "      <td>3981</td>\n",
       "      <td>184285585</td>\n",
       "    </tr>\n",
       "    <tr>\n",
       "      <th>WEST BENGAL</th>\n",
       "      <td>25332</td>\n",
       "      <td>8691</td>\n",
       "      <td>34023</td>\n",
       "      <td>1004825096</td>\n",
       "    </tr>\n",
       "  </tbody>\n",
       "</table>\n",
       "</div>"
      ],
      "text/plain": [
       "                Total Male  Total Female  Grand Total  Total population\n",
       "STATE/UT                                                               \n",
       "ANDHRA PRADESH       64916         13660        78576        1015986396\n",
       "MEGHALAYA              252            19          271          32604077\n",
       "KARNATAKA            12946          3734        16680         672437744\n",
       "GOA                    234            52          286          16034953\n",
       "GUJARAT              18026          5939        23965         664219908\n",
       "HARYANA               6268           996         7264         278883891\n",
       "NCT OF DELHI          3657           324         3981         184285585\n",
       "WEST BENGAL          25332          8691        34023        1004825096"
      ]
     },
     "execution_count": 14,
     "metadata": {},
     "output_type": "execute_result"
    }
   ],
   "source": [
    "stateNumbers = currentYear.groupby('STATE/UT').sum()\n",
    "\n",
    "stateNumbers = stateNumbers.sort(['Grand Total'], ascending=[0])\n",
    "stateNumbers = stateNumbers[[\"Total Male\", \"Total Female\", \"Grand Total\", \"Total population\"]]\n",
    "stateNumbers = stateNumbers.loc[[\"ANDHRA PRADESH\", \"MEGHALAYA\", \"KARNATAKA\",\"GOA\",\n",
    "                                                              \"GUJARAT\", \"HARYANA\", \"NCT OF DELHI\", \"WEST BENGAL\"]]\n",
    "stateNumbers"
   ]
  },
  {
   "cell_type": "markdown",
   "metadata": {},
   "source": [
    "Preliminary Analysis To Do\n",
    "\n",
    "We attempt to calculate the total number of people (men and women) arrested for crime against women in 2012 by summing up the Grand Total column. Further, we try to find the total number of these criminals per thousand. Turns out, about 1 in every thousand people got arrested for commiting a crime against women. This is a big number for a country with a population of over a billion.  "
   ]
  },
  {
   "cell_type": "code",
   "execution_count": 15,
   "metadata": {},
   "outputs": [],
   "source": [
    "stateNumbers[['Grand Total', 'Total population']] = stateNumbers[['Grand Total', 'Total population']].astype(float)\n",
    "\n",
    "\n",
    "# stateNumbers['weightedCrime'] = stateNumbers.apply(lambda return x: Grand Total,axis=1)\n",
    "stateNumbers['Weighted Crime'] = stateNumbers.apply(lambda s: (s['Grand Total'] *100000) / s['Total population'], axis=1)\n",
    "\n",
    "totalCrime_2012 = sum(stateNumbers['Grand Total'])\n",
    "totalPopulation_2012 = sum(stateNumbers['Total population'])\n",
    "\n",
    "criminalsPer_1000 = (totalCrime_2012 / totalPopulation_2012) * 1000"
   ]
  },
  {
   "cell_type": "code",
   "execution_count": 16,
   "metadata": {},
   "outputs": [
    {
     "data": {
      "text/html": [
       "<div>\n",
       "<table border=\"1\" class=\"dataframe\">\n",
       "  <thead>\n",
       "    <tr style=\"text-align: right;\">\n",
       "      <th></th>\n",
       "      <th>Total Male</th>\n",
       "      <th>Total Female</th>\n",
       "      <th>Grand Total</th>\n",
       "      <th>Total population</th>\n",
       "      <th>Weighted Crime</th>\n",
       "    </tr>\n",
       "    <tr>\n",
       "      <th>STATE/UT</th>\n",
       "      <th></th>\n",
       "      <th></th>\n",
       "      <th></th>\n",
       "      <th></th>\n",
       "      <th></th>\n",
       "    </tr>\n",
       "  </thead>\n",
       "  <tbody>\n",
       "    <tr>\n",
       "      <th>ANDHRA PRADESH</th>\n",
       "      <td>64916</td>\n",
       "      <td>13660</td>\n",
       "      <td>78576.0</td>\n",
       "      <td>1.015986e+09</td>\n",
       "      <td>7.733962</td>\n",
       "    </tr>\n",
       "    <tr>\n",
       "      <th>MEGHALAYA</th>\n",
       "      <td>252</td>\n",
       "      <td>19</td>\n",
       "      <td>271.0</td>\n",
       "      <td>3.260408e+07</td>\n",
       "      <td>0.831184</td>\n",
       "    </tr>\n",
       "    <tr>\n",
       "      <th>KARNATAKA</th>\n",
       "      <td>12946</td>\n",
       "      <td>3734</td>\n",
       "      <td>16680.0</td>\n",
       "      <td>6.724377e+08</td>\n",
       "      <td>2.480527</td>\n",
       "    </tr>\n",
       "    <tr>\n",
       "      <th>GOA</th>\n",
       "      <td>234</td>\n",
       "      <td>52</td>\n",
       "      <td>286.0</td>\n",
       "      <td>1.603495e+07</td>\n",
       "      <td>1.783604</td>\n",
       "    </tr>\n",
       "    <tr>\n",
       "      <th>GUJARAT</th>\n",
       "      <td>18026</td>\n",
       "      <td>5939</td>\n",
       "      <td>23965.0</td>\n",
       "      <td>6.642199e+08</td>\n",
       "      <td>3.607992</td>\n",
       "    </tr>\n",
       "    <tr>\n",
       "      <th>HARYANA</th>\n",
       "      <td>6268</td>\n",
       "      <td>996</td>\n",
       "      <td>7264.0</td>\n",
       "      <td>2.788839e+08</td>\n",
       "      <td>2.604668</td>\n",
       "    </tr>\n",
       "    <tr>\n",
       "      <th>NCT OF DELHI</th>\n",
       "      <td>3657</td>\n",
       "      <td>324</td>\n",
       "      <td>3981.0</td>\n",
       "      <td>1.842856e+08</td>\n",
       "      <td>2.160234</td>\n",
       "    </tr>\n",
       "    <tr>\n",
       "      <th>WEST BENGAL</th>\n",
       "      <td>25332</td>\n",
       "      <td>8691</td>\n",
       "      <td>34023.0</td>\n",
       "      <td>1.004825e+09</td>\n",
       "      <td>3.385962</td>\n",
       "    </tr>\n",
       "  </tbody>\n",
       "</table>\n",
       "</div>"
      ],
      "text/plain": [
       "                Total Male  Total Female  Grand Total  Total population  \\\n",
       "STATE/UT                                                                  \n",
       "ANDHRA PRADESH       64916         13660      78576.0      1.015986e+09   \n",
       "MEGHALAYA              252            19        271.0      3.260408e+07   \n",
       "KARNATAKA            12946          3734      16680.0      6.724377e+08   \n",
       "GOA                    234            52        286.0      1.603495e+07   \n",
       "GUJARAT              18026          5939      23965.0      6.642199e+08   \n",
       "HARYANA               6268           996       7264.0      2.788839e+08   \n",
       "NCT OF DELHI          3657           324       3981.0      1.842856e+08   \n",
       "WEST BENGAL          25332          8691      34023.0      1.004825e+09   \n",
       "\n",
       "                Weighted Crime  \n",
       "STATE/UT                        \n",
       "ANDHRA PRADESH        7.733962  \n",
       "MEGHALAYA             0.831184  \n",
       "KARNATAKA             2.480527  \n",
       "GOA                   1.783604  \n",
       "GUJARAT               3.607992  \n",
       "HARYANA               2.604668  \n",
       "NCT OF DELHI          2.160234  \n",
       "WEST BENGAL           3.385962  "
      ]
     },
     "execution_count": 16,
     "metadata": {},
     "output_type": "execute_result"
    }
   ],
   "source": [
    "stateNumbers"
   ]
  },
  {
   "cell_type": "markdown",
   "metadata": {},
   "source": [
    "Normalized Crime Per State\n",
    "\n",
    "We now want to see how the states rank in terms of crimes relative to their populations. Do they rank similarly or they follow a similar pattern in terms of number of crimes "
   ]
  },
  {
   "cell_type": "code",
   "execution_count": 17,
   "metadata": {},
   "outputs": [
    {
     "data": {
      "text/plain": [
       "<matplotlib.axes._subplots.AxesSubplot at 0x109624080>"
      ]
     },
     "execution_count": 17,
     "metadata": {},
     "output_type": "execute_result"
    },
    {
     "data": {
      "image/png": "[encoded data removed]",
      "text/plain": [
       "<matplotlib.figure.Figure at 0x1095fdb38>"
      ]
     },
     "metadata": {},
     "output_type": "display_data"
    }
   ],
   "source": [
    "weightedStateNumbers= stateNumbers\n",
    "plt.figure\n",
    "weightedStateNumbers['Weighted Crime'].plot(kind='bar', figsize=(15,10), title = 'Normalized Crimes Per State', color='b')\n",
    "# weightedStateNumbers['STATE/UT']"
   ]
  },
  {
   "cell_type": "markdown",
   "metadata": {},
   "source": [
    "### CONVICTIONS"
   ]
  },
  {
   "cell_type": "markdown",
   "metadata": {},
   "source": [
    "Is There Any Action Being Taken Against Offenders: How Many Cases Or People Are Being Charged as compared those that are actually being convicted."
   ]
  },
  {
   "cell_type": "code",
   "execution_count": 18,
   "metadata": {},
   "outputs": [
    {
     "name": "stdout",
     "output_type": "stream",
     "text": [
      "0.127984894722\n"
     ]
    },
    {
     "ename": "TypeError",
     "evalue": "unsupported operand type(s) for *: 'NoneType' and 'int'",
     "output_type": "error",
     "traceback": [
      "\u001b[0;31m---------------------------------------------------------------------------\u001b[0m",
      "\u001b[0;31mTypeError\u001b[0m                                 Traceback (most recent call last)",
      "\u001b[0;32m<ipython-input-18-389c8c499a1b>\u001b[0m in \u001b[0;36m<module>\u001b[0;34m()\u001b[0m\n\u001b[0;32m----> 1\u001b[0;31m \u001b[0mprint\u001b[0m \u001b[0;34m(\u001b[0m\u001b[0msum\u001b[0m\u001b[0;34m(\u001b[0m\u001b[0mYear2010_2012\u001b[0m\u001b[0;34m[\u001b[0m\u001b[0;34m'PERSONS CONVICTED - 2012'\u001b[0m\u001b[0;34m]\u001b[0m\u001b[0;34m)\u001b[0m\u001b[0;34m.\u001b[0m\u001b[0mastype\u001b[0m\u001b[0;34m(\u001b[0m\u001b[0mfloat\u001b[0m\u001b[0;34m)\u001b[0m \u001b[0;34m/\u001b[0m \u001b[0msum\u001b[0m\u001b[0;34m(\u001b[0m\u001b[0mYear2010_2012\u001b[0m\u001b[0;34m[\u001b[0m\u001b[0;34m'PERSONS CHARGESHEETED - 2012'\u001b[0m\u001b[0;34m]\u001b[0m\u001b[0;34m)\u001b[0m\u001b[0;34m.\u001b[0m\u001b[0mastype\u001b[0m\u001b[0;34m(\u001b[0m\u001b[0mfloat\u001b[0m\u001b[0;34m)\u001b[0m\u001b[0;34m)\u001b[0m \u001b[0;34m*\u001b[0m \u001b[0;36m100\u001b[0m\u001b[0;34m\u001b[0m\u001b[0m\n\u001b[0m",
      "\u001b[0;31mTypeError\u001b[0m: unsupported operand type(s) for *: 'NoneType' and 'int'"
     ]
    }
   ],
   "source": [
    "print (sum(Year2010_2012['PERSONS CONVICTED - 2012']).astype(float) / sum(Year2010_2012['PERSONS CHARGESHEETED - 2012']).astype(float)) * 100"
   ]
  },
  {
   "cell_type": "code",
   "execution_count": 19,
   "metadata": {},
   "outputs": [
    {
     "data": {
      "text/html": [
       "<div>\n",
       "<table border=\"1\" class=\"dataframe\">\n",
       "  <thead>\n",
       "    <tr style=\"text-align: right;\">\n",
       "      <th></th>\n",
       "      <th>Persons Arrested</th>\n",
       "      <th>Persons Chargesheeted</th>\n",
       "      <th>Persons Convicted</th>\n",
       "      <th>Persons Acquitted</th>\n",
       "    </tr>\n",
       "    <tr>\n",
       "      <th>STATE/UT</th>\n",
       "      <th></th>\n",
       "      <th></th>\n",
       "      <th></th>\n",
       "      <th></th>\n",
       "    </tr>\n",
       "  </thead>\n",
       "  <tbody>\n",
       "    <tr>\n",
       "      <th>ANDHRA PRADESH</th>\n",
       "      <td>39288</td>\n",
       "      <td>39191</td>\n",
       "      <td>3527</td>\n",
       "      <td>35761</td>\n",
       "    </tr>\n",
       "    <tr>\n",
       "      <th>GOA</th>\n",
       "      <td>286</td>\n",
       "      <td>127</td>\n",
       "      <td>7</td>\n",
       "      <td>279</td>\n",
       "    </tr>\n",
       "    <tr>\n",
       "      <th>GUJARAT</th>\n",
       "      <td>23965</td>\n",
       "      <td>23525</td>\n",
       "      <td>434</td>\n",
       "      <td>23531</td>\n",
       "    </tr>\n",
       "    <tr>\n",
       "      <th>HARYANA</th>\n",
       "      <td>7264</td>\n",
       "      <td>7429</td>\n",
       "      <td>1266</td>\n",
       "      <td>5998</td>\n",
       "    </tr>\n",
       "    <tr>\n",
       "      <th>KARNATAKA</th>\n",
       "      <td>16680</td>\n",
       "      <td>15849</td>\n",
       "      <td>859</td>\n",
       "      <td>15821</td>\n",
       "    </tr>\n",
       "    <tr>\n",
       "      <th>MEGHALAYA</th>\n",
       "      <td>271</td>\n",
       "      <td>160</td>\n",
       "      <td>9</td>\n",
       "      <td>262</td>\n",
       "    </tr>\n",
       "    <tr>\n",
       "      <th>WEST BENGAL</th>\n",
       "      <td>34023</td>\n",
       "      <td>33694</td>\n",
       "      <td>915</td>\n",
       "      <td>33108</td>\n",
       "    </tr>\n",
       "  </tbody>\n",
       "</table>\n",
       "</div>"
      ],
      "text/plain": [
       "                Persons Arrested  Persons Chargesheeted  Persons Convicted  \\\n",
       "STATE/UT                                                                     \n",
       "ANDHRA PRADESH             39288                  39191               3527   \n",
       "GOA                          286                    127                  7   \n",
       "GUJARAT                    23965                  23525                434   \n",
       "HARYANA                     7264                   7429               1266   \n",
       "KARNATAKA                  16680                  15849                859   \n",
       "MEGHALAYA                    271                    160                  9   \n",
       "WEST BENGAL                34023                  33694                915   \n",
       "\n",
       "                Persons Acquitted  \n",
       "STATE/UT                           \n",
       "ANDHRA PRADESH              35761  \n",
       "GOA                           279  \n",
       "GUJARAT                     23531  \n",
       "HARYANA                      5998  \n",
       "KARNATAKA                   15821  \n",
       "MEGHALAYA                     262  \n",
       "WEST BENGAL                 33108  "
      ]
     },
     "execution_count": 19,
     "metadata": {},
     "output_type": "execute_result"
    }
   ],
   "source": [
    "Year2010_2012 = Year2010_2012.loc[Year2010_2012[\"STATE/UT\"].isin([\"ANDHRA PRADESH\", \"MEGHALAYA\", \"KARNATAKA\",\"GOA\",\n",
    "                                                             \"GUJARAT\", \"HARYANA\", \"NCT OF DELHI\", \"WEST BENGAL\"])]\n",
    "Year2010_2012 = Year2010_2012.groupby(\"STATE/UT\").sum()\n",
    "Year2012 = Year2010_2012[['PERSONS ARRESTED - 2012', 'PERSONS CHARGESHEETED - 2012', 'PERSONS CONVICTED - 2012']]\n",
    "Year2012['PERSONS ACQUITTED - 2012'] = Year2012['PERSONS ARRESTED - 2012'] - Year2012['PERSONS CONVICTED - 2012']\n",
    "Year2012.columns = ['Persons Arrested', 'Persons Chargesheeted', 'Persons Convicted', 'Persons Acquitted']\n",
    "Year2012"
   ]
  },
  {
   "cell_type": "code",
   "execution_count": 22,
   "metadata": {},
   "outputs": [
    {
     "data": {
      "text/plain": [
       "<matplotlib.axes._subplots.AxesSubplot at 0x109c7fa20>"
      ]
     },
     "execution_count": 22,
     "metadata": {},
     "output_type": "execute_result"
    },
    {
     "data": {
      "image/png": "[encoded data removed]",
      "text/plain": [
       "<matplotlib.figure.Figure at 0x109345ef0>"
      ]
     },
     "metadata": {},
     "output_type": "display_data"
    }
   ],
   "source": [
    "newDF = Year2012[['Persons Acquitted']]\n",
    "newDF.plot(kind='barh', title=\"Crimes by State\", figsize=(10,5))"
   ]
  },
  {
   "cell_type": "code",
   "execution_count": 24,
   "metadata": {},
   "outputs": [
    {
     "name": "stderr",
     "output_type": "stream",
     "text": [
      "/Library/Frameworks/Python.framework/Versions/3.6/lib/python3.6/site-packages/ipykernel_launcher.py:1: SettingWithCopyWarning: \n",
      "A value is trying to be set on a copy of a slice from a DataFrame.\n",
      "Try using .loc[row_indexer,col_indexer] = value instead\n",
      "\n",
      "See the caveats in the documentation: http://pandas.pydata.org/pandas-docs/stable/indexing.html#indexing-view-versus-copy\n",
      "  \"\"\"Entry point for launching an IPython kernel.\n"
     ]
    },
    {
     "data": {
      "text/html": [
       "<div>\n",
       "<table border=\"1\" class=\"dataframe\">\n",
       "  <thead>\n",
       "    <tr style=\"text-align: right;\">\n",
       "      <th></th>\n",
       "      <th>Percentage Acquitted</th>\n",
       "    </tr>\n",
       "    <tr>\n",
       "      <th>STATE/UT</th>\n",
       "      <th></th>\n",
       "    </tr>\n",
       "  </thead>\n",
       "  <tbody>\n",
       "    <tr>\n",
       "      <th>ANDHRA PRADESH</th>\n",
       "      <td>91.022704</td>\n",
       "    </tr>\n",
       "    <tr>\n",
       "      <th>GOA</th>\n",
       "      <td>97.552448</td>\n",
       "    </tr>\n",
       "    <tr>\n",
       "      <th>GUJARAT</th>\n",
       "      <td>98.189026</td>\n",
       "    </tr>\n",
       "    <tr>\n",
       "      <th>HARYANA</th>\n",
       "      <td>82.571586</td>\n",
       "    </tr>\n",
       "    <tr>\n",
       "      <th>KARNATAKA</th>\n",
       "      <td>94.850120</td>\n",
       "    </tr>\n",
       "    <tr>\n",
       "      <th>MEGHALAYA</th>\n",
       "      <td>96.678967</td>\n",
       "    </tr>\n",
       "    <tr>\n",
       "      <th>WEST BENGAL</th>\n",
       "      <td>97.310643</td>\n",
       "    </tr>\n",
       "  </tbody>\n",
       "</table>\n",
       "</div>"
      ],
      "text/plain": [
       "                Percentage Acquitted\n",
       "STATE/UT                            \n",
       "ANDHRA PRADESH             91.022704\n",
       "GOA                        97.552448\n",
       "GUJARAT                    98.189026\n",
       "HARYANA                    82.571586\n",
       "KARNATAKA                  94.850120\n",
       "MEGHALAYA                  96.678967\n",
       "WEST BENGAL                97.310643"
      ]
     },
     "execution_count": 24,
     "metadata": {},
     "output_type": "execute_result"
    }
   ],
   "source": [
    "newDF['Percentage Acquitted'] = (newDF['Persons Acquitted']/Year2012['Persons Arrested'])*100\n",
    "newDF[['Percentage Acquitted']]"
   ]
  },
  {
   "cell_type": "markdown",
   "metadata": {},
   "source": [
    "### Looking for A Correlation Between Crimes and Literacy Rates In States"
   ]
  },
  {
   "cell_type": "code",
   "execution_count": 25,
   "metadata": {},
   "outputs": [
    {
     "data": {
      "text/plain": [
       "<matplotlib.axes._subplots.AxesSubplot at 0x10933fda0>"
      ]
     },
     "execution_count": 25,
     "metadata": {},
     "output_type": "execute_result"
    },
    {
     "data": {
      "image/png": "[encoded data removed]",
      "text/plain": [
       "<matplotlib.figure.Figure at 0x109ce3d68>"
      ]
     },
     "metadata": {},
     "output_type": "display_data"
    }
   ],
   "source": [
    "plt.figure\n",
    "literacyRates= literacyRates.groupby('State').sum()\n",
    "literacyRates.plot(kind='bar', figsize=(5,5), title = 'Literacy rate', color='red')"
   ]
  },
  {
   "cell_type": "code",
   "execution_count": 26,
   "metadata": {},
   "outputs": [
    {
     "name": "stderr",
     "output_type": "stream",
     "text": [
      "/Library/Frameworks/Python.framework/Versions/3.6/lib/python3.6/site-packages/ipykernel_launcher.py:5: FutureWarning: by argument to sort_index is deprecated, pls use .sort_values(by=...)\n",
      "  \"\"\"\n"
     ]
    },
    {
     "ename": "ValueError",
     "evalue": "operands could not be broadcast together with shapes (35,) (8,) ",
     "output_type": "error",
     "traceback": [
      "\u001b[0;31m---------------------------------------------------------------------------\u001b[0m",
      "\u001b[0;31mValueError\u001b[0m                                Traceback (most recent call last)",
      "\u001b[0;32m<ipython-input-26-4f1cc22fd389>\u001b[0m in \u001b[0;36m<module>\u001b[0;34m()\u001b[0m\n\u001b[1;32m      6\u001b[0m \u001b[0mcrimeArray\u001b[0m \u001b[0;34m=\u001b[0m \u001b[0mnp\u001b[0m\u001b[0;34m.\u001b[0m\u001b[0marray\u001b[0m\u001b[0;34m(\u001b[0m\u001b[0mweightedStateNumbers\u001b[0m\u001b[0;34m[\u001b[0m\u001b[0;34m'Weighted Crime'\u001b[0m\u001b[0;34m]\u001b[0m\u001b[0;34m)\u001b[0m\u001b[0;34m\u001b[0m\u001b[0m\n\u001b[1;32m      7\u001b[0m \u001b[0;34m\u001b[0m\u001b[0m\n\u001b[0;32m----> 8\u001b[0;31m \u001b[0mstats\u001b[0m\u001b[0;34m.\u001b[0m\u001b[0mpearsonr\u001b[0m\u001b[0;34m(\u001b[0m\u001b[0mliteracyArray\u001b[0m\u001b[0;34m,\u001b[0m \u001b[0mcrimeArray\u001b[0m\u001b[0;34m)\u001b[0m\u001b[0;34m\u001b[0m\u001b[0m\n\u001b[0m",
      "\u001b[0;32m/Library/Frameworks/Python.framework/Versions/3.6/lib/python3.6/site-packages/scipy/stats/stats.py\u001b[0m in \u001b[0;36mpearsonr\u001b[0;34m(x, y)\u001b[0m\n\u001b[1;32m   3025\u001b[0m     \u001b[0mmy\u001b[0m \u001b[0;34m=\u001b[0m \u001b[0my\u001b[0m\u001b[0;34m.\u001b[0m\u001b[0mmean\u001b[0m\u001b[0;34m(\u001b[0m\u001b[0;34m)\u001b[0m\u001b[0;34m\u001b[0m\u001b[0m\n\u001b[1;32m   3026\u001b[0m     \u001b[0mxm\u001b[0m\u001b[0;34m,\u001b[0m \u001b[0mym\u001b[0m \u001b[0;34m=\u001b[0m \u001b[0mx\u001b[0m \u001b[0;34m-\u001b[0m \u001b[0mmx\u001b[0m\u001b[0;34m,\u001b[0m \u001b[0my\u001b[0m \u001b[0;34m-\u001b[0m \u001b[0mmy\u001b[0m\u001b[0;34m\u001b[0m\u001b[0m\n\u001b[0;32m-> 3027\u001b[0;31m     \u001b[0mr_num\u001b[0m \u001b[0;34m=\u001b[0m \u001b[0mnp\u001b[0m\u001b[0;34m.\u001b[0m\u001b[0madd\u001b[0m\u001b[0;34m.\u001b[0m\u001b[0mreduce\u001b[0m\u001b[0;34m(\u001b[0m\u001b[0mxm\u001b[0m \u001b[0;34m*\u001b[0m \u001b[0mym\u001b[0m\u001b[0;34m)\u001b[0m\u001b[0;34m\u001b[0m\u001b[0m\n\u001b[0m\u001b[1;32m   3028\u001b[0m     \u001b[0mr_den\u001b[0m \u001b[0;34m=\u001b[0m \u001b[0mnp\u001b[0m\u001b[0;34m.\u001b[0m\u001b[0msqrt\u001b[0m\u001b[0;34m(\u001b[0m\u001b[0m_sum_of_squares\u001b[0m\u001b[0;34m(\u001b[0m\u001b[0mxm\u001b[0m\u001b[0;34m)\u001b[0m \u001b[0;34m*\u001b[0m \u001b[0m_sum_of_squares\u001b[0m\u001b[0;34m(\u001b[0m\u001b[0mym\u001b[0m\u001b[0;34m)\u001b[0m\u001b[0;34m)\u001b[0m\u001b[0;34m\u001b[0m\u001b[0m\n\u001b[1;32m   3029\u001b[0m     \u001b[0mr\u001b[0m \u001b[0;34m=\u001b[0m \u001b[0mr_num\u001b[0m \u001b[0;34m/\u001b[0m \u001b[0mr_den\u001b[0m\u001b[0;34m\u001b[0m\u001b[0m\n",
      "\u001b[0;31mValueError\u001b[0m: operands could not be broadcast together with shapes (35,) (8,) "
     ]
    }
   ],
   "source": [
    "\n",
    "\n",
    "weightedStateNumbers['STATE/UT'] = weightedStateNumbers.index\n",
    "weightedStateNumbers = weightedStateNumbers.sort_index(by=\"STATE/UT\")\n",
    "crimeArray = np.array(weightedStateNumbers['Weighted Crime'])\n",
    "\n"
   ]
  },
  {
   "cell_type": "code",
   "execution_count": 27,
   "metadata": {},
   "outputs": [
    {
     "data": {
      "text/html": [
       "<div>\n",
       "<table border=\"1\" class=\"dataframe\">\n",
       "  <thead>\n",
       "    <tr style=\"text-align: right;\">\n",
       "      <th></th>\n",
       "      <th>Literacy Rate</th>\n",
       "      <th>Weighted Crime</th>\n",
       "    </tr>\n",
       "  </thead>\n",
       "  <tbody>\n",
       "    <tr>\n",
       "      <th>ANDHRA PRADESH</th>\n",
       "      <td>67.89</td>\n",
       "      <td>7.733962</td>\n",
       "    </tr>\n",
       "    <tr>\n",
       "      <th>MEGHALAYA</th>\n",
       "      <td>75.50</td>\n",
       "      <td>0.831184</td>\n",
       "    </tr>\n",
       "    <tr>\n",
       "      <th>KARNATAKA</th>\n",
       "      <td>75.60</td>\n",
       "      <td>2.480527</td>\n",
       "    </tr>\n",
       "    <tr>\n",
       "      <th>GOA</th>\n",
       "      <td>87.40</td>\n",
       "      <td>1.783604</td>\n",
       "    </tr>\n",
       "    <tr>\n",
       "      <th>GUJARAT</th>\n",
       "      <td>77.30</td>\n",
       "      <td>3.607992</td>\n",
       "    </tr>\n",
       "    <tr>\n",
       "      <th>HARYANA</th>\n",
       "      <td>76.60</td>\n",
       "      <td>2.604668</td>\n",
       "    </tr>\n",
       "    <tr>\n",
       "      <th>NCT OF DELHI</th>\n",
       "      <td>86.30</td>\n",
       "      <td>2.160234</td>\n",
       "    </tr>\n",
       "    <tr>\n",
       "      <th>WEST BENGAL</th>\n",
       "      <td>77.10</td>\n",
       "      <td>3.385962</td>\n",
       "    </tr>\n",
       "  </tbody>\n",
       "</table>\n",
       "</div>"
      ],
      "text/plain": [
       "                Literacy Rate  Weighted Crime\n",
       "ANDHRA PRADESH          67.89        7.733962\n",
       "MEGHALAYA               75.50        0.831184\n",
       "KARNATAKA               75.60        2.480527\n",
       "GOA                     87.40        1.783604\n",
       "GUJARAT                 77.30        3.607992\n",
       "HARYANA                 76.60        2.604668\n",
       "NCT OF DELHI            86.30        2.160234\n",
       "WEST BENGAL             77.10        3.385962"
      ]
     },
     "execution_count": 27,
     "metadata": {},
     "output_type": "execute_result"
    }
   ],
   "source": [
    "weightedStateNumbers = weightedStateNumbers[\"Weighted Crime\"]\n",
    "weightedStateNumbers = weightedStateNumbers.loc[[\"ANDHRA PRADESH\", \"MEGHALAYA\", \"KARNATAKA\",\"GOA\",\n",
    "                                                             \"GUJARAT\", \"HARYANA\", \"NCT OF DELHI\", \"WEST BENGAL\"]]\n",
    "literacyRates = literacyRates.loc[[\"Andhra Pradesh\", \"Meghalaya\", \"Karnataka\",\"Goa\", \"Gujarat\", \"Haryana\", \"NCT of Delhi\", \"West Bengal\"]]\n",
    "literacyRates = literacyRates.set_index([[\"ANDHRA PRADESH\", \"MEGHALAYA\", \"KARNATAKA\",\"GOA\",\n",
    "                                                             \"GUJARAT\", \"HARYANA\", \"NCT OF DELHI\", \"WEST BENGAL\"]])\n",
    "literacyRates[\"Weighted Crime\"] = weightedStateNumbers\n",
    "literacyRates"
   ]
  },
  {
   "cell_type": "code",
   "execution_count": 28,
   "metadata": {},
   "outputs": [
    {
     "data": {
      "text/plain": [
       "(-0.65643869310406189, 0.077052346354637424)"
      ]
     },
     "execution_count": 28,
     "metadata": {},
     "output_type": "execute_result"
    }
   ],
   "source": [
    "# Calcualate the Correlation Coefficient For the Crime and Literacy \n",
    "\n",
    "literacyArray = np.array(literacyRates['Literacy Rate'])\n",
    "crimeArray = np.array(literacyRates['Weighted Crime'])\n",
    "stats.pearsonr(literacyArray, crimeArray)"
   ]
  },
  {
   "cell_type": "markdown",
   "metadata": {},
   "source": [
    "### Conclusion"
   ]
  },
  {
   "cell_type": "markdown",
   "metadata": {},
   "source": [
    "Our null hypothesis is that literacy and crime rate should be negatively correlated: higher education should lead to lesser crimes. \n",
    "Finding out Pearson's correlation co-efficient and the p value, we find that the two variables are indeed negatively correlated. The p value being 0.09 (>0.05) we fail to reject the null hypothesis, leading us to believe that there is indeed some correlation between crimes and literacy. However, this seems to be more of a loose correlation. "
   ]
  },
  {
   "cell_type": "markdown",
   "metadata": {},
   "source": [
    "RESOURCES\n",
    "\n",
    "http://timesofindia.indiatimes.com/city/pune/Sharp-rise-in-crimes-against-women-in-Pune/articleshow/31076736.cms\n",
    "http://timesofindia.indiatimes.com/city/nashik/Nashik-records-sharp-increase-in-crime-against-women/articleshow/31625201.cms\n",
    "http://timesofindia.indiatimes.com/city/delhi/man-held-for-molesting-19-year-old/articleshow/30647617.cms\n",
    "http://timesofindia.indiatimes.com/india/Map-crimes-against-women-High-court/articleshow/31915637.cms\n",
    "http://ibnlive.in.com/news/bank-clerk-arrested-for-raping-woman-on-marriage-pretext/469552-3-236.html\n",
    "http://ibnlive.in.com/news/police-official-booked-for-raping-girl-at-gunpoint-in-aligarh/469553-3-242.html\n",
    "http://ibnlive.in.com/newstopics/crime-against-women.html\n",
    "http://en.wikipedia.org/wiki/2012_Delhi_gang_rape"
   ]
  }
 ],
 "metadata": {
  "kernelspec": {
   "display_name": "Python 3",
   "language": "python",
   "name": "python3"
  },
  "language_info": {
   "codemirror_mode": {
    "name": "ipython",
    "version": 3
   },
   "file_extension": ".py",
   "mimetype": "text/x-python",
   "name": "python",
   "nbconvert_exporter": "python",
   "pygments_lexer": "ipython3",
   "version": "3.6.0"
  }
 },
 "nbformat": 4,
 "nbformat_minor": 1
}
