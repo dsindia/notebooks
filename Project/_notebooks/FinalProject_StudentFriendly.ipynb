{
 "cells": [
  {
   "cell_type": "code",
   "execution_count": null,
   "metadata": {
    "collapsed": true
   },
   "outputs": [],
   "source": [
    "import matplotlib\n",
    "matplotlib.use('Agg')\n",
    "from datascience import Table, predicates\n",
    "%matplotlib inline\n",
    "import matplotlib.pyplot as plt\n",
    "import numpy as np\n",
    "plt.style.use('fivethirtyeight')"
   ]
  },
  {
   "cell_type": "markdown",
   "metadata": {},
   "source": [
    "# Project: Crime In India\n",
    "We've spent the last ten weeks learning a lot about how we can use programming to explore and visualize data. Now it's time to put everything you've learned into practice with a project!"
   ]
  },
  {
   "cell_type": "markdown",
   "metadata": {},
   "source": [
    "The first thing you will do make a table from the raw crime by state csv file. Use the function read_table for Table objects in order to make a table named crime_data."
   ]
  },
  {
   "cell_type": "code",
   "execution_count": null,
   "metadata": {
    "collapsed": true
   },
   "outputs": [],
   "source": [
    "crime_data = Table.read_table('crime_by_state.csv')\n",
    "crime_data"
   ]
  },
  {
   "cell_type": "markdown",
   "metadata": {},
   "source": [
    "How many rows are there in this table? Each row represents a state in India. Can you write a line of code that will output the number of rows?"
   ]
  },
  {
   "cell_type": "markdown",
   "metadata": {},
   "source": [
    "For your reference, call the column with the Grand Total total_crime_by_state and the column with the Total population population_by_state. \n",
    "Then calculate the weighted_crime_by_state using these two, and add this information as a new column to the crime_data table as a column called \"Weighted Crime\". (HINT: use crime_data.with_column!)"
   ]
  },
  {
   "cell_type": "code",
   "execution_count": null,
   "metadata": {
    "collapsed": true
   },
   "outputs": [],
   "source": [
    "total_crime_by_state = crime_data.column(\"Grand Total\")\n",
    "population_by_state = crime_data.column(\"Total population\")\n",
    "weighted_crime_by_state = np.divide(100000.0 * total_crime_by_state, population_by_state)\n",
    "crime_data = crime_data.with_column(\"Weighted Crime\", weighted_crime_by_state)\n",
    "crime_data"
   ]
  },
  {
   "cell_type": "markdown",
   "metadata": {},
   "source": [
    "Next, get the conviction data as a table from the raw conviction data csv file. Recall how you did this for the crime by state table."
   ]
  },
  {
   "cell_type": "code",
   "execution_count": null,
   "metadata": {
    "collapsed": true
   },
   "outputs": [],
   "source": [
    "conviction_data = Table.read_table(\"convictions_by_state.csv\")\n",
    "conviction_data"
   ]
  },
  {
   "cell_type": "markdown",
   "metadata": {},
   "source": [
    "For your reference, call the column with the Persons Acquitted number_acquitted and the column with the Persons Arrested number_arrested. \n",
    "Then calculate the percentage_acquitted using these two, and add this information as a new column to the crime_data table as a column called \"Percentage Acquitted\". Recall how you did this for the crime_data table. (HINT: Use np.divide!)"
   ]
  },
  {
   "cell_type": "code",
   "execution_count": null,
   "metadata": {
    "collapsed": true
   },
   "outputs": [],
   "source": [
    "number_acquitted = conviction_data.column(\"Persons Acquitted\")\n",
    "number_arrested = conviction_data.column(\"Persons Arrested\")\n",
    "percentage_acquitted = np.divide(100*number_acquitted, number_arrested)\n",
    "conviction_data = conviction_data.with_column(\"Percentage Acquitted\", percentage_acquitted)\n",
    "conviction_data"
   ]
  },
  {
   "cell_type": "markdown",
   "metadata": {},
   "source": [
    "Get the literacy data as a table from the raw literacy csv file."
   ]
  },
  {
   "cell_type": "code",
   "execution_count": null,
   "metadata": {
    "collapsed": true
   },
   "outputs": [],
   "source": [
    "literacy_data = Table.read_table(\"literacy_by_state.csv\")\n",
    "literacy_data"
   ]
  },
  {
   "cell_type": "markdown",
   "metadata": {},
   "source": [
    "Add a column to your literacy data table called Percentage Acquitted in 2012. Use the Percentage Acquitted column from your conviction_data table."
   ]
  },
  {
   "cell_type": "code",
   "execution_count": null,
   "metadata": {
    "collapsed": true
   },
   "outputs": [],
   "source": [
    "literacy_data = literacy_data.with_column(\"Percentage Acquitted in 2012\", conviction_data.column(\"Percentage Acquitted\"))\n",
    "literacy_data"
   ]
  }
 ],
 "metadata": {
  "kernelspec": {
   "display_name": "Python 3",
   "language": "python",
   "name": "python3"
  },
  "language_info": {
   "codemirror_mode": {
    "name": "ipython",
    "version": 3
   },
   "file_extension": ".py",
   "mimetype": "text/x-python",
   "name": "python",
   "nbconvert_exporter": "python",
   "pygments_lexer": "ipython3",
   "version": "3.6.0"
  }
 },
 "nbformat": 4,
 "nbformat_minor": 2
}
