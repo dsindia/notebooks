{
 "cells": [
  {
   "cell_type": "markdown",
   "metadata": {},
   "source": [
    "<img src=\"../dsi.png\" style=\"height:128px;\">"
   ]
  },
  {
   "cell_type": "markdown",
   "metadata": {},
   "source": [
    "## Lesson 5: Exercises"
   ]
  },
  {
   "cell_type": "markdown",
   "metadata": {},
   "source": [
<<<<<<< HEAD
    "We've given you a lot of material in the past few sessions. Let's work on a key concept we covered last session: Tables."
=======
    "We've given you a lot of material in the past few sessions, so let's take a break from probability and review some of the Python we learned before, and combine it with our knowledge of basic statistics."
>>>>>>> 718b35d88c2ac3c9927d4635e14c74eb94a19b7b
   ]
  },
  {
   "cell_type": "code",
<<<<<<< HEAD
   "execution_count": null,
=======
   "execution_count": 2,
>>>>>>> 718b35d88c2ac3c9927d4635e14c74eb94a19b7b
   "metadata": {
    "collapsed": true
   },
   "outputs": [],
   "source": [
    "import numpy as np\n",
    "from datascience import *"
   ]
  },
  {
   "cell_type": "markdown",
   "metadata": {},
   "source": [
    "**RCB's Cricket Confusion** \n",
    "\n",
    "Royal Challengers Bangalore finished last in IPL 2017. The coach wants to build a strong team next year to win the trophy by buying the best possible players in the auction. You're a sports analyst whose job is to help him put a team together that's within his budget. There are 3 categories of players with the following costs in crores.\n",
    "Tier 1: 1\n",
    "Tier 2: 0.5\n",
    "Tier 3: 0.25\n",
    " \n",
    "The coach has 9 crores to spend and can purchase 11 to 16 players he wants from this set of 28. Write a function that accepts the coach's input for the number of players he wants that's within his budget.\n",
    "\n",
    "**Return** the players' *total salary* and **print** their *names*.\n",
    "REMEMBER: We refer to the first value in a column with 0!\n",
    "\n",
    "Sample Output: select_players(2, 4, 5)\n",
<<<<<<< HEAD
    "[MS Dhoni, Virat Kohli] \n",
    "[Suresh Raina, Ambati Rayudu, Rohit Sharma, Murali Vijay, Amit Mishra]\n",
    "[Axar Patel, Stuart Binny, Wriddhiman Saha, Mohit Sharma]\n",
=======
    "[MS Dhoni, Virat Kohli], [Suresh Raina, Ambati Rayudu, Rohit Sharma, Murali Vijay, Amit Mishra], [Axar Patel, Stuart Binny, Wriddhiman Saha, Mohit Sharma]\n",
>>>>>>> 9690e2d7e8c6ed4d20f4fbeb93f0ee51786ce8f5
    "5.25\n",
    "\n",
    "Sample Input: select_players(2, 2, 5)\n",
    "Sample Output: Too few players!\n",
    "\n",
    "Sample Input: select_players(4, 3, 14)\n",
    "Sample Output: Too many players!\n",
    "\n",
    "Sample Input: select_players(10, 2, 2)\n",
    "Sample Output: Not enough players in each tier!"
   ]
  },
  {
   "cell_type": "code",
   "execution_count": 4,
   "metadata": {
    "collapsed": false
   },
   "outputs": [
    {
     "data": {
      "text/html": [
       "<table border=\"1\" class=\"dataframe\">\n",
       "    <thead>\n",
       "        <tr>\n",
       "            <th>PLAYER</th> <th>Salary</th> <th>Tier</th>\n",
       "        </tr>\n",
       "    </thead>\n",
       "    <tbody>\n",
       "        <tr>\n",
       "            <td>MS Dhoni         </td> <td>1     </td> <td>1   </td>\n",
       "        </tr>\n",
       "    </tbody>\n",
       "        <tr>\n",
       "            <td>Virat Kohli      </td> <td>1     </td> <td>1   </td>\n",
       "        </tr>\n",
       "    </tbody>\n",
       "        <tr>\n",
       "            <td>Ajinkya Rahan    </td> <td>1     </td> <td>1   </td>\n",
       "        </tr>\n",
       "    </tbody>\n",
       "        <tr>\n",
       "            <td>Ravi Ashwin      </td> <td>1     </td> <td>1   </td>\n",
       "        </tr>\n",
       "    </tbody>\n",
       "        <tr>\n",
       "            <td>Suresh Raina     </td> <td>0.5   </td> <td>2   </td>\n",
       "        </tr>\n",
       "    </tbody>\n",
       "        <tr>\n",
       "            <td>Ambati Rayudu    </td> <td>0.5   </td> <td>2   </td>\n",
       "        </tr>\n",
       "    </tbody>\n",
       "        <tr>\n",
       "            <td>Rohit Sharma     </td> <td>0.5   </td> <td>2   </td>\n",
       "        </tr>\n",
       "    </tbody>\n",
       "        <tr>\n",
       "            <td>Murali Vijay     </td> <td>0.5   </td> <td>2   </td>\n",
       "        </tr>\n",
       "    </tbody>\n",
       "        <tr>\n",
       "            <td>Shikhar Dhawan   </td> <td>0.5   </td> <td>2   </td>\n",
       "        </tr>\n",
       "    </tbody>\n",
       "        <tr>\n",
       "            <td>Bhuvneshwar Kumar</td> <td>0.5   </td> <td>2   </td>\n",
       "        </tr>\n",
       "    </tbody>\n",
       "        <tr>\n",
       "            <td>Umesh Yadav      </td> <td>0.5   </td> <td>2   </td>\n",
       "        </tr>\n",
       "    </tbody>\n",
       "        <tr>\n",
       "            <td>Ishant Sharma    </td> <td>0.5   </td> <td>2   </td>\n",
       "        </tr>\n",
       "    </tbody>\n",
       "        <tr>\n",
       "            <td>Cheteshwar Pujara</td> <td>0.5   </td> <td>2   </td>\n",
       "        </tr>\n",
       "    </tbody>\n",
       "        <tr>\n",
       "            <td>Mohammed Shami   </td> <td>0.5   </td> <td>2   </td>\n",
       "        </tr>\n",
       "    </tbody>\n",
       "        <tr>\n",
       "            <td>Amit Mishra      </td> <td>0.25  </td> <td>3   </td>\n",
       "        </tr>\n",
       "    </tbody>\n",
       "        <tr>\n",
       "            <td>Axar Patel       </td> <td>0.25  </td> <td>3   </td>\n",
       "        </tr>\n",
       "    </tbody>\n",
       "        <tr>\n",
       "            <td>Stuart Binny     </td> <td>0.25  </td> <td>3   </td>\n",
       "        </tr>\n",
       "    </tbody>\n",
       "        <tr>\n",
       "            <td>Wriddhiman Saha  </td> <td>0.25  </td> <td>3   </td>\n",
       "        </tr>\n",
       "    </tbody>\n",
       "        <tr>\n",
       "            <td>Mohit Sharma     </td> <td>0.25  </td> <td>3   </td>\n",
       "        </tr>\n",
       "    </tbody>\n",
       "        <tr>\n",
       "            <td>Vinay Kumar      </td> <td>0.25  </td> <td>3   </td>\n",
       "        </tr>\n",
       "    </tbody>\n",
       "        <tr>\n",
       "            <td>Mohit Sharma     </td> <td>0.25  </td> <td>3   </td>\n",
       "        </tr>\n",
       "    </tbody>\n",
       "        <tr>\n",
       "            <td>Varun Aaron      </td> <td>0.25  </td> <td>3   </td>\n",
       "        </tr>\n",
       "    </tbody>\n",
       "        <tr>\n",
       "            <td>Karn Sharma      </td> <td>0.25  </td> <td>3   </td>\n",
       "        </tr>\n",
       "    </tbody>\n",
       "        <tr>\n",
       "            <td>Ravindra Jadeja  </td> <td>0.25  </td> <td>3   </td>\n",
       "        </tr>\n",
       "    </tbody>\n",
       "        <tr>\n",
       "            <td>KL Rahul         </td> <td>0.25  </td> <td>3   </td>\n",
       "        </tr>\n",
       "    </tbody>\n",
       "        <tr>\n",
       "            <td>Dhawal Kulkarni  </td> <td>0.25  </td> <td>3   </td>\n",
       "        </tr>\n",
       "    </tbody>\n",
       "        <tr>\n",
       "            <td>Harbhajan Singh  </td> <td>0.25  </td> <td>3   </td>\n",
       "        </tr>\n",
       "    </tbody>\n",
       "        <tr>\n",
       "            <td>S Aravind        </td> <td>0.25  </td> <td>3   </td>\n",
       "        </tr>\n",
       "    </tbody>\n",
       "</table>"
      ],
      "text/plain": [
       "<IPython.core.display.HTML object>"
      ]
     },
     "metadata": {},
     "output_type": "display_data"
    }
   ],
   "source": [
    "players = Table().read_table(\"cricket_tiers.csv\")\n",
    "#Source: http://www.totalsportek.com/cricket/indian-player-salaries-central-contracts-2015/\n",
    "players.show()"
   ]
  },
  {
<<<<<<< HEAD
=======
   "cell_type": "markdown",
   "metadata": {},
   "source": [
    "You'll need to find the amount of players in each tier. Let's see if a function can help us out. The table that you create by calling this function will help you write one of the `elif` clauses."
   ]
  },
  {
   "cell_type": "code",
   "execution_count": 3,
   "metadata": {
    "collapsed": true
   },
   "outputs": [
    {
     "data": {
      "text/html": [
       "<table border=\"1\" class=\"dataframe\">\n",
       "    <thead>\n",
       "        <tr>\n",
       "            <th>Tier</th> <th>count</th>\n",
       "        </tr>\n",
       "    </thead>\n",
       "    <tbody>\n",
       "        <tr>\n",
       "            <td>1   </td> <td>4    </td>\n",
       "        </tr>\n",
       "    </tbody>\n",
       "        <tr>\n",
       "            <td>2   </td> <td>10   </td>\n",
       "        </tr>\n",
       "    </tbody>\n",
       "        <tr>\n",
       "            <td>3   </td> <td>14   </td>\n",
       "        </tr>\n",
       "    </tbody>\n",
       "</table>"
      ],
      "text/plain": [
       "Tier | count\n",
       "1    | 4\n",
       "2    | 10\n",
       "3    | 14"
      ]
     },
     "execution_count": 3,
     "metadata": {},
     "output_type": "execute_result"
    }
   ],
   "source": [
    "players.group(\"Tier\")"
   ]
  },
  {
>>>>>>> 718b35d88c2ac3c9927d4635e14c74eb94a19b7b
   "cell_type": "code",
   "execution_count": 18,
   "metadata": {
    "collapsed": false,
    "scrolled": true
   },
   "outputs": [],
   "source": [
<<<<<<< HEAD
    "def select_players(tier_1, tier_2, tier_3):\n",
    "    total_players = tier_1 + tier_2 + tier_3\n",
<<<<<<< HEAD
=======
    "def select_players(t1_count, t2_count, t3_count):\n",
    "    total_players = t1_count + t2_count + t3_count\n",
>>>>>>> 718b35d88c2ac3c9927d4635e14c74eb94a19b7b
    "    t1_cost = 1\n",
    "    t2_cost = 0.5\n",
    "    t3_cost = 0.25\n",
    "    if ______________:\n",
=======
    "    if total_players < 11:\n",
>>>>>>> 9690e2d7e8c6ed4d20f4fbeb93f0ee51786ce8f5
    "        print(\"Too few players!\")\n",
    "    elif total_players > 16:\n",
    "        print(\"Too many players!\")\n",
    "    elif t1_count > ______ or t2_count > ______ or t3_count > _______:\n",
    "        print(\"Not enough players in each tier!\")\n",
    "    else:\n",
<<<<<<< HEAD
    "        \"\"\"\n",
    "        In this line of code, you're going to find players who belong to Tier 1.\n",
    "        The take function allows you to take rows from a table to make a new one. Here, you're going to \n",
    "        access the amount of players from a certain tier. Think of it as a \"select\" function for rows.\n",
    "        \"\"\"\n",
<<<<<<< HEAD
    "        t1 = players._________(\"______\", are.equal_to(_______)).take(range(0, tier_1)).column(\"PLAYER\")\n",
    "        t2 =\n",
    "        t3 = \n",
    "        \n",
=======
    "        t1 = players.where(\"Tier\", are.equal_to(1)).take(range(0, tier_1)).column(\"PLAYER\")\n",
    "        t2 = players.where(\"Tier\", are.equal_to(2)).take(range(0, tier_2)).column(\"PLAYER\")\n",
    "        t3 = players.where(\"Tier\", are.equal_to(3)).take(range(0, tier_3)).column(\"PLAYER\")\n",
    "        print(t1)\n",
    "        print(t2)\n",
    "        print(t3)\n",
    "        #How will you access the players' names using the column() function?\n",
>>>>>>> 9690e2d7e8c6ed4d20f4fbeb93f0ee51786ce8f5
    "        \n",
    "        \n",
    "        total_salary =(len(______)*____)+(len(_______)*______)+(len(_______)*_______)\n",
    "        if total_salary > 100:\n",
=======
    "        t1_names = players._________(\"______\", are.equal_to(_______)).take(range(0, tier_1)).column(\"PLAYER\")\n",
    "        t2_names =\n",
    "        t3_names = \n",
    "        \n",
    "        \n",
    "        \n",
    "        total_salary =(____*____)+(______*______)+(_______*_______)\n",
    "        if total_salary > 9:\n",
>>>>>>> 718b35d88c2ac3c9927d4635e14c74eb94a19b7b
    "            return \"Too expensive! Select a different combination!\"\n",
    "        return total_salary"
   ]
  },
  {
   "cell_type": "markdown",
   "metadata": {},
   "source": [
    "Test out your function here."
   ]
  },
  {
   "cell_type": "code",
   "execution_count": 19,
   "metadata": {
    "collapsed": false
   },
   "outputs": [
    {
     "name": "stdout",
     "output_type": "stream",
     "text": [
      "['MS Dhoni' 'Virat Kohli']\n",
      "['Suresh Raina' 'Ambati Rayudu' 'Rohit Sharma' 'Murali Vijay'\n",
      " 'Shikhar Dhawan' 'Bhuvneshwar Kumar' 'Umesh Yadav']\n",
      "['Amit Mishra' 'Axar Patel' 'Stuart Binny']\n"
     ]
    },
    {
     "data": {
      "text/plain": [
       "array(['Amit Mishra', 'Axar Patel', 'Stuart Binny'], \n",
       "      dtype='<U17')"
      ]
     },
     "execution_count": 19,
     "metadata": {},
     "output_type": "execute_result"
    }
   ],
   "source": [
    "select_players(2, 7, 3)"
   ]
  },
  {
   "cell_type": "markdown",
   "metadata": {},
   "source": [
    "**Building a Better Estimate**\n",
    "\n",
    "Raju the builder has made N measurements. Now, he wants to know the average value of the measurements made. In order to make the average value a better representative of the measurements, before calculating the average, he wants first to remove the highest K and the lowest K measurements. After that, he will calculate the average value among the remaining N - 2K measurements.\n",
    "Could you help Raju find the average value he will get after these manipulations?\n",
    "\n",
    "\n",
    "Sample Input: \n",
    "N - 5 \n",
    "K - 1\n",
    "N values - 2 9 -10 25 1\n",
    "Sample Output: \n",
    "4.00000\n"
   ]
  },
  {
   "cell_type": "code",
   "execution_count": null,
   "metadata": {
    "collapsed": false
   },
   "outputs": [],
   "source": [
    "def new_measurements(n, k, arr):\n",
<<<<<<< HEAD
=======
    "    arr = sort(arr) #This makes sure all the elements are in order before we use our for loop.\n",
>>>>>>> 718b35d88c2ac3c9927d4635e14c74eb94a19b7b
    "    total = _______\n",
    "    for i in range(___, ___):\n",
    "        \n",
    "    return _______ / _________"
   ]
  },
  {
   "cell_type": "markdown",
   "metadata": {},
   "source": [
    "**Aditi’s Career Planning**\n",
    " \n",
    "Aditi can’t decide what field she wants to work in when she grows up! She likes medicine and engineering equally so her father advised her to pick the field that pays the most to an average worker. Aditi has collected tables containing the necessary data on the salaries of professionals in these fields and stored them in 2 unsorted arrays. Can you help her find out which job to pick as per her father’s advice? \n",
    "\n",
    "Hint: use the sort() function.\n",
    "\n"
   ]
  },
  {
   "cell_type": "code",
   "execution_count": null,
   "metadata": {
    "collapsed": true
   },
   "outputs": [],
   "source": [
    "def salary(med, engg):\n",
    "    #In Python, we can define functions inside our own functions. \n",
    "    #This function will compute a certain quantity from each array for you to help you compare the salaries.\n",
    "    #What quantity do you think it is?\n",
    "    def helper(array):\n",
<<<<<<< HEAD
    "        _________________\n",
=======
    "        array = ____________\n",
>>>>>>> 718b35d88c2ac3c9927d4635e14c74eb94a19b7b
    "        length = len(array)\n",
    "        middle = length // __\n",
    "        \n",
    "        if ____%____==___:\n",
    "            return array[___]\n",
    "        else:\n",
<<<<<<< HEAD
    "            return array[___] + array[____ + __]\n",
=======
    "            return (array[___] + array[____ + __]) // 2\n",
>>>>>>> 718b35d88c2ac3c9927d4635e14c74eb94a19b7b
    "        \n",
    "    med_salary = _____________\n",
    "    engg_salary = ____________\n",
    "    #The max() function takes the maximum of all the values you put into it\n",
    "    best_salary = max(___________, ______________) \n",
    "    if best_salary == engg_salary:\n",
    "        print(\"Engineering\")\n",
    "    else:\n",
    "        print(\"Medicine\")\n"
   ]
  },
  {
   "cell_type": "markdown",
   "metadata": {},
   "source": [
    "Now, try to find an array of salaries from these two tables."
   ]
  },
  {
   "cell_type": "code",
<<<<<<< HEAD
   "execution_count": null,
=======
   "execution_count": 5,
>>>>>>> 718b35d88c2ac3c9927d4635e14c74eb94a19b7b
   "metadata": {
    "collapsed": false
   },
   "outputs": [],
   "source": [
    "engg_tbl = Table().read_table(\"engineering_data.csv\")\n",
    "#Source: http://research.aspiringminds.com/resources/#datasets\n",
    "med_tbl = Table().read_table(\"doctor_salaries.csv\")\n",
    "#Source: https://www.glassdoor.com/Salaries/india-doctor-salary-SRCH_IL.0,5_IN115_KO6,12_IP6.htm\n",
<<<<<<< HEAD
    "med_strip = list(map(lambda s : s.replace(\",\",\"\"), doctors.column(\"Salary\")))\n",
    "\n",
    "#This space is for you to see what's inside each table.\n"
   ]
  },
  {
   "cell_type": "code",
   "execution_count": null,
   "metadata": {
    "collapsed": false
   },
   "outputs": [],
   "source": [
    "engg_salaries = __________\n",
=======
    "med_strip = list(map(lambda s : s.replace(\",\",\"\"), med_tbl.column(\"Salary\")))\n",
    "engg_tbl = engg_tbl.take(np.arange(0, med_tbl.num_rows))\n",
>>>>>>> 718b35d88c2ac3c9927d4635e14c74eb94a19b7b
    "#We needed to clean up the table of doctors' salaries so that you could do calculations with it\n",
    "\n",
    "engg_salaries = engg_tbl.column(\"Salary\")\n",
    "med_salaries = np.asarray(med_strip).astype(np.float)"
   ]
  },
  {
   "cell_type": "code",
   "execution_count": null,
   "metadata": {
    "collapsed": true
   },
   "outputs": [],
   "source": [
    "#Call your salary function here.\n",
    "\n",
    "__________(________, ___________)"
   ]
  },
  {
   "cell_type": "markdown",
   "metadata": {},
   "source": [
    "We hope you got some great practice today! In the next session, we're going to look at how tables can be applied when we're looking at probability."
   ]
  }
 ],
 "metadata": {
  "kernelspec": {
   "display_name": "Python 3",
   "language": "python",
   "name": "python3"
  },
  "language_info": {
   "codemirror_mode": {
    "name": "ipython",
    "version": 3
   },
   "file_extension": ".py",
   "mimetype": "text/x-python",
   "name": "python",
   "nbconvert_exporter": "python",
   "pygments_lexer": "ipython3",
   "version": "3.6.0"
  }
 },
 "nbformat": 4,
 "nbformat_minor": 2
}
