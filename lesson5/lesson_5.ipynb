{
 "cells": [
  {
   "cell_type": "markdown",
   "metadata": {},
   "source": [
    "<img src=\"../dsi.png\" style=\"height:128px;\">"
   ]
  },
  {
   "cell_type": "markdown",
   "metadata": {},
   "source": [
    "## Lesson 5: Exercises"
   ]
  },
  {
   "cell_type": "markdown",
   "metadata": {},
   "source": [
<<<<<<< HEAD
    "We've given you a lot of material in the past few sessions. Let's work on a key concept we covered last session: Tables."
=======
    "We've given you a lot of material in the past few sessions, so let's take a break from probability and review some of the Python we learned before, and combine it with our knowledge of basic statistics."
>>>>>>> 718b35d88c2ac3c9927d4635e14c74eb94a19b7b
   ]
  },
  {
   "cell_type": "code",
<<<<<<< HEAD
<<<<<<< HEAD
   "execution_count": null,
=======
   "execution_count": 2,
>>>>>>> 718b35d88c2ac3c9927d4635e14c74eb94a19b7b
=======
   "execution_count": 2,
>>>>>>> 9690e2d7e8c6ed4d20f4fbeb93f0ee51786ce8f5
   "metadata": {
    "collapsed": true
   },
   "outputs": [],
   "source": [
    "import numpy as np\n",
    "from datascience import *"
   ]
  },
  {
   "cell_type": "markdown",
   "metadata": {},
   "source": [
    "**RCB's Cricket Confusion** \n",
    "\n",
    "Royal Challengers Bangalore finished last in IPL 2017. The coach wants to build a strong team next year to win the trophy by buying the best possible players in the auction. You're a sports analyst whose job is to help him put a team together that's within his budget. There are 3 categories of players with the following costs in crores.\n",
    "Tier 1: 1\n",
    "Tier 2: 0.5\n",
    "Tier 3: 0.25\n",
    " \n",
    "The coach has 9 crores to spend and can purchase 11 to 16 players he wants from this set of 28. Write a function that accepts the coach's input for the number of players he wants that's within his budget.\n",
    "\n",
    "**Return** the players' *total salary* and **print** their *names*.\n",
    "REMEMBER: We refer to the first value in a column with 0!\n",
    "\n",
    "Sample Output: select_players(2, 4, 5)\n",
<<<<<<< HEAD
    "[MS Dhoni, Virat Kohli] \n",
    "[Suresh Raina, Ambati Rayudu, Rohit Sharma, Murali Vijay, Amit Mishra]\n",
    "[Axar Patel, Stuart Binny, Wriddhiman Saha, Mohit Sharma]\n",
=======
    "[MS Dhoni, Virat Kohli], [Suresh Raina, Ambati Rayudu, Rohit Sharma, Murali Vijay, Amit Mishra], [Axar Patel, Stuart Binny, Wriddhiman Saha, Mohit Sharma]\n",
>>>>>>> 9690e2d7e8c6ed4d20f4fbeb93f0ee51786ce8f5
    "5.25\n",
    "\n",
    "Sample Input: select_players(2, 2, 5)\n",
    "Sample Output: Too few players!\n",
    "\n",
    "Sample Input: select_players(4, 3, 14)\n",
    "Sample Output: Too many players!\n",
    "\n",
    "Sample Input: select_players(10, 2, 2)\n",
    "Sample Output: Not enough players in each tier!"
   ]
  },
  {
   "cell_type": "code",
   "execution_count": 47,
   "metadata": {
    "collapsed": false
   },
   "outputs": [
    {
     "data": {
      "text/html": [
       "<table border=\"1\" class=\"dataframe\">\n",
       "    <thead>\n",
       "        <tr>\n",
       "            <th>PLAYER</th> <th>Salary</th> <th>Tier</th>\n",
       "        </tr>\n",
       "    </thead>\n",
       "    <tbody>\n",
       "        <tr>\n",
       "            <td>MS Dhoni         </td> <td>1     </td> <td>1   </td>\n",
       "        </tr>\n",
       "    </tbody>\n",
       "        <tr>\n",
       "            <td>Virat Kohli      </td> <td>1     </td> <td>1   </td>\n",
       "        </tr>\n",
       "    </tbody>\n",
       "        <tr>\n",
       "            <td>Ajinkya Rahan    </td> <td>1     </td> <td>1   </td>\n",
       "        </tr>\n",
       "    </tbody>\n",
       "        <tr>\n",
       "            <td>Ravi Ashwin      </td> <td>1     </td> <td>1   </td>\n",
       "        </tr>\n",
       "    </tbody>\n",
       "        <tr>\n",
       "            <td>Suresh Raina     </td> <td>0.5   </td> <td>2   </td>\n",
       "        </tr>\n",
       "    </tbody>\n",
       "        <tr>\n",
       "            <td>Ambati Rayudu    </td> <td>0.5   </td> <td>2   </td>\n",
       "        </tr>\n",
       "    </tbody>\n",
       "        <tr>\n",
       "            <td>Rohit Sharma     </td> <td>0.5   </td> <td>2   </td>\n",
       "        </tr>\n",
       "    </tbody>\n",
       "        <tr>\n",
       "            <td>Murali Vijay     </td> <td>0.5   </td> <td>2   </td>\n",
       "        </tr>\n",
       "    </tbody>\n",
       "        <tr>\n",
       "            <td>Shikhar Dhawan   </td> <td>0.5   </td> <td>2   </td>\n",
       "        </tr>\n",
       "    </tbody>\n",
       "        <tr>\n",
       "            <td>Bhuvneshwar Kumar</td> <td>0.5   </td> <td>2   </td>\n",
       "        </tr>\n",
       "    </tbody>\n",
       "        <tr>\n",
       "            <td>Umesh Yadav      </td> <td>0.5   </td> <td>2   </td>\n",
       "        </tr>\n",
       "    </tbody>\n",
       "        <tr>\n",
       "            <td>Ishant Sharma    </td> <td>0.5   </td> <td>2   </td>\n",
       "        </tr>\n",
       "    </tbody>\n",
       "        <tr>\n",
       "            <td>Cheteshwar Pujara</td> <td>0.5   </td> <td>2   </td>\n",
       "        </tr>\n",
       "    </tbody>\n",
       "        <tr>\n",
       "            <td>Mohammed Shami   </td> <td>0.5   </td> <td>2   </td>\n",
       "        </tr>\n",
       "    </tbody>\n",
       "        <tr>\n",
       "            <td>Amit Mishra      </td> <td>0.25  </td> <td>3   </td>\n",
       "        </tr>\n",
       "    </tbody>\n",
       "        <tr>\n",
       "            <td>Axar Patel       </td> <td>0.25  </td> <td>3   </td>\n",
       "        </tr>\n",
       "    </tbody>\n",
       "        <tr>\n",
       "            <td>Stuart Binny     </td> <td>0.25  </td> <td>3   </td>\n",
       "        </tr>\n",
       "    </tbody>\n",
       "        <tr>\n",
       "            <td>Wriddhiman Saha  </td> <td>0.25  </td> <td>3   </td>\n",
       "        </tr>\n",
       "    </tbody>\n",
       "        <tr>\n",
       "            <td>Mohit Sharma     </td> <td>0.25  </td> <td>3   </td>\n",
       "        </tr>\n",
       "    </tbody>\n",
       "        <tr>\n",
       "            <td>Vinay Kumar      </td> <td>0.25  </td> <td>3   </td>\n",
       "        </tr>\n",
       "    </tbody>\n",
       "        <tr>\n",
       "            <td>Mohit Sharma     </td> <td>0.25  </td> <td>3   </td>\n",
       "        </tr>\n",
       "    </tbody>\n",
       "        <tr>\n",
       "            <td>Varun Aaron      </td> <td>0.25  </td> <td>3   </td>\n",
       "        </tr>\n",
       "    </tbody>\n",
       "        <tr>\n",
       "            <td>Karn Sharma      </td> <td>0.25  </td> <td>3   </td>\n",
       "        </tr>\n",
       "    </tbody>\n",
       "        <tr>\n",
       "            <td>Ravindra Jadeja  </td> <td>0.25  </td> <td>3   </td>\n",
       "        </tr>\n",
       "    </tbody>\n",
       "        <tr>\n",
       "            <td>KL Rahul         </td> <td>0.25  </td> <td>3   </td>\n",
       "        </tr>\n",
       "    </tbody>\n",
       "        <tr>\n",
       "            <td>Dhawal Kulkarni  </td> <td>0.25  </td> <td>3   </td>\n",
       "        </tr>\n",
       "    </tbody>\n",
       "        <tr>\n",
       "            <td>Harbhajan Singh  </td> <td>0.25  </td> <td>3   </td>\n",
       "        </tr>\n",
       "    </tbody>\n",
       "        <tr>\n",
       "            <td>S Aravind        </td> <td>0.25  </td> <td>3   </td>\n",
       "        </tr>\n",
       "    </tbody>\n",
       "</table>"
      ],
      "text/plain": [
       "<IPython.core.display.HTML object>"
      ]
     },
     "metadata": {},
     "output_type": "display_data"
    }
   ],
   "source": [
    "players = Table().read_table(\"cricket_tiers.csv\")\n",
    "#Source: http://www.totalsportek.com/cricket/indian-player-salaries-central-contracts-2015/\n",
    "players.show()"
   ]
  },
  {
<<<<<<< HEAD
=======
   "cell_type": "markdown",
   "metadata": {},
   "source": [
    "You'll need to find the amount of players in each tier. Let's see if a function can help us out. The table that you create by calling this function will help you write one of the `elif` clauses."
   ]
  },
  {
   "cell_type": "code",
   "execution_count": 48,
   "metadata": {
    "collapsed": true
   },
   "outputs": [
    {
     "data": {
      "text/html": [
       "<table border=\"1\" class=\"dataframe\">\n",
       "    <thead>\n",
       "        <tr>\n",
       "            <th>Tier</th> <th>count</th>\n",
       "        </tr>\n",
       "    </thead>\n",
       "    <tbody>\n",
       "        <tr>\n",
       "            <td>1   </td> <td>4    </td>\n",
       "        </tr>\n",
       "    </tbody>\n",
       "        <tr>\n",
       "            <td>2   </td> <td>10   </td>\n",
       "        </tr>\n",
       "    </tbody>\n",
       "        <tr>\n",
       "            <td>3   </td> <td>14   </td>\n",
       "        </tr>\n",
       "    </tbody>\n",
       "</table>"
      ],
      "text/plain": [
       "Tier | count\n",
       "1    | 4\n",
       "2    | 10\n",
       "3    | 14"
      ]
     },
     "execution_count": 48,
     "metadata": {},
     "output_type": "execute_result"
    }
   ],
   "source": [
    "players.group(\"Tier\")"
   ]
  },
  {
>>>>>>> 718b35d88c2ac3c9927d4635e14c74eb94a19b7b
   "cell_type": "code",
   "execution_count": 49,
   "metadata": {
    "collapsed": false,
    "scrolled": true
   },
   "outputs": [],
   "source": [
<<<<<<< HEAD
    "def select_players(tier_1, tier_2, tier_3):\n",
    "    total_players = tier_1 + tier_2 + tier_3\n",
<<<<<<< HEAD
=======
    "def select_players(t1_count, t2_count, t3_count):\n",
    "    total_players = t1_count + t2_count + t3_count\n",
>>>>>>> 718b35d88c2ac3c9927d4635e14c74eb94a19b7b
    "    t1_cost = 1\n",
    "    t2_cost = 0.5\n",
    "    t3_cost = 0.25\n",
    "    if ______________:\n",
=======
    "    t1_cost = 1\n",
    "    t2_cost = 0.5\n",
    "    t3_cost = 0.25\n",
    "    if total_players < 11:\n",
>>>>>>> 9690e2d7e8c6ed4d20f4fbeb93f0ee51786ce8f5
    "        print(\"Too few players!\")\n",
    "    elif total_players > 16:\n",
    "        print(\"Too many players!\")\n",
    "    elif t1_count > ______ or t2_count > ______ or t3_count > _______:\n",
    "        print(\"Not enough players in each tier!\")\n",
    "    else:\n",
<<<<<<< HEAD
    "        \"\"\"\n",
    "        In this line of code, you're going to find players who belong to Tier 1.\n",
    "        The take function allows you to take rows from a table to make a new one. Here, you're going to \n",
    "        access the amount of players from a certain tier. Think of it as a \"select\" function for rows.\n",
    "        \"\"\"\n",
<<<<<<< HEAD
    "        t1 = players._________(\"______\", are.equal_to(_______)).take(range(0, tier_1)).column(\"PLAYER\")\n",
    "        t2 =\n",
    "        t3 = \n",
    "        \n",
    "        \n",
    "        \n",
    "        total_salary =(len(______)*____)+(len(_______)*______)+(len(_______)*_______)\n",
=======
    "        t1_names = players._________(\"______\", are.equal_to(_______)).take(range(0, tier_1)).column(\"PLAYER\")\n",
    "        t2_names =\n",
    "        t3_names = \n",
    "        \n",
    "        \n",
    "        \n",
    "        total_salary =(____*____)+(______*______)+(_______*_______)\n",
>>>>>>> 718b35d88c2ac3c9927d4635e14c74eb94a19b7b
    "        if total_salary > 9:\n",
=======
    "        t1 = players.where(\"Tier\", are.equal_to(1)).take(range(0, tier_1)).column(\"PLAYER\")\n",
    "        t2 = players.where(\"Tier\", are.equal_to(2)).take(range(0, tier_2)).column(\"PLAYER\")\n",
    "        t3 = players.where(\"Tier\", are.equal_to(3)).take(range(0, tier_3)).column(\"PLAYER\")\n",
    "        print(t1)\n",
    "        print(t2)\n",
    "        print(t3)\n",
    "        \n",
    "        total_salary = \n",
    "        if total_salary > 10:\n",
>>>>>>> 9690e2d7e8c6ed4d20f4fbeb93f0ee51786ce8f5
    "            return \"Too expensive! Select a different combination!\"\n",
    "        return total_salary"
   ]
  },
  {
   "cell_type": "markdown",
   "metadata": {},
   "source": [
    "Test out your function here."
   ]
  },
  {
   "cell_type": "code",
   "execution_count": 50,
   "metadata": {
    "collapsed": false
   },
   "outputs": [
    {
     "name": "stdout",
     "output_type": "stream",
     "text": [
      "['MS Dhoni' 'Virat Kohli' 'Ajinkya Rahan' 'Ravi Ashwin']\n",
      "['Suresh Raina' 'Ambati Rayudu' 'Rohit Sharma' 'Murali Vijay'\n",
      " 'Shikhar Dhawan' 'Bhuvneshwar Kumar' 'Umesh Yadav' 'Ishant Sharma'\n",
      " 'Cheteshwar Pujara' 'Mohammed Shami']\n",
      "['Amit Mishra' 'Axar Patel']\n"
     ]
    },
    {
     "data": {
      "text/plain": [
       "9.5"
      ]
     },
     "execution_count": 50,
     "metadata": {},
     "output_type": "execute_result"
    }
   ],
   "source": [
    "select_players(4, 10, 2)"
   ]
  },
  {
   "cell_type": "markdown",
   "metadata": {},
   "source": [
    "**Building a Better Estimate**\n",
    "\n",
    "Raju the builder has made N measurements. Now, he wants to know the average value of the measurements made. In order to make the average value a better representative of the measurements, before calculating the average, he wants first to remove the highest K and the lowest K measurements. After that, he will calculate the average value among the remaining N - 2K measurements.\n",
    "Could you help Raju find the average value he will get after these manipulations?\n",
    "\n",
    "\n",
    "Sample Input: \n",
    "N: 5 \n",
    "K: 1\n",
    "arr: [- 2 9 -10 25 1]\n",
    "Sample Output: \n",
    "8.00000\n"
   ]
  },
  {
   "cell_type": "code",
   "execution_count": 61,
   "metadata": {
    "collapsed": false
   },
   "outputs": [
    {
     "name": "stdout",
     "output_type": "stream",
     "text": [
      "9\n",
      "-10\n",
      "25\n"
     ]
    },
    {
     "data": {
      "text/plain": [
       "8.0"
      ]
     },
     "execution_count": 61,
     "metadata": {},
     "output_type": "execute_result"
    }
   ],
   "source": [
    "def new_measurements(n, k, arr):\n",
<<<<<<< HEAD
<<<<<<< HEAD
=======
    "    arr = sort(arr) #This makes sure all the elements are in order before we use our for loop.\n",
>>>>>>> 718b35d88c2ac3c9927d4635e14c74eb94a19b7b
    "    total = _______\n",
    "    for i in range(___, ___):\n",
    "        \n",
    "    return _______ / _________"
=======
    "    #There is an easier way to do it using list slicing but we haven't taught that\n",
    "    total = 0\n",
    "    for i in range(k, (n - k)):\n",
    "        print(arr[i])\n",
    "        total += arr[i]\n",
    "    return (total / (n - (2 * k)))\n",
    "new_measurements(5, 1, [-2, 9, -10, 25, 1])"
>>>>>>> 9690e2d7e8c6ed4d20f4fbeb93f0ee51786ce8f5
   ]
  },
  {
   "cell_type": "markdown",
   "metadata": {},
   "source": [
    "**Aditi’s Career Planning**\n",
    " \n",
    "Aditi can’t decide what field she wants to work in when she grows up! She likes medicine and engineering equally so her father advised her to pick the field that pays the most to an average worker. Aditi has collected tables containing the necessary data on the salaries of professionals in these fields and stored them in 2 unsorted arrays. Can you help her find out which job to pick as per her father’s advice? \n",
    "\n",
    "Hint: use the np.sort() function.\n",
    "\n"
   ]
  },
  {
   "cell_type": "code",
   "execution_count": 7,
   "metadata": {
    "collapsed": false
   },
   "outputs": [],
   "source": [
    "def salary(med, engg):\n",
    "    #In Python, we can define functions inside our own functions. \n",
    "    #This function will compute a certain quantity from each array for you to help you compare the salaries.\n",
    "    #What quantity do you think it is?\n",
    "    def helper(array):\n",
<<<<<<< HEAD
<<<<<<< HEAD
    "        _________________\n",
=======
    "        array = ____________\n",
>>>>>>> 718b35d88c2ac3c9927d4635e14c74eb94a19b7b
    "        length = len(array)\n",
    "        middle = length // __\n",
    "        \n",
    "        if ____%____==___:\n",
    "            return array[___]\n",
    "        else:\n",
<<<<<<< HEAD
    "            return array[___] + array[____ + __]\n",
=======
    "            return (array[___] + array[____ + __]) // 2\n",
>>>>>>> 718b35d88c2ac3c9927d4635e14c74eb94a19b7b
    "        \n",
    "    med_salary = _____________\n",
    "    engg_salary = ____________\n",
    "    #The max() function takes the maximum of all the values you put into it\n",
    "    best_salary = max(___________, ______________) \n",
=======
    "        np.sort(array)\n",
    "        length = len(array)\n",
    "        midpoint = length // 2\n",
    "        if length % 2 == 1:\n",
    "            return array[midpoint]\n",
    "        else:\n",
    "            return array[midpoint] + array[midpoint + 1]\n",
    "    med_salary = helper(med)\n",
    "    engg_salary = helper(engg)\n",
    "    #The max() function takes the maximum of all the values you put into it\n",
    "    best_salary = max(engg_salary, med_salary) \n",
>>>>>>> 9690e2d7e8c6ed4d20f4fbeb93f0ee51786ce8f5
    "    if best_salary == engg_salary:\n",
    "        print(\"Engineering\")\n",
    "    else:\n",
    "        print(\"Medicine\")\n"
   ]
  },
  {
   "cell_type": "markdown",
   "metadata": {},
   "source": [
    "Now, try to find an array of salaries from these two tables."
   ]
  },
  {
   "cell_type": "code",
<<<<<<< HEAD
<<<<<<< HEAD
   "execution_count": null,
=======
   "execution_count": 5,
>>>>>>> 718b35d88c2ac3c9927d4635e14c74eb94a19b7b
   "metadata": {
    "collapsed": false
   },
   "outputs": [],
=======
   "execution_count": 8,
   "metadata": {
    "collapsed": false
   },
   "outputs": [
    {
     "data": {
      "text/html": [
       "<table border=\"1\" class=\"dataframe\">\n",
       "    <thead>\n",
       "        <tr>\n",
       "            <th>Unnamed: 0</th> <th>ID</th> <th>Salary</th> <th>DOJ</th> <th>DOL</th> <th>Designation</th> <th>JobCity</th> <th>Gender</th> <th>DOB</th> <th>10percentage</th> <th>10board</th> <th>12graduation</th> <th>12percentage</th> <th>12board</th> <th>CollegeID</th> <th>CollegeTier</th> <th>Degree</th> <th>Specialization</th> <th>collegeGPA</th> <th>CollegeCityID</th> <th>CollegeCityTier</th> <th>CollegeState</th> <th>GraduationYear</th> <th>English</th> <th>Logical</th> <th>Quant</th> <th>Domain</th> <th>ComputerProgramming</th> <th>ElectronicsAndSemicon</th> <th>ComputerScience</th> <th>MechanicalEngg</th> <th>ElectricalEngg</th> <th>TelecomEngg</th> <th>CivilEngg</th> <th>conscientiousness</th> <th>agreeableness</th> <th>extraversion</th> <th>nueroticism</th> <th>openess_to_experience</th>\n",
       "        </tr>\n",
       "    </thead>\n",
       "    <tbody>\n",
       "        <tr>\n",
       "            <td>train     </td> <td>203097 </td> <td>420000 </td> <td>6/1/12 0:00</td> <td>present    </td> <td>senior quality engineer </td> <td>Bangalore</td> <td>f     </td> <td>2/19/90 0:00</td> <td>84.3        </td> <td>board ofsecondary education,ap</td> <td>2007        </td> <td>95.8        </td> <td>board of intermediate education,ap</td> <td>1141     </td> <td>2          </td> <td>B.Tech/B.E.</td> <td>computer engineering                     </td> <td>78        </td> <td>1141         </td> <td>0              </td> <td>Andhra Pradesh</td> <td>2011          </td> <td>515    </td> <td>585    </td> <td>525  </td> <td>0.635979</td> <td>445                </td> <td>-1                   </td> <td>-1             </td> <td>-1            </td> <td>-1            </td> <td>-1         </td> <td>-1       </td> <td>0.9737           </td> <td>0.8128       </td> <td>0.5269      </td> <td>1.3549     </td> <td>-0.4455              </td>\n",
       "        </tr>\n",
       "    </tbody>\n",
       "        <tr>\n",
       "            <td>train     </td> <td>579905 </td> <td>500000 </td> <td>9/1/13 0:00</td> <td>present    </td> <td>assistant manager       </td> <td>Indore   </td> <td>m     </td> <td>10/4/89 0:00</td> <td>85.4        </td> <td>cbse                          </td> <td>2007        </td> <td>85          </td> <td>cbse                              </td> <td>5807     </td> <td>2          </td> <td>B.Tech/B.E.</td> <td>electronics and communication engineering</td> <td>70.06     </td> <td>5807         </td> <td>0              </td> <td>Madhya Pradesh</td> <td>2012          </td> <td>695    </td> <td>610    </td> <td>780  </td> <td>0.960603</td> <td>-1                 </td> <td>466                  </td> <td>-1             </td> <td>-1            </td> <td>-1            </td> <td>-1         </td> <td>-1       </td> <td>-0.7335          </td> <td>0.3789       </td> <td>1.2396      </td> <td>-0.1076    </td> <td>0.8637               </td>\n",
       "        </tr>\n",
       "    </tbody>\n",
       "        <tr>\n",
       "            <td>train     </td> <td>810601 </td> <td>325000 </td> <td>6/1/14 0:00</td> <td>present    </td> <td>systems engineer        </td> <td>Chennai  </td> <td>f     </td> <td>8/3/92 0:00 </td> <td>85          </td> <td>cbse                          </td> <td>2010        </td> <td>68.2        </td> <td>cbse                              </td> <td>64       </td> <td>2          </td> <td>B.Tech/B.E.</td> <td>information technology                   </td> <td>70        </td> <td>64           </td> <td>0              </td> <td>Uttar Pradesh </td> <td>2014          </td> <td>615    </td> <td>545    </td> <td>370  </td> <td>0.450877</td> <td>395                </td> <td>-1                   </td> <td>-1             </td> <td>-1            </td> <td>-1            </td> <td>-1         </td> <td>-1       </td> <td>0.2718           </td> <td>1.7109       </td> <td>0.1637      </td> <td>-0.8682    </td> <td>0.6721               </td>\n",
       "        </tr>\n",
       "    </tbody>\n",
       "        <tr>\n",
       "            <td>train     </td> <td>267447 </td> <td>1.1e+06</td> <td>7/1/11 0:00</td> <td>present    </td> <td>senior software engineer</td> <td>Gurgaon  </td> <td>m     </td> <td>12/5/89 0:00</td> <td>85.6        </td> <td>cbse                          </td> <td>2007        </td> <td>83.6        </td> <td>cbse                              </td> <td>6920     </td> <td>1          </td> <td>B.Tech/B.E.</td> <td>computer engineering                     </td> <td>74.64     </td> <td>6920         </td> <td>1              </td> <td>Delhi         </td> <td>2011          </td> <td>635    </td> <td>585    </td> <td>625  </td> <td>0.974396</td> <td>615                </td> <td>-1                   </td> <td>-1             </td> <td>-1            </td> <td>-1            </td> <td>-1         </td> <td>-1       </td> <td>0.0464           </td> <td>0.3448       </td> <td>-0.344      </td> <td>-0.4078    </td> <td>-0.9194              </td>\n",
       "        </tr>\n",
       "    </tbody>\n",
       "        <tr>\n",
       "            <td>train     </td> <td>343523 </td> <td>200000 </td> <td>3/1/14 0:00</td> <td>3/1/15 0:00</td> <td>get                     </td> <td>Manesar  </td> <td>m     </td> <td>2/27/91 0:00</td> <td>78          </td> <td>cbse                          </td> <td>2008        </td> <td>76.8        </td> <td>cbse                              </td> <td>11368    </td> <td>2          </td> <td>B.Tech/B.E.</td> <td>electronics and communication engineering</td> <td>73.9      </td> <td>11368        </td> <td>0              </td> <td>Uttar Pradesh </td> <td>2012          </td> <td>545    </td> <td>625    </td> <td>465  </td> <td>0.124502</td> <td>-1                 </td> <td>233                  </td> <td>-1             </td> <td>-1            </td> <td>-1            </td> <td>-1         </td> <td>-1       </td> <td>-0.881           </td> <td>-0.2793      </td> <td>-1.0697     </td> <td>0.09163    </td> <td>-0.1295              </td>\n",
       "        </tr>\n",
       "    </tbody>\n",
       "        <tr>\n",
       "            <td>train     </td> <td>1027655</td> <td>300000 </td> <td>6/1/14 0:00</td> <td>present    </td> <td>system engineer         </td> <td>Hyderabad</td> <td>m     </td> <td>7/2/92 0:00 </td> <td>89.92       </td> <td>state board                   </td> <td>2010        </td> <td>87          </td> <td>state board                       </td> <td>5086     </td> <td>2          </td> <td>B.Tech/B.E.</td> <td>electronics and communication engineering</td> <td>76.32     </td> <td>5086         </td> <td>0              </td> <td>Karnataka     </td> <td>2014          </td> <td>560    </td> <td>555    </td> <td>620  </td> <td>-1      </td> <td>645                </td> <td>-1                   </td> <td>407            </td> <td>-1            </td> <td>-1            </td> <td>-1         </td> <td>-1       </td> <td>-0.3027          </td> <td>-0.6201      </td> <td>-2.2954     </td> <td>-0.7415    </td> <td>-0.8608              </td>\n",
       "        </tr>\n",
       "    </tbody>\n",
       "        <tr>\n",
       "            <td>train     </td> <td>947847 </td> <td>300000 </td> <td>8/1/14 0:00</td> <td>5/1/15 0:00</td> <td>java software engineer  </td> <td>Banglore </td> <td>m     </td> <td>2/1/93 0:00 </td> <td>86.08       </td> <td>state board                   </td> <td>2010        </td> <td>67.5        </td> <td>state board                       </td> <td>314      </td> <td>2          </td> <td>B.Tech/B.E.</td> <td>computer science & engineering           </td> <td>72.98     </td> <td>314          </td> <td>1              </td> <td>Karnataka     </td> <td>2014          </td> <td>590    </td> <td>435    </td> <td>380  </td> <td>0.356536</td> <td>405                </td> <td>-1                   </td> <td>346            </td> <td>-1            </td> <td>-1            </td> <td>-1         </td> <td>-1       </td> <td>1.7081           </td> <td>-0.1054      </td> <td>-1.0379     </td> <td>-2.0092    </td> <td>-1.0872              </td>\n",
       "        </tr>\n",
       "    </tbody>\n",
       "        <tr>\n",
       "            <td>train     </td> <td>912934 </td> <td>400000 </td> <td>7/1/14 0:00</td> <td>7/1/15 0:00</td> <td>mechanical engineer     </td> <td>Bangalore</td> <td>m     </td> <td>5/27/92 0:00</td> <td>92          </td> <td>cbse                          </td> <td>2010        </td> <td>91          </td> <td>cbse                              </td> <td>1757     </td> <td>1          </td> <td>B.Tech/B.E.</td> <td>mechanical engineering                   </td> <td>8.58      </td> <td>1757         </td> <td>0              </td> <td>Tamil Nadu    </td> <td>2016          </td> <td>545    </td> <td>555    </td> <td>590  </td> <td>0.829585</td> <td>-1                 </td> <td>-1                   </td> <td>-1             </td> <td>469           </td> <td>-1            </td> <td>-1         </td> <td>-1       </td> <td>-0.0154          </td> <td>1.2114       </td> <td>0.01        </td> <td>0.1459     </td> <td>1.247                </td>\n",
       "        </tr>\n",
       "    </tbody>\n",
       "        <tr>\n",
       "            <td>train     </td> <td>552574 </td> <td>600000 </td> <td>7/1/13 0:00</td> <td>present    </td> <td>electrical engineer     </td> <td>Noida    </td> <td>m     </td> <td>9/17/91 0:00</td> <td>90          </td> <td>cbse                          </td> <td>2009        </td> <td>91.2        </td> <td>cbse                              </td> <td>13       </td> <td>1          </td> <td>B.Tech/B.E.</td> <td>electronics and electrical engineering   </td> <td>85.03     </td> <td>13           </td> <td>1              </td> <td>Delhi         </td> <td>2013          </td> <td>615    </td> <td>670    </td> <td>530  </td> <td>0.694479</td> <td>735                </td> <td>366                  </td> <td>-1             </td> <td>-1            </td> <td>-1            </td> <td>-1         </td> <td>-1       </td> <td>-0.159           </td> <td>0.5454       </td> <td>-0.6048     </td> <td>-0.7415    </td> <td>-0.2859              </td>\n",
       "        </tr>\n",
       "    </tbody>\n",
       "        <tr>\n",
       "            <td>train     </td> <td>1203363</td> <td>230000 </td> <td>7/1/14 0:00</td> <td>present    </td> <td>project engineer        </td> <td>Kolkata  </td> <td>m     </td> <td>6/13/93 0:00</td> <td>77          </td> <td>cbse                          </td> <td>2010        </td> <td>72.2        </td> <td>cbse                              </td> <td>8640     </td> <td>2          </td> <td>B.Tech/B.E.</td> <td>electronics and communication engineering</td> <td>78        </td> <td>8640         </td> <td>1              </td> <td>West Bengal   </td> <td>2014          </td> <td>605    </td> <td>565    </td> <td>545  </td> <td>0.493596</td> <td>385                </td> <td>324                  </td> <td>-1             </td> <td>-1            </td> <td>-1            </td> <td>-1         </td> <td>-1       </td> <td>-1.308           </td> <td>0.5454       </td> <td>-0.9122     </td> <td>0.9066     </td> <td>0.0973               </td>\n",
       "        </tr>\n",
       "    </tbody>\n",
       "</table>\n",
       "<p>... (3988 rows omitted)</p"
      ],
      "text/plain": [
       "Unnamed: 0 | ID      | Salary  | DOJ         | DOL         | Designation              | JobCity   | Gender | DOB          | 10percentage | 10board                        | 12graduation | 12percentage | 12board                            | CollegeID | CollegeTier | Degree      | Specialization                            | collegeGPA | CollegeCityID | CollegeCityTier | CollegeState   | GraduationYear | English | Logical | Quant | Domain   | ComputerProgramming | ElectronicsAndSemicon | ComputerScience | MechanicalEngg | ElectricalEngg | TelecomEngg | CivilEngg | conscientiousness | agreeableness | extraversion | nueroticism | openess_to_experience\n",
       "train      | 203097  | 420000  | 6/1/12 0:00 | present     | senior quality engineer  | Bangalore | f      | 2/19/90 0:00 | 84.3         | board ofsecondary education,ap | 2007         | 95.8         | board of intermediate education,ap | 1141      | 2           | B.Tech/B.E. | computer engineering                      | 78         | 1141          | 0               | Andhra Pradesh | 2011           | 515     | 585     | 525   | 0.635979 | 445                 | -1                    | -1              | -1             | -1             | -1          | -1        | 0.9737            | 0.8128        | 0.5269       | 1.3549      | -0.4455\n",
       "train      | 579905  | 500000  | 9/1/13 0:00 | present     | assistant manager        | Indore    | m      | 10/4/89 0:00 | 85.4         | cbse                           | 2007         | 85           | cbse                               | 5807      | 2           | B.Tech/B.E. | electronics and communication engineering | 70.06      | 5807          | 0               | Madhya Pradesh | 2012           | 695     | 610     | 780   | 0.960603 | -1                  | 466                   | -1              | -1             | -1             | -1          | -1        | -0.7335           | 0.3789        | 1.2396       | -0.1076     | 0.8637\n",
       "train      | 810601  | 325000  | 6/1/14 0:00 | present     | systems engineer         | Chennai   | f      | 8/3/92 0:00  | 85           | cbse                           | 2010         | 68.2         | cbse                               | 64        | 2           | B.Tech/B.E. | information technology                    | 70         | 64            | 0               | Uttar Pradesh  | 2014           | 615     | 545     | 370   | 0.450877 | 395                 | -1                    | -1              | -1             | -1             | -1          | -1        | 0.2718            | 1.7109        | 0.1637       | -0.8682     | 0.6721\n",
       "train      | 267447  | 1.1e+06 | 7/1/11 0:00 | present     | senior software engineer | Gurgaon   | m      | 12/5/89 0:00 | 85.6         | cbse                           | 2007         | 83.6         | cbse                               | 6920      | 1           | B.Tech/B.E. | computer engineering                      | 74.64      | 6920          | 1               | Delhi          | 2011           | 635     | 585     | 625   | 0.974396 | 615                 | -1                    | -1              | -1             | -1             | -1          | -1        | 0.0464            | 0.3448        | -0.344       | -0.4078     | -0.9194\n",
       "train      | 343523  | 200000  | 3/1/14 0:00 | 3/1/15 0:00 | get                      | Manesar   | m      | 2/27/91 0:00 | 78           | cbse                           | 2008         | 76.8         | cbse                               | 11368     | 2           | B.Tech/B.E. | electronics and communication engineering | 73.9       | 11368         | 0               | Uttar Pradesh  | 2012           | 545     | 625     | 465   | 0.124502 | -1                  | 233                   | -1              | -1             | -1             | -1          | -1        | -0.881            | -0.2793       | -1.0697      | 0.09163     | -0.1295\n",
       "train      | 1027655 | 300000  | 6/1/14 0:00 | present     | system engineer          | Hyderabad | m      | 7/2/92 0:00  | 89.92        | state board                    | 2010         | 87           | state board                        | 5086      | 2           | B.Tech/B.E. | electronics and communication engineering | 76.32      | 5086          | 0               | Karnataka      | 2014           | 560     | 555     | 620   | -1       | 645                 | -1                    | 407             | -1             | -1             | -1          | -1        | -0.3027           | -0.6201       | -2.2954      | -0.7415     | -0.8608\n",
       "train      | 947847  | 300000  | 8/1/14 0:00 | 5/1/15 0:00 | java software engineer   | Banglore  | m      | 2/1/93 0:00  | 86.08        | state board                    | 2010         | 67.5         | state board                        | 314       | 2           | B.Tech/B.E. | computer science & engineering            | 72.98      | 314           | 1               | Karnataka      | 2014           | 590     | 435     | 380   | 0.356536 | 405                 | -1                    | 346             | -1             | -1             | -1          | -1        | 1.7081            | -0.1054       | -1.0379      | -2.0092     | -1.0872\n",
       "train      | 912934  | 400000  | 7/1/14 0:00 | 7/1/15 0:00 | mechanical engineer      | Bangalore | m      | 5/27/92 0:00 | 92           | cbse                           | 2010         | 91           | cbse                               | 1757      | 1           | B.Tech/B.E. | mechanical engineering                    | 8.58       | 1757          | 0               | Tamil Nadu     | 2016           | 545     | 555     | 590   | 0.829585 | -1                  | -1                    | -1              | 469            | -1             | -1          | -1        | -0.0154           | 1.2114        | 0.01         | 0.1459      | 1.247\n",
       "train      | 552574  | 600000  | 7/1/13 0:00 | present     | electrical engineer      | Noida     | m      | 9/17/91 0:00 | 90           | cbse                           | 2009         | 91.2         | cbse                               | 13        | 1           | B.Tech/B.E. | electronics and electrical engineering    | 85.03      | 13            | 1               | Delhi          | 2013           | 615     | 670     | 530   | 0.694479 | 735                 | 366                   | -1              | -1             | -1             | -1          | -1        | -0.159            | 0.5454        | -0.6048      | -0.7415     | -0.2859\n",
       "train      | 1203363 | 230000  | 7/1/14 0:00 | present     | project engineer         | Kolkata   | m      | 6/13/93 0:00 | 77           | cbse                           | 2010         | 72.2         | cbse                               | 8640      | 2           | B.Tech/B.E. | electronics and communication engineering | 78         | 8640          | 1               | West Bengal    | 2014           | 605     | 565     | 545   | 0.493596 | 385                 | 324                   | -1              | -1             | -1             | -1          | -1        | -1.308            | 0.5454        | -0.9122      | 0.9066      | 0.0973\n",
       "... (3988 rows omitted)"
      ]
     },
     "execution_count": 8,
     "metadata": {},
     "output_type": "execute_result"
    }
   ],
>>>>>>> 9690e2d7e8c6ed4d20f4fbeb93f0ee51786ce8f5
   "source": [
    "engg_tbl = Table().read_table(\"engineering_data.csv\")\n",
    "#Source: http://research.aspiringminds.com/resources/#datasets\n",
    "med_tbl = Table().read_table(\"doctor_salaries.csv\")\n",
    "#Source: https://www.glassdoor.com/Salaries/india-doctor-salary-SRCH_IL.0,5_IN115_KO6,12_IP6.htm\n",
<<<<<<< HEAD
    "med_strip = list(map(lambda s : s.replace(\",\",\"\"), doctors.column(\"Salary\")))\n",
    "\n",
    "#This space is for you to see what's inside each table.\n",
    "engineers"
   ]
  },
  {
   "cell_type": "code",
   "execution_count": 9,
   "metadata": {
    "collapsed": false
   },
   "outputs": [],
   "source": [
<<<<<<< HEAD
    "engg_salaries = __________\n",
=======
    "med_strip = list(map(lambda s : s.replace(\",\",\"\"), med_tbl.column(\"Salary\")))\n",
    "engg_tbl = engg_tbl.take(np.arange(0, med_tbl.num_rows))\n",
>>>>>>> 718b35d88c2ac3c9927d4635e14c74eb94a19b7b
=======
    "engg_salaries = engineers.column(\"Salary\")\n",
>>>>>>> 9690e2d7e8c6ed4d20f4fbeb93f0ee51786ce8f5
    "#We needed to clean up the table of doctors' salaries so that you could do calculations with it\n",
    "\n",
    "engg_salaries = engg_tbl.column(\"Salary\")\n",
    "med_salaries = np.asarray(med_strip).astype(np.float)"
   ]
  },
  {
   "cell_type": "code",
<<<<<<< HEAD
   "execution_count": null,
=======
   "execution_count": 10,
>>>>>>> 9690e2d7e8c6ed4d20f4fbeb93f0ee51786ce8f5
   "metadata": {
    "collapsed": false
   },
   "outputs": [
    {
     "name": "stdout",
     "output_type": "stream",
     "text": [
      "Engineering\n"
     ]
    }
   ],
   "source": [
    "#Call your salary function here.\n",
    "\n",
    "salary(med_salaries, engg_salaries)"
   ]
  },
  {
   "cell_type": "markdown",
   "metadata": {},
   "source": [
    "We hope you got some great practice today! In the next session, we're going to look at how tables can be applied when we're looking at probability."
   ]
  }
 ],
 "metadata": {
  "anaconda-cloud": {},
  "kernelspec": {
   "display_name": "Python [default]",
   "language": "python",
   "name": "python3"
  },
  "language_info": {
   "codemirror_mode": {
    "name": "ipython",
    "version": 3
   },
   "file_extension": ".py",
   "mimetype": "text/x-python",
   "name": "python",
   "nbconvert_exporter": "python",
   "pygments_lexer": "ipython3",
   "version": "3.5.2"
  }
 },
 "nbformat": 4,
 "nbformat_minor": 2
}
