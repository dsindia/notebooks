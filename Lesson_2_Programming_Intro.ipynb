{
 "cells": [
  {
   "cell_type": "markdown",
   "metadata": {},
   "source": [
    "## Lesson 2: Introduction to Statistics and Python Programming"
   ]
  },
  {
   "cell_type": "code",
   "execution_count": 1,
   "metadata": {
    "collapsed": false
   },
   "outputs": [
    {
     "data": {
      "text/plain": [
       "'\\nTODOS: -Mean, Median (Loops, arithmetic, functions)\\n-Populations vs. Samples (Declaring variables?)\\n-Variance and Standard Deviation (Loops, arithmetic, built-in functions, basic intro to lists, good segue to next lesson)\\n'"
      ]
     },
     "execution_count": 1,
     "metadata": {},
     "output_type": "execute_result"
    }
   ],
   "source": [
    "\"\"\"\n",
    "TODOS: -Mean, Median (Loops, arithmetic, functions)\n",
    "-Populations vs. Samples (Declaring variables?)\n",
    "-Variance and Standard Deviation (Loops, arithmetic, built-in functions, basic intro to lists, good segue to next lesson)\n",
    "\"\"\""
   ]
  },
  {
   "cell_type": "markdown",
   "metadata": {},
   "source": [
    "In the last lesson, we saw some cool ways in which computers can do amazing things with data. Today, we're going to be learn a little bit about Python, a computer programming language that's used by these scientists, businesspeople, and engineers, and we'll be using it to practice what we learned earlier in the session."
   ]
  },
  {
   "cell_type": "markdown",
   "metadata": {},
   "source": [
    "**Computer Programming and Programming Languages**"
   ]
  },
  {
   "cell_type": "markdown",
   "metadata": {},
   "source": [
    "*This can probably go in lesson 1*\n",
    "\n",
    "One of the reasons why computers are useful is that they can store and run *programs,* a set of instructions that tell a computer what to do. In fact, you're running a computer program, called a Jupyter Notebook, right now! It's a program that lets you write your own programs, so how cool is that?\n",
    "\n",
    "How can you tell a computer what to do? It doesn't understand Hindi, English, or any of the languages that we speak. This is where programming languages come in. They're how the computer understands what you want it to do. Think of them as the step between what you want to do and how you're going to tell this computer to execute it. You may have heard of languages like Java and C++. Python is just like these. They may look different, but you can write programs to do the same things in different languages, just like we have different words in our spoken languages for the same things."
   ]
  },
  {
   "cell_type": "markdown",
   "metadata": {},
   "source": [
    "**Variables and Data Types in Python**"
   ]
  },
  {
   "cell_type": "markdown",
   "metadata": {},
   "source": [
    "Python can handle several different kinds of data. The most important ones we'll talk about are *integers* (whole numbers, like 0, 1, 2...), *doubles* (decimal numbers), *booleans* (True and False), and *strings* (words between quotation marks like these: \" \")."
   ]
  },
  {
   "cell_type": "markdown",
   "metadata": {},
   "source": [
    "It's a tradition in programming to print the string \"Hello World!\" as your first program. Luckily, Python makes it easy for us to do this. If you ever want to print something, write print(), with whatever you want in between the parentheses. Try printing \"Hello World!\" below."
   ]
  },
  {
   "cell_type": "code",
   "execution_count": 1,
   "metadata": {
    "collapsed": false
   },
   "outputs": [
    {
     "name": "stdout",
     "output_type": "stream",
     "text": [
      "Hello World!\n"
     ]
    }
   ],
   "source": [
    "print(\"Hello World!\"\n",
    "     )"
   ]
  },
  {
   "cell_type": "markdown",
   "metadata": {
    "collapsed": true
   },
   "source": [
    "You've heard of variables in math class before, but they're also an essential part of programming. They allow you to store a value, like a word or number, in the computer's *memory,* and also give it a name, so you can use this value later on in your program. "
   ]
  },
  {
   "cell_type": "markdown",
   "metadata": {},
   "source": [
    "Try setting the variable \"name\" equal to your name. Remember to put your name in quotes, that's how Python will recognize it!"
   ]
  },
  {
   "cell_type": "code",
   "execution_count": null,
   "metadata": {
    "collapsed": false
   },
   "outputs": [],
   "source": [
    "name = "
   ]
  },
  {
   "cell_type": "markdown",
   "metadata": {},
   "source": [
    "Run this code."
   ]
  },
  {
   "cell_type": "code",
   "execution_count": null,
   "metadata": {
    "collapsed": false
   },
   "outputs": [],
   "source": [
    "print(\"Hello\" + name + \"!\")"
   ]
  },
  {
   "cell_type": "markdown",
   "metadata": {},
   "source": [
    "You might have noticed how we used the + sign to add, or *concatenate,* these strings together. This is why the + sign is called an *operator*, it performs an *operation* on strings. This is just like an operation in math, such as addition, subtraction, multiplication, or division."
   ]
  },
  {
   "cell_type": "markdown",
   "metadata": {},
   "source": [
    "Here are some examples of operations on *integers* and *doubles*. Because computers are great with working with big numbers, let's see your computer in action."
   ]
  },
  {
   "cell_type": "code",
   "execution_count": 2,
   "metadata": {
    "collapsed": false
   },
   "outputs": [
    {
     "name": "stdout",
     "output_type": "stream",
     "text": [
      "135179\n",
      "8227011\n",
      "7010999.562381939\n",
      "46.4710422929828\n"
     ]
    }
   ],
   "source": [
    "print(127834 + 7345) # Addition\n",
    "print(8237645 - 10634) #Subtraction\n",
    "print(1234.5678 * 5678.9101112) #Multiplication\n",
    "print(341345.234028 / 7345.332)"
   ]
  },
  {
   "cell_type": "markdown",
   "metadata": {
    "collapsed": true
   },
   "source": [
    "A few different data types are called integers, doubles (float in python), booleans, and strings. Integers are used to hold any type of number that has no decimals (ex: 1,2,3,4). Doubles are used to hold any kind of number with decimals (ex: 1.2,2.2,1.2). Booleans are used to hold True or False vales (ex: 0=False, 1=True, nil=False). Strings are used to hold any kind of normal letters or numbers. \n",
    "\n",
    "Here are some examples: "
   ]
  },
  {
   "cell_type": "code",
   "execution_count": 3,
   "metadata": {
    "collapsed": false
   },
   "outputs": [
    {
     "data": {
      "text/plain": [
       "int"
      ]
     },
     "execution_count": 3,
     "metadata": {},
     "output_type": "execute_result"
    }
   ],
   "source": [
    "type(212412)"
   ]
  },
  {
   "cell_type": "code",
   "execution_count": 4,
   "metadata": {
    "collapsed": false
   },
   "outputs": [
    {
     "data": {
      "text/plain": [
       "float"
      ]
     },
     "execution_count": 4,
     "metadata": {},
     "output_type": "execute_result"
    }
   ],
   "source": [
    "type(2.21)"
   ]
  },
  {
   "cell_type": "code",
   "execution_count": 5,
   "metadata": {
    "collapsed": false
   },
   "outputs": [
    {
     "data": {
      "text/plain": [
       "bool"
      ]
     },
     "execution_count": 5,
     "metadata": {},
     "output_type": "execute_result"
    }
   ],
   "source": [
    "type(True)\n"
   ]
  },
  {
   "cell_type": "code",
   "execution_count": 8,
   "metadata": {
    "collapsed": false
   },
   "outputs": [
    {
     "data": {
      "text/plain": [
       "bool"
      ]
     },
     "execution_count": 8,
     "metadata": {},
     "output_type": "execute_result"
    }
   ],
   "source": [
    "type(False)"
   ]
  },
  {
   "cell_type": "code",
   "execution_count": 9,
   "metadata": {
    "collapsed": false
   },
   "outputs": [
    {
     "data": {
      "text/plain": [
       "str"
      ]
     },
     "execution_count": 9,
     "metadata": {},
     "output_type": "execute_result"
    }
   ],
   "source": [
    "type(\"hello\")"
   ]
  },
  {
   "cell_type": "markdown",
   "metadata": {},
   "source": [
    "Now try it for yourself! In the next cell, there will be examples of variables. Fill in the variable \"type_guess\" with the data type you think it is and run the cell. "
   ]
  },
  {
   "cell_type": "code",
   "execution_count": 46,
   "metadata": {
    "collapsed": false
   },
   "outputs": [
    {
     "name": "stdout",
     "output_type": "stream",
     "text": [
      "Your answer: ####\n",
      "Correct answer:\n"
     ]
    },
    {
     "data": {
      "text/plain": [
       "str"
      ]
     },
     "execution_count": 46,
     "metadata": {},
     "output_type": "execute_result"
    }
   ],
   "source": [
    "data_example=\"Data Science\"\n",
    "example_type=type(data_example)\n",
    "type_guess=\"####\"\n",
    "\n",
    "print(\"Your answer: \" + type_guess)\n",
    "\n",
    "print(\"Correct answer:\")\n",
    "example_type\n"
   ]
  },
  {
   "cell_type": "code",
   "execution_count": null,
   "metadata": {
    "collapsed": true
   },
   "outputs": [],
   "source": []
  },
  {
   "cell_type": "markdown",
   "metadata": {},
   "source": [
    "**The Modulo Operator**"
   ]
  },
  {
   "cell_type": "markdown",
   "metadata": {},
   "source": [
    "To discuss the modulo operator, we're going to introduce the basic idea of modular arithmetic. The operation 7 % 3 in Python is read as '7 mod 3'. In essence, this denotes the remainder when 7 is divided by 3, or 1."
    "Modulos can serve a lot of useful functions in Python--we can quickly determine whether a number is even or odd by checking if it's divisible by two, and go further to see if a number is prime. Let's look at some examples:"
   ]
  },
   {
   "cell_type": "code",
   "execution_count": null,
   "metadata": {
    "collapsed": false
   },
   "outputs": [],
   "source": [
    "print(7 % 2) # Remainder when 7 is divided by 2\n",
    "print(73 % 17) #Remainder when 73 is divided by 17\n",
    "print(4 % 4) #Guess what this one should be\n",
   ]
  },
  {
   "cell_type": "markdown",
   "metadata": {},
   "source": [
    "**Floating Point Numbers and Integers**"
   ]
  },
  {
   "cell_type": "markdown",
   "metadata": {},
   "source": [
    "Sometimes, we can't represent everything we need with whole numbers, or integers. If we need to look at temperature patterns, sometimes we can't get the information in whole numbers. This is where we use floating point numbers. A floating point number is simply a number that includes a decimal, like 7.0 or 3.14. Python can do arithmetic with these as well:"
   ]
  },
   {
   "cell_type": "code",
   "execution_count": null,
   "metadata": {
    "collapsed": false
   },
   "outputs": [],
   "source": [
    "print(17.0 + 24.4) # Floating point addition\n",
    "print(14.4 - 3.0) #Floating point subtraction\n",
    "print(1.1 * 4.5) #Floating point multiplication\n",
   ]
  },
 ],
 "metadata": {
  "kernelspec": {
   "display_name": "Python 3",
   "language": "python",
   "name": "python3"
  },
  "language_info": {
   "codemirror_mode": {
    "name": "ipython",
    "version": 3
   },
   "file_extension": ".py",
   "mimetype": "text/x-python",
   "name": "python",
   "nbconvert_exporter": "python",
   "pygments_lexer": "ipython3",
   "version": "3.6.0"
  }
 },
 "nbformat": 4,
 "nbformat_minor": 2
}
