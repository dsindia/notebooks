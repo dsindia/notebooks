{
 "cells": [
  {
   "cell_type": "markdown",
   "metadata": {},
   "source": [
    "## Lesson 2: Introduction to Statistics and Python Programming"
   ]
  },
  {
   "cell_type": "code",
   "execution_count": 1,
   "metadata": {
    "collapsed": false
   },
   "outputs": [
    {
     "data": {
      "text/plain": [
       "'\\nTODOS: -Mean, Median (Loops, arithmetic, functions)\\n-Populations vs. Samples (Declaring variables?)\\n-Variance and Standard Deviation (Loops, arithmetic, built-in functions, basic intro to lists, good segue to next lesson)\\n'"
      ]
     },
     "execution_count": 1,
     "metadata": {},
     "output_type": "execute_result"
    }
   ],
   "source": [
    "\"\"\"\n",
    "TODOS: -Mean, Median (Loops, arithmetic, functions)\n",
    "-Populations vs. Samples (Declaring variables?)\n",
    "-Variance and Standard Deviation (Loops, arithmetic, built-in functions, basic intro to lists, good segue to next lesson)\n",
    "\"\"\""
   ]
  },
  {
   "cell_type": "markdown",
   "metadata": {},
   "source": [
    "In the last lesson, we saw some cool ways in which computers can do amazing things with data. Today, we're going to be learn a little bit about Python, a computer programming language that's used by these scientists, businesspeople, and engineers, and we'll be using it to practice what we learned earlier in the session."
   ]
  },
  {
   "cell_type": "markdown",
   "metadata": {},
   "source": [
    "**Computer Programming and Programming Languages**"
   ]
  },
  {
   "cell_type": "markdown",
   "metadata": {},
   "source": [
    "One of the reasons why computers are useful is that they can store and run *programs,* a set of instructions that tell a computer what to do. In fact, you're running a computer program, called a Jupyter Notebook, right now! It's a program that lets you write your own programs, so how cool is that?\n",
    "\n",
    "How can you tell a computer what to do? It doesn't understand Hindi, English, or any of the languages that we speak. This is where programming languages come in. They're how the computer understands what you want it to do. Think of them as the step between what you want to do and how you're going to tell this computer to execute it. You may have heard of languages like Java and C++. Python is just like these. They may look different, but you can write programs to do the same things in different languages, just like we have different words in our spoken languages for the same things."
   ]
  },
  {
   "cell_type": "markdown",
   "metadata": {},
   "source": [
    "**Variables and Data Types in Python**"
   ]
  },
  {
   "cell_type": "markdown",
   "metadata": {},
   "source": [
    "Python can handle several different kinds of data. The most important ones we'll talk about are integers (whole numbers, like 0, 1, 2...), doubles (decimal numbers), booleans (True and False), and Strings (words)."
   ]
  },
  {
   "cell_type": "markdown",
   "metadata": {},
   "source": [
    "You can also declare variables in Python. They're just like the variables you've seen in math class, but we can do a lot more than math with them. "
   ]
  },
  {
   "cell_type": "code",
   "execution_count": 3,
   "metadata": {
    "collapsed": false
   },
   "outputs": [
    {
     "data": {
      "text/plain": [
       "'Hello world!'"
      ]
     },
     "execution_count": 3,
     "metadata": {},
     "output_type": "execute_result"
    }
   ],
   "source": []
  },
  {
   "cell_type": "code",
   "execution_count": null,
   "metadata": {
    "collapsed": true
   },
   "outputs": [],
   "source": []
  }
 ],
 "metadata": {
  "kernelspec": {
   "display_name": "Python 3",
   "language": "python",
   "name": "python3"
  },
  "language_info": {
   "codemirror_mode": {
    "name": "ipython",
    "version": 3
   },
   "file_extension": ".py",
   "mimetype": "text/x-python",
   "name": "python",
   "nbconvert_exporter": "python",
   "pygments_lexer": "ipython3",
   "version": "3.6.0"
  }
 },
 "nbformat": 4,
 "nbformat_minor": 2
}
