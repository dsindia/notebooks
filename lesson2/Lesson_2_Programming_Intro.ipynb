{
 "cells": [
  {
   "cell_type": "markdown",
   "metadata": {},
   "source": [
    "## Lesson 2: Introduction to Statistics and Python Programming"
   ]
  },
  {
   "cell_type": "code",
   "execution_count": null,
   "metadata": {
    "collapsed": false
   },
   "outputs": [],
   "source": []
  },
  {
   "cell_type": "markdown",
   "metadata": {},
   "source": [
    "In the last lesson, we saw some cool ways in which computers can do amazing things with data. Today, we're going to be learn a little bit about Python, a computer programming language that's used by these scientists, businesspeople, and engineers, and we'll be using it to practice what we learned earlier in the session."
   ]
  },
  {
   "cell_type": "markdown",
   "metadata": {},
   "source": [
    "**Computer Programming and Programming Languages**"
   ]
  },
  {
   "cell_type": "markdown",
   "metadata": {},
   "source": [
    "\n",
    "One of the reasons why computers are useful is that they can store and run *programs,* a set of instructions that tell a computer what to do. In fact, you're running a computer program, called a Jupyter Notebook, right now! It's a program that lets you write your own programs, so how cool is that?\n",
    "\n",
    "How can you tell a computer what to do? It doesn't understand Hindi, English, or any of the languages that we speak. This is where programming languages come in. They're how the computer understands what you want it to do. Think of them as the step between what you want to do and how you're going to tell this computer to execute it. You may have heard of languages like Java and C++. Python is just like these. They may look different, but you can write programs to do the same things in different languages, just like we have different words in our spoken languages for the same things."
   ]
  },
  {
   "cell_type": "markdown",
   "metadata": {},
   "source": [
    "**Variables and Data Types in Python**"
   ]
  },
  {
   "cell_type": "markdown",
   "metadata": {},
   "source": [
    "Python can handle several different kinds of data. The most important ones we'll talk about are *integers* (whole numbers, like 0, 1, 2...), *doubles* (decimal numbers), *booleans* (True and False), and *strings* (words between quotation marks like these: \" \")."
   ]
  },
  {
   "cell_type": "markdown",
   "metadata": {},
   "source": [
    "It's a tradition in programming to print the string \"Hello World!\" as your first program. Luckily, Python makes it easy for us to do this. If you ever want to print something, write print(), with whatever you want in between the parentheses. Try printing \"Hello World!\" below."
   ]
  },
  {
   "cell_type": "code",
   "execution_count": 2,
   "metadata": {
    "collapsed": false
   },
   "outputs": [
    {
     "name": "stdout",
     "output_type": "stream",
     "text": [
      "Hello World!\n"
     ]
    }
   ],
   "source": [
    "print(\"Hello World!\"\n",
    "     )"
   ]
  },
  {
   "cell_type": "markdown",
   "metadata": {
    "collapsed": true
   },
   "source": [
    "You've heard of variables in math class before, but they're also an essential part of programming. They allow you to store a value, like a word or number, in the computer's *memory,* and also give it a name, so you can use this value later on in your program. "
   ]
  },
  {
   "cell_type": "markdown",
   "metadata": {},
   "source": [
    "Try setting the variable \"name\" equal to your name. Remember to put your name in quotes, that's how Python will recognize it!"
   ]
  },
  {
   "cell_type": "code",
   "execution_count": 3,
   "metadata": {
    "collapsed": false
   },
   "outputs": [],
   "source": [
    "name = \"#####\""
   ]
  },
  {
   "cell_type": "markdown",
   "metadata": {},
   "source": [
    "Run this code."
   ]
  },
  {
   "cell_type": "code",
   "execution_count": 4,
   "metadata": {
    "collapsed": false
   },
   "outputs": [
    {
     "name": "stdout",
     "output_type": "stream",
     "text": [
      "Hello #####!\n"
     ]
    }
   ],
   "source": [
    "print(\"Hello \" + name + \"!\")"
   ]
  },
  {
   "cell_type": "markdown",
   "metadata": {},
   "source": [
    "In the future, you'll notice a lot of the '#' character in Python. In Python, this is what's known as a comment. If you put it in front of a line of code, your code stops working. This can be used for bug testing, writing descriptions for other developers, describing what your code does, and much more. Try it out below!"
   ]
  },
  {
   "cell_type": "code",
   "execution_count": 2,
   "metadata": {
    "collapsed": false
   },
   "outputs": [
    {
     "name": "stdout",
     "output_type": "stream",
     "text": [
      "This is not a comment!\n"
     ]
    }
   ],
   "source": [
    "#print(\"This is a comment!\")\n",
    "#Any code with the '#' in front of it wont' be read by the computer!\n",
    "print(\"This is not a comment!\")"
   ]
  },
  {
   "cell_type": "markdown",
   "metadata": {},
   "source": [
    "You might have noticed how we used the + sign to add, or *concatenate,* these strings together. This is why the + sign is called an *operator*, it performs an *operation* on strings. This is just like an operation in math, such as addition, subtraction, multiplication, or division."
   ]
  },
  {
   "cell_type": "markdown",
   "metadata": {},
   "source": [
    "Here are some examples of operations on *integers* and *doubles*. Because computers are great with working with big numbers, let's see your computer in action."
   ]
  },
  {
   "cell_type": "code",
   "execution_count": 4,
   "metadata": {
    "collapsed": false
   },
   "outputs": [
    {
     "name": "stdout",
     "output_type": "stream",
     "text": [
      "135179\n",
      "8227011\n",
      "7010999.56238\n",
      "46.471042293\n"
     ]
    }
   ],
   "source": [
    "print(127834 + 7345) # Addition\n",
    "print(8237645 - 10634) #Subtraction\n",
    "print(1234.5678 * 5678.9101112) #Multiplication\n",
    "print(341345.234028 / 7345.332)"
   ]
  },
  {
   "cell_type": "markdown",
   "metadata": {
    "collapsed": true
   },
   "source": [
    "A few different data types are called integers, doubles (float in python), booleans, and strings. Integers are used to hold any type of number that has no decimals (ex: 1,2,3,4). Doubles are used to hold any kind of number with decimals (ex: 1.2,2.2,1.2). Booleans are used to hold True or False vales (ex: 0=False, 1=True, nil=False). Strings are used to hold any kind of normal letters or numbers. \n",
    "\n",
    "Here are some examples: "
   ]
  },
  {
   "cell_type": "code",
   "execution_count": 5,
   "metadata": {
    "collapsed": false
   },
   "outputs": [
    {
     "data": {
      "text/plain": [
       "int"
      ]
     },
     "execution_count": 5,
     "metadata": {},
     "output_type": "execute_result"
    }
   ],
   "source": [
    "type(212412)"
   ]
  },
  {
   "cell_type": "code",
   "execution_count": 6,
   "metadata": {
    "collapsed": false
   },
   "outputs": [
    {
     "data": {
      "text/plain": [
       "float"
      ]
     },
     "execution_count": 6,
     "metadata": {},
     "output_type": "execute_result"
    }
   ],
   "source": [
    "type(2.21)"
   ]
  },
  {
   "cell_type": "code",
   "execution_count": 7,
   "metadata": {
    "collapsed": false
   },
   "outputs": [
    {
     "data": {
      "text/plain": [
       "bool"
      ]
     },
     "execution_count": 7,
     "metadata": {},
     "output_type": "execute_result"
    }
   ],
   "source": [
    "type(True)\n"
   ]
  },
  {
   "cell_type": "code",
   "execution_count": 8,
   "metadata": {
    "collapsed": false
   },
   "outputs": [
    {
     "data": {
      "text/plain": [
       "bool"
      ]
     },
     "execution_count": 8,
     "metadata": {},
     "output_type": "execute_result"
    }
   ],
   "source": [
    "type(False)"
   ]
  },
  {
   "cell_type": "code",
   "execution_count": 9,
   "metadata": {
    "collapsed": false
   },
   "outputs": [
    {
     "data": {
      "text/plain": [
       "str"
      ]
     },
     "execution_count": 9,
     "metadata": {},
     "output_type": "execute_result"
    }
   ],
   "source": [
    "type(\"hello\")"
   ]
  },
  {
   "cell_type": "markdown",
   "metadata": {},
   "source": [
    "Now try it for yourself! In the next cell, there will be examples of variables. Fill in the variable \"type_guess\" with the data type you think it is and run the cell. "
   ]
  },
  {
   "cell_type": "code",
   "execution_count": 10,
   "metadata": {
    "collapsed": false
   },
   "outputs": [
    {
     "name": "stdout",
     "output_type": "stream",
     "text": [
      "Your answer: ####\n",
      "Correct answer:\n"
     ]
    },
    {
     "data": {
      "text/plain": [
       "str"
      ]
     },
     "execution_count": 10,
     "metadata": {},
     "output_type": "execute_result"
    }
   ],
   "source": [
    "data_example=\"Data Science\"\n",
    "example_type=type(data_example)\n",
    "type_guess=\"####\"\n",
    "\n",
    "print(\"Your answer: \" + type_guess)\n",
    "\n",
    "print(\"Correct answer:\")\n",
    "example_type\n"
   ]
  },
  {
   "cell_type": "markdown",
   "metadata": {
    "collapsed": true
   },
   "source": [
    "You might be wondering what exactly boolean values do in python. Essentially, a boolean value tells us if something is true or false. Therefore, some expressions can output boolean values. Here are some examples:"
   ]
  },
  {
   "cell_type": "code",
   "execution_count": 11,
   "metadata": {
    "collapsed": false
   },
   "outputs": [
    {
     "data": {
      "text/plain": [
       "True"
      ]
     },
     "execution_count": 11,
     "metadata": {},
     "output_type": "execute_result"
    }
   ],
   "source": [
    "4==4"
   ]
  },
  {
   "cell_type": "code",
   "execution_count": 12,
   "metadata": {
    "collapsed": false
   },
   "outputs": [
    {
     "data": {
      "text/plain": [
       "bool"
      ]
     },
     "execution_count": 12,
     "metadata": {},
     "output_type": "execute_result"
    }
   ],
   "source": [
    "type(4==4)"
   ]
  },
  {
   "cell_type": "code",
   "execution_count": 14,
   "metadata": {
    "collapsed": false
   },
   "outputs": [
    {
     "data": {
      "text/plain": [
       "False"
      ]
     },
     "execution_count": 14,
     "metadata": {},
     "output_type": "execute_result"
    }
   ],
   "source": [
    "4>5"
   ]
  },
  {
   "cell_type": "code",
   "execution_count": 15,
   "metadata": {
    "collapsed": false
   },
   "outputs": [
    {
     "data": {
      "text/plain": [
       "bool"
      ]
     },
     "execution_count": 15,
     "metadata": {},
     "output_type": "execute_result"
    }
   ],
   "source": [
    "type(4>5)"
   ]
  },
  {
   "cell_type": "markdown",
   "metadata": {},
   "source": [
    "As you can see, a comparison of two integer values will output a boolean value. A similar concept can be applied to other data types, but that will be covered later. For now, we will learn exactly why this is important. A very important part of python is the if statement. This statement lets you take a boolean value and if true, compute some action. If it's false, the code in the if will be ignored. \n",
    "\n",
    "The basic syntax looks as such (ignore the hashes):\n",
    "    #if (boolean):\n",
    "        #some code\n",
    "        \n",
    "You'll notice the code below the if is indented. This is very important! In python, the indent is used to separate lines of code. All the code inside any command has to be at the same indent line otherwise python can't read it. In order for python to understand that the action you want the \"if\" to do, you must indent exactly one indent beyond where the \"if\" is. Here are some examples of the \"if\". "
   ]
  },
  {
   "cell_type": "code",
   "execution_count": 16,
   "metadata": {
    "collapsed": false
   },
   "outputs": [
    {
     "name": "stdout",
     "output_type": "stream",
     "text": [
      "4 is equal to four!\n"
     ]
    }
   ],
   "source": [
    "if 4==4:\n",
    "    print(\"4 is equal to four!\")"
   ]
  },
  {
   "cell_type": "code",
   "execution_count": 22,
   "metadata": {
    "collapsed": false
   },
   "outputs": [
    {
     "name": "stdout",
     "output_type": "stream",
     "text": [
      "5 is greater than 4\n"
     ]
    }
   ],
   "source": [
    "example_bool=5>4\n",
    "if example_bool:\n",
    "    print(\"5 is greater than 4\")"
   ]
  },
  {
   "cell_type": "markdown",
   "metadata": {},
   "source": [
    "Notice that it wasn't needed to specify whether or not example_bool was equal,less than, or greater than anything. This is because example_bool is a true statement and python will allow true if statements to execute."
   ]
  },
  {
   "cell_type": "code",
   "execution_count": 21,
   "metadata": {
    "collapsed": false
   },
   "outputs": [
    {
     "name": "stdout",
     "output_type": "stream",
     "text": [
      "4 is greater than 5\n"
     ]
    }
   ],
   "source": [
    "example_bool=4>5\n",
    "if example_bool==False:\n",
    "    print(\"4 is greater than 5\")"
   ]
  },
  {
   "cell_type": "markdown",
   "metadata": {},
   "source": [
    "Notice in the last example, \"4>5\" seems to be a false value, but in the if statement, it is asking if equal to False, so what that statement actually executes to is \"False==False\", which computes to \"True\"! Make sure you watch for tricks such as this."
   ]
  },
  {
   "cell_type": "markdown",
   "metadata": {},
   "source": [
    "Now try it yourself! Fill in the if statement with a true value and watch the code print. "
   ]
  },
  {
   "cell_type": "code",
   "execution_count": 23,
   "metadata": {
    "collapsed": false
   },
   "outputs": [
    {
     "ename": "SyntaxError",
     "evalue": "invalid syntax (<ipython-input-23-c8c83325db9a>, line 1)",
     "output_type": "error",
     "traceback": [
      "\u001b[0;36m  File \u001b[0;32m\"<ipython-input-23-c8c83325db9a>\"\u001b[0;36m, line \u001b[0;32m1\u001b[0m\n\u001b[0;31m    if ######:\u001b[0m\n\u001b[0m              ^\u001b[0m\n\u001b[0;31mSyntaxError\u001b[0m\u001b[0;31m:\u001b[0m invalid syntax\n"
     ]
    }
   ],
   "source": [
    "if ######:\n",
    "    print(\"You have succeeded!\")"
   ]
  },
  {
   "cell_type": "markdown",
   "metadata": {
    "collapsed": true
   },
   "source": [
    "Now use your new skills and apply it to the skills from earlier today. \n",
    "\n",
    "Data analysis is done on all of the salaries of the software engineers at Google. Is this set of software engineers a population or a sample? In the cell below, set the population variable to true if you think it's a population or not. Then fill in the if statement to print, \"This is a sample\" or \"This is a population\"."
   ]
  },
  {
   "cell_type": "code",
   "execution_count": null,
   "metadata": {
    "collapsed": true
   },
   "outputs": [],
   "source": [
    "population=####\n",
    "\n",
    "if ######:\n",
    "    print(#######)"
   ]
  }
 ],
 "metadata": {
  "kernelspec": {
   "display_name": "Python 2",
   "language": "python",
   "name": "python2"
  },
  "language_info": {
   "codemirror_mode": {
    "name": "ipython",
    "version": 2
   },
   "file_extension": ".py",
   "mimetype": "text/x-python",
   "name": "python",
   "nbconvert_exporter": "python",
   "pygments_lexer": "ipython2",
   "version": "2.7.13"
  }
 },
 "nbformat": 4,
 "nbformat_minor": 2
}
