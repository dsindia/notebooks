{
 "cells": [
  {
   "cell_type": "markdown",
   "metadata": {
    "deletable": true,
    "editable": true
   },
   "source": [
    "<img src=\"../dsi.png\" style=\"height:128px;\">"
   ]
  },
  {
   "cell_type": "markdown",
   "metadata": {
    "deletable": true,
    "editable": true
   },
   "source": [
    "## Lesson 2: Introduction to Statistics and Python Programming"
   ]
  },
  {
   "cell_type": "markdown",
   "metadata": {
    "collapsed": false,
    "deletable": true,
    "editable": true
   },
   "source": [
    "In the last lesson, we saw some cool ways in which computers can do amazing things with data. Today, we're going to be learning a little bit about Python, a computer programming language which is used by people of various professions including scientists, business people, and engineers. We will be using it to practice what we learned earlier in the session."
   ]
  },
  {
   "cell_type": "markdown",
   "metadata": {
    "deletable": true,
    "editable": true
   },
   "source": [
    "**Computer Programming and Programming Languages**\n",
    "\n",
    "One of the reasons why computers are useful is that they can store and run *programs*, a set of instructions that tells a computer what to do. In fact, you're running a computer program, called a Jupyter Notebook, right now! It's a program that lets you write your own programs. How cool is that?\n",
    "\n",
    "How can you tell a computer what to do? It doesn't understand Hindi, English, or any of the languages that we speak. This is where programming languages come in. They are the medium through which the computer understands what you want it to do. Think of them as the step between what you want to do and how you're going to tell the computer to do it. You may have heard of languages like Java and C++. Python is just like these. They may look different, but you can write programs to do the same things in different languages, just like we have different words in different spoken languages, for the same things.\n"
   ]
  },
  {
   "cell_type": "markdown",
   "metadata": {
    "deletable": true,
    "editable": true
   },
   "source": [
    "**Data Types and Variables in Python**"
   ]
  },
  {
   "cell_type": "markdown",
   "metadata": {
    "deletable": true,
    "editable": true
   },
   "source": [
    "Python can handle several different types of data. The most important ones that we'll be talking about are *integers*, *doubles*, *booleans* and *strings*.\n",
    "\n",
    "**integers** are whole numbers (without decimals) like 0, 1, 2 ...\n",
    "\n",
    "**doubles** are decimal numbers like 1.234, 56.8, 9.5. In Python, they are termed *float*.\n",
    "\n",
    "**booleans** are special values of only two types: either *True* or *False*. Examples of booleans are 0 = False, *nil* = False, 1 = True. In general, besides 0, all numbers are 'true' values. \n",
    "\n",
    "**strings** are anything placed between quotation marks like these: \" \". E.g \"hello\", \"data\"."
   ]
  },
  {
   "cell_type": "code",
   "execution_count": null,
   "metadata": {
    "collapsed": false,
    "deletable": true,
    "editable": true
   },
   "outputs": [],
   "source": [
    "type(212412)"
   ]
  },
  {
   "cell_type": "code",
   "execution_count": null,
   "metadata": {
    "collapsed": false,
    "deletable": true,
    "editable": true
   },
   "outputs": [],
   "source": [
    "type(9.9999)"
   ]
  },
  {
   "cell_type": "code",
   "execution_count": null,
   "metadata": {
    "collapsed": false,
    "deletable": true,
    "editable": true
   },
   "outputs": [],
   "source": [
    "type(True)"
   ]
  },
  {
   "cell_type": "code",
   "execution_count": null,
   "metadata": {
    "collapsed": false,
    "deletable": true,
    "editable": true
   },
   "outputs": [],
   "source": [
    "type(\"data science\")"
   ]
  },
  {
   "cell_type": "markdown",
   "metadata": {
    "collapsed": true,
    "deletable": true,
    "editable": true
   },
   "source": [
    "It is a tradition in programming to print the string \"Hello World!\" as your first program. Luckily, Python makes it easy for us to do this. If you ever want to print something, write print( ), with whatever you want in between the parentheses.\n",
    "\n",
    "**Q.1: Try printing \"Hello World!\" below.**"
   ]
  },
  {
   "cell_type": "code",
   "execution_count": null,
   "metadata": {
    "collapsed": false,
    "deletable": true,
    "editable": true
   },
   "outputs": [],
   "source": [
    "print(####)"
   ]
  },
  {
   "cell_type": "markdown",
   "metadata": {
    "collapsed": false,
    "deletable": true,
    "editable": true
   },
   "source": [
    "You've heard of *variables* in math class before, but they are also an essential part of programming. They allow you to store a value, like a word or number, in the computer's *memory,* and also give it a name, so you can use this value later on in your program. You can set a variable with the help of an equal sign ( = ). The variable name comes before the equal sign and it's value comes after. In the example below, we are setting the variable *pi* to be equal to 3.142. "
   ]
  },
  {
   "cell_type": "code",
   "execution_count": null,
   "metadata": {
    "collapsed": false,
    "deletable": true,
    "editable": true
   },
   "outputs": [],
   "source": [
    "pi = 3.142\n",
    "pi"
   ]
  },
  {
   "cell_type": "markdown",
   "metadata": {
    "collapsed": false,
    "deletable": true,
    "editable": true
   },
   "source": [
    "**Q.2: Try setting the variable \"name\" to be equal to your name. Remember to put your name in quotes; that's how Python will recognize it!**"
   ]
  },
  {
   "cell_type": "code",
   "execution_count": null,
   "metadata": {
    "collapsed": true,
    "deletable": true,
    "editable": true
   },
   "outputs": [],
   "source": [
    "name = #your name here"
   ]
  },
  {
   "cell_type": "markdown",
   "metadata": {
    "deletable": true,
    "editable": true
   },
   "source": [
    "**Comments**: Above, you may have noticed how the phrase, 'your name here' was italicized, and was also in a different colour from the rest of the code. That's because it is a *comment*. Comments are used to clarify/explain code and are not interpreted by Python. Comments in Python start with the hash character, #, and extend to the end of the physical line. A comment may appear at the start of a line or following whitespace or code. "
   ]
  },
  {
   "cell_type": "markdown",
   "metadata": {},
   "source": [
    "**Q.3: Run this code.**"
   ]
  },
  {
   "cell_type": "code",
   "execution_count": null,
   "metadata": {
    "collapsed": true,
    "deletable": true,
    "editable": true
   },
   "outputs": [],
   "source": [
    "print(\"Hello\" + your name + \"!\")"
   ]
  },
  {
   "cell_type": "markdown",
   "metadata": {
    "collapsed": true,
    "deletable": true,
    "editable": true
   },
   "source": [
    "You might have noticed how we used the + sign to add, or *concatenate,* these strings together. This is why the + sign is called an *operator*, it performs an *operation* on strings. This is just like an operation in math, such as addition, subtraction, multiplication, or division."
   ]
  },
  {
   "cell_type": "markdown",
   "metadata": {
    "deletable": true,
    "editable": true
   },
   "source": [
    "Here are some examples of operations on *integers* and *doubles*. Because computers are great with working with big numbers, let's see your computer in action."
   ]
  },
  {
   "cell_type": "markdown",
   "metadata": {
    "deletable": true,
    "editable": true
   },
   "source": [
    "The text after the \"#\" sign is called a *comment*, which means it doesn't get run. Comments are useful to explain your code."
   ]
  },
  {
   "cell_type": "code",
   "execution_count": null,
   "metadata": {
    "collapsed": false,
    "deletable": true,
    "editable": true
   },
   "outputs": [],
   "source": [
    "print(127834 + 7345) # Addition\n",
    "print(8237645 - 10634) #Subtraction\n",
    "print(1234.5678 * 5678.9101112) #Multiplication\n",
    "print(341345.234028 / 7345.332) #Division"
   ]
  },
  {
   "cell_type": "markdown",
   "metadata": {
    "collapsed": false,
    "deletable": true,
    "editable": true
   },
   "source": [
    "Using our *pi* variable, let's calculate the area of a circle of radius 5 cm."
   ]
  },
  {
   "cell_type": "code",
   "execution_count": null,
   "metadata": {
    "collapsed": false,
    "deletable": true,
    "editable": true
   },
   "outputs": [],
   "source": [
    "pi = 3.142\n",
    "pi * 5 * 5\n"
   ]
  },
  {
   "cell_type": "markdown",
   "metadata": {
    "collapsed": false,
    "deletable": true,
    "editable": true
   },
   "source": [
    "Now that we've learnt about data types and variables, let's test ourselves. \n",
    "\n",
    "**Q.4: In the next cell, there will be examples of variables. Fill in the variable \"type_guess\" with the data type you think it is and run the cell.**"
   ]
  },
  {
   "cell_type": "code",
   "source": [
    "data_example1 = \"Data Science\"\n",
    "example1_type = type(data_example1)\n",
    "type_guess1 = \"______\"\n",
    "\n",
    "print(\"Your answer: \" + type_guess1)\n",
    "\n",
    "print(\"Correct answer:\")\n",
    "example1_type"
   ]
  },
  {
   "cell_type": "markdown",
   "metadata": {},
   "source": [
    "**Q.5:** "
   ]
  },
  {
   "cell_type": "code",
   "execution_count": null,
   "metadata": {
    "collapsed": false,
    "deletable": true,
    "editable": true
   },
   "outputs": [],
   "source": [
    "data_example2 = 2678\n",
    "example2_type = type(data_example2)\n",
    "type_guess2 = \"_______\"\n",
    "\n",
    "print(\"Your answer: \" + type_guess2)\n",
    "\n",
    "print(\"Correct answer: \")\n",
    "example2_type"
   ]
  },
  {
   "cell_type": "markdown",
   "metadata": {},
   "source": [
    "**Q.6:**"
   ]
  },
  {
   "cell_type": "code",
   "execution_count": null,
   "metadata": {
    "collapsed": true,
    "deletable": true,
    "editable": true
   },
   "outputs": [],
   "source": [
    "data_example3 = 0\n",
    "example3_type = type(data_example3)\n",
    "type_guess3 = \"______\"\n",
    "\n",
    "print(\"Your answer:\" + type_guess3)\n",
    "\n",
    "print(\"Correct answer: \")\n",
    "example3_type"
   ]
  },
  {
   "cell_type": "markdown",
   "metadata": {
    "collapsed": true,
    "deletable": true,
    "editable": true
   },
   "source": [
    "You might be wondering what exactly boolean values do in Python. Essentially, a boolean value tells us if something is true or false. Therefore, some expressions can output boolean values. Here are some examples:"
   ]
  },
  {
   "cell_type": "code",
   "execution_count": null,
   "metadata": {
    "collapsed": false,
    "deletable": true,
    "editable": true,
    "scrolled": true
   },
   "outputs": [],
   "source": [
    "4 == 4 #we use two equal signs to check if two things are equal; remember one equal sign is used for setting variables!"
   ]
  },
  {
   "cell_type": "code",
   "execution_count": null,
   "metadata": {
    "collapsed": false,
    "deletable": true,
    "editable": true
   },
   "outputs": [],
   "source": [
    "type(4 == 4)"
   ]
  },
  {
   "cell_type": "code",
   "execution_count": null,
   "metadata": {
    "collapsed": false,
    "deletable": true,
    "editable": true
   },
   "outputs": [],
   "source": [
    "4 > 5"
   ]
  },
  {
   "cell_type": "code",
   "execution_count": null,
   "metadata": {
    "collapsed": false,
    "deletable": true,
    "editable": true
   },
   "outputs": [],
   "source": [
    "type(4 > 5)"
   ]
  },
  {
   "cell_type": "code",
   "execution_count": null,
   "metadata": {
    "collapsed": false,
    "deletable": true,
    "editable": true
   },
   "outputs": [],
   "source": [
    "5 + 1 == 6"
   ]
  },
  {
   "cell_type": "markdown",
   "metadata": {
    "deletable": true,
    "editable": true
   },
   "source": [
    "As you can see, a comparison of two integer values will output a boolean value. A similar concept can be applied to other data types, but that will be covered later. For now, we will learn exactly why this is important. A very important part of Python is the *if-statement*. This statement lets you take a boolean value and if True, compute some action. If it's False, the code under the *if* will be ignored.\n",
    "\n",
    "The basic syntax of an if statement looks like this:\n",
    "\n",
    "                if (boolean):\n",
    "                \n",
    "                    some code\n",
    "\n",
    "You may have noticed that the code below the if is indented. This is very important! In Python, the indent is used to separate lines of code. All the code inside any command has to be at the same indent line otherwise Python can't read it. In order for python to understand that the action you want is for the \"if\" case, you must indent exactly one indent beyond where the \"if\" is. Here are some examples of the \"if\".\n",
    "                    \n"
   ]
  },
  {
   "cell_type": "code",
   "execution_count": null,
   "metadata": {
    "collapsed": false,
    "deletable": true,
    "editable": true
   },
   "outputs": [],
   "source": [
    "if 4 == 4:\n",
    "    print(\"4 is equal to four!\")"
   ]
  },
  {
   "cell_type": "code",
   "execution_count": null,
   "metadata": {
    "collapsed": false,
    "deletable": true,
    "editable": true
   },
   "outputs": [],
   "source": [
    "example_bool = 5 > 4\n",
    "if example_bool:\n",
    "    print(\"5 is greater than 4\")"
   ]
  },
  {
   "cell_type": "markdown",
   "metadata": {
    "deletable": true,
    "editable": true
   },
   "source": [
    "Notice that it wasn't needed to specify whether or not example_bool was equal, less than, or greater than anything. This is because example_bool is a true statement and Python will allow true if-statements to execute."
   ]
  },
  {
   "cell_type": "code",
   "execution_count": null,
   "metadata": {
    "collapsed": false,
    "deletable": true,
    "editable": true
   },
   "outputs": [],
   "source": [
    "example_bool = 4 > 5\n",
    "if example_bool == False:\n",
    "    print(\"4 is greater than 5\")"
   ]
  },
  {
   "cell_type": "markdown",
   "metadata": {
    "deletable": true,
    "editable": true
   },
   "source": [
    "Notice in the last example, \"4 > 5\" seems to be a false value, but in the if-statement, it is asking if the value is equal to False. Thus, what the statement actually executes to is \"False == False\", which computes to \"True\"! Make sure you watch for tricks like this one!\n",
    "\n",
    "\n",
    "**Q.7: Now try it yourself! Fill in the if-statement with a true value and watch the code print.**\n"
   ]
  },
  {
   "cell_type": "code",
   "execution_count": null,
   "metadata": {
    "collapsed": true,
    "deletable": true,
    "editable": true
   },
   "outputs": [],
   "source": [
    "if ___________:\n",
    "    print(\"You have succeeded!\")"
   ]
  },
  {
   "cell_type": "markdown",
   "metadata": {
    "deletable": true,
    "editable": true
   },
   "source": [
    "**Q.8: Set a variable \"mood\" to any number. If \"mood\" is greater than 5, print \"I am glad you are in a good mood today!\"**"
   ]
  },
  {
   "cell_type": "code",
   "execution_count": null,
   "metadata": {
    "collapsed": true,
    "deletable": true,
    "editable": true
   },
   "outputs": [],
   "source": [
    "mood = _______\n",
    "if ________:\n",
    "    print(____________)"
   ]
  },
  {
   "cell_type": "markdown",
   "metadata": {
    "deletable": true,
    "editable": true
   },
   "source": [
    "**Q.9: Your friend got a 92 on his math test. He wants to know if he got an A. Set a variable \"grade\" to your friend's score. If his grade is greater than 90, make the code print \"You got an A!\".**"
    "So far, the \"if\" statements that we've seen have only had one condition. That means, we only checked one boolean variable, and that was it. However, we can actually have any number of \"if\" checks. For example, if we have the score of a student, and we want to check which letter grade corresponds to their score, we could write the following:"
   ]
  },
  {
   "cell_type": "code",
   "execution_count": null,
   "metadata": {
    "collapsed": false,
    "deletable": true,
    "editable": true
   },
   "outputs": [],
   "source": [
    "score = 76\n",
    "if score >= 90:\n",
    "    print(\"A\")\n",
    "elif 80 <= score < 90:\n",
    "    print(\"B\")\n",
    "elif 70 <= score < 80:\n",
    "    print(\"C\")\n",
    "elif 60 <= score < 70:\n",
    "    print(\"D\")\n",
    "else:\n",
    "    print(\"F\")"
   ]
  },
  {
   "cell_type": "markdown",
   "metadata": {
    "deletable": true,
    "editable": true
   },
   "source": [
    "Now use your new skills and apply it to the skills from earlier today:\n",
    "\n",
    "\n",
    "**Q.10: *Data analysis is done on all of the salaries of the software engineers at Google. Is this set of software engineers a population or a sample? In the cell below, set the population variable to true if you think it's a population or not. Then fill in the if statement to print, \"This is a sample\" or \"This is a population\".* **"
   ]
  },
  {
   "cell_type": "markdown",
   "metadata": {
    "deletable": true,
    "editable": true
   },
   "source": [
    "We will build upon these foundational skills that you've learned in today's notebook in the next session. We encourage that you practice these tools on your own; you can do so by creating a blank notebook."
   ]
  }
 ],
 "metadata": {
  "anaconda-cloud": {},
  "kernelspec": {
   "display_name": "Python 3",
   "language": "python",
   "name": "python3"
  },
  "language_info": {
   "codemirror_mode": {
    "name": "ipython",
    "version": 3
   },
   "file_extension": ".py",
   "mimetype": "text/x-python",
   "name": "python",
   "nbconvert_exporter": "python",
   "pygments_lexer": "ipython3",
   "version": "3.6.0"
  }
 },
 "nbformat": 4,
 "nbformat_minor": 2
}
