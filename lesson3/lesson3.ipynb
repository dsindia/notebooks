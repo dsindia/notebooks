{
 "cells": [
  {
   "cell_type": "markdown",
   "metadata": {},
   "source": [
    "## Lesson 3: Intro to Statistics (Part 2), Python Wrap-Up, and Tables"
   ]
  },
  {
   "cell_type": "markdown",
   "metadata": {},
   "source": [
    "On the worksheet, we learned a bit more about standard deviation and discovered a couple ways to compare individual points in our dataset to one another. Now, let's discover how we can use Python to process data. Along the way, we'll apply what we learned on the worksheet with these new Python tools."
   ]
  },
  {
   "cell_type": "markdown",
   "metadata": {
    "collapsed": true
   },
   "source": [
    "## Functions"
   ]
  },
  {
   "cell_type": "markdown",
   "metadata": {},
   "source": [
    "You may be familiar with what *functions* are from your math class, where you learnt that a function takes in input value(s) and reports an output value. Functions in programming are the same! They are given an *input*, or many inputs, do something (or multiple things) to these inputs, and eventually yield an *output*, or result. The function contains instructions used to create the output from its input. \n",
    "\n",
    "It’s like a cow that eats grass (the input) which its body turns into milk which a dairy farmer then milks (the output).\n",
    "\n",
    "*Why would we need functions?*\n",
    "\n",
    "Computers are great at doing tasks over and over again because we *define* functions for them to *call*. They allow for generalization of code, so that we don't have to repeat ourselves over and over again.\n",
    "\n",
    "In order to define a function in Python, you must have a function header that specifies the name of the function, and any arguments (a.k.a. input variables, parameters) of the function should be put in parentheses following the function header. The line must begin with the keyword *def* and end with a colon :. Just like with *if* statements, we need to indent whatever we want to put inside the function."
   ]
  },
  {
   "cell_type": "markdown",
   "metadata": {},
   "source": [
    "Suppose you're working for a textile company and want to show them how much cloth they need to cut for a square rug of fixed dimensions. Rather than calculating the perimeter of the square each time, won't it be nicer if you just used one line of code? All you need to do is change one number. Try passing different numbers into the perimeter_of_squares function and see what happens."
   ]
  },
  {
   "cell_type": "code",
   "execution_count": 3,
   "metadata": {
    "collapsed": false
   },
   "outputs": [
    {
     "data": {
      "text/plain": [
       "180"
      ]
     },
     "execution_count": 3,
     "metadata": {},
     "output_type": "execute_result"
    }
   ],
   "source": [
    "def perimeter_of_square(length):#perimeter_of_square is the name of the function and length is it's only argument\n",
    "    return length * 4  #return tells the interpreter that it needs output what follows \n",
    "perimeter_of_square(45)"
   ]
  },
  {
   "cell_type": "markdown",
   "metadata": {},
   "source": [
    "**Return vs Print:**\n",
    "In the function above, you saw that we used a *return* statement to get an output value. If we had replaced *return* with *print* we would have seen the same result. However there is a huge functional difference between the two. *Return* should be used when you want to end a function and report a value so that you can use it later in your program, whereas *print* allows the function to continue running. It is Python's way of *saying* something. This means that printing doesn't actually report a value. To understand this difference, take a look at the examples below."
   ]
  },
  {
   "cell_type": "code",
   "execution_count": 7,
   "metadata": {
    "collapsed": false
   },
   "outputs": [
    {
     "name": "stdout",
     "output_type": "stream",
     "text": [
      "Hello!\n"
     ]
    },
    {
     "data": {
      "text/plain": [
       "5"
      ]
     },
     "execution_count": 7,
     "metadata": {},
     "output_type": "execute_result"
    }
   ],
   "source": [
    "def add_2_with_print(num):\n",
    "    print(\"Hello!\")\n",
    "    return num + 2\n",
    "\n",
    "x = add_2_with_print(3)\n",
    "x #Here, the function returns 5, and the variable x is set equal to the function's return value."
   ]
  },
  {
   "cell_type": "code",
   "execution_count": 8,
   "metadata": {
    "collapsed": false
   },
   "outputs": [
    {
     "data": {
      "text/plain": [
       "'Hello!'"
      ]
     },
     "execution_count": 8,
     "metadata": {},
     "output_type": "execute_result"
    }
   ],
   "source": [
    "def add_2_with_return(num):\n",
    "    return \"Hello!\"\n",
    "    return num + 2\n",
    "add_2_with_return(3)"
   ]
  },
  {
   "cell_type": "markdown",
   "metadata": {},
   "source": [
    "As you can see above, in add_2_with_print, the print statement is executed and the function continues running to return 3 + 2 = 5. However in add_2_with_return, the function stops running at the first return statement, i.e. at \"Hello!\" and the interpreter never gets to look at the next return statement."
   ]
  },
  {
   "cell_type": "markdown",
   "metadata": {},
   "source": [
    "Let's write a function that'll allow you to tell someone your name and age! Replace the blanks with your code!"
   ]
  },
  {
   "cell_type": "code",
   "execution_count": null,
   "metadata": {
    "collapsed": true
   },
   "outputs": [],
   "source": [
    "def name_and_age(name, age):\n",
    "    ____(\"My name is \" + name) #would you put return or print here?\n",
    "    print(\"I am \" + ___ + \" years old\")\n",
    "\n",
    "name_and_age(\"your name here\", \"your age here\")"
   ]
  },
  {
   "cell_type": "markdown",
   "metadata": {},
   "source": [
    "Let's write a function that adds two numbers together if they are both less than 20. If this is not the case, we multiply them with each other."
   ]
  },
  {
   "cell_type": "code",
   "execution_count": null,
   "metadata": {
    "collapsed": true
   },
   "outputs": [],
   "source": [
    "def add_or_multiply(num1, num2):\n",
    "    if num1 and num2 < 20:\n",
    "        return ___________\n",
    "    else:\n",
    "        return ___________________"
   ]
  },
  {
   "cell_type": "markdown",
   "metadata": {},
   "source": [
    "In the function above you have used an *if-else statement*. In such statements, if the first if case is True, the interpreter executes the code indented under the if case. If not, it executes the code under the else case. \n",
    "\n",
    "You have also now seen *And* and will see *Or* soon too. Both are boolean functions that take in two inputs. *And* returns True if both of its inputs are True, while *Or* returns True if even one of its inputs is True.\n",
    "\n",
    "Now let's write a function that calculates the sum of digits in a two-digit number. How would you isolate the tens digit and units digit? (*Hint: use floor division // and modulo %*) <-- Do we teach modulo??"
   ]
  },
  {
   "cell_type": "code",
   "execution_count": null,
   "metadata": {
    "collapsed": false
   },
   "outputs": [],
   "source": [
    "def sumofdigits(n):\n",
    "    units_digit = #your code here\n",
    "    tens_digit = #your code here\n",
    "    return units_digit + tens_digit\n",
    "\n",
    "sumofdigits(49) #should return 13\n"
   ]
  },
  {
   "cell_type": "markdown",
   "metadata": {},
   "source": [
    "Let's code for the login page of a website. Set up a username and password, and then fill in the code for the login function so that only someone who knows the username and password can login!"
   ]
  },
  {
   "cell_type": "code",
   "execution_count": null,
   "metadata": {
    "collapsed": true
   },
   "outputs": [],
   "source": [
    "username = 'Your username here'\n",
    "password = 'Your password here'\n",
    "\n",
    "def login(name, passw):\n",
    "    if #your code here\n",
    "        print(\"Login successful!\")\n",
    "    else:\n",
    "        print(\"Sorry! Invalid username or password.\")\n",
    "        \n",
    "login(username, password)\n"
   ]
  },
  {
   "cell_type": "markdown",
   "metadata": {},
   "source": [
    "Now write your own function that outputs True if a number is a multiple of 3, and False if it is not. Remember to give your function a name, parameter(s) and a return statement!\n",
    "\n"
   ]
  },
  {
   "cell_type": "markdown",
   "metadata": {
    "collapsed": true
   },
   "source": [
    "^^Better example?"
   ]
  },
  {
   "cell_type": "markdown",
   "metadata": {},
   "source": [
    "## Packages"
   ]
  },
  {
   "cell_type": "markdown",
   "metadata": {},
   "source": [
    "A package is simply a set of useful programs that we use so that we don’t have to write the same code all the time. Think of them as collections of functions written by other people to make life easier for programmers like you! They allow you to do a lot more with your programs, all while making them shorter and more readable.\n",
    "\n",
    "*Volunteers -> For example, imagine you write a program that generates prime numbers, you could write this into a package called “generatePrime” and publish it on the web. Then your friend, who has to write a cybersecurity program for a bank can simply type “import generatePrime” in his program and call your function to generate a large prime number for him to work with. Another friend of yours wishes to write a program to assign one prime number to each of her classmates as a part of a school project. She too, can import your package and use your function to help with her project. It is important to note here that you did not change your code at all, and yet, two different people were greatly aided by it in two completely different ways.*\n"
   ]
  },
  {
   "cell_type": "markdown",
   "metadata": {},
   "source": [
    "**What Packages Will We Use?**\n",
    "\n",
    "**Datascience**: This package allows us to look at data in tables, and change these tables to show us what we want.\n",
    "\n",
    "**Numpy**: This package has functions to help us calculate important formulas and process lots of data.\n",
    "\n"
   ]
  },
  {
   "cell_type": "markdown",
   "metadata": {},
   "source": [
    "When you call functions from a package, you put the package's name and the \".\" character before the function's name. If you're going to be using these packages a lot, retyping the name can get tiring! This is why we use the \"as\" keyword once we import the package. After that line of code, the package can be referred to whatever you call it. Try importing numpy as np below.\n"
   ]
  },
  {
   "cell_type": "code",
   "execution_count": null,
   "metadata": {
    "collapsed": true
   },
   "outputs": [],
   "source": []
  },
  {
   "cell_type": "markdown",
   "metadata": {},
   "source": [
    "Here's another way to import a package (The * just means \"everything\")\n"
   ]
  },
  {
   "cell_type": "code",
   "execution_count": 1,
   "metadata": {
    "collapsed": true
   },
   "outputs": [],
   "source": [
    "from datascience import *"
   ]
  },
  {
   "cell_type": "markdown",
   "metadata": {},
   "source": [
    "## Arrays -> TODO: something about indexing into arrays?\n"
   ]
  },
  {
   "cell_type": "markdown",
   "metadata": {},
   "source": [
    "While there are many different types of data, we will primarily be working with arrays in this class. Arrays can contain strings or other types of values, but a single array can only contain a single kind of data. For example, the array below only contains strings.\n"
   ]
  },
  {
   "cell_type": "code",
   "execution_count": null,
   "metadata": {
    "collapsed": false
   },
   "outputs": [],
   "source": [
    "import numpy as np\n",
    "india = np.array([\"mumbai\", \"delhi\", \"bombay\", \"chennai\"])\n",
    "india"
   ]
  },
  {
   "cell_type": "markdown",
   "metadata": {},
   "source": [
    "Arrays can be used in arithmetic expressions to compute over their contents. When an array is combined with a single number, that number is combined with each element of the array. For example, below we have an array which contains the average temperature data of four cities in India. We find that there has been a 2 degree rise in average temperature of each city. To compute the new temperature of each city, we can simply add 2 to the array."
   ]
  },
  {
   "cell_type": "code",
   "execution_count": 5,
   "metadata": {
    "collapsed": false
   },
   "outputs": [
    {
     "data": {
      "text/plain": [
       "array([36, 38, 39, 34])"
      ]
     },
     "execution_count": 5,
     "metadata": {},
     "output_type": "execute_result"
    }
   ],
   "source": [
    "average_temperature = np.array([34, 36, 37, 32])\n",
    "average_temperature + 2"
   ]
  },
  {
   "cell_type": "markdown",
   "metadata": {},
   "source": [
    "Suppose we have an array that contain the marks of 10 students on their math test (out of 20 points). How would we compute their percentages? Hint: divide by a number."
   ]
  },
  {
   "cell_type": "code",
   "execution_count": null,
   "metadata": {
    "collapsed": true
   },
   "outputs": [],
   "source": [
    "students_marks = np.array([18, 17, 19, 15, 18, 20, 12, 17, 11, 14])\n",
    "students_percentages = #insert answer here\n",
    "students_percentages"
   ]
  },
  {
   "cell_type": "markdown",
   "metadata": {},
   "source": [
    "The numpy package provides us with convenient functions for creating and manipulating arrays. Some examples include np.prod,which multiplies all the elements together and np.sum which adds all the elements together. Both of these functions take in an array as their argument and return a single value. We also have functions that take in arrays as arguments and return arrays of values. Examples include np.diff, which computes the difference between adjacent elements and np.round which rounds each element to the nearest whole number.\n",
    "Let's calculate the mean of an array of different kinds of flowers growing in a garden, using functions.\n"
   ]
  },
  {
   "cell_type": "code",
   "execution_count": 6,
   "metadata": {
    "collapsed": false
   },
   "outputs": [
    {
     "data": {
      "text/plain": [
       "19.600000000000001"
      ]
     },
     "execution_count": 6,
     "metadata": {},
     "output_type": "execute_result"
    }
   ],
   "source": [
    "flowers = np.array([12, 15, 19, 32, 20])\n",
    "total = np.sum(flowers)\n",
    "length = len(flowers) #len is a function that returns the length of its input\n",
    "mean = total/length\n",
    "mean"
   ]
  },
  {
   "cell_type": "markdown",
   "metadata": {},
   "source": [
    "In the worksheet, we learnt how to convert values into standard units. Using what you've learnt from there, let's convert the annual rainfall of 5 cities into standard units, with arrays."
   ]
  },
  {
   "cell_type": "code",
   "execution_count": null,
   "metadata": {
    "collapsed": true
   },
   "outputs": [],
   "source": [
    "annual_rainfall = np.array([695, 958, 760, 1118, 1063])\n",
    "mean_rainfall = ________________\n",
    "variance = __________________\n",
    "standard_deviation = np.sqrt(variance)\n",
    "mean_rainfall_standard = ____________\n",
    "mean_rainfall_standard"
   ]
  },
  {
   "cell_type": "markdown",
   "metadata": {},
   "source": [
    "## Tables"
   ]
  },
  {
   "cell_type": "markdown",
   "metadata": {},
   "source": [
    "Think back to the first session. We did a lot of work with *tables*. Think of tables as an organized way of representing data. Tables have *rows* (read horizontally) and *columns* (read vertically)."
   ]
  },
  {
   "cell_type": "markdown",
   "metadata": {},
   "source": [
    "Rows contain all the data about one item in the table, and columns represent one *attribute* of our data set. Here's an example."
   ]
  },
  {
   "cell_type": "code",
   "execution_count": 38,
   "metadata": {
    "collapsed": false
   },
   "outputs": [
    {
     "data": {
      "text/html": [
       "<table border=\"1\" class=\"dataframe\">\n",
       "    <thead>\n",
       "        <tr>\n",
       "            <th>Name</th> <th>Age</th> <th>Favorite Activity</th> <th>Favorite Fruit</th>\n",
       "        </tr>\n",
       "    </thead>\n",
       "    <tbody>\n",
       "        <tr>\n",
       "            <td>Rohan</td> <td>18  </td> <td>Tabla            </td> <td>Mango         </td>\n",
       "        </tr>\n",
       "    </tbody>\n",
       "        <tr>\n",
       "            <td>Meena</td> <td>16  </td> <td>Football         </td> <td>Lychee        </td>\n",
       "        </tr>\n",
       "    </tbody>\n",
       "        <tr>\n",
       "            <td>Priya</td> <td>17  </td> <td>Sitar            </td> <td>Guava         </td>\n",
       "        </tr>\n",
       "    </tbody>\n",
       "        <tr>\n",
       "            <td>Ahmed</td> <td>15  </td> <td>Cricket          </td> <td>Mango         </td>\n",
       "        </tr>\n",
       "    </tbody>\n",
       "</table>"
      ],
      "text/plain": [
       "Name  | Age  | Favorite Activity | Favorite Fruit\n",
       "Rohan | 18   | Tabla             | Mango\n",
       "Meena | 16   | Football          | Lychee\n",
       "Priya | 17   | Sitar             | Guava\n",
       "Ahmed | 15   | Cricket           | Mango"
      ]
     },
     "execution_count": 38,
     "metadata": {},
     "output_type": "execute_result"
    }
   ],
   "source": [
    "t = Table().with_columns(\"Name\", np.array([\"Rohan\", \"Meena\", \"Priya\", \"Ahmed\"]),\n",
    "                     \"Age\", np.array([18, 16, 17, 15]),\n",
    "                     \"Favorite Activity\", np.array([\"Tabla\", \"Football\", \"Sitar\", \"Cricket\"]),\n",
    "                     \"Favorite Fruit\", np.array([\"Mango\", \"Lychee\", \"Guava\", \"Mango\"]))\n",
    "t"
   ]
  },
  {
   "cell_type": "markdown",
   "metadata": {},
   "source": [
    "Try seeing if you can fill in this table with data about yourself and three other students. "
   ]
  },
  {
   "cell_type": "code",
   "execution_count": null,
   "metadata": {
    "collapsed": true
   },
   "outputs": [],
   "source": [
    "names = np.array([\"_______\", \"_______\", \"__________\", \"_________\"])\n",
    "ages = np.array([_______, ______, ________, ________])\n",
    "activities = np.array([\"_______\", \"_______\", \"__________\", \"_________\"])\n",
    "fruits = np.array([\"_______\", \"_______\", \"__________\", \"_________\"])\n",
    "\n",
    "your_data = Table().with_columns(\"Name\", names,\n",
    "                     \"Age\", ages,\n",
    "                     \"Favorite Activity\", activities,\n",
    "                     \"Favorite Fruit\", fruits)"
   ]
  },
  {
   "cell_type": "markdown",
   "metadata": {},
   "source": [
    "In Python, we can write expressions to help us work with tables."
   ]
  },
  {
   "cell_type": "markdown",
   "metadata": {},
   "source": [
    "To access data in a column, we can say the following statements. We have to refer to the table by name before calling the *column* function, otherwise Python won't know which table we're referring to!"
   ]
  },
  {
   "cell_type": "code",
   "execution_count": 39,
   "metadata": {
    "collapsed": false
   },
   "outputs": [
    {
     "data": {
      "text/plain": [
       "array(['Rohan', 'Meena', 'Priya', 'Ahmed'], \n",
       "      dtype='<U5')"
      ]
     },
     "execution_count": 39,
     "metadata": {},
     "output_type": "execute_result"
    }
   ],
   "source": [
    "t.column(0)"
   ]
  },
  {
   "cell_type": "code",
   "execution_count": 40,
   "metadata": {
    "collapsed": false
   },
   "outputs": [
    {
     "data": {
      "text/plain": [
       "array(['Rohan', 'Meena', 'Priya', 'Ahmed'], \n",
       "      dtype='<U5')"
      ]
     },
     "execution_count": 40,
     "metadata": {},
     "output_type": "execute_result"
    }
   ],
   "source": [
    "t.column(\"Name\")"
   ]
  },
  {
   "cell_type": "markdown",
   "metadata": {},
   "source": [
    "Note how we were able to pass in the column name, as well as its position in the table (it's the first column and we count from zero), to get an array of the names. Here, try accessing the names in your table."
   ]
  },
  {
   "cell_type": "code",
   "execution_count": null,
   "metadata": {
    "collapsed": false
   },
   "outputs": [],
   "source": []
  },
  {
   "cell_type": "markdown",
   "metadata": {},
   "source": [
    "Python can also show us how many entries are in our table with the num_rows call. Here, we can see that our table contains data about four people."
   ]
  },
  {
   "cell_type": "code",
   "execution_count": 50,
   "metadata": {
    "collapsed": false
   },
   "outputs": [
    {
     "data": {
      "text/plain": [
       "4"
      ]
     },
     "execution_count": 50,
     "metadata": {},
     "output_type": "execute_result"
    }
   ],
   "source": [
    "t.num_rows"
   ]
  },
  {
   "cell_type": "markdown",
   "metadata": {},
   "source": [
    "Sometimes, we need to *sort* our data by putting it into a meaningful order. Say we want to find the name of the oldest student."
   ]
  },
  {
   "cell_type": "code",
   "execution_count": 41,
   "metadata": {
    "collapsed": false
   },
   "outputs": [
    {
     "data": {
      "text/plain": [
       "'Rohan'"
      ]
     },
     "execution_count": 41,
     "metadata": {},
     "output_type": "execute_result"
    }
   ],
   "source": [
    "t.sort(\"Age\", descending = True).column(\"Name\")[0]"
   ]
  },
  {
   "cell_type": "markdown",
   "metadata": {},
   "source": [
    "Write a line of code that sorts your table such that the youngest student is on top."
   ]
  },
  {
   "cell_type": "code",
   "execution_count": null,
   "metadata": {
    "collapsed": true
   },
   "outputs": [],
   "source": []
  },
  {
   "cell_type": "markdown",
   "metadata": {},
   "source": [
    "Suppose you're at a marketing company trying to see what people your age are interested in. Here's where the *select* statement comes in handy."
   ]
  },
  {
   "cell_type": "code",
   "execution_count": 42,
   "metadata": {
    "collapsed": false
   },
   "outputs": [
    {
     "data": {
      "text/html": [
       "<table border=\"1\" class=\"dataframe\">\n",
       "    <thead>\n",
       "        <tr>\n",
       "            <th>Favorite Fruit</th> <th>Favorite Activity</th>\n",
       "        </tr>\n",
       "    </thead>\n",
       "    <tbody>\n",
       "        <tr>\n",
       "            <td>Mango         </td> <td>Tabla            </td>\n",
       "        </tr>\n",
       "    </tbody>\n",
       "        <tr>\n",
       "            <td>Lychee        </td> <td>Football         </td>\n",
       "        </tr>\n",
       "    </tbody>\n",
       "        <tr>\n",
       "            <td>Guava         </td> <td>Sitar            </td>\n",
       "        </tr>\n",
       "    </tbody>\n",
       "        <tr>\n",
       "            <td>Mango         </td> <td>Cricket          </td>\n",
       "        </tr>\n",
       "    </tbody>\n",
       "</table>"
      ],
      "text/plain": [
       "Favorite Fruit | Favorite Activity\n",
       "Mango          | Tabla\n",
       "Lychee         | Football\n",
       "Guava          | Sitar\n",
       "Mango          | Cricket"
      ]
     },
     "execution_count": 42,
     "metadata": {},
     "output_type": "execute_result"
    }
   ],
   "source": [
    "t.select(\"Favorite Fruit\", 2)"
   ]
  },
  {
   "cell_type": "markdown",
   "metadata": {},
   "source": [
    "Select one or two columns from your table here."
   ]
  },
  {
   "cell_type": "code",
   "execution_count": null,
   "metadata": {
    "collapsed": true
   },
   "outputs": [],
   "source": []
  },
  {
   "cell_type": "markdown",
   "metadata": {},
   "source": [
    "Let's add a column to our table."
   ]
  },
  {
   "cell_type": "code",
   "execution_count": 46,
   "metadata": {
    "collapsed": false
   },
   "outputs": [
    {
     "data": {
      "text/html": [
       "<table border=\"1\" class=\"dataframe\">\n",
       "    <thead>\n",
       "        <tr>\n",
       "            <th>Name</th> <th>Age</th> <th>Favorite Activity</th> <th>Favorite Fruit</th> <th>Activity Type</th>\n",
       "        </tr>\n",
       "    </thead>\n",
       "    <tbody>\n",
       "        <tr>\n",
       "            <td>Rohan</td> <td>18  </td> <td>Tabla            </td> <td>Mango         </td> <td>Music        </td>\n",
       "        </tr>\n",
       "    </tbody>\n",
       "        <tr>\n",
       "            <td>Meena</td> <td>16  </td> <td>Football         </td> <td>Lychee        </td> <td>Sport        </td>\n",
       "        </tr>\n",
       "    </tbody>\n",
       "        <tr>\n",
       "            <td>Priya</td> <td>17  </td> <td>Sitar            </td> <td>Guava         </td> <td>Music        </td>\n",
       "        </tr>\n",
       "    </tbody>\n",
       "        <tr>\n",
       "            <td>Ahmed</td> <td>15  </td> <td>Cricket          </td> <td>Mango         </td> <td>Sport        </td>\n",
       "        </tr>\n",
       "    </tbody>\n",
       "</table>"
      ],
      "text/plain": [
       "Name  | Age  | Favorite Activity | Favorite Fruit | Activity Type\n",
       "Rohan | 18   | Tabla             | Mango          | Music\n",
       "Meena | 16   | Football          | Lychee         | Sport\n",
       "Priya | 17   | Sitar             | Guava          | Music\n",
       "Ahmed | 15   | Cricket           | Mango          | Sport"
      ]
     },
     "execution_count": 46,
     "metadata": {},
     "output_type": "execute_result"
    }
   ],
   "source": [
    "t2 = t.with_column(\"Activity Type\", np.array([\"Music\", \"Sport\", \"Music\", \"Sport\"]))\n",
    "t2"
   ]
  },
  {
   "cell_type": "markdown",
   "metadata": {},
   "source": [
    "You can also look at data that satisfies a certain condition with the *where* function. In this example, you're the school's coach and want to look for players to pick for the sports teams with the following clause."
   ]
  },
  {
   "cell_type": "code",
   "execution_count": 48,
   "metadata": {
    "collapsed": false
   },
   "outputs": [
    {
     "data": {
      "text/html": [
       "<table border=\"1\" class=\"dataframe\">\n",
       "    <thead>\n",
       "        <tr>\n",
       "            <th>Name</th> <th>Age</th> <th>Favorite Activity</th> <th>Favorite Fruit</th> <th>Activity Type</th>\n",
       "        </tr>\n",
       "    </thead>\n",
       "    <tbody>\n",
       "        <tr>\n",
       "            <td>Meena</td> <td>16  </td> <td>Football         </td> <td>Lychee        </td> <td>Sport        </td>\n",
       "        </tr>\n",
       "    </tbody>\n",
       "        <tr>\n",
       "            <td>Ahmed</td> <td>15  </td> <td>Cricket          </td> <td>Mango         </td> <td>Sport        </td>\n",
       "        </tr>\n",
       "    </tbody>\n",
       "</table>"
      ],
      "text/plain": [
       "Name  | Age  | Favorite Activity | Favorite Fruit | Activity Type\n",
       "Meena | 16   | Football          | Lychee         | Sport\n",
       "Ahmed | 15   | Cricket           | Mango          | Sport"
      ]
     },
     "execution_count": 48,
     "metadata": {},
     "output_type": "execute_result"
    }
   ],
   "source": [
    "t2.where(\"Activity Type\", are.equal_to(\"Sport\"))"
   ]
  },
  {
   "cell_type": "markdown",
   "metadata": {},
   "source": [
    "Find the people in your table who are older than 16. Hint: Use the \"are.greater_than\" function."
   ]
  },
  {
   "cell_type": "code",
   "execution_count": null,
   "metadata": {
    "collapsed": true
   },
   "outputs": [],
   "source": []
  },
  {
   "cell_type": "code",
   "execution_count": null,
   "metadata": {
    "collapsed": true
   },
   "outputs": [],
   "source": []
  }
 ],
 "metadata": {
  "anaconda-cloud": {},
  "kernelspec": {
   "display_name": "Python 3",
   "language": "python",
   "name": "python3"
  },
  "language_info": {
   "codemirror_mode": {
    "name": "ipython",
    "version": 3
   },
   "file_extension": ".py",
   "mimetype": "text/x-python",
   "name": "python",
   "nbconvert_exporter": "python",
   "pygments_lexer": "ipython3",
   "version": "3.6.0"
  }
 },
 "nbformat": 4,
 "nbformat_minor": 2
}
