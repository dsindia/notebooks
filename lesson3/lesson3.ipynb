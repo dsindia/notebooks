{
 "cells": [
  {
   "cell_type": "markdown",
   "metadata": {
    "deletable": true,
    "editable": true
   },
   "source": [
    "<img src=\"../dsi.png\" style=\"height:128px;\">"
   ]
  },
  {
   "cell_type": "markdown",
   "metadata": {
    "deletable": true,
    "editable": true
   },
   "source": [
    "## Lesson 3: Intro to Statistics and Python, Continued"
   ]
  },
  {
   "cell_type": "markdown",
   "metadata": {
    "deletable": true,
    "editable": true
   },
   "source": [
    "In this week's worksheet, we learned a bit more about standard deviation and discovered a couple ways to compare individual points in our dataset to one another. Now, let's discover how we can use Python to process data. Along the way, we'll apply what we learned on the worksheet with these new Python tools."
   ]
  },
  {
   "cell_type": "markdown",
   "metadata": {
    "collapsed": true,
    "deletable": true,
    "editable": true
   },
   "source": [
    "## Functions"
   ]
  },
  {
   "cell_type": "markdown",
   "metadata": {
    "deletable": true,
    "editable": true
   },
   "source": [
    "You may be familiar with what *functions* are from your math class, where you learnt that a function takes in input value(s) and reports an output value. Functions in programming are the same! They are given an *input*, or many inputs, do something (or multiple things) to these inputs, and eventually yield an *output*, or result. The function contains instructions used to create the output from its input. \n",
    "\n",
    "It’s like a cow that eats grass (the input) which its body turns into milk which a dairy farmer then milks (the output).\n",
    "\n",
    "*Why would we need functions?*\n",
    "\n",
    "Computers are great at doing tasks over and over again because we *define* functions for them to *call*. They allow for generalization of code, so that we don't have to repeat ourselves over and over again.\n",
    "\n",
    "In order to define a function in Python:\n",
    "\n",
    " - you must have a function header that specifies the name of the function\n",
    "\n",
    " - any arguments (a.k.a. input variables, parameters) of the function in parentheses following the function header\n",
    " \n",
    " - the line must begin with the keyword *def* \n",
    " \n",
    " - the line should end with a colon :\n",
    " \n",
    " - just like with *if* statements, we need to indent whatever we want to put inside the function.\n",
    " \n",
    " - end with a *return* or *print* statement (these will be discussed in more detail later)"
   ]
  },
  {
   "cell_type": "markdown",
   "metadata": {
    "deletable": true,
    "editable": true
   },
   "source": [
    "Suppose you're working for a textile company and want to show them how much cloth they need to cut for a square rug of fixed dimensions. Rather than calculating the perimeter of the square each time, won't it be nicer if you just used one line of code? All you need to do is change one number. Try passing different numbers into the perimeter_of_squares function and see what happens."
   ]
  },
  {
   "cell_type": "code",
   "execution_count": 1,
   "metadata": {
    "collapsed": false,
    "deletable": true,
    "editable": true
   },
   "outputs": [
    {
     "data": {
      "text/plain": [
       "180"
      ]
     },
     "execution_count": 1,
     "metadata": {},
     "output_type": "execute_result"
    }
   ],
   "source": [
    "def perimeter_of_square(length): #perimeter_of_square is the name of the function and length is it's only argument\n",
    "    return length * 4  #return tells Python that it needs to output what follows \n",
    "\n",
    "perimeter_of_square(45)"
   ]
  },
  {
   "cell_type": "markdown",
   "metadata": {
    "deletable": true,
    "editable": true
   },
   "source": [
    "**Calling a function:** In the function above, when we passed different numbers into it, we were *calling the function*. When you *call* a function you are basically just telling the program to execute that function, with specific values as its *parameters.* So if you had a function that added two numbers such as:"
   ]
  },
  {
   "cell_type": "code",
   "execution_count": 2,
   "metadata": {
    "collapsed": true,
    "deletable": true,
    "editable": true
   },
   "outputs": [],
   "source": [
    "def sum(a, b):\n",
    "    return a + b"
   ]
  },
  {
   "cell_type": "markdown",
   "metadata": {
    "deletable": true,
    "editable": true
   },
   "source": [
    "To find the sum of 2 and 3, we can *call* the function by putting 2 and 3 in as the parameters. Try putting in numbers besides 2 and 3 to see what happens!"
   ]
  },
  {
   "cell_type": "code",
   "execution_count": 3,
   "metadata": {
    "collapsed": false,
    "deletable": true,
    "editable": true
   },
   "outputs": [
    {
     "data": {
      "text/plain": [
       "5"
      ]
     },
     "execution_count": 3,
     "metadata": {},
     "output_type": "execute_result"
    }
   ],
   "source": [
    "sum(2, 3)"
   ]
  },
  {
   "cell_type": "markdown",
   "metadata": {
    "deletable": true,
    "editable": true
   },
   "source": [
    "**Q.1: Below we have a function to calculate the mean of two numbers. Call the function to find the mean of 96 and 99.**"
   ]
  },
  {
   "cell_type": "code",
   "execution_count": 4,
   "metadata": {
    "collapsed": false,
    "deletable": true,
    "editable": true
   },
   "outputs": [
    {
     "ename": "NameError",
     "evalue": "name '_______' is not defined",
     "output_type": "error",
     "traceback": [
      "\u001b[0;31m---------------------------------------------------------------------------\u001b[0m",
      "\u001b[0;31mNameError\u001b[0m                                 Traceback (most recent call last)",
      "\u001b[0;32m<ipython-input-4-9715f19b9c71>\u001b[0m in \u001b[0;36m<module>\u001b[0;34m()\u001b[0m\n\u001b[1;32m      2\u001b[0m     \u001b[0;32mreturn\u001b[0m \u001b[0;34m(\u001b[0m\u001b[0ma\u001b[0m\u001b[0;34m+\u001b[0m\u001b[0mb\u001b[0m\u001b[0;34m)\u001b[0m\u001b[0;34m/\u001b[0m\u001b[0;36m2\u001b[0m\u001b[0;34m\u001b[0m\u001b[0m\n\u001b[1;32m      3\u001b[0m \u001b[0;34m\u001b[0m\u001b[0m\n\u001b[0;32m----> 4\u001b[0;31m \u001b[0mmean\u001b[0m\u001b[0;34m(\u001b[0m\u001b[0m_______\u001b[0m\u001b[0;34m)\u001b[0m\u001b[0;34m\u001b[0m\u001b[0m\n\u001b[0m",
      "\u001b[0;31mNameError\u001b[0m: name '_______' is not defined"
     ]
    }
   ],
   "source": [
    "def mean(a, b):\n",
    "    return (a+b)/2\n",
    "\n",
    "mean(_______)"
   ]
  },
  {
   "cell_type": "markdown",
   "metadata": {
    "deletable": true,
    "editable": true
   },
   "source": [
    "**Return vs Print:** In the function *perimeter_of_square*, you saw that we used a *return* statement to get an output value. If we had replaced *return* with *print* we would have seen the same result. However there is a huge functional difference between the two. *Return* should be used when you want to end a function and report a value so that you can use it later in your program, whereas *print* allows the function to continue running. It is Python's way of *saying* something. This means that printing doesn't actually report a value. To understand this difference, take a look at the examples below."
   ]
  },
  {
   "cell_type": "code",
   "execution_count": 7,
   "metadata": {
    "collapsed": false,
    "deletable": true,
    "editable": true
   },
   "outputs": [
    {
     "name": "stdout",
     "output_type": "stream",
     "text": [
      "Hello!\n"
     ]
    },
    {
     "data": {
      "text/plain": [
       "5"
      ]
     },
     "execution_count": 7,
     "metadata": {},
     "output_type": "execute_result"
    }
   ],
   "source": [
    "def add_2_with_print(num):\n",
    "    print(\"Hello!\")\n",
    "    return num + 2\n",
    "\n",
    "x = add_2_with_print(3)\n",
    "x #Here, the function returns 5, and the variable x is set equal to the function's return value."
   ]
  },
  {
   "cell_type": "code",
   "execution_count": 8,
   "metadata": {
    "collapsed": false,
    "deletable": true,
    "editable": true
   },
   "outputs": [
    {
     "data": {
      "text/plain": [
       "'Hello!'"
      ]
     },
     "execution_count": 8,
     "metadata": {},
     "output_type": "execute_result"
    }
   ],
   "source": [
    "def add_2_with_return(num):\n",
    "    return \"Hello!\"\n",
    "    return num + 2\n",
    "add_2_with_return(3)"
   ]
  },
  {
   "cell_type": "markdown",
   "metadata": {
    "deletable": true,
    "editable": true
   },
   "source": [
    "As you can see above, in add_2_with_print, the print statement is executed and the function continues running to return 3 + 2 = 5. However in add_2_with_return, the function stops running at the first return statement, i.e. at \"Hello!\" and the interpreter never gets to look at the next return statement."
   ]
  },
  {
   "cell_type": "markdown",
   "metadata": {
    "deletable": true,
    "editable": true
   },
   "source": [
    "**Q.2: Let's write a function that'll allow you to tell someone your name and age! Replace the blanks with your code!**"
   ]
  },
  {
   "cell_type": "code",
   "execution_count": null,
   "metadata": {
    "collapsed": true,
    "deletable": true,
    "editable": true
   },
   "outputs": [],
   "source": [
    "def name_and_age(name, age):\n",
    "    ____(\"My name is \" + name) # Fill in the blank with either \"return\" or \"print\"\n",
    "    print(\"I am \" + ___ + \" years old\")\n",
    "\n",
    "name_and_age(\"your name here\", \"your age here\")"
   ]
  },
  {
   "cell_type": "markdown",
   "metadata": {
    "deletable": true,
    "editable": true
   },
   "source": [
    "**Q.3: Let's write a function that adds two numbers together if they are both less than 20. If this is not the case, we multiply them with each other.**"
   ]
  },
  {
   "cell_type": "code",
   "execution_count": null,
   "metadata": {
    "collapsed": true,
    "deletable": true,
    "editable": true
   },
   "outputs": [],
   "source": [
    "def add_or_multiply(num1, num2):\n",
    "    if (num1 < 20) and (num2 < 20):         # How is this different than the statement \"num1 and num2 < 20\"?\n",
    "        return ___________\n",
    "    else:\n",
    "        return ___________________"
   ]
  },
  {
   "cell_type": "markdown",
   "metadata": {
    "deletable": true,
    "editable": true
   },
   "source": [
    "In the function above you have used an *if-else statement*. In such statements, if the first if case is True, the interpreter executes the code indented under the if case. If not, it executes the code under the else case. These were introduced at the end of the previous notebook.\n",
    "\n",
    "You have also now seen *And* and will see *Or* soon too. Both are boolean functions that take in two inputs. *And* returns True if both of its inputs are True, while *Or* returns True if even one of its inputs is True.\n"
   ]
  },
  {
   "cell_type": "markdown",
   "metadata": {
    "deletable": true,
    "editable": true
   },
   "source": [
    "**Floor Division and Modulo:** In the previous lesson, we learnt about various operations that we can perform in Python, including addition +, subtraction -, multiplication *, division / and exponentiation. Today, let's learn about two more extremely useful operations:\n",
    "\n",
    "*Floor division* // Divides one number by the other, and rounds down.\n",
    "\n",
    "*Modulo* % Finds the remainder after division of one number by the other."
   ]
  },
  {
   "cell_type": "code",
   "execution_count": 5,
   "metadata": {
    "collapsed": false,
    "deletable": true,
    "editable": true
   },
   "outputs": [
    {
     "data": {
      "text/plain": [
       "2"
      ]
     },
     "execution_count": 5,
     "metadata": {},
     "output_type": "execute_result"
    }
   ],
   "source": [
    "5//2     # 5/2 = 2.5, so 5//2 = 2"
   ]
  },
  {
   "cell_type": "code",
   "execution_count": 6,
   "metadata": {
    "collapsed": false,
    "deletable": true,
    "editable": true
   },
   "outputs": [
    {
     "data": {
      "text/plain": [
       "6"
      ]
     },
     "execution_count": 6,
     "metadata": {},
     "output_type": "execute_result"
    }
   ],
   "source": [
    "96%10    # The remainder when you divide 96 by 10 is 6, since 96 = 10*9 + 6"
   ]
  },
  {
   "cell_type": "markdown",
   "metadata": {
    "deletable": true,
    "editable": true
   },
   "source": [
    "**Q.4: Write a function that calculates the sum of digits in a two-digit number. How would you isolate the tens digit and units digit? (*Hint: use floor division // and modulo %*)**\n"
   ]
  },
  {
   "cell_type": "code",
   "execution_count": 8,
   "metadata": {
    "collapsed": false,
    "deletable": true,
    "editable": true
   },
   "outputs": [
    {
     "ename": "SyntaxError",
     "evalue": "invalid syntax (<ipython-input-8-c776b9c9bf87>, line 2)",
     "output_type": "error",
     "traceback": [
      "\u001b[0;36m  File \u001b[0;32m\"<ipython-input-8-c776b9c9bf87>\"\u001b[0;36m, line \u001b[0;32m2\u001b[0m\n\u001b[0;31m    units_digit = #your code here\u001b[0m\n\u001b[0m                                 ^\u001b[0m\n\u001b[0;31mSyntaxError\u001b[0m\u001b[0;31m:\u001b[0m invalid syntax\n"
     ]
    }
   ],
   "source": [
    "def sumofdigits(n):\n",
    "    units_digit = #your code here\n",
    "    tens_digit = #your code here\n",
    "    return units_digit + tens_digit\n",
    "\n",
    "sumofdigits(49) #should return 13\n"
   ]
  },
  {
   "cell_type": "markdown",
   "metadata": {
    "deletable": true,
    "editable": true
   },
   "source": [
    "**Q.5: Let's code for the login page of a website. Set up a username and password, and then fill in the code for the login function so that only someone who knows the username and password can login!**"
   ]
  },
  {
   "cell_type": "code",
   "execution_count": 9,
   "metadata": {
    "collapsed": false,
    "deletable": true,
    "editable": true
   },
   "outputs": [
    {
     "ename": "SyntaxError",
     "evalue": "invalid syntax (<ipython-input-9-7e054f665e55>, line 5)",
     "output_type": "error",
     "traceback": [
      "\u001b[0;36m  File \u001b[0;32m\"<ipython-input-9-7e054f665e55>\"\u001b[0;36m, line \u001b[0;32m5\u001b[0m\n\u001b[0;31m    if #your code here\u001b[0m\n\u001b[0m                      ^\u001b[0m\n\u001b[0;31mSyntaxError\u001b[0m\u001b[0;31m:\u001b[0m invalid syntax\n"
     ]
    }
   ],
   "source": [
    "username = 'Your username here'\n",
    "password = 'Your password here'\n",
    "\n",
    "def login(name, passw):\n",
    "    if #your code here\n",
    "        print(\"Login successful!\")\n",
    "    else:\n",
    "        print(\"Sorry! Invalid username or password.\")\n",
    "        \n",
    "login(username, password)\n"
   ]
  },
  {
   "cell_type": "markdown",
   "metadata": {
    "deletable": true,
    "editable": true
   },
   "source": [
    "**Q.6: FIZZBUZZ: Write a function that takes in integers. If the number is a multiple of 3, print \"FIZZ\". If the number is a multiple of 5, print \"BUZZ\". If the number is a multiple of 15, print \"FIZZBUZZ\". Otherwise, print out the number itself.** This is a pretty common programming interview problem. \n",
    "\n"
   ]
  },
  {
   "cell_type": "code",
   "execution_count": 11,
   "metadata": {
    "collapsed": false,
    "deletable": true,
    "editable": true
   },
   "outputs": [
    {
     "ename": "SyntaxError",
     "evalue": "unexpected EOF while parsing (<ipython-input-11-7ce53dfa6db5>, line 2)",
     "output_type": "error",
     "traceback": [
      "\u001b[0;36m  File \u001b[0;32m\"<ipython-input-11-7ce53dfa6db5>\"\u001b[0;36m, line \u001b[0;32m2\u001b[0m\n\u001b[0;31m    #your code here\u001b[0m\n\u001b[0m                   ^\u001b[0m\n\u001b[0;31mSyntaxError\u001b[0m\u001b[0;31m:\u001b[0m unexpected EOF while parsing\n"
     ]
    }
   ],
   "source": [
    "def fizzbuzz(n):\n",
    "    #your code here"
   ]
  },
  {
   "cell_type": "markdown",
   "metadata": {
    "deletable": true,
    "editable": true
   },
   "source": [
    "**For Loops**: For loops are traditionally used when you have a block of code which you want to repeat a fixed number of times. The Python for statement iterates over the members of a sequence in order, executing the same block of code each time. For example, suppose we want to print numbers from 1 to 5. We could do it as shown below:"
   ]
  },
  {
   "cell_type": "code",
   "execution_count": 12,
   "metadata": {
    "collapsed": false,
    "deletable": true,
    "editable": true
   },
   "outputs": [
    {
     "name": "stdout",
     "output_type": "stream",
     "text": [
      "1\n",
      "2\n",
      "3\n",
      "4\n",
      "5\n"
     ]
    }
   ],
   "source": [
    "print(1)\n",
    "print(2)\n",
    "print(3)\n",
    "print(4)\n",
    "print(5)"
   ]
  },
  {
   "cell_type": "markdown",
   "metadata": {
    "deletable": true,
    "editable": true
   },
   "source": [
    "While in the example above, we have successfully printed the numbers from 1-5, we could do it much more efficiently. Note that we are essentially repeating the same step (printing) every time, but with different inputs. Using a for loop, we can simplify our code:"
   ]
  },
  {
   "cell_type": "code",
   "execution_count": 13,
   "metadata": {
    "collapsed": false,
    "deletable": true,
    "editable": true
   },
   "outputs": [
    {
     "name": "stdout",
     "output_type": "stream",
     "text": [
      "1\n",
      "2\n",
      "3\n",
      "4\n",
      "5\n"
     ]
    }
   ],
   "source": [
    "for i in range (1,6): # \"range\" gives a range of numbers from 1 to 6, excluding 6\n",
    "    print(i)"
   ]
  },
  {
   "cell_type": "markdown",
   "metadata": {
    "deletable": true,
    "editable": true
   },
   "source": [
    "The *i* in our for loop is a *variable* that acts like a counter. You use it in any place you would use a number, and it reports the value it holds. "
   ]
  },
  {
   "cell_type": "markdown",
   "metadata": {
    "deletable": true,
    "editable": true
   },
   "source": [
    "Suppose we want to print all even numbers less than or equal to 20. Let's do it using a for loop:"
   ]
  },
  {
   "cell_type": "code",
   "execution_count": 14,
   "metadata": {
    "collapsed": false,
    "deletable": true,
    "editable": true
   },
   "outputs": [
    {
     "name": "stdout",
     "output_type": "stream",
     "text": [
      "0\n",
      "2\n",
      "4\n",
      "6\n",
      "8\n",
      "10\n",
      "12\n",
      "14\n",
      "16\n",
      "18\n",
      "20\n"
     ]
    }
   ],
   "source": [
    "for i in range(11): #first argument of range defaults as 0\n",
    "    print(i*2)"
   ]
  },
  {
   "cell_type": "markdown",
   "metadata": {
    "deletable": true,
    "editable": true
   },
   "source": [
    "We could also do this using a for loop, with an if statement!"
   ]
  },
  {
   "cell_type": "code",
   "execution_count": 15,
   "metadata": {
    "collapsed": false,
    "deletable": true,
    "editable": true
   },
   "outputs": [
    {
     "name": "stdout",
     "output_type": "stream",
     "text": [
      "0\n",
      "2\n",
      "4\n",
      "6\n",
      "8\n",
      "10\n",
      "12\n",
      "14\n",
      "16\n",
      "18\n",
      "20\n"
     ]
    }
   ],
   "source": [
    "for i in range(21):\n",
    "    if i%2 == 0:\n",
    "        print(i)"
   ]
  },
  {
   "cell_type": "markdown",
   "metadata": {
    "deletable": true,
    "editable": true
   },
   "source": [
    "**Q.7: Print \"Hello!\" three times, using a for loop.**"
   ]
  },
  {
   "cell_type": "code",
   "execution_count": 16,
   "metadata": {
    "collapsed": false,
    "deletable": true,
    "editable": true
   },
   "outputs": [
    {
     "ename": "SyntaxError",
     "evalue": "unexpected EOF while parsing (<ipython-input-16-f7c8f13c4489>, line 2)",
     "output_type": "error",
     "traceback": [
      "\u001b[0;36m  File \u001b[0;32m\"<ipython-input-16-f7c8f13c4489>\"\u001b[0;36m, line \u001b[0;32m2\u001b[0m\n\u001b[0;31m    print(####)\u001b[0m\n\u001b[0m               ^\u001b[0m\n\u001b[0;31mSyntaxError\u001b[0m\u001b[0;31m:\u001b[0m unexpected EOF while parsing\n"
     ]
    }
   ],
   "source": [
    "for i in range(###):\n",
    "    print(####)"
   ]
  },
  {
   "cell_type": "markdown",
   "metadata": {
    "deletable": true,
    "editable": true
   },
   "source": [
    "**Q.8: Write code that prints out the result of calling your fizzbuzz function on the the first n positive integers, each on its own line. For example, when calling print_fizzbuzz(15), your output should look like this:**\n",
    "\n",
    "1\n",
    "\n",
    "2\n",
    "\n",
    "Fizz\n",
    "\n",
    "4\n",
    "\n",
    "Buzz\n",
    "\n",
    "Fizz\n",
    "\n",
    "7\n",
    "\n",
    "8\n",
    "\n",
    "Fizz\n",
    "\n",
    "Buzz\n",
    "\n",
    "11\n",
    "\n",
    "Fizz\n",
    "\n",
    "13\n",
    "\n",
    "14\n",
    "\n",
    "FizzBuzz\n"
   ]
  },
  {
   "cell_type": "code",
   "execution_count": 1,
   "metadata": {
    "collapsed": true
   },
   "outputs": [],
   "source": [
    "def print_fizzbuzz(n):\n",
    "    \"***YOUR CODE HERE***\""
   ]
  },
  {
   "cell_type": "markdown",
   "metadata": {},
   "source": [
    "**Q.9: Write a function to find the average of all the numbers from 1 to any number. Remember, the *range* function doesn't include the second number.**"
   ]
  },
  {
   "cell_type": "code",
   "execution_count": 2,
   "metadata": {
    "collapsed": false,
    "deletable": true,
    "editable": true
   },
   "outputs": [
    {
     "ename": "NameError",
     "evalue": "name '________' is not defined",
     "output_type": "error",
     "traceback": [
      "\u001b[0;31m---------------------------------------------------------------------------\u001b[0m",
      "\u001b[0;31mNameError\u001b[0m                                 Traceback (most recent call last)",
      "\u001b[0;32m<ipython-input-2-04d8bafaddaa>\u001b[0m in \u001b[0;36m<module>\u001b[0;34m()\u001b[0m\n\u001b[1;32m      4\u001b[0m         \u001b[0msum\u001b[0m \u001b[0;34m=\u001b[0m \u001b[0m_____\u001b[0m\u001b[0;34m+\u001b[0m\u001b[0m_______\u001b[0m \u001b[0;31m#Here, we're trying to add a number to the sum. Hint: try updating the sum variable\u001b[0m\u001b[0;34m\u001b[0m\u001b[0m\n\u001b[1;32m      5\u001b[0m     \u001b[0;32mreturn\u001b[0m \u001b[0m_______\u001b[0m\u001b[0;34m/\u001b[0m\u001b[0m_______\u001b[0m\u001b[0;34m\u001b[0m\u001b[0m\n\u001b[0;32m----> 6\u001b[0;31m \u001b[0mmean_range\u001b[0m\u001b[0;34m(\u001b[0m\u001b[0;36m1000\u001b[0m\u001b[0;34m)\u001b[0m\u001b[0;34m\u001b[0m\u001b[0m\n\u001b[0m",
      "\u001b[0;32m<ipython-input-2-04d8bafaddaa>\u001b[0m in \u001b[0;36mmean_range\u001b[0;34m(n)\u001b[0m\n\u001b[1;32m      1\u001b[0m \u001b[0;32mdef\u001b[0m \u001b[0mmean_range\u001b[0m\u001b[0;34m(\u001b[0m\u001b[0mn\u001b[0m\u001b[0;34m)\u001b[0m\u001b[0;34m:\u001b[0m\u001b[0;34m\u001b[0m\u001b[0m\n\u001b[1;32m      2\u001b[0m     \u001b[0msum\u001b[0m \u001b[0;34m=\u001b[0m \u001b[0;36m0\u001b[0m\u001b[0;34m\u001b[0m\u001b[0m\n\u001b[0;32m----> 3\u001b[0;31m     \u001b[0;32mfor\u001b[0m \u001b[0mi\u001b[0m \u001b[0;32min\u001b[0m \u001b[0mrange\u001b[0m\u001b[0;34m(\u001b[0m\u001b[0m________\u001b[0m\u001b[0;34m)\u001b[0m\u001b[0;34m:\u001b[0m\u001b[0;34m\u001b[0m\u001b[0m\n\u001b[0m\u001b[1;32m      4\u001b[0m         \u001b[0msum\u001b[0m \u001b[0;34m=\u001b[0m \u001b[0m_____\u001b[0m\u001b[0;34m+\u001b[0m\u001b[0m_______\u001b[0m \u001b[0;31m#Here, we're trying to add a number to the sum. Hint: try updating the sum variable\u001b[0m\u001b[0;34m\u001b[0m\u001b[0m\n\u001b[1;32m      5\u001b[0m     \u001b[0;32mreturn\u001b[0m \u001b[0m_______\u001b[0m\u001b[0;34m/\u001b[0m\u001b[0m_______\u001b[0m\u001b[0;34m\u001b[0m\u001b[0m\n",
      "\u001b[0;31mNameError\u001b[0m: name '________' is not defined"
     ]
    }
   ],
   "source": [
    "def mean_range(n):\n",
    "    sum = 0\n",
    "    for i in range(________):\n",
    "        sum = _____+_______ #Here, we're trying to add a number to the sum. Hint: try updating the sum variable\n",
    "    return _______/_______\n",
    "mean_range(1000)"
   ]
  },
  {
   "cell_type": "markdown",
   "metadata": {
    "deletable": true,
    "editable": true
   },
   "source": [
    "## Arrays\n"
   ]
  },
  {
   "cell_type": "markdown",
   "metadata": {
    "deletable": true,
    "editable": true
   },
   "source": [
    "Just run the code below to set up the rest of the lesson."
   ]
  },
  {
   "cell_type": "code",
<<<<<<< HEAD
   "execution_count": 3,
=======
   "execution_count": 1,
>>>>>>> 895cd8c6b484f020f9fd80d416a4164cb693cb4e
   "metadata": {
    "collapsed": true,
    "deletable": true,
    "editable": true
   },
   "outputs": [],
   "source": [
    "from datascience import *\n",
    "import numpy as np"
   ]
  },
  {
   "cell_type": "markdown",
   "metadata": {
    "deletable": true,
    "editable": true
   },
   "source": [
    "While there are many different types of data, we will primarily be working with arrays in this class. Arrays can contain strings or other types of values, but a single numpy array can only contain a single kind of data. For example, the array below only contains strings.\n"
   ]
  },
  {
   "cell_type": "code",
<<<<<<< HEAD
   "execution_count": 17,
=======
   "execution_count": 2,
>>>>>>> 895cd8c6b484f020f9fd80d416a4164cb693cb4e
   "metadata": {
    "collapsed": false,
    "deletable": true,
    "editable": true
   },
   "outputs": [
    {
     "data": {
      "text/plain": [
       "array(['delhi', 'bombay', 'amritsar'], \n",
       "      dtype='<U8')"
      ]
     },
<<<<<<< HEAD
     "execution_count": 17,
=======
     "execution_count": 2,
>>>>>>> 895cd8c6b484f020f9fd80d416a4164cb693cb4e
     "metadata": {},
     "output_type": "execute_result"
    }
   ],
   "source": [
    "india = np.array([\"delhi\", \"bombay\", \"amritsar\"])\n",
    "india"
   ]
  },
  {
   "cell_type": "markdown",
   "metadata": {
    "deletable": true,
    "editable": true
   },
   "source": [
    "There is a subtle difference between arrays and lists. Lists, which are defined by square brackets [] (for example, if you removed the `np.array()` from the first line in the cell above), can contain multiple object types. That difference isn't important for us right now, as we'll stick to using arrays as they give us more functionality.\n",
    "\n",
    "Arrays can be used in arithmetic expressions to compute over their contents. When an array is combined with a single number, that number is combined with each element of the array. For example, below we have an array which contains the average temperature data of four cities in India. We find that there has been a 2 degree rise in average temperature of each city. To compute the new temperature of each city, we can simply add 2 to the array."
   ]
  },
  {
   "cell_type": "code",
   "execution_count": 25,
   "metadata": {
    "collapsed": false,
    "deletable": true,
    "editable": true
   },
   "outputs": [
    {
     "data": {
      "text/plain": [
       "array([36, 38, 39, 34])"
      ]
     },
     "execution_count": 25,
     "metadata": {},
     "output_type": "execute_result"
    }
   ],
   "source": [
    "average_temperature = np.array([34, 36, 37, 32])\n",
    "average_temperature + 2"
   ]
  },
  {
   "cell_type": "markdown",
   "metadata": {
    "deletable": true,
    "editable": true
   },
   "source": [
    "**Q.10: Suppose we have an array that contains the marks of 10 students on their math test (out of 20 points). How would we compute their percentages? Hint: divide by a number.**"
   ]
  },
  {
   "cell_type": "code",
   "execution_count": 26,
   "metadata": {
    "collapsed": false,
    "deletable": true,
    "editable": true
   },
   "outputs": [
    {
     "ename": "NameError",
     "evalue": "name '_______________' is not defined",
     "output_type": "error",
     "traceback": [
      "\u001b[0;31m---------------------------------------------------------------------------\u001b[0m",
      "\u001b[0;31mNameError\u001b[0m                                 Traceback (most recent call last)",
      "\u001b[0;32m<ipython-input-26-8910e6917725>\u001b[0m in \u001b[0;36m<module>\u001b[0;34m()\u001b[0m\n\u001b[1;32m      1\u001b[0m \u001b[0mstudents_marks\u001b[0m \u001b[0;34m=\u001b[0m \u001b[0mnp\u001b[0m\u001b[0;34m.\u001b[0m\u001b[0marray\u001b[0m\u001b[0;34m(\u001b[0m\u001b[0;34m[\u001b[0m\u001b[0;36m18\u001b[0m\u001b[0;34m,\u001b[0m \u001b[0;36m17\u001b[0m\u001b[0;34m,\u001b[0m \u001b[0;36m19\u001b[0m\u001b[0;34m,\u001b[0m \u001b[0;36m15\u001b[0m\u001b[0;34m,\u001b[0m \u001b[0;36m18\u001b[0m\u001b[0;34m,\u001b[0m \u001b[0;36m20\u001b[0m\u001b[0;34m,\u001b[0m \u001b[0;36m12\u001b[0m\u001b[0;34m,\u001b[0m \u001b[0;36m17\u001b[0m\u001b[0;34m,\u001b[0m \u001b[0;36m11\u001b[0m\u001b[0;34m,\u001b[0m \u001b[0;36m14\u001b[0m\u001b[0;34m]\u001b[0m\u001b[0;34m)\u001b[0m\u001b[0;34m\u001b[0m\u001b[0m\n\u001b[0;32m----> 2\u001b[0;31m \u001b[0mstudents_percentages\u001b[0m \u001b[0;34m=\u001b[0m \u001b[0m_______________\u001b[0m\u001b[0;34m\u001b[0m\u001b[0m\n\u001b[0m\u001b[1;32m      3\u001b[0m \u001b[0mstudents_percentages\u001b[0m\u001b[0;34m\u001b[0m\u001b[0m\n",
      "\u001b[0;31mNameError\u001b[0m: name '_______________' is not defined"
     ]
    }
   ],
   "source": [
    "students_marks = np.array([18, 17, 19, 15, 18, 20, 12, 17, 11, 14])\n",
    "students_percentages = _______________\n",
    "students_percentages"
   ]
  },
  {
   "cell_type": "markdown",
   "metadata": {
    "deletable": true,
    "editable": true
   },
   "source": [
    "Let's calculate the mean of an array of different kinds of flowers growing in a garden, using built-in functions. *Sum* adds up all the elements in an array, and *len* takes the amount of elements in the array. There are a lot of built-in functions in Python, but we'll tell you when you need to use them and which ones to use."
   ]
  },
  {
   "cell_type": "code",
   "execution_count": 27,
   "metadata": {
    "collapsed": false,
    "deletable": true,
    "editable": true
   },
   "outputs": [
    {
     "data": {
      "text/plain": [
       "19.600000000000001"
      ]
     },
     "execution_count": 27,
     "metadata": {},
     "output_type": "execute_result"
    }
   ],
   "source": [
    "flowers = np.array([12, 15, 19, 32, 20])\n",
    "def mean(array):\n",
    "    total = array.sum() #Gives us the sum of elements in an array\n",
    "    length = len(array) #len is a function that returns the length of its input\n",
    "    return total/length\n",
    "\n",
    "mean(flowers)"
   ]
  },
  {
   "cell_type": "markdown",
   "metadata": {
    "deletable": true,
    "editable": true
   },
   "source": [
    "**Q.11: In the worksheet, we learnt how to convert values into standard units. Using what you've learnt from there, let's convert the annual rainfall of 5 cities into standard units, with arrays.**\n"
   ]
  },
  {
   "cell_type": "code",
   "execution_count": 29,
   "metadata": {
    "collapsed": false,
    "deletable": true,
    "editable": true
   },
   "outputs": [
    {
     "ename": "NameError",
     "evalue": "name '_________________' is not defined",
     "output_type": "error",
     "traceback": [
      "\u001b[0;31m---------------------------------------------------------------------------\u001b[0m",
      "\u001b[0;31mNameError\u001b[0m                                 Traceback (most recent call last)",
      "\u001b[0;32m<ipython-input-29-6b3f7959f705>\u001b[0m in \u001b[0;36m<module>\u001b[0;34m()\u001b[0m\n\u001b[1;32m      1\u001b[0m \u001b[0mannual_rainfall\u001b[0m \u001b[0;34m=\u001b[0m \u001b[0mnp\u001b[0m\u001b[0;34m.\u001b[0m\u001b[0marray\u001b[0m\u001b[0;34m(\u001b[0m\u001b[0;34m[\u001b[0m\u001b[0;36m695\u001b[0m\u001b[0;34m,\u001b[0m \u001b[0;36m958\u001b[0m\u001b[0;34m,\u001b[0m \u001b[0;36m760\u001b[0m\u001b[0;34m,\u001b[0m \u001b[0;36m1118\u001b[0m\u001b[0;34m,\u001b[0m \u001b[0;36m1063\u001b[0m\u001b[0;34m]\u001b[0m\u001b[0;34m)\u001b[0m\u001b[0;34m\u001b[0m\u001b[0m\n\u001b[0;32m----> 2\u001b[0;31m \u001b[0mmean_rainfall\u001b[0m \u001b[0;34m=\u001b[0m \u001b[0m_________________\u001b[0m    \u001b[0;31m# You can solve this manually, or explore numpy to see if there are any built in functions that do this\u001b[0m\u001b[0;34m\u001b[0m\u001b[0m\n\u001b[0m\u001b[1;32m      3\u001b[0m \u001b[0mvariance\u001b[0m \u001b[0;34m=\u001b[0m \u001b[0m__________________\u001b[0m\u001b[0;34m\u001b[0m\u001b[0m\n\u001b[1;32m      4\u001b[0m \u001b[0mstandard_deviation\u001b[0m \u001b[0;34m=\u001b[0m \u001b[0mnp\u001b[0m\u001b[0;34m.\u001b[0m\u001b[0msqrt\u001b[0m\u001b[0;34m(\u001b[0m\u001b[0mvariance\u001b[0m\u001b[0;34m)\u001b[0m\u001b[0;34m\u001b[0m\u001b[0m\n\u001b[1;32m      5\u001b[0m \u001b[0mmean_rainfall_standard\u001b[0m \u001b[0;34m=\u001b[0m \u001b[0m____________\u001b[0m\u001b[0;34m\u001b[0m\u001b[0m\n",
      "\u001b[0;31mNameError\u001b[0m: name '_________________' is not defined"
     ]
    }
   ],
   "source": [
    "annual_rainfall = np.array([695, 958, 760, 1118, 1063])\n",
    "mean_rainfall = _________________    # You can solve this manually, or explore numpy to see if there are any built in functions that do this\n",
    "variance = __________________\n",
    "standard_deviation = np.sqrt(variance)\n",
    "mean_rainfall_standard = ____________"
   ]
  },
  {
   "cell_type": "markdown",
   "metadata": {
    "deletable": true,
    "editable": true
   },
   "source": [
    "Let's take this a bit further. Just like you can make for loops run over a certain *range* of numbers, you can also go through arrays with for loops! Run the code below to see what happens."
   ]
  },
  {
   "cell_type": "code",
   "execution_count": 31,
   "metadata": {
    "collapsed": false,
    "deletable": true,
    "editable": true
   },
   "outputs": [
    {
     "name": "stdout",
     "output_type": "stream",
     "text": [
      "3\n",
      "3\n",
      "7\n",
      "35\n",
      "98\n",
      "23\n",
      "70\n",
      "18\n",
      "39\n",
      "18\n",
      "60\n",
      "20\n",
      "58\n",
      "32\n"
     ]
    }
   ],
   "source": [
    "data = np.array([3, 3, 7, 35, 98, 23, 70, 18, 39, 18, 60, 20, 58, 32])\n",
    "for i in data:\n",
    "    print(i)"
   ]
  },
  {
   "cell_type": "markdown",
   "metadata": {
    "deletable": true,
    "editable": true
   },
   "source": [
    "With just two lines of code, we printed 14 numbers! "
   ]
  },
  {
   "cell_type": "markdown",
   "metadata": {
    "deletable": true,
    "editable": true
   },
   "source": [
    "**Q.12: Print the contents of the mean_rainfall_standard array**."
   ]
  },
  {
   "cell_type": "code",
   "execution_count": 32,
   "metadata": {
    "collapsed": false,
    "deletable": true,
    "editable": true
   },
   "outputs": [
    {
     "ename": "NameError",
     "evalue": "name '________' is not defined",
     "output_type": "error",
     "traceback": [
      "\u001b[0;31m---------------------------------------------------------------------------\u001b[0m",
      "\u001b[0;31mNameError\u001b[0m                                 Traceback (most recent call last)",
      "\u001b[0;32m<ipython-input-32-62eb0537fa75>\u001b[0m in \u001b[0;36m<module>\u001b[0;34m()\u001b[0m\n\u001b[0;32m----> 1\u001b[0;31m \u001b[0mprint\u001b[0m\u001b[0;34m(\u001b[0m\u001b[0m________\u001b[0m\u001b[0;34m)\u001b[0m\u001b[0;34m\u001b[0m\u001b[0m\n\u001b[0m",
      "\u001b[0;31mNameError\u001b[0m: name '________' is not defined"
     ]
    }
   ],
   "source": [
    "print(________)"
   ]
  },
  {
   "cell_type": "markdown",
   "metadata": {
    "deletable": true,
    "editable": true
   },
   "source": [
    "That's it for this session's notebook. In the next session, we'll begin talking about the concept of tables, and how we can use them to store, manipulate and analyze data."
   ]
  },
  {
   "cell_type": "code",
   "execution_count": null,
   "metadata": {
    "collapsed": true
   },
   "outputs": [],
   "source": []
  }
 ],
 "metadata": {
  "anaconda-cloud": {},
  "kernelspec": {
   "display_name": "Python 3",
   "language": "python",
   "name": "python3"
  },
  "language_info": {
   "codemirror_mode": {
    "name": "ipython",
    "version": 3
   },
   "file_extension": ".py",
   "mimetype": "text/x-python",
   "name": "python",
   "nbconvert_exporter": "python",
   "pygments_lexer": "ipython3",
   "version": "3.6.0"
  }
 },
 "nbformat": 4,
 "nbformat_minor": 2
}
