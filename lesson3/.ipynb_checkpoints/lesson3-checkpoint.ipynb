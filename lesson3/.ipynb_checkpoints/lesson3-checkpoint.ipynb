{
 "cells": [
  {
   "cell_type": "markdown",
   "metadata": {},
   "source": [
    "<img src=\"../dsi.png\" style=\"height:128px;\">"
   ]
  },
  {
   "cell_type": "markdown",
   "metadata": {
    "deletable": true,
    "editable": true
   },
   "source": [
    "# Lesson 3: Intro to Statistics and Python, Continued"
   ]
  },
  {
   "cell_type": "markdown",
   "metadata": {
    "deletable": true,
    "editable": true
   },
   "source": [
    "In this week's worksheet, we learned a bit more about standard deviation and discovered a couple ways to compare individual points in our dataset to one another. Now, let's discover how we can use Python to process data. Along the way, we'll apply what we learned on the worksheet with these new Python tools.\n",
    "\n",
    "### Functions\n",
    "You may be familiar with what functions are from your math class, where you learnt that a function takes in input value(s) and reports an output value. Functions in programming are the same! They are given an input, or many inputs, do something (or multiple things) to these inputs, and eventually yield an output, or result. The function contains instructions used to create the output from its input.\n",
    "\n",
    "\n",
    "It’s like a cow that eats grass (the input) which its body turns into milk which a dairy farmer then milks (the output).\n",
    "\n",
    "\n",
    "_Why would we need functions?_\n",
    "\n",
    "\n",
    "Computers are great at doing tasks over and over again because we define functions for them to call. They\n",
    "allow for generalization of code, so that we don't have to repeat ourselves over and over again. In order to define a function in Python:\n",
    "\n",
    "\n",
    "- you must have a function header that specifies the name of the function\n",
    "any arguments (a.k.a. input variables, parameters) of the function in parentheses following the function header\n",
    "- the line must begin with the keyword def\n",
    "- the line should end with a colon :\n",
    "- just like with if statements, we need to indent whatever we want to put inside the function.\n",
    "- end with a return or print statement (these will be discussed in more detail later)\n",
    "\n",
    "\n",
<<<<<<< HEAD
    "In order to define a function in Python:\n",
    "\n",
    " - you must have a function header that specifies the name of the function\n",
    "\n",
    " - any arguments (a.k.a. input variables, parameters) of the function in parentheses following the function header\n",
    " \n",
    " - the line must begin with the keyword *def* \n",
    " \n",
    " - the line should end with a colon :\n",
    " \n",
    " - just like with *if* statements, we need to indent whatever we want to put inside the function.\n",
    " \n",
    " - end with a *return* or *print* statement (these will be discussed in more detail later)"
   ]
  },
  {
   "cell_type": "markdown",
   "metadata": {},
   "source": [
=======
>>>>>>> 3df33711bbbafdb19beecc1c3561a54531a2bfc1
    "Suppose you're working for a textile company and want to show them how much cloth they need to cut for a square rug of fixed dimensions. Rather than calculating the perimeter of the square each time, won't it be nicer if you just used one line of code? All you need to do is change one number. Try passing different numbers into the perimeter_of_squares function and see what happens."
   ]
  },
  {
   "cell_type": "code",
   "execution_count": null,
   "metadata": {
    "collapsed": false,
    "deletable": true,
    "editable": true
   },
<<<<<<< HEAD
   "outputs": [
    {
     "data": {
      "text/plain": [
       "180"
      ]
     },
     "execution_count": 3,
     "metadata": {},
     "output_type": "execute_result"
    }
   ],
   "source": [
    "def perimeter_of_square(length): #perimeter_of_square is the name of the function and length is it's only argument\n",
    "    return length * 4  #return tells the interpreter that it needs output what follows \n",
    "perimeter_of_square(45)"
   ]
  },
  {
   "cell_type": "markdown",
   "metadata": {},
   "source": [
    "**Calling a function:** In the function above, when we passed different numbers into it, we were *calling the function*. When you *call* a function you are basically just telling the program to execute that function, with specific values as its parameters. So if you had a function that added two numbers such as:"
   ]
  },
  {
   "cell_type": "code",
   "execution_count": 4,
   "metadata": {
    "collapsed": true
   },
   "outputs": [],
   "source": [
    "def sum(a, b):\n",
    "    return a + b"
   ]
  },
  {
   "cell_type": "markdown",
   "metadata": {},
   "source": [
    "To find the sum of 2 and 3, we can *call* the function by putting 2 and 3 in as the parameters."
   ]
  },
  {
   "cell_type": "code",
   "execution_count": 5,
   "metadata": {
    "collapsed": false
   },
   "outputs": [
    {
     "data": {
      "text/plain": [
       "5"
      ]
     },
     "execution_count": 5,
     "metadata": {},
     "output_type": "execute_result"
    }
   ],
   "source": [
    "sum(2, 3)"
   ]
  },
  {
   "cell_type": "markdown",
   "metadata": {},
   "source": [
    "**Q.1: Below we have a function to calculate the mean of two numbers. Call the function to find the mean of 96 and 99.**"
   ]
  },
  {
   "cell_type": "code",
   "execution_count": 7,
   "metadata": {
    "collapsed": true
   },
   "outputs": [
    {
     "ename": "SyntaxError",
     "evalue": "unexpected EOF while parsing (<ipython-input-7-44054fa48596>, line 4)",
     "output_type": "error",
     "traceback": [
      "\u001b[0;36m  File \u001b[0;32m\"<ipython-input-7-44054fa48596>\"\u001b[0;36m, line \u001b[0;32m4\u001b[0m\n\u001b[0;31m    mean(####)\u001b[0m\n\u001b[0m              ^\u001b[0m\n\u001b[0;31mSyntaxError\u001b[0m\u001b[0;31m:\u001b[0m unexpected EOF while parsing\n"
     ]
    }
   ],
   "source": [
    "def mean(a, b):\n",
    "    return (a+b)/2\n",
    "\n",
    "mean(####)"
   ]
  },
  {
   "cell_type": "markdown",
   "metadata": {},
   "source": [
    "**Return vs Print:** In the function *perimeter_of_square*, you saw that we used a *return* statement to get an output value. If we had replaced *return* with *print* we would have seen the same result. However there is a huge functional difference between the two. *Return* should be used when you want to end a function and report a value so that you can use it later in your program, whereas *print* allows the function to continue running. It is Python's way of *saying* something. This means that printing doesn't actually report a value. To understand this difference, take a look at the examples below."
   ]
  },
  {
   "cell_type": "code",
   "execution_count": 7,
   "metadata": {
    "collapsed": false
   },
   "outputs": [
    {
     "name": "stdout",
     "output_type": "stream",
     "text": [
      "Hello!\n"
     ]
    },
    {
     "data": {
      "text/plain": [
       "5"
      ]
     },
     "execution_count": 7,
     "metadata": {},
     "output_type": "execute_result"
    }
   ],
   "source": [
    "def add_2_with_print(num):\n",
    "    print(\"Hello!\")\n",
    "    return num + 2\n",
=======
   "outputs": [],
   "source": [
    "def perimeter_of_square(length): # perimeter_of_square is the name of the function\n",
    "    return length * 4    # return tells Python that it needs to output what follows, and exit the function\n",
>>>>>>> 3df33711bbbafdb19beecc1c3561a54531a2bfc1
    "\n",
    "perimeter_of_square(13)    # Replace 13 with a different number and see what happens!"
   ]
  },
  {
   "cell_type": "markdown",
   "metadata": {
    "deletable": true,
    "editable": true
   },
   "source": [
<<<<<<< HEAD
    "**Q.2: Let's write a function that'll allow you to tell someone your name and age! Replace the blanks with your code!**"
=======
    "**Calling a function:** In the function above, when we passed different numbers into it, we were calling the function. When you call a function you are basically just telling the program to execute that function, with specific values as its parameters. So if you had a function that added two numbers such as:"
>>>>>>> 3df33711bbbafdb19beecc1c3561a54531a2bfc1
   ]
  },
  {
   "cell_type": "code",
   "execution_count": null,
   "metadata": {
    "collapsed": true,
    "deletable": true,
    "editable": true
   },
   "outputs": [],
   "source": [
    "def sum(a, b):\n",
    "    return a + b"
   ]
  },
  {
   "cell_type": "markdown",
   "metadata": {
    "deletable": true,
    "editable": true
   },
   "source": [
<<<<<<< HEAD
    "**Q.3: Let's write a function that adds two numbers together if they are both less than 20. If this is not the case, we multiply them with each other.**"
=======
    "To find the sum of 2 and 3, we can _call_ the function by passing in 2 and 3 as the parameters. Try putting in numbers other than 2 and 3 to see what happens!"
>>>>>>> 3df33711bbbafdb19beecc1c3561a54531a2bfc1
   ]
  },
  {
   "cell_type": "code",
   "execution_count": null,
   "metadata": {
    "collapsed": false,
    "deletable": true,
    "editable": true
   },
   "outputs": [],
   "source": [
    "sum(2, 3)"
   ]
  },
  {
   "cell_type": "markdown",
   "metadata": {
    "deletable": true,
    "editable": true
   },
   "source": [
<<<<<<< HEAD
    "In the function above you have used an *if-else statement*. In such statements, if the first if case is True, the interpreter executes the code indented under the if case. If not, it executes the code under the else case. \n",
    "\n",
    "You have also now seen *And* and will see *Or* soon too. Both are boolean functions that take in two inputs. *And* returns True if both of its inputs are True, while *Or* returns True if even one of its inputs is True.\n"
   ]
  },
  {
   "cell_type": "markdown",
   "metadata": {},
   "source": [
    "**Floor Division and Modulo:** In the previous lesson, we learnt about various operations that we can perform in Python, such as addition +, subtraction -, multiplication * and division / . Today, let's learn about two more extremely useful operations:\n",
    "\n",
    "*Floor division* // Divides one number by the other, and rounds down.\n",
    "\n",
    "*Modulo* % Finds the remainder after division of one number by the other.\n",
    "\n",
    "\n"
   ]
  },
  {
   "cell_type": "code",
   "execution_count": 8,
   "metadata": {
    "collapsed": false
   },
   "outputs": [
    {
     "data": {
      "text/plain": [
       "2"
      ]
     },
     "execution_count": 8,
     "metadata": {},
     "output_type": "execute_result"
    }
   ],
   "source": [
    "5//2"
   ]
  },
  {
   "cell_type": "code",
   "execution_count": 9,
   "metadata": {
    "collapsed": false
   },
   "outputs": [
    {
     "data": {
      "text/plain": [
       "6"
      ]
     },
     "execution_count": 9,
     "metadata": {},
     "output_type": "execute_result"
    }
   ],
   "source": [
    "96%10"
   ]
  },
  {
   "cell_type": "markdown",
   "metadata": {},
   "source": [
    "**Q.4: Now let's write a function that calculates the sum of digits in a two-digit number. How would you isolate the tens digit and units digit? (*Hint: use floor division // and modulo %*)**\n"
=======
    "**Q.1: Below we have a function to calculate the mean of two numbers. Call the function to find the mean of 96 and 99.**"
>>>>>>> 3df33711bbbafdb19beecc1c3561a54531a2bfc1
   ]
  },
  {
   "cell_type": "code",
   "execution_count": null,
   "metadata": {
    "collapsed": false,
    "deletable": true,
    "editable": true
   },
   "outputs": [],
   "source": [
    "def mean(a, b):\n",
    "    return (a + b)/2\n",
    "\n",
    "mean(...)"
   ]
  },
  {
   "cell_type": "markdown",
   "metadata": {
    "deletable": true,
    "editable": true
   },
   "source": [
<<<<<<< HEAD
    "**Q.5: Let's code for the login page of a website. Set up a username and password, and then fill in the code for the login function so that only someone who knows the username and password can login!**"
=======
    "**Return vs Print:** In the function perimeter_of_square, you saw that we used a return statement to get an output value. If we had replaced return with print we would have seen the same result. However there is a huge functional difference between the two. Return should be used when you want to end a function and report a value so that you can use it later in your program, whereas print allows the function to continue running. It is Python's way of saying something. This means that printing doesn't actually report a value. To understand this difference, take a look at the examples below."
>>>>>>> 3df33711bbbafdb19beecc1c3561a54531a2bfc1
   ]
  },
  {
   "cell_type": "code",
   "execution_count": null,
   "metadata": {
    "collapsed": false,
    "deletable": true,
    "editable": true
   },
   "outputs": [],
   "source": [
    "def add_2_with_print(num): \n",
    "    print(\"Hello!\")\n",
    "    return num + 2\n",
    "x = add_2_with_print(3)\n",
    "x # Here, the function returns 5, and the variable x is set equal to the function's return value "
   ]
  },
  {
   "cell_type": "markdown",
   "metadata": {
    "deletable": true,
    "editable": true
   },
   "source": [
<<<<<<< HEAD
    "**Q.6: Now write your own function that outputs True if a number is a multiple of 3, and False if it is not. Remember to give your function a name, parameter(s) and a return statement!**\n",
    "\n"
=======
    "As you can see above, in add_2_with_print, the print statement is executed and the function continues running to return 3 + 2 = 5. However in add_2_with_return, the function stops running at the first return statement, i.e. at \"Hello!\" and the interpreter never gets to look at the next return statement.\n",
    "\n",
    "**\n",
    "Q.2: Let's write a function that'll allow you to tell someone your name and age! Replace the blanks with your code!**"
   ]
  },
  {
   "cell_type": "code",
   "execution_count": null,
   "metadata": {
    "collapsed": false,
    "deletable": true,
    "editable": true
   },
   "outputs": [],
   "source": [
    "def name_and_age(name, age):\n",
    "    ____(\"My name is \" + name) # Fill in the blank with either \"return\" or \"print\"\n",
    "    print(\"I am \" + ____ + \" years old\") \n",
    "name_and_age(\"your name here\", \"your age here\")"
   ]
  },
  {
   "cell_type": "markdown",
   "metadata": {
    "deletable": true,
    "editable": true
   },
   "source": [
    "**Q.3: Let's write a function that adds two numbers together if they are both less than 20. If this is not the case, we multiply them with each other.**"
   ]
  },
  {
   "cell_type": "code",
   "execution_count": null,
   "metadata": {
    "collapsed": true,
    "deletable": true,
    "editable": true
   },
   "outputs": [],
   "source": [
    "def add_or_multiply(a, b):\n",
    "    if (a < 20) and (b < 20):\n",
    "        return _________\n",
    "    else:\n",
    "        return _________"
   ]
  },
  {
   "cell_type": "markdown",
   "metadata": {
    "deletable": true,
    "editable": true
   },
   "source": [
    "In the function above you have used an if-else statement. In such statements, if the first if case is True, the interpreter executes the code indented under the if case. If not, it executes the code under the else case. These were introduced at the end of the previous notebook.\n",
    "\n",
    "\n",
    "You have also now seen And and will see Or soon too. Both are boolean functions that take in two inputs. And returns True if both of its inputs are True, while Or returns True if even one of its inputs is True.\n",
    "\n",
    "\n",
    "**Floor Division and Modulo:** In the previous lesson, we learnt about various operations that we can perform in Python, including addition +, subtraction -, multiplication *, division / and exponentiation. Today, let's learn about two more extremely useful operations:\n",
    "- **Floor division** (//):  Divides one number by the other, and rounds down.\n",
    "- **Modulo** (%): Finds the remainder after division of one number by the other."
>>>>>>> 3df33711bbbafdb19beecc1c3561a54531a2bfc1
   ]
  },
  {
   "cell_type": "code",
   "execution_count": null,
   "metadata": {
    "collapsed": false,
    "deletable": true,
    "editable": true
   },
   "outputs": [],
   "source": [
<<<<<<< HEAD
    "def multiple_of_3(n):\n",
    "    #your code here"
=======
    "5 // 2       # 5/2 = 2.5, so 5//2 = 2"
   ]
  },
  {
   "cell_type": "code",
   "execution_count": null,
   "metadata": {
    "collapsed": false,
    "deletable": true,
    "editable": true
   },
   "outputs": [],
   "source": [
    "96 % 7       # The remainder when you divide 96 by 7 is 5, since 96 = 13*7 + 5"
>>>>>>> 3df33711bbbafdb19beecc1c3561a54531a2bfc1
   ]
  },
  {
   "cell_type": "markdown",
<<<<<<< HEAD
   "metadata": {},
   "source": [
    "**For Loops**: For loops are traditionally used when you have a block of code which you want to repeat a fixed number of times. The Python for statement iterates over the members of a sequence in order, executing the same block of code each time. For example, suppose we want to print numbers from 1 to 5. We could do it as shown below:"
=======
   "metadata": {
    "deletable": true,
    "editable": true
   },
   "source": [
    "**Q.4: Write a function that calculates the sum of digits in a two-digit number. How would you isolate the tens digit and units digit? (Hint: use floor division // and modulo %)\n",
    "**"
>>>>>>> 3df33711bbbafdb19beecc1c3561a54531a2bfc1
   ]
  },
  {
   "cell_type": "code",
   "execution_count": 17,
   "metadata": {
    "collapsed": true,
    "deletable": true,
    "editable": true
   },
   "outputs": [
    {
     "name": "stdout",
     "output_type": "stream",
     "text": [
      "1\n",
      "2\n",
      "3\n",
      "4\n",
      "5\n"
     ]
    }
   ],
   "source": [
<<<<<<< HEAD
    "print(1)\n",
    "print(2)\n",
    "print(3)\n",
    "print(4)\n",
    "print(5)"
=======
    "def sum_of_digits(n):\n",
    "    units_digit = _____________\n",
    "    tens_digit = _____________\n",
    "    return units_digit + tens_digit"
>>>>>>> 3df33711bbbafdb19beecc1c3561a54531a2bfc1
   ]
  },
  {
   "cell_type": "markdown",
   "metadata": {
    "deletable": true,
    "editable": true
   },
   "source": [
<<<<<<< HEAD
    "While in the example above, we have successfully printed the numbers from 1-5, we could do it much more efficiently. Note that we are essentially repeating the same step (printing) every time, but with different inputs. Using a for loop, we can simplify our code:"
=======
    "**Q.5: Let's code for the login page of a website. Set up a username and password, and then fill in the code for the login function so that only someone who knows the username and password can login!**"
>>>>>>> 3df33711bbbafdb19beecc1c3561a54531a2bfc1
   ]
  },
  {
   "cell_type": "code",
<<<<<<< HEAD
   "execution_count": 21,
   "metadata": {
    "collapsed": false
   },
   "outputs": [
    {
     "name": "stdout",
     "output_type": "stream",
     "text": [
      "1\n",
      "2\n",
      "3\n",
      "4\n",
      "5\n"
     ]
    }
   ],
   "source": [
    "for i in range (1,6): #range gives a range of numbers from 1 to 6, excluding 6\n",
    "    print(i)"
=======
   "execution_count": null,
   "metadata": {
    "collapsed": false,
    "deletable": true,
    "editable": true
   },
   "outputs": [],
   "source": [
    "username = 'Your username here'\n",
    "password = 'Your password here'\n",
    "def login(name, passw): \n",
    "    if ________:\n",
    "        print(\"Login successful!\") \n",
    "    else:\n",
    "        print(\"Sorry! Invalid username or password.\")\n",
    "login(username, password)"
>>>>>>> 3df33711bbbafdb19beecc1c3561a54531a2bfc1
   ]
  },
  {
   "cell_type": "markdown",
   "metadata": {
    "deletable": true,
    "editable": true
   },
   "source": [
<<<<<<< HEAD
    "The *i* in our for loop is a *variable* that acts like a counter. You use it in any place you would use a number, and it reports the value it holds. "
=======
    "**Q.6: FIZZBUZZ: Write a function that takes in integers. If the number is a multiple of 3, print \"FIZZ\". If the number is a multiple of 5, print \"BUZZ\". If the number is a multiple of 15, print \"FIZZBUZZ\". Otherwise, print out the number itself.** This is a pretty common programming interview problem."
   ]
  },
  {
   "cell_type": "code",
   "execution_count": null,
   "metadata": {
    "collapsed": false,
    "deletable": true,
    "editable": true
   },
   "outputs": [],
   "source": [
    "def fizzbuzz(n):\n",
    "    # your code here"
>>>>>>> 3df33711bbbafdb19beecc1c3561a54531a2bfc1
   ]
  },
  {
   "cell_type": "markdown",
   "metadata": {
    "deletable": true,
    "editable": true
   },
   "source": [
<<<<<<< HEAD
    "Suppose we want to print all even numbers less than or equal to 20. Let's do it using a for loop:"
=======
    "**For Loops:** For loops are traditionally used when you have a block of code which you want to repeat a fixed number of times. The Python for statement iterates over the members of a sequence in order, executing the same block of code each time. For example, suppose we want to print numbers from 1 to 5. We could do it as shown below:"
>>>>>>> 3df33711bbbafdb19beecc1c3561a54531a2bfc1
   ]
  },
  {
   "cell_type": "code",
<<<<<<< HEAD
   "execution_count": 23,
   "metadata": {
    "collapsed": true
   },
   "outputs": [
    {
     "name": "stdout",
     "output_type": "stream",
     "text": [
      "0\n",
      "2\n",
      "4\n",
      "6\n",
      "8\n",
      "10\n",
      "12\n",
      "14\n",
      "16\n",
      "18\n",
      "20\n"
     ]
    }
   ],
   "source": [
    "for i in range(11): #first argument of range defaults as 0\n",
    "    print(i*2)"
=======
   "execution_count": null,
   "metadata": {
    "collapsed": false,
    "deletable": true,
    "editable": true
   },
   "outputs": [],
   "source": [
    "print(1)\n",
    "print(2)\n",
    "print(3)\n",
    "print(4)\n",
    "print(5)"
>>>>>>> 3df33711bbbafdb19beecc1c3561a54531a2bfc1
   ]
  },
  {
   "cell_type": "markdown",
   "metadata": {
    "deletable": true,
    "editable": true
   },
   "source": [
<<<<<<< HEAD
    "We could also do this using a for loop, with an if statement!"
=======
    "While in the example above, we have successfully printed the numbers from 1-5, we could do it much more efficiently. Note that we are essentially repeating the same step (printing) every time, but with different inputs. Using a for loop, we can simplify our code:"
>>>>>>> 3df33711bbbafdb19beecc1c3561a54531a2bfc1
   ]
  },
  {
   "cell_type": "code",
   "execution_count": 24,
   "metadata": {
    "collapsed": false,
    "deletable": true,
    "editable": true
   },
   "outputs": [
    {
     "name": "stdout",
     "output_type": "stream",
     "text": [
      "0\n",
      "2\n",
      "4\n",
      "6\n",
      "8\n",
      "10\n",
      "12\n",
      "14\n",
      "16\n",
      "18\n",
      "20\n"
     ]
    }
   ],
   "source": [
<<<<<<< HEAD
    "for i in range(21):\n",
    "    if i%2 == 0:\n",
    "        print(i)"
=======
    "for i in range (1, 6): # \"range\" gives a range of numbers from 1 to 6, excluding 6\n",
    "    print(i)"
>>>>>>> 3df33711bbbafdb19beecc1c3561a54531a2bfc1
   ]
  },
  {
   "cell_type": "markdown",
   "metadata": {
    "deletable": true,
    "editable": true
   },
   "source": [
<<<<<<< HEAD
    "**Q.7: Print \"Hello!\" three times, using a for loop.**"
=======
    "The _i_ in our for loop is a _variable_ that acts like a counter. You use it in any place you would use a number, and it reports the value it holds.\n",
    "\n",
    "Suppose we want to print all even numbers less than or equal to 20. Let's do it using a for loop:"
>>>>>>> 3df33711bbbafdb19beecc1c3561a54531a2bfc1
   ]
  },
  {
   "cell_type": "code",
   "execution_count": null,
   "metadata": {
<<<<<<< HEAD
    "collapsed": true
   },
   "outputs": [],
   "source": [
    "for i in range(###):\n",
    "    print(####)"
=======
    "collapsed": false,
    "deletable": true,
    "editable": true
   },
   "outputs": [],
   "source": [
    "for i in range (11):     # first argument of range defaults as 0\n",
    "    print(i*2)"
>>>>>>> 3df33711bbbafdb19beecc1c3561a54531a2bfc1
   ]
  },
  {
   "cell_type": "markdown",
   "metadata": {
    "deletable": true,
    "editable": true
   },
   "source": [
<<<<<<< HEAD
    "**Q.8: Let's try something with big numbers now!  Write a program to find those numbers between 1500 and 2500 (both included) which are divisible by 4, 7, *and* 9.**\n"
=======
    "We could also do this using a for loop, with an if statement!"
>>>>>>> 3df33711bbbafdb19beecc1c3561a54531a2bfc1
   ]
  },
  {
   "cell_type": "code",
<<<<<<< HEAD
   "execution_count": 27,
   "metadata": {
    "collapsed": true
   },
   "outputs": [
    {
     "ename": "SyntaxError",
     "evalue": "invalid syntax (<ipython-input-27-638f2c25ae83>, line 2)",
     "output_type": "error",
     "traceback": [
      "\u001b[0;36m  File \u001b[0;32m\"<ipython-input-27-638f2c25ae83>\"\u001b[0;36m, line \u001b[0;32m2\u001b[0m\n\u001b[0;31m    if ####\u001b[0m\n\u001b[0m     ^\u001b[0m\n\u001b[0;31mSyntaxError\u001b[0m\u001b[0;31m:\u001b[0m invalid syntax\n"
     ]
    }
   ],
   "source": [
    "for i in range(####):\n",
    "    if ####:\n",
    "        print(###)"
=======
   "execution_count": null,
   "metadata": {
    "collapsed": false,
    "deletable": true,
    "editable": true
   },
   "outputs": [],
   "source": [
    "for i in range(21):\n",
    "    if i % 2 == 0:\n",
    "        print(i)"
>>>>>>> 3df33711bbbafdb19beecc1c3561a54531a2bfc1
   ]
  },
  {
   "cell_type": "markdown",
   "metadata": {
    "deletable": true,
    "editable": true
   },
   "source": [
<<<<<<< HEAD
    "## Packages"
   ]
  },
  {
   "cell_type": "markdown",
   "metadata": {},
   "source": [
    "A package is simply a set of useful programs that we use so that we don’t have to write the same code all the time. Think of them as collections of functions written by other people to make life easier for programmers like you! They allow you to do a lot more with your programs, all while making them shorter and more readable.\n",
    "\n",
    "*Volunteers -> For example, imagine you write a program that generates prime numbers, you could write this into a package called “generatePrime” and publish it on the web. Then your friend, who has to write a cybersecurity program for a bank can simply type “import generatePrime” in his program and call your function to generate a large prime number for him to work with. Another friend of yours wishes to write a program to assign one prime number to each of her classmates as a part of a school project. She too, can import your package and use your function to help with her project. It is important to note here that you did not change your code at all, and yet, two different people were greatly aided by it in two completely different ways.*\n"
=======
    "**Q.7: Print \"Hello!\" three times, using a for loop.**"
   ]
  },
  {
   "cell_type": "code",
   "execution_count": null,
   "metadata": {
    "collapsed": false,
    "deletable": true,
    "editable": true
   },
   "outputs": [],
   "source": [
    "for i in range(____):\n",
    "    print(_____)"
>>>>>>> 3df33711bbbafdb19beecc1c3561a54531a2bfc1
   ]
  },
  {
   "cell_type": "markdown",
   "metadata": {
    "deletable": true,
    "editable": true
   },
   "source": [
<<<<<<< HEAD
    "**What Packages Will We Use?**\n",
    "\n",
    "**Datascience**: This package allows us to look at data in tables, and change these tables to show us what we want.\n",
    "\n",
    "**Numpy**: This package has functions to help us calculate important formulas and process lots of data.\n",
    "\n"
=======
    "**Q.8: Write code that prints out the result of calling your fizzbuzz function on the the first n positive integers, each on its own line. For example, when calling print_fizzbuzz(15), your output should look like this:**\n",
    "\n",
    "1\n",
    "\n",
    "2\n",
    "\n",
    "Fizz\n",
    "\n",
    "4\n",
    "\n",
    "Bizz\n",
    "\n",
    "Fizz\n",
    "\n",
    "7\n",
    "\n",
    "8\n",
    "\n",
    "Fizz\n",
    "\n",
    "Buzz\n",
    "\n",
    "11\n",
    "\n",
    "Fizz\n",
    "\n",
    "13\n",
    "\n",
    "14\n",
    "\n",
    "FizzBuzz"
>>>>>>> 3df33711bbbafdb19beecc1c3561a54531a2bfc1
   ]
  },
  {
   "cell_type": "code",
   "execution_count": null,
   "metadata": {
    "collapsed": false,
    "deletable": true,
    "editable": true
   },
   "outputs": [],
   "source": [
<<<<<<< HEAD
    "When you call functions from a package, you put the package's name and the \".\" character before the function's name. If you're going to be using these packages a lot, retyping the name can get tiring! This is why we use the \"as\" keyword once we import the package. After that line of code, the package can be referred to whatever you call it. \n",
    "\n",
    "**Q.9: Try importing numpy as np below.**\n"
=======
    "def print_fizzbuzz(n):\n",
    "    \"YOUR CODE HERE\""
   ]
  },
  {
   "cell_type": "markdown",
   "metadata": {
    "deletable": true,
    "editable": true
   },
   "source": [
    "**Q.9: Write a function to find the average of all the numbers from 1 to any number. Remember, the range function doesn't include the second number.\n",
    "**"
>>>>>>> 3df33711bbbafdb19beecc1c3561a54531a2bfc1
   ]
  },
  {
   "cell_type": "code",
   "execution_count": null,
   "metadata": {
<<<<<<< HEAD
    "collapsed": true
   },
   "outputs": [],
   "source": []
=======
    "collapsed": false,
    "deletable": true,
    "editable": true
   },
   "outputs": [],
   "source": [
    "def mean_range(n):\n",
    "    sum = 0\n",
    "    for i in range(________):\n",
    "        sum = ______ + _______ # Here, we want to add a number to the sum\n",
    "    return _____ / _____\n",
    "\n",
    "mean_range(1000)"
   ]
>>>>>>> 3df33711bbbafdb19beecc1c3561a54531a2bfc1
  },
  {
   "cell_type": "markdown",
   "metadata": {
    "deletable": true,
    "editable": true
   },
   "source": [
<<<<<<< HEAD
    "Here's another way to import a package (The * just means \"everything\")\n"
=======
    "### Arrays\n",
    "Run the code below to set up the rest of the lesson."
>>>>>>> 3df33711bbbafdb19beecc1c3561a54531a2bfc1
   ]
  },
  {
   "cell_type": "code",
   "execution_count": 3,
   "metadata": {
<<<<<<< HEAD
    "collapsed": true
   },
   "outputs": [],
   "source": [
    "from datascience import *"
   ]
  },
  {
   "cell_type": "markdown",
   "metadata": {},
   "source": [
    "## Arrays -> TODO: something about indexing into arrays?\n"
=======
    "collapsed": false,
    "deletable": true,
    "editable": true
   },
   "outputs": [],
   "source": [
    "from datascience import *\n",
    "import numpy as np"
   ]
  },
  {
   "cell_type": "markdown",
   "metadata": {
    "deletable": true,
    "editable": true
   },
   "source": [
    "\n",
    "While there are many different types of data, we will primarily be working with arrays in this class. Arrays can contain strings or other types of values, but a single numpy array can only contain a single kind of data. For example, the array below only contains strings.\n"
   ]
  },
  {
   "cell_type": "code",
   "execution_count": null,
   "metadata": {
    "collapsed": false,
    "deletable": true,
    "editable": true
   },
   "outputs": [],
   "source": [
    "india = np.array([\"delhi\", \"bombay\", \"amritsar\"])\n",
    "india"
>>>>>>> 3df33711bbbafdb19beecc1c3561a54531a2bfc1
   ]
  },
  {
   "cell_type": "markdown",
   "metadata": {
    "deletable": true,
    "editable": true
   },
   "source": [
<<<<<<< HEAD
    "While there are many different types of data, we will primarily be working with arrays in this class. Arrays can contain strings or other types of values, but a single array can only contain a single kind of data. For example, the array below only contains strings.\n"
=======
    "There is a subtle difference between arrays and lists. Lists, which are defined by square brackets [] (for example, if you removed the `np.array()` from the first line in the cell above), can contain multiple object types. That difference isn't important for us right now, as we'll stick to using arrays as they give us more functionality.\n",
    "\n",
    "\n",
    "Arrays can be used in arithmetic expressions to compute over their contents. When an array is combined with a single number, that number is combined with each element of the array. For example, below we have an array which contains the average temperature data of four cities in India. We find that there has been a 2 degree rise in average temperature of each city. To compute the new temperature of each city, we can simply add 2 to the array."
>>>>>>> 3df33711bbbafdb19beecc1c3561a54531a2bfc1
   ]
  },
  {
   "cell_type": "code",
<<<<<<< HEAD
   "execution_count": 3,
=======
   "execution_count": null,
>>>>>>> 3df33711bbbafdb19beecc1c3561a54531a2bfc1
   "metadata": {
    "collapsed": false,
    "deletable": true,
    "editable": true
   },
<<<<<<< HEAD
   "outputs": [
    {
     "data": {
      "text/plain": [
       "array(['mumbai', 'delhi', 'bombay', 'chennai'], \n",
       "      dtype='<U7')"
      ]
     },
     "execution_count": 3,
     "metadata": {},
     "output_type": "execute_result"
    }
   ],
   "source": [
    "import numpy as np\n",
    "from datascience import *\n",
    "india = make_array(\"mumbai\", \"delhi\", \"bombay\", \"chennai\")\n",
    "india"
=======
   "outputs": [],
   "source": [
    "average_temperature = np.array([34, 36, 37, 32])\n",
    "average_temperature + 2"
>>>>>>> 3df33711bbbafdb19beecc1c3561a54531a2bfc1
   ]
  },
  {
   "cell_type": "markdown",
   "metadata": {
    "deletable": true,
    "editable": true
   },
   "source": [
<<<<<<< HEAD
    "Arrays can be used in arithmetic expressions to compute over their contents. When an array is combined with a single number, that number is combined with each element of the array. For example, below we have an array which contains the average temperature data of four cities in India. We find that there has been a 2 degree rise in average temperature of each city. To compute the new temperature of each city, we can simply add 2 to the array."
=======
    "**Q.10: Suppose we have an array that contains the marks of 10 students on their math test (out of 20 points). How would we compute their percentages? Hint: divide by a number.**"
>>>>>>> 3df33711bbbafdb19beecc1c3561a54531a2bfc1
   ]
  },
  {
   "cell_type": "code",
   "execution_count": 14,
   "metadata": {
    "collapsed": false,
    "deletable": true,
    "editable": true
   },
<<<<<<< HEAD
   "outputs": [
    {
     "data": {
      "text/plain": [
       "array([36, 38, 39, 34])"
      ]
     },
     "execution_count": 14,
     "metadata": {},
     "output_type": "execute_result"
    }
   ],
   "source": [
    "average_temperature = make_array(34, 36, 37, 32)\n",
    "average_temperature + 2"
=======
   "outputs": [],
   "source": [
    "student_marks = np.array([18, 17, 19, 15, 18, 20, 12, 17, 11, 14])\n",
    "student_percentages = _________\n",
    "student_percentages"
>>>>>>> 3df33711bbbafdb19beecc1c3561a54531a2bfc1
   ]
  },
  {
   "cell_type": "markdown",
   "metadata": {
    "deletable": true,
    "editable": true
   },
   "source": [
<<<<<<< HEAD
    "**Q.10: Suppose we have an array that contain the marks of 10 students on their math test (out of 20 points). How would we compute their percentages? Hint: divide by a number.**"
=======
    "Let's calculate the mean of an array of different kinds of flowers growing in a garden, using built-in functions. `sum` adds up all the elements in an array, and `len` takes the amount of elements in the array. There are a lot of built-in functions in Python, but we'll tell you when you need to use them and which ones to use.\n"
>>>>>>> 3df33711bbbafdb19beecc1c3561a54531a2bfc1
   ]
  },
  {
   "cell_type": "code",
<<<<<<< HEAD
   "execution_count": 13,
   "metadata": {
    "collapsed": false
   },
   "outputs": [
    {
     "data": {
      "text/plain": [
       "array([ 90,  85,  95,  75,  90, 100,  60,  85,  55,  70])"
      ]
     },
     "execution_count": 13,
     "metadata": {},
     "output_type": "execute_result"
    }
   ],
   "source": [
    "students_marks = make_array(18, 17, 19, 15, 18, 20, 12, 17, 11, 14)\n",
    "students_percentages = ####\n",
    "students_percentages"
=======
   "execution_count": null,
   "metadata": {
    "collapsed": false,
    "deletable": true,
    "editable": true
   },
   "outputs": [],
   "source": [
    "flowers = np.array([12, 15, 19, 32, 20]) \n",
    "def mean(array):\n",
    "    total = array.sum() #Gives us the sum of elements in an array\n",
    "    length = len(array) #len is a function that returns the length of its input \n",
    "    return total/length\n",
    "mean(flowers)"
   ]
  },
  {
   "cell_type": "markdown",
   "metadata": {
    "deletable": true,
    "editable": true
   },
   "source": [
    "**Q.11: In the worksheet, we learnt how to convert values into standard units. Using what you've learnt from there, let's convert the annual rainfall of 5 cities into standard units, with arrays.**"
   ]
  },
  {
   "cell_type": "code",
   "execution_count": null,
   "metadata": {
    "collapsed": false,
    "deletable": true,
    "editable": true
   },
   "outputs": [],
   "source": [
    "annual_rainfall = np.array([695, 958, 760, 1118, 1063])\n",
    "mean_rainfall = _________________ # You can solve this manually, or explore numpy \n",
    "variance = __________________\n",
    "standard_deviation = np.sqrt(variance)\n",
    "mean_rainfall_standard = ____________"
>>>>>>> 3df33711bbbafdb19beecc1c3561a54531a2bfc1
   ]
  },
  {
   "cell_type": "markdown",
   "metadata": {
    "deletable": true,
    "editable": true
   },
   "source": [
<<<<<<< HEAD
    "The numpy package provides us with convenient functions for creating and manipulating arrays. Some examples include np.prod,which multiplies all the elements together and np.sum which adds all the elements together. Both of these functions take in an array as their argument and return a single value. We also have functions that take in arrays as arguments and return arrays of values. Examples include np.diff, which computes the difference between adjacent elements and np.round which rounds each element to the nearest whole number.\n",
    "Let's calculate the mean of an array of different kinds of flowers growing in a garden, using functions.\n"
=======
    "Let's take this a bit further. Just like you can make for loops run over a certain _range_ of numbers, you can also go through arrays with for loops! Run the code below to see what happens."
>>>>>>> 3df33711bbbafdb19beecc1c3561a54531a2bfc1
   ]
  },
  {
   "cell_type": "code",
<<<<<<< HEAD
   "execution_count": 16,
   "metadata": {
    "collapsed": false
   },
   "outputs": [
    {
     "data": {
      "text/plain": [
       "19.600000000000001"
      ]
     },
     "execution_count": 16,
     "metadata": {},
     "output_type": "execute_result"
    }
   ],
   "source": [
    "flowers = make_array(12, 15, 19, 32, 20)\n",
    "total = flowers.sum()\n",
    "length = len(flowers) #len is a function that returns the length of its input\n",
    "mean = total/length\n",
    "mean"
=======
   "execution_count": null,
   "metadata": {
    "collapsed": false,
    "deletable": true,
    "editable": true
   },
   "outputs": [],
   "source": [
    "data = np.array([3, 3, 7, 35, 98, 23, 70, 18, 39, 18, 60, 20, 58, 32]) \n",
    "for i in data:\n",
    "    print(i)"
>>>>>>> 3df33711bbbafdb19beecc1c3561a54531a2bfc1
   ]
  },
  {
   "cell_type": "markdown",
   "metadata": {
    "deletable": true,
    "editable": true
   },
   "source": [
<<<<<<< HEAD
    "**Q.11: In the worksheet, we learnt how to convert values into standard units. Using what you've learnt from there, let's convert the annual rainfall of 5 cities into standard units, with arrays.**\n"
=======
    "With just two lines of code, we printed 14 numbers!\n",
    "\n",
    "**Q.12: Print the contents of the mean_rainfall_standard array.**"
>>>>>>> 3df33711bbbafdb19beecc1c3561a54531a2bfc1
   ]
  },
  {
   "cell_type": "code",
   "execution_count": null,
   "metadata": {
    "collapsed": false,
    "deletable": true,
    "editable": true
   },
   "outputs": [],
   "source": [
<<<<<<< HEAD
    "annual_rainfall = make_array(695, 958, 760, 1118, 1063)\n",
    "mean_rainfall = ________________\n",
    "variance = __________________\n",
    "standard_deviation = np.sqrt(variance)\n",
    "mean_rainfall_standard = ____________\n",
    "mean_rainfall_standard"
=======
    "print(________)"
   ]
  },
  {
   "cell_type": "markdown",
   "metadata": {
    "deletable": true,
    "editable": true
   },
   "source": [
    "\n",
    "That's it for this session's notebook. In the next session, we'll begin talking about the concept of tables, and how we can use them to store, manipulate and analyze data.\n"
>>>>>>> 3df33711bbbafdb19beecc1c3561a54531a2bfc1
   ]
  }
 ],
 "metadata": {
  "kernelspec": {
   "display_name": "Python [default]",
   "language": "python",
   "name": "python3"
  },
  "language_info": {
   "codemirror_mode": {
    "name": "ipython",
    "version": 3
   },
   "file_extension": ".py",
   "mimetype": "text/x-python",
   "name": "python",
   "nbconvert_exporter": "python",
   "pygments_lexer": "ipython3",
   "version": "3.5.2"
  }
 },
 "nbformat": 4,
 "nbformat_minor": 2
}
