{
 "cells": [
  {
   "cell_type": "markdown",
   "metadata": {},
   "source": [
    "## Lesson 3: Intro to Statistics (Part 2), Python Wrap-Up, and Tables"
   ]
  },
  {
   "cell_type": "markdown",
   "metadata": {},
   "source": [
    "On the worksheet, we learned a bit more about standard deviation and discovered a couple ways to compare individual points in our dataset to one another. Now, let's discover how we can use Python to process data. Along the way, we'll apply what we learned on the worksheet with these new Python tools."
   ]
  },
  {
   "cell_type": "markdown",
   "metadata": {},
   "source": [
    "## Packages"
   ]
  },
  {
   "cell_type": "markdown",
   "metadata": {},
   "source": [
    "No, not the kind at the post office (should we keep this?). \n",
    "A package is simply a set of useful programs that we use so that we don’t have to write the same code all the time. \n",
    "For example, imagine you write a program that generates prime numbers, you could write this into a package called “generatePrime” and publish it on the web. Then your friend, who has to write a cybersecurity program for a bank can simply type “import generatePrime” in his program and call your function to generate a large prime number for him to work with. Another friend of yours wishes to write a program to assign one prime number to each of her classmates as a part of a school project. She too, can import your package and use your function to help with her project.\n",
    "It is important to note here that **you** did not change your code at all, and yet, two different people were greatly aided by it in two completely different ways."
   ]
  },
  {
   "cell_type": "markdown",
   "metadata": {},
   "source": [
    "**What do packages do?** Because packages allow you to use code again and again, it makes life easier for programmers like you! Packages will allow you to do a lot more with your programs, all while making them shorter and more readable."
   ]
  },
  {
   "cell_type": "markdown",
   "metadata": {},
   "source": [
    "**What Packages Will We Use?**"
   ]
  },
  {
   "cell_type": "markdown",
   "metadata": {},
   "source": [
    "**Datascience**: This package allows us to look at data in tables, and change these tables to show us what we want. "
   ]
  },
  {
   "cell_type": "markdown",
   "metadata": {},
   "source": [
    "**Numpy**: This package is important for scientific computing and has functions to help us calculate important formulas and process lots of data."
   ]
  },
  {
   "cell_type": "markdown",
   "metadata": {},
   "source": [
    "When you call functions from a package, you put the package's name and the \".\" character before the function's name. If you're going to be using these packages a lot, retyping the name can get tiring! This is why we use the \"as\" keyword once we import the package. After that line of code, the package can be referred to whatever you call it. Try importing numpy as np below."
   ]
  },
  {
   "cell_type": "code",
   "execution_count": 8,
   "metadata": {
    "collapsed": true
   },
   "outputs": [],
   "source": [
    "import numpy as np#Leave blank for students"
   ]
  },
  {
   "cell_type": "markdown",
   "metadata": {},
   "source": [
    "Here's another way to import a package (The * just means \"everything\")"
   ]
  },
  {
   "cell_type": "code",
   "execution_count": 9,
   "metadata": {
    "collapsed": true
   },
   "outputs": [],
   "source": [
    "from datascience import *"
   ]
  },
  {
   "cell_type": "markdown",
   "metadata": {
    "collapsed": true
   },
   "source": [
    "## Functions"
   ]
  },
  {
   "cell_type": "markdown",
   "metadata": {},
   "source": [
    "You may be familiar with what functions are from your math class, where you learnt that a function takes in input value(s) and reports an output value. Functions in programming are the same! They are given an input, or many inputs upon which they perform a series of actions, and eventually yield a result. The function contains instructions used to create the output from its input. It’s like a cow that eats grass (the input) which its body turns into milk which a dairy farmer then milks (the output).\n",
    "\n",
    "*Why would we need functions?*\n",
    "\n",
    "Suppose your friend tells you to calculate the perimeter of a square of length 20 cm. You calculate 20 x 4 and tell him the perimeter is 80 cm. He then changes the length to 25 cm, and asks you the same question. You calculate 25 x 4 and tell him the answer is 100 cm. Your friend keeps increasing the length of the square, and asks the same question over and over again, until you get tired of performing the same action. Wouldn't it be great if you could just make a function that could tell your friend the perimeter of a square of any length? That's why we have functions! They allow for generalization of code, so that we don't have to repeat ourselves over and over again.\n",
    "\n",
    "In order to define a function in Python, you must have a function header that specifies the name of the function, and any arguments (a.k.a. input variables, parameters) of the function should be put in parentheses following the function header. The line must begin with the keyword *def* and end with a colon : . This lets the Python interpreter know that the indented lines that follow are part of a function definition.\n"
   ]
  },
  {
   "cell_type": "code",
   "execution_count": 1,
   "metadata": {
    "collapsed": false
   },
   "outputs": [
    {
     "data": {
      "text/plain": [
       "180"
      ]
     },
     "execution_count": 1,
     "metadata": {},
     "output_type": "execute_result"
    }
   ],
   "source": [
    "def perimeter_of_square(length):#perimeter_of_square is the name of the function and length is it's only argument\n",
    "    return length * 4  #return tells the interpreter that it needs output what follows \n",
    "perimeter_of_square(45)"
   ]
  },
  {
   "cell_type": "markdown",
   "metadata": {},
   "source": [
    "**Return vs Print:**\n",
    "In the function above, you saw that we used a *return* statement to get an output value. If we had replaced *return* with *print* we would have seen the same result. However there is a huge functional difference between the two. *Return* should be used when you want to end a function and report a value, whereas *print* allows the function to continue running. It is Python's way of *saying* something. This means that printing doesn't actually report a value. To understand this difference, take a look at the examples below."
   ]
  },
  {
   "cell_type": "code",
   "execution_count": null,
   "metadata": {
    "collapsed": true
   },
   "outputs": [],
   "source": [
    "def add_2_with_print(num):\n",
    "    print(\"Hello!\")\n",
    "    return num + 2\n",
    "\n",
    "add_2_with_print(3)\n"
   ]
  },
  {
   "cell_type": "code",
   "execution_count": 2,
   "metadata": {
    "collapsed": false
   },
   "outputs": [
    {
     "data": {
      "text/plain": [
       "'Hello!'"
      ]
     },
     "execution_count": 2,
     "metadata": {},
     "output_type": "execute_result"
    }
   ],
   "source": [
    "def add_2_with_return(num):\n",
    "    return \"Hello!\"\n",
    "    return num + 2\n",
    "add_2_with_return(3)"
   ]
  },
  {
   "cell_type": "markdown",
   "metadata": {},
   "source": [
    "As you can see above, in add_2_with_print, the print statement is executed and the function continues running to return 3 + 2 = 5. However in add_2_with_return, the function stops running at the first return statement, i.e. at \"Hello!\" and the interpreter never gets to look at the next return statement."
   ]
  },
  {
   "cell_type": "markdown",
   "metadata": {},
   "source": [
    "Let's write a function that'll allow you to tell someone your name and age! Replace the blanks with your code!"
   ]
  },
  {
   "cell_type": "code",
   "execution_count": null,
   "metadata": {
    "collapsed": true
   },
   "outputs": [],
   "source": [
    "def name_and_age(name, age):\n",
    "    ____(\"My name is \" + name) #would you put return or print here?\n",
    "    print(\"I am \" + ___ + \" years old\")\n",
    "\n",
    "name_and_age(\"your name here\", \"your age here\")"
   ]
  },
  {
   "cell_type": "markdown",
   "metadata": {},
   "source": [
    "Let's write a function that adds two numbers together if they are both less than 20. If this is not the case, we multiply them with each other."
   ]
  },
  {
   "cell_type": "code",
   "execution_count": null,
   "metadata": {
    "collapsed": true
   },
   "outputs": [],
   "source": [
    "def add_or_multiply(num1, num2):\n",
    "    if num1 and num2 < 20:\n",
    "        return #your code here\n",
    "    else:\n",
    "        return #your code here"
   ]
  },
  {
   "cell_type": "markdown",
   "metadata": {},
   "source": [
    "In the function above you have used an *if-else statement*. In such statements, if the first if case is True, the interpreter executes the code indented under the if case. If not, it executes the code under the else case. \n",
    "\n",
    "You have also now seen *And* and will see *Or* soon too. Both are boolean functions that take in two inputs. *And* returns True if both of its inputs are True, while *Or* returns True if even one of its inputs is True.\n",
    "\n",
    "Now let's write a function that calculates the sum of digits in a two-digit number. How would you isolate the tens digit and units digit? (*Hint: use floor division // and modulo %*)"
   ]
  },
  {
   "cell_type": "code",
   "execution_count": null,
   "metadata": {
    "collapsed": true
   },
   "outputs": [],
   "source": [
    "def sumofdigits(n):\n",
    "    units_digit = #your code here\n",
    "    tens_digit = #your code here\n",
    "    return units_digit + tens_digit\n",
    "\n",
    "sumofdigits(49) #should return 13\n"
   ]
  },
  {
   "cell_type": "markdown",
   "metadata": {},
   "source": [
    "Let's code for the login page of a website. Set up a username and password, and then fill in the code for the login function so that only someone who knows the username and password can login!"
   ]
  },
  {
   "cell_type": "code",
   "execution_count": null,
   "metadata": {
    "collapsed": true
   },
   "outputs": [],
   "source": [
    "username = 'Your username here'\n",
    "password = 'Your password here'\n",
    "\n",
    "def login(name, passw):\n",
    "    if #your code here\n",
    "        print(\"Login successful!\")\n",
    "    else:\n",
    "        print(\"Sorry! Invalid username or password.\")\n",
    "        \n",
    "login(username, password)\n"
   ]
  },
  {
   "cell_type": "markdown",
   "metadata": {},
   "source": [
    "Now write your own function that outputs True if a number is a multiple of 3, and False if it is not. Remember to give your function a name, parameter(s) and a return/print statement!\n",
    "\n"
   ]
  },
  {
   "cell_type": "code",
   "execution_count": 3,
   "metadata": {
    "collapsed": true
   },
   "outputs": [],
   "source": [
    "#your code here"
   ]
  },
  {
   "cell_type": "markdown",
   "metadata": {},
   "source": [
    "## Arrays\n"
   ]
  },
  {
   "cell_type": "markdown",
   "metadata": {},
   "source": [
    "While there are many different types of data, we will primarily be working with arrays in this class. Arrays can contain strings or other types of values, but a single array can only contain a single kind of data. For example, the array below only contains strings.\n"
   ]
  },
  {
   "cell_type": "code",
   "execution_count": 4,
   "metadata": {
    "collapsed": false
   },
   "outputs": [
    {
     "data": {
      "text/plain": [
       "array(['mumbai', 'delhi', 'bombay', 'chennai'], \n",
       "      dtype='<U7')"
      ]
     },
     "execution_count": 4,
     "metadata": {},
     "output_type": "execute_result"
    }
   ],
   "source": [
    "import numpy as np\n",
    "india = np.array([\"mumbai\", \"delhi\", \"bombay\", \"chennai\"])\n",
    "india"
   ]
  },
  {
   "cell_type": "markdown",
   "metadata": {},
   "source": [
    "Arrays can be used in arithmetic expressions to compute over their contents. When an array is combined with a single number, that number is combined with each element of the array. For example, below we have an array which contains the average temperature data of four cities in India. We find that there has been a 2 degree rise in average temperature of each city. To compute the new temperature of each city, we can simply add 2 to the array."
   ]
  },
  {
   "cell_type": "code",
   "execution_count": 5,
   "metadata": {
    "collapsed": false
   },
   "outputs": [
    {
     "data": {
      "text/plain": [
       "array([36, 38, 39, 34])"
      ]
     },
     "execution_count": 5,
     "metadata": {},
     "output_type": "execute_result"
    }
   ],
   "source": [
    "average_temperature = np.array([34, 36, 37, 32])\n",
    "average_temperature + 2"
   ]
  },
  {
   "cell_type": "markdown",
   "metadata": {},
   "source": [
    "Suppose we have an array that contain the marks (out of 20) of 10 students on their math test. How would we compute their percentages?"
   ]
  },
  {
   "cell_type": "code",
   "execution_count": null,
   "metadata": {
    "collapsed": true
   },
   "outputs": [],
   "source": [
    "students_marks = np.array([18, 17, 19, 15, 18, 20, 12, 17, 11, 14])\n",
    "students_percentages = #insert answer here\n",
    "students_percentages"
   ]
  },
  {
   "cell_type": "markdown",
   "metadata": {},
   "source": [
    "The numpy package provides us with convenient functions for creating and manipulating arrays. Some examples include np.prod,which multiplies all the elements together and np.sum which adds all the elements together.Both of these functions take in an array as their argument and return a single value. We also have functions that take in arrays as arguments and return arrays of values. Examples include np.diff, which computes the difference between adjacent elements and np.round which rounds each element to the nearest whole number.\n",
    "Let's calculate the mean of an array of different kinds of flowers growing in a garden, using functions.\n"
   ]
  },
  {
   "cell_type": "code",
   "execution_count": 6,
   "metadata": {
    "collapsed": false
   },
   "outputs": [
    {
     "data": {
      "text/plain": [
       "19.600000000000001"
      ]
     },
     "execution_count": 6,
     "metadata": {},
     "output_type": "execute_result"
    }
   ],
   "source": [
    "flowers = np.array([12, 15, 19, 32, 20])\n",
    "total = np.sum(flowers)\n",
    "length = len(flowers) #len is a function that returns the length of its input\n",
    "mean = total/length\n",
    "mean"
   ]
  },
  {
   "cell_type": "markdown",
   "metadata": {},
   "source": [
    "In the worksheet, we learnt how to convert values into standard units. Using what you've learnt from there, let's convert the annual rainfall of 5 cities into standard units, with arrays."
   ]
  },
  {
   "cell_type": "code",
   "execution_count": null,
   "metadata": {
    "collapsed": true
   },
   "outputs": [],
   "source": [
    "from math import sqrt #sqrt finds the square root of a number\n",
    "annual_rainfall = np.array([695, 958, 760, 1118, 1063])\n",
    "mean_rainfall = #your code here\n",
    "variance = #your code here\n",
    "standard_deviation = sqrt(variance)\n",
    "mean_rainfall_standard = #your code here\n",
    "mean_rainfall_standard"
   ]
  }
 ],
 "metadata": {
  "anaconda-cloud": {},
  "kernelspec": {
   "display_name": "Python [default]",
   "language": "python",
   "name": "python3"
  },
  "language_info": {
   "codemirror_mode": {
    "name": "ipython",
    "version": 3
   },
   "file_extension": ".py",
   "mimetype": "text/x-python",
   "name": "python",
   "nbconvert_exporter": "python",
   "pygments_lexer": "ipython3",
   "version": "3.5.2"
  }
 },
 "nbformat": 4,
 "nbformat_minor": 2
}
