{
 "cells": [
  {
   "cell_type": "markdown",
   "metadata": {},
   "source": [
    "<img src=\"../dsi.png\" style=\"height:128px;\">"
   ]
  },
  {
   "cell_type": "markdown",
   "metadata": {},
   "source": [
    "## Lesson 9: Regression"
   ]
  },
  {
   "cell_type": "markdown",
   "metadata": {},
   "source": [
    "Today, we will get some hands-on practice with linear regression!"
   ]
  },
  {
   "cell_type": "code",
   "execution_count": 9,
   "metadata": {
    "collapsed": true
   },
   "outputs": [],
   "source": [
    "import numpy as np\n",
    "from datascience import *\n",
    "import matplotlib\n",
    "import matplotlib.pyplot as plots\n",
    "import pandas as pd\n",
    "plots.style.use('fivethirtyeight')\n",
    "import warnings\n",
    "warnings.simplefilter('ignore', FutureWarning)"
   ]
  },
  {
   "cell_type": "markdown",
   "metadata": {},
   "source": [
    "As we have learnt from today's worksheet, the correlation coefficient  r  doesn't just measure how clustered the points in a scatter plot are about a straight line. It also helps identify the straight line about which the points are clustered."
   ]
  },
  {
   "cell_type": "markdown",
   "metadata": {},
   "source": [
    "Let's see if we can find a way to identify this line. \n",
    "\n",
    "Below we have data on the heights of parents and their adult children which seems to show a linear association. Let's make predictions of the children's heights based on the midparent heights and see if there is indeed linearity.\n"
   ]
  },
  {
   "cell_type": "code",
   "execution_count": 40,
   "metadata": {
    "collapsed": false
   },
   "outputs": [
    {
     "data": {
      "text/html": [
       "<table border=\"1\" class=\"dataframe\">\n",
       "    <thead>\n",
       "        <tr>\n",
       "            <th>Family</th> <th>Father</th> <th>Mother</th> <th>Gender</th> <th>Height</th> <th>Kids</th>\n",
       "        </tr>\n",
       "    </thead>\n",
       "    <tbody>\n",
       "        <tr>\n",
       "            <td>1     </td> <td>78.5  </td> <td>67    </td> <td>M     </td> <td>73.2  </td> <td>4   </td>\n",
       "        </tr>\n",
       "    </tbody>\n",
       "        <tr>\n",
       "            <td>1     </td> <td>78.5  </td> <td>67    </td> <td>F     </td> <td>69.2  </td> <td>4   </td>\n",
       "        </tr>\n",
       "    </tbody>\n",
       "        <tr>\n",
       "            <td>1     </td> <td>78.5  </td> <td>67    </td> <td>F     </td> <td>69    </td> <td>4   </td>\n",
       "        </tr>\n",
       "    </tbody>\n",
       "        <tr>\n",
       "            <td>1     </td> <td>78.5  </td> <td>67    </td> <td>F     </td> <td>69    </td> <td>4   </td>\n",
       "        </tr>\n",
       "    </tbody>\n",
       "        <tr>\n",
       "            <td>2     </td> <td>75.5  </td> <td>66.5  </td> <td>M     </td> <td>73.5  </td> <td>4   </td>\n",
       "        </tr>\n",
       "    </tbody>\n",
       "        <tr>\n",
       "            <td>2     </td> <td>75.5  </td> <td>66.5  </td> <td>M     </td> <td>72.5  </td> <td>4   </td>\n",
       "        </tr>\n",
       "    </tbody>\n",
       "        <tr>\n",
       "            <td>2     </td> <td>75.5  </td> <td>66.5  </td> <td>F     </td> <td>65.5  </td> <td>4   </td>\n",
       "        </tr>\n",
       "    </tbody>\n",
       "        <tr>\n",
       "            <td>2     </td> <td>75.5  </td> <td>66.5  </td> <td>F     </td> <td>65.5  </td> <td>4   </td>\n",
       "        </tr>\n",
       "    </tbody>\n",
       "        <tr>\n",
       "            <td>3     </td> <td>75    </td> <td>64    </td> <td>M     </td> <td>71    </td> <td>2   </td>\n",
       "        </tr>\n",
       "    </tbody>\n",
       "        <tr>\n",
       "            <td>3     </td> <td>75    </td> <td>64    </td> <td>F     </td> <td>68    </td> <td>2   </td>\n",
       "        </tr>\n",
       "    </tbody>\n",
       "</table>\n",
       "<p>... (888 rows omitted)</p"
      ],
      "text/plain": [
       "Family | Father | Mother | Gender | Height | Kids\n",
       "1      | 78.5   | 67     | M      | 73.2   | 4\n",
       "1      | 78.5   | 67     | F      | 69.2   | 4\n",
       "1      | 78.5   | 67     | F      | 69     | 4\n",
       "1      | 78.5   | 67     | F      | 69     | 4\n",
       "2      | 75.5   | 66.5   | M      | 73.5   | 4\n",
       "2      | 75.5   | 66.5   | M      | 72.5   | 4\n",
       "2      | 75.5   | 66.5   | F      | 65.5   | 4\n",
       "2      | 75.5   | 66.5   | F      | 65.5   | 4\n",
       "3      | 75     | 64     | M      | 71     | 2\n",
       "3      | 75     | 64     | F      | 68     | 2\n",
       "... (888 rows omitted)"
      ]
     },
     "execution_count": 40,
     "metadata": {},
     "output_type": "execute_result"
    }
   ],
   "source": [
    "family_height = Table.read_table('family.csv')\n",
    "family_height"
   ]
  },
  {
   "cell_type": "code",
   "execution_count": 62,
   "metadata": {
    "collapsed": false
   },
   "outputs": [
    {
     "data": {
      "text/html": [
       "<table border=\"1\" class=\"dataframe\">\n",
       "    <thead>\n",
       "        <tr>\n",
       "            <th>MidParent</th> <th>Child</th>\n",
       "        </tr>\n",
       "    </thead>\n",
       "    <tbody>\n",
       "        <tr>\n",
       "            <td>72.75    </td> <td>73.2 </td>\n",
       "        </tr>\n",
       "    </tbody>\n",
       "        <tr>\n",
       "            <td>72.75    </td> <td>69.2 </td>\n",
       "        </tr>\n",
       "    </tbody>\n",
       "        <tr>\n",
       "            <td>72.75    </td> <td>69   </td>\n",
       "        </tr>\n",
       "    </tbody>\n",
       "        <tr>\n",
       "            <td>72.75    </td> <td>69   </td>\n",
       "        </tr>\n",
       "    </tbody>\n",
       "        <tr>\n",
       "            <td>71       </td> <td>73.5 </td>\n",
       "        </tr>\n",
       "    </tbody>\n",
       "        <tr>\n",
       "            <td>71       </td> <td>72.5 </td>\n",
       "        </tr>\n",
       "    </tbody>\n",
       "        <tr>\n",
       "            <td>71       </td> <td>65.5 </td>\n",
       "        </tr>\n",
       "    </tbody>\n",
       "        <tr>\n",
       "            <td>71       </td> <td>65.5 </td>\n",
       "        </tr>\n",
       "    </tbody>\n",
       "        <tr>\n",
       "            <td>69.5     </td> <td>71   </td>\n",
       "        </tr>\n",
       "    </tbody>\n",
       "        <tr>\n",
       "            <td>69.5     </td> <td>68   </td>\n",
       "        </tr>\n",
       "    </tbody>\n",
       "</table>\n",
       "<p>... (888 rows omitted)</p"
      ],
      "text/plain": [
       "MidParent | Child\n",
       "72.75     | 73.2\n",
       "72.75     | 69.2\n",
       "72.75     | 69\n",
       "72.75     | 69\n",
       "71        | 73.5\n",
       "71        | 72.5\n",
       "71        | 65.5\n",
       "71        | 65.5\n",
       "69.5      | 71\n",
       "69.5      | 68\n",
       "... (888 rows omitted)"
      ]
     },
     "execution_count": 62,
     "metadata": {},
     "output_type": "execute_result"
    }
   ],
   "source": [
    "family_height = family_height.with_columns('Midparentheight', (family_height.column('Father')+family_height.column('Mother'))/2)\n",
    "heights = Table().with_columns(\n",
    "    'MidParent', family_height.column('Midparentheight'),\n",
    "    'Child', family_height.column('Height')\n",
    "    )\n",
    "heights"
   ]
  },
  {
   "cell_type": "markdown",
   "metadata": {},
   "source": [
    "There does indeed seem to be a linear relation. Let's see if we can find a way to identify the regression line. First, notice that linear association doesn't depend on the units of measurement – we might as well measure both variables in standard units.\n"
   ]
  },
  {
   "cell_type": "code",
   "execution_count": 46,
   "metadata": {
    "collapsed": true
   },
   "outputs": [],
   "source": [
    "def standard_units(xyz):\n",
    "    \"Convert any array of numbers to standard units.\"\n",
    "    return (xyz - np.mean(xyz))/np.std(xyz)  "
   ]
  },
  {
   "cell_type": "code",
   "execution_count": 47,
   "metadata": {
    "collapsed": false
   },
   "outputs": [
    {
     "data": {
      "text/html": [
       "<table border=\"1\" class=\"dataframe\">\n",
       "    <thead>\n",
       "        <tr>\n",
       "            <th>MidParent SU</th> <th>Child SU</th>\n",
       "        </tr>\n",
       "    </thead>\n",
       "    <tbody>\n",
       "        <tr>\n",
       "            <td>3.48071     </td> <td>1.79823  </td>\n",
       "        </tr>\n",
       "    </tbody>\n",
       "        <tr>\n",
       "            <td>3.48071     </td> <td>0.681196 </td>\n",
       "        </tr>\n",
       "    </tbody>\n",
       "        <tr>\n",
       "            <td>3.48071     </td> <td>0.625344 </td>\n",
       "        </tr>\n",
       "    </tbody>\n",
       "        <tr>\n",
       "            <td>3.48071     </td> <td>0.625344 </td>\n",
       "        </tr>\n",
       "    </tbody>\n",
       "        <tr>\n",
       "            <td>2.48073     </td> <td>1.882    </td>\n",
       "        </tr>\n",
       "    </tbody>\n",
       "        <tr>\n",
       "            <td>2.48073     </td> <td>1.60275  </td>\n",
       "        </tr>\n",
       "    </tbody>\n",
       "        <tr>\n",
       "            <td>2.48073     </td> <td>-0.352057</td>\n",
       "        </tr>\n",
       "    </tbody>\n",
       "        <tr>\n",
       "            <td>2.48073     </td> <td>-0.352057</td>\n",
       "        </tr>\n",
       "    </tbody>\n",
       "        <tr>\n",
       "            <td>1.62361     </td> <td>1.18386  </td>\n",
       "        </tr>\n",
       "    </tbody>\n",
       "        <tr>\n",
       "            <td>1.62361     </td> <td>0.346087 </td>\n",
       "        </tr>\n",
       "    </tbody>\n",
       "</table>\n",
       "<p>... (888 rows omitted)</p"
      ],
      "text/plain": [
       "MidParent SU | Child SU\n",
       "3.48071      | 1.79823\n",
       "3.48071      | 0.681196\n",
       "3.48071      | 0.625344\n",
       "3.48071      | 0.625344\n",
       "2.48073      | 1.882\n",
       "2.48073      | 1.60275\n",
       "2.48073      | -0.352057\n",
       "2.48073      | -0.352057\n",
       "1.62361      | 1.18386\n",
       "1.62361      | 0.346087\n",
       "... (888 rows omitted)"
      ]
     },
     "execution_count": 47,
     "metadata": {},
     "output_type": "execute_result"
    }
   ],
   "source": [
    "heights_SU = Table().with_columns(\n",
    "    'MidParent SU', standard_units(heights.column('MidParent')),\n",
    "    'Child SU', standard_units(heights.column('Child'))\n",
    ")\n",
    "heights_SU\n"
   ]
  },
  {
   "cell_type": "markdown",
   "metadata": {},
   "source": [
    "On this scale, we can calculate our predictions. But first we have to define which points should be labelled as \"close points\" on this scale. We can say that midparent heights are \"close\" if they are within 0.5 inches of each other. Since standard units measure distances in units of SDs, we have to figure out how many SDs of midparent height correspond to 0.5 inches. One SD of midparent heights is about 1.8 inches. So 0.5 inches is about 0.28 SDs.\n"
   ]
  },
  {
   "cell_type": "code",
   "execution_count": 48,
   "metadata": {
    "collapsed": false
   },
   "outputs": [
    {
     "data": {
      "text/plain": [
       "1.7500351938096907"
      ]
     },
     "execution_count": 48,
     "metadata": {},
     "output_type": "execute_result"
    }
   ],
   "source": [
    "sd_midparent = np.std(heights.column(0))\n",
    "sd_midparent"
   ]
  },
  {
   "cell_type": "code",
   "execution_count": 49,
   "metadata": {
    "collapsed": false
   },
   "outputs": [
    {
     "data": {
      "text/plain": [
       "0.28570853990172551"
      ]
     },
     "execution_count": 49,
     "metadata": {},
     "output_type": "execute_result"
    }
   ],
   "source": [
    "0.5/sd_midparent"
   ]
  },
  {
   "cell_type": "markdown",
   "metadata": {},
   "source": [
    "We can now make a prediction function."
   ]
  },
  {
   "cell_type": "code",
   "execution_count": 51,
   "metadata": {
    "collapsed": true
   },
   "outputs": [],
   "source": [
    "def predict_child_su(mpht_su):\n",
    "    \"\"\"Return a prediction of the height (in standard units) of a child \n",
    "    whose parents have a midparent height of mpht_su in standard units.\n",
    "    \"\"\"\n",
    "    close = 0.5/sd_midparent\n",
    "    close_points = heights_SU.where('MidParent SU', are.between(mpht_su-close, mpht_su + close))\n",
    "    return close_points.column('Child SU').mean()   "
   ]
  },
  {
   "cell_type": "code",
   "execution_count": 52,
   "metadata": {
    "collapsed": true
   },
   "outputs": [],
   "source": [
    "heights_with_su_predictions = heights_SU.with_column(\n",
    "    'Prediction SU', heights_SU.apply(predict_child_su, 'MidParent SU')\n",
    "    )"
   ]
  },
  {
   "cell_type": "code",
   "execution_count": 53,
   "metadata": {
    "collapsed": true
   },
   "outputs": [],
   "source": [
    "heights_with_su_predictions.scatter('MidParent SU')"
   ]
  },
  {
   "cell_type": "markdown",
   "metadata": {},
   "source": [
    "As we have already learnt in the worksheet, in regression, we use the value of one variable (which we will call  *x* ) to predict the value of another (which we will call  *y* ). When the variables *x*  and *y*  are measured in standard units, the regression line for predicting  *y*  based on  *x*  has slope  *r*  and passes through the origin."
   ]
  },
  {
   "cell_type": "markdown",
   "metadata": {},
   "source": [
    "The three functions below compute the correlation, slope, and intercept. All of them take three arguments: the name of the table, the label of the column containing  *x* , and the label of the column containing  *y* ."
   ]
  },
  {
   "cell_type": "code",
   "execution_count": 54,
   "metadata": {
    "collapsed": true
   },
   "outputs": [],
   "source": [
    "def correlation(t, label_x, label_y):\n",
    "    return np.mean(standard_units(t.column(label_x))*standard_units(t.column(label_y)))\n",
    "\n",
    "def slope(t, label_x, label_y):\n",
    "    r = correlation(t, label_x, label_y)\n",
    "    return r*np.std(t.column(label_y))/np.std(t.column(label_x))\n",
    "\n",
    "def intercept(t, label_x, label_y):\n",
    "    return np.mean(t.column(label_y)) - slope(t, label_x, label_y)*np.mean(t.column(label_x))"
   ]
  },
  {
   "cell_type": "markdown",
   "metadata": {},
   "source": [
    "The correlation between midparent height and child's height is 0.33:"
   ]
  },
  {
   "cell_type": "code",
   "execution_count": 56,
   "metadata": {
    "collapsed": false
   },
   "outputs": [
    {
     "data": {
      "text/plain": [
       "0.32707394987259658"
      ]
     },
     "execution_count": 56,
     "metadata": {},
     "output_type": "execute_result"
    }
   ],
   "source": [
    "family_r = correlation(heights, 'MidParent', 'Child')\n",
    "family_r"
   ]
  },
  {
   "cell_type": "markdown",
   "metadata": {},
   "source": [
    "We can also find the equation of the regression line for predicting the child's height based on midparent height."
   ]
  },
  {
   "cell_type": "code",
   "execution_count": 57,
   "metadata": {
    "collapsed": false
   },
   "outputs": [
    {
     "data": {
      "text/plain": [
       "(0.66925889513254522, 22.14880916454139)"
      ]
     },
     "execution_count": 57,
     "metadata": {},
     "output_type": "execute_result"
    }
   ],
   "source": [
    "family_slope = slope(heights, 'MidParent', 'Child')\n",
    "family_intercept = intercept(heights, 'MidParent', 'Child')\n",
    "family_slope, family_intercept"
   ]
  },
  {
   "cell_type": "markdown",
   "metadata": {},
   "source": [
    "The equation of the regression line is\n",
    "\n",
    "estimate of child's height = 0.67⋅midparent height + 22.15\n",
    "\n",
    "estimate of child's height = 0.67⋅midparent height + 22.15\n",
    " \n",
    "This is also known as the regression equation. The principal use of the regression equation is to predict *y* based on *x* .\n",
    "For example, for a midparent height of 70.48 inches, the regression equation predicts the child's height to be 69.32 inches."
   ]
  },
  {
   "cell_type": "code",
   "execution_count": 58,
   "metadata": {
    "collapsed": false
   },
   "outputs": [
    {
     "data": {
      "text/plain": [
       "69.318176093483174"
      ]
     },
     "execution_count": 58,
     "metadata": {},
     "output_type": "execute_result"
    }
   ],
   "source": [
    "family_slope*70.48 + family_intercept\n"
   ]
  },
  {
   "cell_type": "markdown",
   "metadata": {},
   "source": [
    "Here are all of the rows in our family table, along with our original predictions and the new regression predictions of the children's heights."
   ]
  },
  {
   "cell_type": "code",
   "execution_count": 59,
   "metadata": {
    "collapsed": false
   },
   "outputs": [
    {
     "data": {
      "text/html": [
       "<table border=\"1\" class=\"dataframe\">\n",
       "    <thead>\n",
       "        <tr>\n",
       "            <th>MidParent</th> <th>Child</th> <th>Prediction</th> <th>Regression Prediction</th>\n",
       "        </tr>\n",
       "    </thead>\n",
       "    <tbody>\n",
       "        <tr>\n",
       "            <td>72.75    </td> <td>73.2 </td> <td>70.1      </td> <td>70.8374              </td>\n",
       "        </tr>\n",
       "    </tbody>\n",
       "        <tr>\n",
       "            <td>72.75    </td> <td>69.2 </td> <td>70.1      </td> <td>70.8374              </td>\n",
       "        </tr>\n",
       "    </tbody>\n",
       "        <tr>\n",
       "            <td>72.75    </td> <td>69   </td> <td>70.1      </td> <td>70.8374              </td>\n",
       "        </tr>\n",
       "    </tbody>\n",
       "        <tr>\n",
       "            <td>72.75    </td> <td>69   </td> <td>70.1      </td> <td>70.8374              </td>\n",
       "        </tr>\n",
       "    </tbody>\n",
       "        <tr>\n",
       "            <td>71       </td> <td>73.5 </td> <td>70.4158   </td> <td>69.6662              </td>\n",
       "        </tr>\n",
       "    </tbody>\n",
       "        <tr>\n",
       "            <td>71       </td> <td>72.5 </td> <td>70.4158   </td> <td>69.6662              </td>\n",
       "        </tr>\n",
       "    </tbody>\n",
       "        <tr>\n",
       "            <td>71       </td> <td>65.5 </td> <td>70.4158   </td> <td>69.6662              </td>\n",
       "        </tr>\n",
       "    </tbody>\n",
       "        <tr>\n",
       "            <td>71       </td> <td>65.5 </td> <td>70.4158   </td> <td>69.6662              </td>\n",
       "        </tr>\n",
       "    </tbody>\n",
       "        <tr>\n",
       "            <td>69.5     </td> <td>71   </td> <td>68.5025   </td> <td>68.6623              </td>\n",
       "        </tr>\n",
       "    </tbody>\n",
       "        <tr>\n",
       "            <td>69.5     </td> <td>68   </td> <td>68.5025   </td> <td>68.6623              </td>\n",
       "        </tr>\n",
       "    </tbody>\n",
       "</table>\n",
       "<p>... (888 rows omitted)</p"
      ],
      "text/plain": [
       "MidParent | Child | Prediction | Regression Prediction\n",
       "72.75     | 73.2  | 70.1       | 70.8374\n",
       "72.75     | 69.2  | 70.1       | 70.8374\n",
       "72.75     | 69    | 70.1       | 70.8374\n",
       "72.75     | 69    | 70.1       | 70.8374\n",
       "71        | 73.5  | 70.4158    | 69.6662\n",
       "71        | 72.5  | 70.4158    | 69.6662\n",
       "71        | 65.5  | 70.4158    | 69.6662\n",
       "71        | 65.5  | 70.4158    | 69.6662\n",
       "69.5      | 71    | 68.5025    | 68.6623\n",
       "69.5      | 68    | 68.5025    | 68.6623\n",
       "... (888 rows omitted)"
      ]
     },
     "execution_count": 59,
     "metadata": {},
     "output_type": "execute_result"
    }
   ],
   "source": [
    "heights_with_predictions = heights_with_predictions.with_column(\n",
    "    'Regression Prediction', family_slope*heights.column('MidParent') + family_intercept\n",
    ")\n",
    "heights_with_predictions\n"
   ]
  },
  {
   "cell_type": "code",
   "execution_count": 60,
   "metadata": {
    "collapsed": true
   },
   "outputs": [],
   "source": [
    "heights_with_predictions.scatter('MidParent')"
   ]
  },
  {
   "cell_type": "markdown",
   "metadata": {},
   "source": [
    "The grey dots show the regression predictions, all on the regression line. Notice how the line is very close to the gold graph of averages. For these data, the regression line does a good job of approximating the centers of the vertical strips.\n"
   ]
  },
  {
   "cell_type": "code",
   "execution_count": null,
   "metadata": {
    "collapsed": true
   },
   "outputs": [],
   "source": []
  }
 ],
 "metadata": {
  "anaconda-cloud": {},
  "kernelspec": {
   "display_name": "Python [default]",
   "language": "python",
   "name": "python3"
  },
  "language_info": {
   "codemirror_mode": {
    "name": "ipython",
    "version": 3
   },
   "file_extension": ".py",
   "mimetype": "text/x-python",
   "name": "python",
   "nbconvert_exporter": "python",
   "pygments_lexer": "ipython3",
   "version": "3.5.2"
  }
 },
 "nbformat": 4,
 "nbformat_minor": 1
}
