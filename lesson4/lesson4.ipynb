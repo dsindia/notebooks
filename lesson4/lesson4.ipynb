{
 "cells": [
  {
   "cell_type": "markdown",
   "metadata": {
    "deletable": true,
    "editable": true
   },
   "source": [
    "<img src=\"../dsi.png\" style=\"height:128px;\">"
   ]
  },
  {
   "cell_type": "markdown",
   "metadata": {
    "deletable": true,
    "editable": true
   },
   "source": [
    "## Lesson 4: Tables"
   ]
  },
  {
   "cell_type": "markdown",
   "metadata": {
    "deletable": true,
    "editable": true
   },
   "source": [
    "In today's worksheet, we gathered data and organized it into a *table.* Let's now look at how we can represent tables in Python. Run the below cell to get started."
   ]
  },
  {
   "cell_type": "code",
   "execution_count": null,
   "metadata": {
    "collapsed": true,
    "deletable": true,
    "editable": true
   },
   "outputs": [],
   "source": [
    "from datascience import *\n",
    "import numpy as np"
   ]
  },
  {
   "cell_type": "markdown",
   "metadata": {
    "deletable": true,
    "editable": true
   },
   "source": [
    "## Tables"
   ]
  },
  {
   "cell_type": "markdown",
   "metadata": {
    "deletable": true,
    "editable": true
   },
   "source": [
    "Think back to the first session. We did a lot of work with *tables*. Think of tables as an organized way of representing data. Tables have *rows* (read horizontally) and *columns* (read vertically)."
   ]
  },
  {
   "cell_type": "markdown",
   "metadata": {
    "deletable": true,
    "editable": true
   },
   "source": [
    "Rows contain all the data about one item in the table, and columns represent one *attribute* of our data set. Here's an example."
   ]
  },
  {
   "cell_type": "code",
   "execution_count": null,
   "metadata": {
    "collapsed": false,
    "deletable": true,
    "editable": true
   },
   "outputs": [],
   "source": [
    "students = Table().with_column(\"Name\", np.array([\"Rohan\", \"Meena\", \"Priya\", \"Ahmed\"]),\n",
    "                     \"Age\", np.array([18, 16, 17, 15]),\n",
    "                     \"Favorite Activity\", np.array([\"Tabla\", \"Football\", \"Sitar\", \"Cricket\"]),\n",
    "                     \"Favorite Fruit\", np.array([\"Mango\", \"Lychee\", \"Guava\", \"Mango\"]))\n",
    "students"
   ]
  },
  {
   "cell_type": "markdown",
   "metadata": {
    "deletable": true,
    "editable": true
   },
   "source": [
    "Before we move any further, we should break down how to create tables from scratch.\n",
    "\n",
    "In the above cell, you can see that we've called `Table()` – this creates a blank table with no rows and columns. Then, we called the `with_column` function with **eight** arguments, and the end result was a table with $8/2 = 4$ columns. This is because the parameters alternate between column names and column data. `with_column` makes a copy of the `Table` it is called on and adds the requested columns.\n",
    "\n",
    "In the above call to `with_column`, the 1st, 3rd, 5th and 7th parameters are strings, representing the column names, as you can see in the resulting table. The 2nd, 4th, 6th and 8th parameters are arrays, which represent the content of the column defined by the previous string. Notice that each column has the same type of items (only strings, or only ints), but different columns can have different types.\n",
    "\n",
    "Notice that when the above table was defined, we provided exactly four names, four ages, four favorite activities and four favorite fruits. If not all of the arrays passed in have the same number of items, then an error occurs. For example, the following table has 2 columns, but their lengths aren't equal, so we get an error."
   ]
  },
  {
   "cell_type": "code",
   "execution_count": null,
   "metadata": {
    "collapsed": false,
    "deletable": true,
    "editable": true
   },
   "outputs": [],
   "source": [
    "Table().with_column(\"Column 1\", np.array([1, 2, 3, 4]), \n",
    "                    \"Column 2\", np.array([1, 2, 3]))"
   ]
  },
  {
   "cell_type": "markdown",
   "metadata": {
    "deletable": true,
    "editable": true
   },
   "source": [
    "Fix the above table so that there isn't an error by adding an element to the second column, or removing an element from the first column.\n",
    "\n",
    "\n",
    "In Python, we can write expressions to help us work with tables."
   ]
  },
  {
   "cell_type": "markdown",
   "metadata": {
    "deletable": true,
    "editable": true
   },
   "source": [
    "To access data in a column, we can say the following statements. We have to refer to the table by name before calling the *column* function, otherwise Python won't know which table we're referring to!"
   ]
  },
  {
   "cell_type": "code",
   "execution_count": null,
   "metadata": {
    "collapsed": false,
    "deletable": true,
    "editable": true
   },
   "outputs": [],
   "source": [
    "students.column(0)"
   ]
  },
  {
   "cell_type": "code",
   "execution_count": null,
   "metadata": {
    "collapsed": false,
    "deletable": true,
    "editable": true
   },
   "outputs": [],
   "source": [
    "your_data.column(\"Name\")"
   ]
  },
  {
   "cell_type": "markdown",
   "metadata": {
    "deletable": true,
    "editable": true
   },
   "source": [
    "Note how we were able to pass in the column name, as well as its position in the table (it's the first column and we count from zero), to get an array of the names. Let's try something a little harder. How would you find the average age of the students in your table? What about the sum? Experiment below."
   ]
  },
  {
   "cell_type": "code",
   "execution_count": null,
   "metadata": {
    "collapsed": false,
    "deletable": true,
    "editable": true
   },
   "outputs": [],
   "source": [
    "# np.average(x) gives the average of array x\n",
    "# np.sum gives the sum of array x"
   ]
  },
  {
   "cell_type": "markdown",
   "metadata": {
    "deletable": true,
    "editable": true
   },
   "source": [
    "Python can also show us how many entries are in our table with the `num_rows` call. Here, we can see that our table contains data about four people."
   ]
  },
  {
   "cell_type": "code",
   "execution_count": null,
   "metadata": {
    "collapsed": false,
    "deletable": true,
    "editable": true
   },
   "outputs": [],
   "source": [
    "students.num_rows"
   ]
  },
  {
   "cell_type": "markdown",
   "metadata": {
    "deletable": true,
    "editable": true
   },
   "source": [
    "Sometimes, we need to *sort* our data by putting it into a meaningful order. Say we want to find the name of the oldest student. We can use the `sort` function!"
   ]
  },
  {
   "cell_type": "code",
   "execution_count": null,
   "metadata": {
    "collapsed": false,
    "deletable": true,
    "editable": true
   },
   "outputs": [],
   "source": [
    "students.sort(\"Age\", descending = True).column(\"Name\")[0]"
   ]
  },
  {
   "cell_type": "markdown",
   "metadata": {
    "deletable": true,
    "editable": true
   },
   "source": [
    "Write a line of code that sorts your table such that the youngest student is on top."
   ]
  },
  {
   "cell_type": "code",
   "execution_count": null,
   "metadata": {
    "collapsed": false,
    "deletable": true,
    "editable": true
   },
   "outputs": [],
   "source": [
    "your_data.sort(...)"
   ]
  },
  {
   "cell_type": "markdown",
   "metadata": {
    "deletable": true,
    "editable": true
   },
   "source": [
    "Suppose you're at a marketing company trying to see what people your age are interested in. Here's where the *select* statement comes in handy."
   ]
  },
  {
   "cell_type": "code",
   "execution_count": null,
   "metadata": {
    "collapsed": false,
    "deletable": true,
    "editable": true
   },
   "outputs": [],
   "source": [
    "students.select(\"Favorite Fruit\", 2)"
   ]
  },
  {
   "cell_type": "markdown",
   "metadata": {
    "deletable": true,
    "editable": true
   },
   "source": [
    "By calling `select(\"Favorite Fruit\", 2)`, we created a new table with 2 columns. The first column was the `\"Favorite Fruit\"` column of `students`, since this was the first argument passed into `select`. The second column was the 2nd column of `students`, as the second parameter was the number 2. What this means is that we can pass either strings or numbers into the `select` function to columns from a table. The order they appear in our new selected table is the order they were called in the `select` function call, not the order in the original table (note that Favorite Fruit came after Favorite Activity in the original table). "
   ]
  },
  {
   "cell_type": "markdown",
   "metadata": {
    "deletable": true,
    "editable": true
   },
   "source": [
    "Now, let's add a column to our table."
   ]
  },
  {
   "cell_type": "code",
   "execution_count": null,
   "metadata": {
    "collapsed": false,
    "deletable": true,
    "editable": true
   },
   "outputs": [],
   "source": [
    "t2 = students.with_column(\"Activity Type\", np.array([\"Music\", \"Sport\", \"Music\", \"Sport\"]))\n",
    "t2"
   ]
  },
  {
   "cell_type": "markdown",
   "metadata": {
    "deletable": true,
    "editable": true
   },
   "source": [
    "You can look at data that satisfies a certain condition with the *where* function. In this example, you're the school's coach and want to look for players to pick for the sports teams with the following clause."
   ]
  },
  {
   "cell_type": "code",
   "execution_count": null,
   "metadata": {
    "collapsed": false,
    "deletable": true,
    "editable": true
   },
   "outputs": [],
   "source": [
    "t2.where(\"Activity Type\", are.equal_to(\"Sport\"))"
   ]
  },
  {
   "cell_type": "markdown",
   "metadata": {
    "deletable": true,
    "editable": true
   },
   "source": [
    "Find the people in your table who are older than 16. Your line of code will look similar to the one above, but with `are.equal_to` replaced with `are.greater_than`."
   ]
  },
  {
   "cell_type": "code",
   "execution_count": null,
   "metadata": {
    "collapsed": true,
    "deletable": true,
    "editable": true
   },
   "outputs": [],
   "source": []
  },
  {
   "cell_type": "markdown",
   "metadata": {
    "deletable": true,
    "editable": true
   },
   "source": [
    "So far, we've been extracting data from the same table, but we haven't really been changing the table significantly. `group` is a very powerful function that summarizes results from a table. Before we explain any further, look at what happens when we run the following cell:"
   ]
  },
  {
   "cell_type": "code",
   "execution_count": null,
   "metadata": {
    "collapsed": false,
    "deletable": true,
    "editable": true
   },
   "outputs": [],
   "source": [
    "t2.group(\"Activity Type\")"
   ]
  },
  {
   "cell_type": "markdown",
   "metadata": {
    "deletable": true,
    "editable": true
   },
   "source": [
    "We grouped by the column \"Activity Type\", and the result was a new table with only two columns: one called \"Activity Type\", and one called \"count\". You may be able to guess what these \"count\" numbers mean – there were 2 rows in `t2` where the Activity Type was Music, and there were 2 rows in `t2` where the Activity Type was Sport. Grouping gave us the different values of Activity Type, and the number of times they each appeared in the chart. This is especially useful if we have a massive table where we can't look at all of the entries at once, which is often the case. There will be another example towards the end of the notebook of a `group`.\n",
    "\n",
    "Lastly, we'll take a look at the `join` function, that allows us to combine two different tables. Continuing with our example, we have an additional table of students' favorite subjects and their teachers."
   ]
  },
  {
   "cell_type": "code",
   "execution_count": null,
   "metadata": {
    "collapsed": false,
    "deletable": true,
    "editable": true
   },
   "outputs": [],
   "source": [
    "teachers = Table().with_columns(\"Name\", np.array([\"Rohan\", \"Meena\", \"Priya\", \"Ahmed\"]),\n",
    "                               \"Subject\", np.array([\"Math\", \"Math\", \"Physics\", \"History\"]),\n",
    "                               \"Teacher\", np.array([\"Dasgupta\", \"Dasgupta\", \"Sahai\", \"Bakhle\"]))\n",
    "teachers"
   ]
  },
  {
   "cell_type": "markdown",
   "metadata": {
    "deletable": true,
    "editable": true
   },
   "source": [
    "If you just had the `students` table, you wouldn't be able to tell what subject anyone liked. However, this is where the `join` function comes in – if we `join` the two tables, we can have *all* the information about the students in one table."
   ]
  },
  {
   "cell_type": "code",
   "execution_count": null,
   "metadata": {
    "collapsed": false,
    "deletable": true,
    "editable": true
   },
   "outputs": [],
   "source": [
    "students.join(\"Name\", teachers, \"Name\")"
   ]
  },
  {
   "cell_type": "markdown",
   "metadata": {
    "collapsed": true,
    "deletable": true,
    "editable": true
   },
   "source": [
    "Let's break down what just happened. We passed three arguments into `join`:\n",
    " - `\"Name\"`, a **column from the first table**\n",
    " - `teachers`, the **name of a second table** that we wanted to join with\n",
    " - `\"Name\"`, the **column from the second table**\n",
    "`join` took all of this information and created one row for each item that was shared between the \"Name\" column of `students` and the \"Name\" column of `teachers`. It then combined the information in both rows, with the information in the first table first. Let's see another example of `join` in action, with two new tables."
   ]
  },
  {
   "cell_type": "code",
   "execution_count": null,
   "metadata": {
    "collapsed": false,
    "deletable": true,
    "editable": true
   },
   "outputs": [],
   "source": [
    "email_whatsapp = Table().with_column(\"name\", np.array([\"Akaash\", \"Jagroop\", \"Suraj\", \"Bindal\", \"Krupal\"]),\n",
    "                                \"email\", np.array([\"akaash.2017@internet.com\", \"jd23@google.com\", \"suraj@email.com\", \"bindal.p@email.com\", \"itskrupal@wifi.com\"]),\n",
    "                                \"whatsapp_id\", np.array([\"+91 98453 67890\", \"+91 95501 00223\", \"+91 90033 05126\", \"+91 94431 55193\", \"+91 98801 22522\"]))\n",
    "email_whatsapp"
   ]
  },
  {
   "cell_type": "code",
   "execution_count": null,
   "metadata": {
    "collapsed": false,
    "deletable": true,
    "editable": true
   },
   "outputs": [],
   "source": [
    "carrier_info = Table().with_column(\"number\", np.array([\"+91 95501 00223\", \"+91 98453 67890\", \"+91 90123 55593\", \"+91 90033 05126\"]),\n",
    "                                     \"phone_type\", np.array([\"iPhone 7+\", \"Samsung Galaxy S5\", \"iPhone 5S\", \"Samsung Galaxy S7 Edge\"]),\n",
    "                                     \"carrier\", np.array([\"Airtel\", \"Vodafone\", \"BSNL\", \"Vodafone\"]))\n",
    "carrier_info"
   ]
  },
  {
   "cell_type": "markdown",
   "metadata": {
    "deletable": true,
    "editable": true
   },
   "source": [
    "`email_whatsapp` gives us names, e-mail address and Whatsapp phone numbers of a group of people. `carrier_info` gives us phone numbers, cell handset models and cellular carrier information for another group of users. Let's see what happens when we join the two tables by their common column, which is `whatsapp_id` in the first table and `number` in the second table."
   ]
  },
  {
   "cell_type": "code",
   "execution_count": null,
   "metadata": {
    "collapsed": false,
    "deletable": true,
    "editable": true
   },
   "outputs": [],
   "source": [
    "final = email_whatsapp.join(\"whatsapp_id\", carrier_info, \"number\")\n",
    "final"
   ]
  },
  {
   "cell_type": "markdown",
   "metadata": {
    "deletable": true,
    "editable": true
   },
   "source": [
    "Our new table only has three rows, even though `email_whatsapp` had 5 and `carrier_info` had 4. This is because there were only 3 shared entries between the `whatsapp_id` column of the first table and the `number` column of the second table. For the three entries that were shared, our final table includes all of the corresponding information from both tables, with the data from the first table first (the `email` column is before the `phone_type` and `carrier` columns). "
   ]
  },
  {
   "cell_type": "code",
   "execution_count": null,
   "metadata": {
    "collapsed": false
   },
   "outputs": [],
   "source": [
    "final.group(\"carrier\")"
   ]
  },
  {
   "cell_type": "markdown",
   "metadata": {
    "deletable": true,
    "editable": true
   },
   "source": [
    "As you can see, by calling `group` on our final table with the parameter `\"carrier\"`, we get a new table with two columns – one for each unique carrier and one representing the number of people who had each carrier. The following lines all represent some operation applied to one of the tables above – run them to see what happens!"
   ]
  },
  {
   "cell_type": "code",
   "execution_count": null,
   "metadata": {
    "collapsed": false
   },
   "outputs": [],
   "source": [
    "final.where(\"whatsapp_id\", are.equal_to(\"+91 90033 05126\"))"
   ]
  },
  {
   "cell_type": "markdown",
   "metadata": {},
   "source": [
    "The above line of code gave us back the row corresponding to a certain phone number."
   ]
  },
  {
   "cell_type": "code",
   "execution_count": null,
   "metadata": {
    "collapsed": false
   },
   "outputs": [],
   "source": [
    "carrier_info.where(\"phone_type\", are.containing(\"iPhone\"))"
   ]
  },
  {
   "cell_type": "markdown",
   "metadata": {},
   "source": [
    "The above line of code gave us back the rows of `carrier_info` where the handset was an iPhone."
   ]
  },
  {
   "cell_type": "code",
   "execution_count": null,
   "metadata": {
    "collapsed": false
   },
   "outputs": [],
   "source": [
    "email_whatsapp.where(\"email\", are.containing(\"@email.com\"))"
   ]
  },
  {
   "cell_type": "markdown",
   "metadata": {},
   "source": [
    "The above line of code gave us back the rows of `email_whatsapp` where the email address had a \"@email.com\" domain. (This is not a real email – don't try and email them!)"
   ]
  },
  {
   "cell_type": "markdown",
   "metadata": {},
   "source": [
    "Programming is hard, and this content on tables is especially tricky. We urge you to experiment on your own – if you can, create a blank Jupyter notebook, import `datascience` and create your own tables. Don't worry – this isn't the last time that you'll see these topics – they'll come up again later in the course. In later sessions, we'll be diving into more mathematical concepts that are also central to data science. That's it for today!"
   ]
  }
 ],
 "metadata": {
  "anaconda-cloud": {},
  "kernelspec": {
   "display_name": "Python 3",
   "language": "python",
   "name": "python3"
  },
  "language_info": {
   "codemirror_mode": {
    "name": "ipython",
    "version": 3
   },
   "file_extension": ".py",
   "mimetype": "text/x-python",
   "name": "python",
   "nbconvert_exporter": "python",
   "pygments_lexer": "ipython3",
   "version": "3.6.0"
  }
 },
 "nbformat": 4,
 "nbformat_minor": 2
}
