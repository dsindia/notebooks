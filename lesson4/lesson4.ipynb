{
 "cells": [
  {
   "cell_type": "markdown",
   "metadata": {},
   "source": [
    "<img src=\"../dsi.png\" style=\"height:128px;\">"
   ]
  },
  {
   "cell_type": "markdown",
   "metadata": {},
   "source": [
    "## Lesson 4: Tables"
   ]
  },
  {
   "cell_type": "markdown",
   "metadata": {},
   "source": [
    "Today, we gathered data and organized it into a *table.* Let's now look at how we can represent tables in Python."
   ]
  },
  {
   "cell_type": "markdown",
   "metadata": {},
   "source": [
    "## Tables"
   ]
  },
  {
   "cell_type": "markdown",
   "metadata": {},
   "source": [
    "Think back to the first session. We did a lot of work with *tables*. Think of tables as an organized way of representing data. Tables have *rows* (read horizontally) and *columns* (read vertically)."
   ]
  },
  {
   "cell_type": "markdown",
   "metadata": {},
   "source": [
    "Rows contain all the data about one item in the table, and columns represent one *attribute* of our data set. Here's an example."
   ]
  },
  {
   "cell_type": "code",
   "execution_count": 4,
   "metadata": {
    "collapsed": false
   },
   "outputs": [
    {
     "data": {
      "text/html": [
       "<table border=\"1\" class=\"dataframe\">\n",
       "    <thead>\n",
       "        <tr>\n",
       "            <th>Name</th> <th>Age</th> <th>Favorite Activity</th> <th>Favorite Fruit</th>\n",
       "        </tr>\n",
       "    </thead>\n",
       "    <tbody>\n",
       "        <tr>\n",
       "            <td>Rohan</td> <td>18  </td> <td>Tabla            </td> <td>Mango         </td>\n",
       "        </tr>\n",
       "    </tbody>\n",
       "        <tr>\n",
       "            <td>Meena</td> <td>16  </td> <td>Football         </td> <td>Lychee        </td>\n",
       "        </tr>\n",
       "    </tbody>\n",
       "        <tr>\n",
       "            <td>Priya</td> <td>17  </td> <td>Sitar            </td> <td>Guava         </td>\n",
       "        </tr>\n",
       "    </tbody>\n",
       "        <tr>\n",
       "            <td>Ahmed</td> <td>15  </td> <td>Cricket          </td> <td>Mango         </td>\n",
       "        </tr>\n",
       "    </tbody>\n",
       "</table>"
      ],
      "text/plain": [
       "Name  | Age  | Favorite Activity | Favorite Fruit\n",
       "Rohan | 18   | Tabla             | Mango\n",
       "Meena | 16   | Football          | Lychee\n",
       "Priya | 17   | Sitar             | Guava\n",
       "Ahmed | 15   | Cricket           | Mango"
      ]
     },
     "execution_count": 4,
     "metadata": {},
     "output_type": "execute_result"
    }
   ],
   "source": [
    "students = Table().with_columns(\"Name\", np.array([\"Rohan\", \"Meena\", \"Priya\", \"Ahmed\"]),\n",
    "                     \"Age\", np.array([18, 16, 17, 15]),\n",
    "                     \"Favorite Activity\", np.array([\"Tabla\", \"Football\", \"Sitar\", \"Cricket\"]),\n",
    "                     \"Favorite Fruit\", np.array([\"Mango\", \"Lychee\", \"Guava\", \"Mango\"]))\n",
    "students"
   ]
  },
  {
   "cell_type": "markdown",
   "metadata": {},
   "source": [
    "Try seeing if you can fill in this table with data about yourself and three other students. "
   ]
  },
  {
   "cell_type": "code",
   "execution_count": null,
   "metadata": {
    "collapsed": true
   },
   "outputs": [],
   "source": [
    "names = np.array([\"_______\", \"_______\", \"__________\", \"_________\"])\n",
    "ages = np.array([_______, ______, ________, ________])\n",
    "activities = np.array([\"_______\", \"_______\", \"__________\", \"_________\"])\n",
    "fruits = np.array([\"_______\", \"_______\", \"__________\", \"_________\"])\n",
    "\n",
    "your_data = Table().with_columns(\"Name\", names,\n",
    "                     \"Age\", ages,\n",
    "                     \"Favorite Activity\", activities,\n",
    "                     \"Favorite Fruit\", fruits)"
   ]
  },
  {
   "cell_type": "markdown",
   "metadata": {},
   "source": [
    "In Python, we can write expressions to help us work with tables."
   ]
  },
  {
   "cell_type": "markdown",
   "metadata": {},
   "source": [
    "To access data in a column, we can say the following statements. We have to refer to the table by name before calling the *column* function, otherwise Python won't know which table we're referring to!"
   ]
  },
  {
   "cell_type": "code",
   "execution_count": 39,
   "metadata": {
    "collapsed": false
   },
   "outputs": [
    {
     "data": {
      "text/plain": [
       "array(['Rohan', 'Meena', 'Priya', 'Ahmed'], \n",
       "      dtype='<U5')"
      ]
     },
     "execution_count": 39,
     "metadata": {},
     "output_type": "execute_result"
    }
   ],
   "source": [
    "students.column(0)"
   ]
  },
  {
   "cell_type": "code",
   "execution_count": 40,
   "metadata": {
    "collapsed": false
   },
   "outputs": [
    {
     "data": {
      "text/plain": [
       "array(['Rohan', 'Meena', 'Priya', 'Ahmed'], \n",
       "      dtype='<U5')"
      ]
     },
     "execution_count": 40,
     "metadata": {},
     "output_type": "execute_result"
    }
   ],
   "source": [
    "your_data.column(\"Name\")"
   ]
  },
  {
   "cell_type": "markdown",
   "metadata": {},
   "source": [
    "Note how we were able to pass in the column name, as well as its position in the table (it's the first column and we count from zero), to get an array of the names. Let's try something a little harder. How would you find the average age of the students in your table?"
   ]
  },
  {
   "cell_type": "code",
   "execution_count": null,
   "metadata": {
    "collapsed": false
   },
   "outputs": [],
   "source": [
    "np.average(_______________)"
   ]
  },
  {
   "cell_type": "markdown",
   "metadata": {},
   "source": [
    "Python can also show us how many entries are in our table with the num_rows call. Here, we can see that our table contains data about four people."
   ]
  },
  {
   "cell_type": "code",
   "execution_count": 50,
   "metadata": {
    "collapsed": false
   },
   "outputs": [
    {
     "data": {
      "text/plain": [
       "4"
      ]
     },
     "execution_count": 50,
     "metadata": {},
     "output_type": "execute_result"
    }
   ],
   "source": [
    "students.num_rows"
   ]
  },
  {
   "cell_type": "markdown",
   "metadata": {},
   "source": [
    "Sometimes, we need to *sort* our data by putting it into a meaningful order. Say we want to find the name of the oldest student."
   ]
  },
  {
   "cell_type": "code",
   "execution_count": 41,
   "metadata": {
    "collapsed": false
   },
   "outputs": [
    {
     "data": {
      "text/plain": [
       "'Rohan'"
      ]
     },
     "execution_count": 41,
     "metadata": {},
     "output_type": "execute_result"
    }
   ],
   "source": [
    "students.sort(\"Age\", descending = True).column(\"Name\")[0]"
   ]
  },
  {
   "cell_type": "markdown",
   "metadata": {},
   "source": [
    "Write a line of code that sorts your table such that the youngest student is on top."
   ]
  },
  {
   "cell_type": "code",
   "execution_count": null,
   "metadata": {
    "collapsed": true
   },
   "outputs": [],
   "source": []
  },
  {
   "cell_type": "markdown",
   "metadata": {},
   "source": [
    "Suppose you're at a marketing company trying to see what people your age are interested in. Here's where the *select* statement comes in handy."
   ]
  },
  {
   "cell_type": "code",
   "execution_count": 42,
   "metadata": {
    "collapsed": false
   },
   "outputs": [
    {
     "data": {
      "text/html": [
       "<table border=\"1\" class=\"dataframe\">\n",
       "    <thead>\n",
       "        <tr>\n",
       "            <th>Favorite Fruit</th> <th>Favorite Activity</th>\n",
       "        </tr>\n",
       "    </thead>\n",
       "    <tbody>\n",
       "        <tr>\n",
       "            <td>Mango         </td> <td>Tabla            </td>\n",
       "        </tr>\n",
       "    </tbody>\n",
       "        <tr>\n",
       "            <td>Lychee        </td> <td>Football         </td>\n",
       "        </tr>\n",
       "    </tbody>\n",
       "        <tr>\n",
       "            <td>Guava         </td> <td>Sitar            </td>\n",
       "        </tr>\n",
       "    </tbody>\n",
       "        <tr>\n",
       "            <td>Mango         </td> <td>Cricket          </td>\n",
       "        </tr>\n",
       "    </tbody>\n",
       "</table>"
      ],
      "text/plain": [
       "Favorite Fruit | Favorite Activity\n",
       "Mango          | Tabla\n",
       "Lychee         | Football\n",
       "Guava          | Sitar\n",
       "Mango          | Cricket"
      ]
     },
     "execution_count": 42,
     "metadata": {},
     "output_type": "execute_result"
    }
   ],
   "source": [
    "students.select(\"Favorite Fruit\", 2)"
   ]
  },
  {
   "cell_type": "markdown",
   "metadata": {},
   "source": [
    "Select one or two columns from your table here."
   ]
  },
  {
   "cell_type": "code",
   "execution_count": null,
   "metadata": {
    "collapsed": true
   },
   "outputs": [],
   "source": []
  },
  {
   "cell_type": "markdown",
   "metadata": {},
   "source": [
    "Let's add a column to our table."
   ]
  },
  {
   "cell_type": "code",
   "execution_count": 5,
   "metadata": {
    "collapsed": false
   },
   "outputs": [
    {
     "data": {
      "text/html": [
       "<table border=\"1\" class=\"dataframe\">\n",
       "    <thead>\n",
       "        <tr>\n",
       "            <th>Name</th> <th>Age</th> <th>Favorite Activity</th> <th>Favorite Fruit</th> <th>Activity Type</th>\n",
       "        </tr>\n",
       "    </thead>\n",
       "    <tbody>\n",
       "        <tr>\n",
       "            <td>Rohan</td> <td>18  </td> <td>Tabla            </td> <td>Mango         </td> <td>Music        </td>\n",
       "        </tr>\n",
       "    </tbody>\n",
       "        <tr>\n",
       "            <td>Meena</td> <td>16  </td> <td>Football         </td> <td>Lychee        </td> <td>Sport        </td>\n",
       "        </tr>\n",
       "    </tbody>\n",
       "        <tr>\n",
       "            <td>Priya</td> <td>17  </td> <td>Sitar            </td> <td>Guava         </td> <td>Music        </td>\n",
       "        </tr>\n",
       "    </tbody>\n",
       "        <tr>\n",
       "            <td>Ahmed</td> <td>15  </td> <td>Cricket          </td> <td>Mango         </td> <td>Sport        </td>\n",
       "        </tr>\n",
       "    </tbody>\n",
       "</table>"
      ],
      "text/plain": [
       "Name  | Age  | Favorite Activity | Favorite Fruit | Activity Type\n",
       "Rohan | 18   | Tabla             | Mango          | Music\n",
       "Meena | 16   | Football          | Lychee         | Sport\n",
       "Priya | 17   | Sitar             | Guava          | Music\n",
       "Ahmed | 15   | Cricket           | Mango          | Sport"
      ]
     },
     "execution_count": 5,
     "metadata": {},
     "output_type": "execute_result"
    }
   ],
   "source": [
    "t2 = students.with_column(\"Activity Type\", np.array([\"Music\", \"Sport\", \"Music\", \"Sport\"]))\n",
    "t2"
   ]
  },
  {
   "cell_type": "markdown",
   "metadata": {},
   "source": [
    "You can also look at data that satisfies a certain condition with the *where* function. In this example, you're the school's coach and want to look for players to pick for the sports teams with the following clause."
   ]
  },
  {
   "cell_type": "code",
   "execution_count": 48,
   "metadata": {
    "collapsed": false
   },
   "outputs": [
    {
     "data": {
      "text/html": [
       "<table border=\"1\" class=\"dataframe\">\n",
       "    <thead>\n",
       "        <tr>\n",
       "            <th>Name</th> <th>Age</th> <th>Favorite Activity</th> <th>Favorite Fruit</th> <th>Activity Type</th>\n",
       "        </tr>\n",
       "    </thead>\n",
       "    <tbody>\n",
       "        <tr>\n",
       "            <td>Meena</td> <td>16  </td> <td>Football         </td> <td>Lychee        </td> <td>Sport        </td>\n",
       "        </tr>\n",
       "    </tbody>\n",
       "        <tr>\n",
       "            <td>Ahmed</td> <td>15  </td> <td>Cricket          </td> <td>Mango         </td> <td>Sport        </td>\n",
       "        </tr>\n",
       "    </tbody>\n",
       "</table>"
      ],
      "text/plain": [
       "Name  | Age  | Favorite Activity | Favorite Fruit | Activity Type\n",
       "Meena | 16   | Football          | Lychee         | Sport\n",
       "Ahmed | 15   | Cricket           | Mango          | Sport"
      ]
     },
     "execution_count": 48,
     "metadata": {},
     "output_type": "execute_result"
    }
   ],
   "source": [
    "t2.where(\"Activity Type\", are.equal_to(\"Sport\"))"
   ]
  },
  {
   "cell_type": "markdown",
   "metadata": {},
   "source": [
    "Find the people in your table who are older than 16. Hint: Use the \"are.greater_than\" function."
   ]
  },
  {
   "cell_type": "code",
   "execution_count": null,
   "metadata": {
    "collapsed": true
   },
   "outputs": [],
   "source": []
  },
  {
   "cell_type": "markdown",
   "metadata": {},
   "source": [
    "To see how many people like each type of activity, we can use the *group* function."
   ]
  },
  {
   "cell_type": "code",
   "execution_count": 6,
   "metadata": {
    "collapsed": false
   },
   "outputs": [
    {
     "data": {
      "text/html": [
       "<table border=\"1\" class=\"dataframe\">\n",
       "    <thead>\n",
       "        <tr>\n",
       "            <th>Activity Type</th> <th>count</th>\n",
       "        </tr>\n",
       "    </thead>\n",
       "    <tbody>\n",
       "        <tr>\n",
       "            <td>Music        </td> <td>2    </td>\n",
       "        </tr>\n",
       "    </tbody>\n",
       "        <tr>\n",
       "            <td>Sport        </td> <td>2    </td>\n",
       "        </tr>\n",
       "    </tbody>\n",
       "</table>"
      ],
      "text/plain": [
       "Activity Type | count\n",
       "Music         | 2\n",
       "Sport         | 2"
      ]
     },
     "execution_count": 6,
     "metadata": {},
     "output_type": "execute_result"
    }
   ],
   "source": [
    "t2.group(\"Activity Type\")"
   ]
  },
  {
   "cell_type": "markdown",
   "metadata": {},
   "source": [
    "We also have a table about the students' favorite subjects and their teachers."
   ]
  },
  {
   "cell_type": "code",
   "execution_count": 9,
   "metadata": {
    "collapsed": false
   },
   "outputs": [
    {
     "data": {
      "text/html": [
       "<table border=\"1\" class=\"dataframe\">\n",
       "    <thead>\n",
       "        <tr>\n",
       "            <th>Name</th> <th>Subject</th> <th>Teacher</th>\n",
       "        </tr>\n",
       "    </thead>\n",
       "    <tbody>\n",
       "        <tr>\n",
       "            <td>Rohan</td> <td>Math   </td> <td>Dasgupta</td>\n",
       "        </tr>\n",
       "    </tbody>\n",
       "        <tr>\n",
       "            <td>Meena</td> <td>Math   </td> <td>Dasgupta</td>\n",
       "        </tr>\n",
       "    </tbody>\n",
       "        <tr>\n",
       "            <td>Priya</td> <td>Physics</td> <td>Sahai   </td>\n",
       "        </tr>\n",
       "    </tbody>\n",
       "        <tr>\n",
       "            <td>Ahmed</td> <td>History</td> <td>Bakhle  </td>\n",
       "        </tr>\n",
       "    </tbody>\n",
       "</table>"
      ],
      "text/plain": [
       "Name  | Subject | Teacher\n",
       "Rohan | Math    | Dasgupta\n",
       "Meena | Math    | Dasgupta\n",
       "Priya | Physics | Sahai\n",
       "Ahmed | History | Bakhle"
      ]
     },
     "execution_count": 9,
     "metadata": {},
     "output_type": "execute_result"
    }
   ],
   "source": [
    "teachers = Table().with_columns(\"Name\", np.array([\"Rohan\", \"Meena\", \"Priya\", \"Ahmed\"]),\n",
    "                               \"Subject\", np.array([\"Math\", \"Math\", \"Physics\", \"History\"]),\n",
    "                               \"Teacher\", np.array([\"Dasgupta\", \"Dasgupta\", \"Sahay\", \"Bakhle\"]))\n",
    "teachers"
   ]
  },
  {
   "cell_type": "markdown",
   "metadata": {},
   "source": [
    "If you just had the *students* table, you wouldn't be able to tell what subject anyone liked. However, if you use the *join* function, you can have *all* the information about the students in one table."
   ]
  },
  {
   "cell_type": "code",
   "execution_count": 11,
   "metadata": {
    "collapsed": false
   },
   "outputs": [
    {
     "data": {
      "text/html": [
       "<table border=\"1\" class=\"dataframe\">\n",
       "    <thead>\n",
       "        <tr>\n",
       "            <th>Name</th> <th>Age</th> <th>Favorite Activity</th> <th>Favorite Fruit</th> <th>Subject</th> <th>Teacher</th>\n",
       "        </tr>\n",
       "    </thead>\n",
       "    <tbody>\n",
       "        <tr>\n",
       "            <td>Ahmed</td> <td>15  </td> <td>Cricket          </td> <td>Mango         </td> <td>History</td> <td>Bakhle  </td>\n",
       "        </tr>\n",
       "    </tbody>\n",
       "        <tr>\n",
       "            <td>Meena</td> <td>16  </td> <td>Football         </td> <td>Lychee        </td> <td>Math   </td> <td>Dasgupta</td>\n",
       "        </tr>\n",
       "    </tbody>\n",
       "        <tr>\n",
       "            <td>Priya</td> <td>17  </td> <td>Sitar            </td> <td>Guava         </td> <td>Physics</td> <td>Sahai   </td>\n",
       "        </tr>\n",
       "    </tbody>\n",
       "        <tr>\n",
       "            <td>Rohan</td> <td>18  </td> <td>Tabla            </td> <td>Mango         </td> <td>Math   </td> <td>Dasgupta</td>\n",
       "        </tr>\n",
       "    </tbody>\n",
       "</table>"
      ],
      "text/plain": [
       "Name  | Age  | Favorite Activity | Favorite Fruit | Subject | Teacher\n",
       "Ahmed | 15   | Cricket           | Mango          | History | Bakhle\n",
       "Meena | 16   | Football          | Lychee         | Math    | Dasgupta\n",
       "Priya | 17   | Sitar             | Guava          | Physics | Sahai\n",
       "Rohan | 18   | Tabla             | Mango          | Math    | Dasgupta"
      ]
     },
     "execution_count": 11,
     "metadata": {},
     "output_type": "execute_result"
    }
   ],
   "source": [
    "students.join(\"Name\", teachers, \"Name\")"
   ]
  },
  {
   "cell_type": "markdown",
   "metadata": {
    "collapsed": true
   },
   "source": [
    "Fill in the appropriate information."
   ]
  },
  {
   "cell_type": "code",
   "execution_count": null,
   "metadata": {
    "collapsed": true
   },
   "outputs": [],
   "source": [
    "subjects = np.array([\"_______\", \"_______\", \"__________\", \"_________\"])\n",
    "teachers = np.array([\"_______\", \"_______\", \"__________\", \"_________\"])\n",
    "\n",
    "your_teachers = Table().with_columns(\"Name\", names,\n",
    "                     \"Subject\", subjects,\n",
    "                     \"Teacher\", teachers)"
   ]
  },
  {
   "cell_type": "markdown",
   "metadata": {},
   "source": [
    "Join your table with the one above."
   ]
  },
  {
   "cell_type": "code",
   "execution_count": null,
   "metadata": {
    "collapsed": true
   },
   "outputs": [],
   "source": []
  }
 ],
 "metadata": {
  "anaconda-cloud": {},
  "kernelspec": {
   "display_name": "Python 3",
   "language": "python",
   "name": "python3"
  },
  "language_info": {
   "codemirror_mode": {
    "name": "ipython",
    "version": 3
   },
   "file_extension": ".py",
   "mimetype": "text/x-python",
   "name": "python",
   "nbconvert_exporter": "python",
   "pygments_lexer": "ipython3",
   "version": "3.6.0"
  }
 },
 "nbformat": 4,
 "nbformat_minor": 2
}
