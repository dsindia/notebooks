{
 "cells": [
  {
   "cell_type": "markdown",
   "metadata": {
    "collapsed": true
   },
   "source": [
    " <img src=\"../dsi.png\" style=\"height:128px;\">"
   ]
  },
  {
   "cell_type": "markdown",
   "metadata": {},
   "source": [
    "# Lesson 7: Data Visualization"
   ]
  },
  {
   "cell_type": "markdown",
   "metadata": {},
   "source": [
    "So far on our journey through Python, you may have noticed that we’ve been working a lot with numbers and data, whether it's to perform single-step calculations or to manipulate entire tables. But wait... there's more! Today we'll learn to appreciate the power of programming to _visualise_ data. Scientists use diagrams, or _informative pictures_ to represent their work in a meaningful way. Now, we will do the same by programmatically generate graphs.\n",
    " \n",
    "To do so, we will use a Python _library_ called `matplotlib`.\n",
    "What is a library?\n",
    "A Python library groups together a set of programs with capabilities that we can apply to many use cases. You might also hear people using the word \"package\" in a similar way as the word \"library\".\n",
    "Where do these libraries come from?\n",
    "There is a rich community of Python users online. People like you and me can create and share Python libraries. One benefit to having so many public libraries is that if you want to write code to do something, chances are there already exists a Python library to help you achieve your goal! Another good part about having so many public resources is that many are _well-documented_. This means that if you don't know how to use a library, you can look it up online and learn how to use it by reading the documentation!\n",
    "\n",
    "`matplotlib` is a popular plotting/data visualization Python library that has a useful sub-collection of functions called `pyplot`. In addition to using `matplotlib.pyplot`, we'll also use `numpy` to help manipulate the data. The `datascience` library, which you've been using before for tables, can also help you make plots. "
   ]
  },
  {
   "cell_type": "code",
   "execution_count": null,
   "metadata": {
    "collapsed": true
   },
   "outputs": [],
   "source": [
    "# Run this cell to import, or load, the useful resources from Python libraries\n",
    "# Remember, one way to run cells is to press `SHIFT`+`ENTER`\n",
    "\n",
    "# We're using the nickname `np` for `numpy`!\n",
    "import numpy as np\n",
    "\n",
    "# We want all of the functions from the `datascience` package. (This lets you build Tables, etc.)\n",
    "from datascience import *\n",
    "\n",
    "# The star of the show! We are using the nickname `plt` for `pyplot`, which is found within `matplotlib`.\n",
    "from matplotlib import pyplot as plt\n",
    "\n",
    "# Just some display and formatting details\n",
    "%matplotlib inline\n",
    "plt.style.use('fivethirtyeight')"
   ]
  },
  {
   "cell_type": "markdown",
   "metadata": {},
   "source": [
    "Note: The identifiers (nicknames) `np` and `plt` are what programmers conventionally use to abbreviate, or shorten, the longer names of the libraries. You could just as well use `ahaana` or `hamsa` or `maria` instead, and your code would still work! This won't make your program wrong, but following the conventions is recommended and does make your code easier to read. :)"
   ]
  },
  {
   "cell_type": "markdown",
   "metadata": {},
   "source": [
    "### Example"
   ]
  },
  {
   "cell_type": "markdown",
   "metadata": {},
   "source": [
    "Let’s start off using this new tool with an example. Plot a graph for the equation `y = 2x + 5`, where the values of x range from 1 to 10."
   ]
  },
  {
   "cell_type": "code",
   "execution_count": null,
   "metadata": {
    "collapsed": false
   },
   "outputs": [],
   "source": [
    "x = np.arange(1,11) # What does this do? Try seeing the output of `print(x)` to find out...\n",
    "y = 2 * x + 5 # Is `y` equal to a single number or a set of numbers? Check by running `print(y)\n",
    "\n",
    "#Here, we put x and y in a table\n",
    "example = Table().with_columns(\"x\", x,\n",
    "                               \"y\", y)\n",
    "\n",
    "# The line below plots the data. Try commenting out this line (Hint: use #), run the cell, and see what happens.\n",
    "example.plot(\"x\", \"y\") #The column we're representing horizontally goes first \n",
    "plt.title(\"Matplotlib Demo Title\") # Adds a title to the plot\n",
    "plt.xlabel(\"x axis caption\") # Labelling both axes is a good practice!\n",
    "plt.ylabel(\"y axis caption\") # Labels let you know at a glance what data you've just represented.\n",
    "plt.show()"
   ]
  },
  {
   "cell_type": "markdown",
   "metadata": {},
   "source": [
    "Try it yourself! You you don't have to plot a linear function, x and y just have to be two different arrays."
   ]
  },
  {
   "cell_type": "code",
   "execution_count": null,
   "metadata": {
    "collapsed": false
   },
   "outputs": [],
   "source": [
    "x = # Replace with a range of numbers\n",
    "y = # Replace with an expression using `x`\n",
    "your_table = \n",
    "\n",
    "your_table.plot(\"x\", \"y\")\n",
    "plt.title(\"Replace with a Title!\") \n",
    "plt.xlabel(\"Don't forget to...\") \n",
    "plt.ylabel(\"...label your axes!\") \n",
    "plt.show()"
   ]
  },
  {
   "cell_type": "markdown",
   "metadata": {},
   "source": [
    "## The British Raj"
   ]
  },
  {
   "cell_type": "markdown",
   "metadata": {},
   "source": [
    "We've used Python to help us look at the present, but we can use data science to help give us a picture of the past that our history books can't."
   ]
  },
  {
   "cell_type": "markdown",
   "metadata": {
    "collapsed": true
   },
   "source": [
    "The following table, `troops` (from http://dsal.uchicago.edu/statistics/) contains data about the amount of British soldiers (and Indian soldiers employed by the British) in different regions of India from 1840 to 1865. In 1857, Indian troops working for the British East India Company started a rebellion."
   ]
  },
  {
   "cell_type": "code",
   "execution_count": null,
   "metadata": {
    "collapsed": false
   },
   "outputs": [],
   "source": [
    "troops = Table.read_table(\"british_india_troops.csv\")\n",
    "troops"
   ]
  },
  {
   "cell_type": "markdown",
   "metadata": {},
   "source": [
    "In the previous session, we learned about *distributions* and we also learned that *histograms* are really useful for showing how data is distributed. Let's look at the distribution of British troops in Bombay over time. We use the `hist` function, and pass in the `british_bombay` column, as well as a range of values."
   ]
  },
  {
   "cell_type": "code",
   "execution_count": null,
   "metadata": {
    "collapsed": false
   },
   "outputs": [],
   "source": [
    "troops.hist(\"british_bombay\", bins = np.arange(5000, 30000, 2000))"
   ]
  },
  {
   "cell_type": "markdown",
   "metadata": {},
   "source": [
    "Let's try to make sense of what this says. The vertical axis says \"percent per unit,\" and in this scenario, we're graphing the amount of soldiers, so a \"unit\" is a soldier. We know that the horizontal axis shows us the amount of troops, but what else do we know about it? This is where the `bins` parameter comes in.\n",
    "\n",
    "Do you remember what `np.arange` does with two parameters? Check out what it does with three!"
   ]
  },
  {
   "cell_type": "code",
   "execution_count": null,
   "metadata": {
    "collapsed": false
   },
   "outputs": [],
   "source": [
    "np.arange(5000, 30000, 2000)"
   ]
  },
  {
   "cell_type": "markdown",
   "metadata": {},
   "source": [
    "When you pass in a third parameter, `np.arange` doesn't give us an array of *all* the values up to a certain number, it gives us values in *increments*, in this case, of 2000.\n",
    "\n",
    "This means each \"bin\" contains all the data points which fell within its interval. Take a look at the largest bar on the histogram. It contains all the values in the `british_bombay` column that are between 9000 and 11000. "
   ]
  },
  {
   "cell_type": "code",
   "execution_count": null,
   "metadata": {
    "collapsed": false
   },
   "outputs": [],
   "source": [
    "#We multiply the column's width by its height to get the percentage of troops in that bin\n",
    "2000 * 0.025"
   ]
  },
  {
   "cell_type": "markdown",
   "metadata": {},
   "source": [
    "This means that in half the years during this time interval, there were between 9,000 and 11,000 British soldiers stationed in Bombay."
   ]
  },
  {
   "cell_type": "markdown",
   "metadata": {},
   "source": [
    "Now, make a histogram for all the British troops in India during this time period."
   ]
  },
  {
   "cell_type": "code",
   "execution_count": null,
   "metadata": {
    "collapsed": false
   },
   "outputs": [],
   "source": [
    "#Add up all the arrays containing British troops. \n",
    "#Hint: Access a column from the table by saying troops.column() and passing in the name\n",
    "british_total = \n",
    "with_total = troops.with_column(\"british_total\", british_total)\n",
    "with_total.hist(\"______\", bins = np.arange(40000, 110000, 2000))"
   ]
  },
  {
   "cell_type": "markdown",
   "metadata": {},
   "source": [
    "Let's check out one way in which line graphs are useful– showing change over time. "
   ]
  },
  {
   "cell_type": "markdown",
   "metadata": {},
   "source": [
    "Here, let's look at how many native Indian troops the British hired during this time period."
   ]
  },
  {
   "cell_type": "code",
   "execution_count": null,
   "metadata": {
    "collapsed": false,
    "scrolled": true
   },
   "outputs": [],
   "source": [
    "native_troops = troops.column(\"native_bengal\") + troops.column(\"native_madras\") + troops.column(\"native_bombay\")\n",
    "native_count = Table().with_columns(\"year\", troops.column(\"year\"),\n",
    "                                    \"native_total\", native_troops)\n",
    "native_count.plot(\"year\", \"native_total\")\n",
    "plt.ylabel(\"Soldiers\")\n",
    "plt.title(\"Indian Troops serving Britain\")"
   ]
  },
  {
   "cell_type": "markdown",
   "metadata": {},
   "source": [
    "What can you tell about the graph? Based on this graph, how do you think the British responded to the rebellion?"
   ]
  },
  {
   "cell_type": "markdown",
   "metadata": {},
   "source": [
    "Now, it's your turn. Try plotting a similar graph with data about British forces. Make a table called *british_count* that contains two columns: *year* and *british_total*. "
   ]
  },
  {
   "cell_type": "code",
   "execution_count": null,
   "metadata": {
    "collapsed": false
   },
   "outputs": [],
   "source": [
    "#Use your array of British troops from the previous question.\n",
    "\n",
    "british_count = Table().with_columns(\n",
    "\n",
    "\n",
    ")\n",
    "plt.ylabel(\"Soldiers\")\n",
    "plt.title(\"British Troops in India\")"
   ]
  },
  {
   "cell_type": "markdown",
   "metadata": {},
   "source": [
    "What do you see when comparing the graph of British troops to Indian troops recruited by the British? How do you think the 1857 revolt affected the number of soldiers Britain sent to its Indian colonies?"
   ]
  },
  {
   "cell_type": "markdown",
   "metadata": {},
   "source": [
    "## Foreign Tourists\n",
    "\n",
    "In the last exercise, we saw how we could use Python tools visualize how the number of soldiers in India evolved over time. Now we will see how the same tools can be used to compare multiple sets of data and analyze differences and similarities.\n",
    "\n",
    "The following dataset tells us the number of foreign tourists who visited several countries from 2001 to 2010."
   ]
  },
  {
   "cell_type": "code",
   "execution_count": null,
   "metadata": {
    "collapsed": false
   },
   "outputs": [],
   "source": [
    "tourists = Table.read_table(\"foreign_tourists.csv\")\n",
    "tourists"
   ]
  },
  {
   "cell_type": "markdown",
   "metadata": {},
   "source": [
    "Now let's isolate the rows in this table that have the total tourism data for each region using the `where` function."
   ]
  },
  {
   "cell_type": "code",
   "execution_count": null,
   "metadata": {
    "collapsed": false
   },
   "outputs": [],
   "source": [
    "tourists_by_region = tourists.where(\"Nationality\", \"Total\") # returns all rows whose value for \"Nationality\" is \"Total\"\n",
    "tourists_by_region"
   ]
  },
  {
   "cell_type": "markdown",
   "metadata": {},
   "source": [
    "In today's lesson, we learned about pie charts, a way to represent different categories of data and see their relative percentages to each other. Now we will use Matplotlib to compare the amount of tourists from each region. Let's do this for the first year, 2001."
   ]
  },
  {
   "cell_type": "code",
   "execution_count": null,
   "metadata": {
    "collapsed": false
   },
   "outputs": [],
   "source": [
    "tourists_in_2001 = Table().with_columns(\"Region\", tourists_by_region.column(\"Region\"),\n",
    "                                        \"Count\", tourists_by_region.column(\"2001\"))\n",
    "plt.pie(tourists_in_2001.column(\"Count\"), labels=tourists_in_2001.column(\"Region\"))\n",
    "plt.title(\"Tourism By Region in 2001\")"
   ]
  },
  {
   "cell_type": "markdown",
   "metadata": {},
   "source": [
    "Look at how we used Matplotlib to create a colorful pie chart showing the differences in tourism to India! We can immediately see that tourism was highest in Western Europe, followed by South Asia and North America. Much clearer than looking at a table of numbers.\n",
    "\n",
    "Now it's your turn. This pie chart tells us which region (Western Europe) the most tourists were from - but what countries in Western Europe did most of them come from? See if you can make a pie chart comparing the relative percentagages of tourism from the different countries in Western Europe for the year 2001."
   ]
  },
  {
   "cell_type": "code",
   "execution_count": null,
   "metadata": {
    "collapsed": true
   },
   "outputs": [],
   "source": [
    "#Try getting the rows in the table corresponding to Western Europe\n",
    "tourists_to_europe = tourists.where(    )\n",
    "tourists_to_europe"
   ]
  },
  {
   "cell_type": "markdown",
   "metadata": {},
   "source": [
    "Next, fill in the following code to select the \"Nationality\" and \"2001\" columns and plot the data!"
   ]
  },
  {
   "cell_type": "code",
   "execution_count": null,
   "metadata": {
    "collapsed": true
   },
   "outputs": [],
   "source": [
    "tourists_in_2001 = Table().with_columns(\n",
    "\n",
    "\n",
    ")\n",
    "plt.pie(tourists_in_2001.column(\"Count\"), labels=tourists_in_2001.column(\"Nationality\"))\n",
    "plt.title(\"Tourism By Country in 2001 Western Europe\")"
   ]
  },
  {
   "cell_type": "markdown",
   "metadata": {},
   "source": [
    "Nice! But pie charts weren't the only type of plot you learned about in today's lesson. You also learned about *histograms*, which show the *distribution* of a set of data."
   ]
  },
  {
   "cell_type": "code",
   "execution_count": null,
   "metadata": {
    "collapsed": false
   },
   "outputs": [],
   "source": [
    "tourists_by_region = tourists.where(\"Nationality\", \"Total\") # returns all rows whose value for \"Nationality\" is \"Total\"\n",
    "tourists_by_region"
   ]
  },
  {
   "cell_type": "markdown",
   "metadata": {},
   "source": [
    "Let's use bar graphs to see what the differences in tourism between the regions were for a different year: 2010. First we'll get the \"Region\" and \"2010\" columns, then we'll use matplotlib to plot this data in a bar graph."
   ]
  },
  {
   "cell_type": "code",
   "execution_count": null,
   "metadata": {
    "collapsed": false
   },
   "outputs": [],
   "source": [
    "regions = tourists_by_region.column(\"Region\")\n",
    "tourist_counts = tourists_by_region.column(\"2010\")\n",
    "tourists_by_region.barh(\"Region\", \"2010\")\n",
    "plt.title(\"Tourism By Region in 2010\")\n"
   ]
  },
  {
   "cell_type": "markdown",
   "metadata": {},
   "source": [
    "What's the point of bar graphs if we already have pie charts? Well by comparing the length of the bars it might be easier to distinguish between two categories that have very similar counts. And the labeled x axis also tells us approximately how many tourists visited each region, something missing in the pie chart.\n",
    "\n",
    "Now it's your turn again. Try to make a bar graph comparing the number of tourists to different countries in South Asia for the year 2010."
   ]
  },
  {
   "cell_type": "code",
   "execution_count": null,
   "metadata": {
    "collapsed": true
   },
   "outputs": [],
   "source": [
    "#Try getting the rows in the table corresponding to South Asia\n",
    "tourists_to_southasia = tourists.where(    )\n",
    "tourists_to_southasia"
   ]
  },
  {
   "cell_type": "markdown",
   "metadata": {},
   "source": [
    "Now fill in the following code to select the \"Nationality\" and \"2010\" columns and plot the data!"
   ]
  },
  {
   "cell_type": "code",
   "execution_count": null,
   "metadata": {
    "collapsed": true
   },
   "outputs": [],
   "source": [
    "countries = \n",
    "tourist_counts = \n",
    "ticks = np.arange(len(countries)) # this tells matplotlib how to arrange the bars\n",
    "\n",
    "plt.barh(ticks, tourist_counts)\n",
    "plt.yticks(ticks, countries) # for labeling the bars\n",
    "plt.xlabel(\"Tourists\")\n",
    "plt.title(\"Tourism By Country in 2010 South Asia\")"
   ]
  }
 ],
 "metadata": {
  "anaconda-cloud": {},
  "kernelspec": {
   "display_name": "Python 3",
   "language": "python",
   "name": "python3"
  },
  "language_info": {
   "codemirror_mode": {
    "name": "ipython",
    "version": 3
   },
   "file_extension": ".py",
   "mimetype": "text/x-python",
   "name": "python",
   "nbconvert_exporter": "python",
   "pygments_lexer": "ipython3",
   "version": "3.6.0"
  }
 },
 "nbformat": 4,
 "nbformat_minor": 2
}
