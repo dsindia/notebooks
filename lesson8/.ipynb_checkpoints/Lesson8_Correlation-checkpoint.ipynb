{
 "cells": [
  {
   "cell_type": "code",
   "execution_count": 16,
   "metadata": {},
   "outputs": [
    {
     "name": "stderr",
     "output_type": "stream",
     "text": [
      "/Library/Frameworks/Python.framework/Versions/3.6/lib/python3.6/site-packages/matplotlib/__init__.py:1401: UserWarning:  This call to matplotlib.use() has no effect\n",
      "because the backend has already been chosen;\n",
      "matplotlib.use() must be called *before* pylab, matplotlib.pyplot,\n",
      "or matplotlib.backends is imported for the first time.\n",
      "\n",
      "  warnings.warn(_use_error_msg)\n"
     ]
    }
   ],
   "source": [
    "import matplotlib\n",
    "matplotlib.use('Agg')\n",
    "from datascience import Table, predicates\n",
    "%matplotlib inline\n",
    "import matplotlib.pyplot as plt\n",
    "import numpy as np\n",
    "plt.style.use('fivethirtyeight')"
   ]
  },
  {
   "cell_type": "code",
   "execution_count": 2,
   "metadata": {
    "collapsed": true
   },
   "outputs": [],
   "source": [
    "def checker(strong, positive):\n",
    "    if strong:\n",
    "        if positive:\n",
    "            print(\"Try Again!\")\n",
    "        else:\n",
    "            print(\"You are correct! You now know how to make and read scatterplots to analyze trends in data!\")   \n",
    "    else:\n",
    "        print(\"Try Again!\")"
   ]
  },
  {
   "cell_type": "markdown",
   "metadata": {},
   "source": [
    "# Lesson 8: Correlation\n",
    "\n",
    "In our last notebook, we learned how to use the power of programming to visualize data. But that's not all we can do with these Python libraries. Today we'll take our programming toolkit one step further and see how we can use the same libraries to calculate numerical information about our data after we've plotted it. Visualizations and numerical information together can tell us  detailed stories about our data and what it means.\n",
    "\n",
    "We'll begin by using matplotlib - the same library we used to make line graphs, bar graphs, and pie charts - to explore the process of visualizing data using scatter plots. We'll then see how we can use another powerful library called numpy to numerically investigate the relationships between variables in our data by computing correlation coefficients. Finally we'll also look into plotting lines of best fit as an introduction to the concept of regression."
   ]
  },
  {
   "cell_type": "markdown",
   "metadata": {},
   "source": [
    "## Scatterplots\n",
    "\n",
    "Remember from today's lesson that when we have data about two variables, the best way to visualize it is through something called a \"scatterplot.\" We can use our handy datascience library to quickly make lots of scatterplots.\n",
    "\n",
    "Let's start with the example of clasroom participation from the lesson. Below we'll create a new Table using that data and then use the datascience \".scatter('Column Name 1', 'Column Name 2')\" function to create a scatterplot."
   ]
  },
  {
   "cell_type": "code",
   "execution_count": 3,
   "metadata": {},
   "outputs": [
    {
     "data": {
      "text/html": [
       "<table border=\"1\" class=\"dataframe\">\n",
       "    <thead>\n",
       "        <tr>\n",
       "            <th>Student</th> <th>1st Week</th> <th>12th Week</th>\n",
       "        </tr>\n",
       "    </thead>\n",
       "    <tbody>\n",
       "        <tr>\n",
       "            <td>Sathvik</td> <td>3       </td> <td>7        </td>\n",
       "        </tr>\n",
       "    </tbody>\n",
       "        <tr>\n",
       "            <td>Anjali </td> <td>1       </td> <td>2        </td>\n",
       "        </tr>\n",
       "    </tbody>\n",
       "        <tr>\n",
       "            <td>Shreyan</td> <td>1       </td> <td>4        </td>\n",
       "        </tr>\n",
       "    </tbody>\n",
       "        <tr>\n",
       "            <td>Chaaru </td> <td>2       </td> <td>5        </td>\n",
       "        </tr>\n",
       "    </tbody>\n",
       "        <tr>\n",
       "            <td>Rishi  </td> <td>2       </td> <td>6        </td>\n",
       "        </tr>\n",
       "    </tbody>\n",
       "        <tr>\n",
       "            <td>Divya  </td> <td>3       </td> <td>5        </td>\n",
       "        </tr>\n",
       "    </tbody>\n",
       "</table>"
      ],
      "text/plain": [
       "Student | 1st Week | 12th Week\n",
       "Sathvik | 3        | 7\n",
       "Anjali  | 1        | 2\n",
       "Shreyan | 1        | 4\n",
       "Chaaru  | 2        | 5\n",
       "Rishi   | 2        | 6\n",
       "Divya   | 3        | 5"
      ]
     },
     "execution_count": 3,
     "metadata": {},
     "output_type": "execute_result"
    }
   ],
   "source": [
    "classroom_participation = Table().with_columns([\n",
    "    'Student',['Sathvik','Anjali', 'Shreyan','Chaaru','Rishi','Divya'],\n",
    "    '1st Week', [3,1,1,2,2,3],\n",
    "    '12th Week', [7,2,4,5,6,5]\n",
    "])\n",
    "classroom_participation"
   ]
  },
  {
   "cell_type": "code",
   "execution_count": 4,
   "metadata": {},
   "outputs": [
    {
     "data": {
      "image/png": "[encoded data removed]",
      "text/plain": [
       "<matplotlib.figure.Figure at 0x101133b38>"
      ]
     },
     "metadata": {},
     "output_type": "display_data"
    }
   ],
   "source": [
    "classroom_participation.scatter('1st Week', '12th Week')"
   ]
  },
  {
   "cell_type": "markdown",
   "metadata": {},
   "source": [
    "Scatterplots are useful for illustrating \"trends\" in our data. As we can see from this scatterplot, students who tended to participate less in the first week also tended to participated less in the twelfth week - like Anjali for example, who participated the least out of all the students in the 1st and 12th weeks. Similarly, students who tended to particpate more in the first week also participated more in the twelfth week. This is exactly what we mean by a trend. \n",
    "\n",
    "This is an example of a \"weak positive\" correlation. It's weak because the data points don't form exactly a straight line, and it's positive because the data points rougly go from the bottom left to the top right in our scatterplot (positive slope). Now let's look at another example. Fill in the following cells to make a scatter plot of classroom absences vs. final grade in the class."
   ]
  },
  {
   "cell_type": "code",
   "execution_count": 5,
   "metadata": {},
   "outputs": [
    {
     "data": {
      "text/html": [
       "<table border=\"1\" class=\"dataframe\">\n",
       "    <thead>\n",
       "        <tr>\n",
       "            <th>Student</th> <th>Absences</th> <th>Grades</th>\n",
       "        </tr>\n",
       "    </thead>\n",
       "    <tbody>\n",
       "        <tr>\n",
       "            <td>Rashi  </td> <td>0       </td> <td>99    </td>\n",
       "        </tr>\n",
       "    </tbody>\n",
       "        <tr>\n",
       "            <td>Amit   </td> <td>1       </td> <td>95    </td>\n",
       "        </tr>\n",
       "    </tbody>\n",
       "        <tr>\n",
       "            <td>Simaran</td> <td>2       </td> <td>90    </td>\n",
       "        </tr>\n",
       "    </tbody>\n",
       "        <tr>\n",
       "            <td>Shruti </td> <td>3       </td> <td>80    </td>\n",
       "        </tr>\n",
       "    </tbody>\n",
       "        <tr>\n",
       "            <td>Eesha  </td> <td>4       </td> <td>75    </td>\n",
       "        </tr>\n",
       "    </tbody>\n",
       "        <tr>\n",
       "            <td>Arpit  </td> <td>7       </td> <td>68    </td>\n",
       "        </tr>\n",
       "    </tbody>\n",
       "</table>"
      ],
      "text/plain": [
       "Student | Absences | Grades\n",
       "Rashi   | 0        | 99\n",
       "Amit    | 1        | 95\n",
       "Simaran | 2        | 90\n",
       "Shruti  | 3        | 80\n",
       "Eesha   | 4        | 75\n",
       "Arpit   | 7        | 68"
      ]
     },
     "execution_count": 5,
     "metadata": {},
     "output_type": "execute_result"
    }
   ],
   "source": [
    "student_abscences = Table().with_columns([\n",
    "    'Student',['Rashi','Amit', 'Simaran','Shruti','Eesha','Arpit'],\n",
    "    'Absences', [0,1,2,3,4,7],\n",
    "    'Grades', [99,95,90,80,75,68]\n",
    "])\n",
    "student_abscences"
   ]
  },
  {
   "cell_type": "code",
   "execution_count": 6,
   "metadata": {},
   "outputs": [
    {
     "ename": "TypeError",
     "evalue": "scatter() missing 1 required positional argument: 'column_for_x'",
     "output_type": "error",
     "traceback": [
      "\u001b[0;31m---------------------------------------------------------------------------\u001b[0m",
      "\u001b[0;31mTypeError\u001b[0m                                 Traceback (most recent call last)",
      "\u001b[0;32m<ipython-input-6-58e1106319ee>\u001b[0m in \u001b[0;36m<module>\u001b[0;34m()\u001b[0m\n\u001b[0;32m----> 1\u001b[0;31m \u001b[0mstudent_abscences\u001b[0m\u001b[0;34m.\u001b[0m\u001b[0mscatter\u001b[0m\u001b[0;34m(\u001b[0m    \u001b[0;34m)\u001b[0m \u001b[0;31m# fill in this line to make the scatterplot\u001b[0m\u001b[0;34m\u001b[0m\u001b[0m\n\u001b[0m",
      "\u001b[0;31mTypeError\u001b[0m: scatter() missing 1 required positional argument: 'column_for_x'"
     ]
    }
   ],
   "source": [
    "student_abscences.scatter(    ) # fill in this line to make the scatterplot"
   ]
  },
  {
   "cell_type": "markdown",
   "metadata": {},
   "source": [
    "Is this data strongly or weakly correlated? And is the correlation positive or negative? Put your answers in the cell below and run it to find out if you're right!"
   ]
  },
  {
   "cell_type": "code",
   "execution_count": 7,
   "metadata": {},
   "outputs": [
    {
     "ename": "SyntaxError",
     "evalue": "invalid syntax (<ipython-input-7-cb8d125b8c16>, line 1)",
     "output_type": "error",
     "traceback": [
      "\u001b[0;36m  File \u001b[0;32m\"<ipython-input-7-cb8d125b8c16>\"\u001b[0;36m, line \u001b[0;32m1\u001b[0m\n\u001b[0;31m    strong =     # put True here if you think it's a strong correlation and False if it's weak\u001b[0m\n\u001b[0m                                                                                              ^\u001b[0m\n\u001b[0;31mSyntaxError\u001b[0m\u001b[0;31m:\u001b[0m invalid syntax\n"
     ]
    }
   ],
   "source": [
    "strong =     # put True here if you think it's a strong correlation and False if it's weak\n",
    "positive =     # put True here if you think the data is positively correlated, and False if it's negatively correlated\n",
    "\n",
    "checker(strong, positive)"
   ]
  },
  {
   "cell_type": "markdown",
   "metadata": {},
   "source": [
    "## Correlation Coefficients\n",
    "\n",
    "Scatterplots can tell us a lot about trends in our data, but just knowing whether our data is strongly or weakly correlated and whether the correlation is positive or negative isn't enough. You might ask yourself, \"How strong is  the correlation? Are some correlations stronger than others?\"\n",
    "\n",
    "This is where the idea of a correlation coefficient comes in. The correlation coefficient is a number, known as r, between -1 and 1 that can be calculated for any two variables. If r is negative the correlation is negative, and if it's positive the correlation is positive. And the \"magnitude\" of r (in other words, how close |r| is to 1) tells us how strong the correlation is.\n",
    "\n",
    "In the following cells, we'll walk you through an example of calculating the correlation coefficient for a dataset. For our dataset, let's take a look at some data we first saw all the way back in lesson 1. We'll use the datascience library to create a Table with fertility, population, life expectancy, and child mortality data for all the countries in the world for the year 2015."
   ]
  },
  {
   "cell_type": "code",
   "execution_count": 8,
   "metadata": {},
   "outputs": [
    {
     "data": {
      "text/html": [
       "<table border=\"1\" class=\"dataframe\">\n",
       "    <thead>\n",
       "        <tr>\n",
       "            <th>geo</th> <th>fertility</th> <th>population</th> <th>life expectancy</th> <th>child mortality</th>\n",
       "        </tr>\n",
       "    </thead>\n",
       "    <tbody>\n",
       "        <tr>\n",
       "            <td>abw </td> <td>1.66     </td> <td>103889    </td> <td>75.72          </td> <td>16.57          </td>\n",
       "        </tr>\n",
       "    </tbody>\n",
       "        <tr>\n",
       "            <td>afg </td> <td>4.47     </td> <td>32526562  </td> <td>53.8           </td> <td>91.1           </td>\n",
       "        </tr>\n",
       "    </tbody>\n",
       "        <tr>\n",
       "            <td>ago </td> <td>5.65     </td> <td>25021974  </td> <td>59.6           </td> <td>156.9          </td>\n",
       "        </tr>\n",
       "    </tbody>\n",
       "        <tr>\n",
       "            <td>alb </td> <td>1.78     </td> <td>2896679   </td> <td>78             </td> <td>14             </td>\n",
       "        </tr>\n",
       "    </tbody>\n",
       "        <tr>\n",
       "            <td>are </td> <td>1.77     </td> <td>9156963   </td> <td>75.4           </td> <td>6.8            </td>\n",
       "        </tr>\n",
       "    </tbody>\n",
       "        <tr>\n",
       "            <td>arg </td> <td>2.15     </td> <td>43416755  </td> <td>76.5           </td> <td>12.5           </td>\n",
       "        </tr>\n",
       "    </tbody>\n",
       "        <tr>\n",
       "            <td>arm </td> <td>1.41     </td> <td>3017712   </td> <td>74.7           </td> <td>14.2           </td>\n",
       "        </tr>\n",
       "    </tbody>\n",
       "        <tr>\n",
       "            <td>atg </td> <td>2.06     </td> <td>91818     </td> <td>76.4           </td> <td>8.1            </td>\n",
       "        </tr>\n",
       "    </tbody>\n",
       "        <tr>\n",
       "            <td>aus </td> <td>1.88     </td> <td>23968973  </td> <td>82.3           </td> <td>3.5            </td>\n",
       "        </tr>\n",
       "    </tbody>\n",
       "        <tr>\n",
       "            <td>aut </td> <td>1.5      </td> <td>8544586   </td> <td>81.3           </td> <td>3.5            </td>\n",
       "        </tr>\n",
       "    </tbody>\n",
       "</table>\n",
       "<p>... (188 rows omitted)</p"
      ],
      "text/plain": [
       "geo  | fertility | population | life expectancy | child mortality\n",
       "abw  | 1.66      | 103889     | 75.72           | 16.57\n",
       "afg  | 4.47      | 32526562   | 53.8            | 91.1\n",
       "ago  | 5.65      | 25021974   | 59.6            | 156.9\n",
       "alb  | 1.78      | 2896679    | 78              | 14\n",
       "are  | 1.77      | 9156963    | 75.4            | 6.8\n",
       "arg  | 2.15      | 43416755   | 76.5            | 12.5\n",
       "arm  | 1.41      | 3017712    | 74.7            | 14.2\n",
       "atg  | 2.06      | 91818      | 76.4            | 8.1\n",
       "aus  | 1.88      | 23968973   | 82.3            | 3.5\n",
       "aut  | 1.5       | 8544586    | 81.3            | 3.5\n",
       "... (188 rows omitted)"
      ]
     },
     "execution_count": 8,
     "metadata": {},
     "output_type": "execute_result"
    }
   ],
   "source": [
    "fertility_data = Table.read_table('fertility.csv').where('time', 2015).drop(\"time\")\n",
    "population_data = Table.read_table('population.csv').where('time', 2015).drop(\"time\")\n",
    "life_expectancy_data = Table.read_table('life_expectancy.csv').where('time', 2015).drop(\"time\")\n",
    "child_mortality_data = Table.read_table('child_mortality.csv').where('time', 2015).drop(\"time\")\n",
    "\n",
    "joined_data = fertility_data.join(\"geo\", population_data)\\\n",
    "                            .join(\"geo\", life_expectancy_data)\\\n",
    "                            .join(\"geo\", child_mortality_data)\n",
    "joined_data = joined_data.relabeled(\"children_per_woman_total_fertility\", \"fertility\")\\\n",
    "                        .relabeled(\"population_total\", \"population\")\\\n",
    "                        .relabeled(\"life_expectancy_years\", \"life expectancy\")\\\n",
    "                        .relabeled(\"child_mortality_0_5_year_olds_dying_per_1000_born\", \"child mortality\")\n",
    "joined_data"
   ]
  },
  {
   "cell_type": "markdown",
   "metadata": {},
   "source": [
    "Let's take a look at the \"child mortality\" and \"life expectancy\" columns. We'd expect these two be negatively correlated since the higher the risk of dying as a child, the lower your expected lifetime should be. We can see if this trend holds true by first plotting the data."
   ]
  },
  {
   "cell_type": "code",
   "execution_count": 9,
   "metadata": {},
   "outputs": [
    {
     "data": {
      "image/png": "[encoded data removed]",
      "text/plain": [
       "<matplotlib.figure.Figure at 0x109967898>"
      ]
     },
     "metadata": {},
     "output_type": "display_data"
    }
   ],
   "source": [
    "joined_data.scatter(\"life expectancy\", \"child mortality\")"
   ]
  },
  {
   "cell_type": "markdown",
   "metadata": {},
   "source": [
    "Yup, in fact the data seems negatively correlated. How strong is the correlation exactly? Well to answer that let's compute the correlation coefficient, using the numpy library. First, let's get the two columns we want."
   ]
  },
  {
   "cell_type": "code",
   "execution_count": 10,
   "metadata": {
    "collapsed": true
   },
   "outputs": [],
   "source": [
    "life_expectancy = joined_data.column(\"life expectancy\")\n",
    "child_mortality = joined_data.column(\"child mortality\")"
   ]
  },
  {
   "cell_type": "markdown",
   "metadata": {},
   "source": [
    "Remember that the next step in computing the correlation coefficient is calculating the mean and standard deviation of our two variables. Numpy lets us do this with the convenient \"np.mean\" and \"np.std\" functions. Here's how to use them."
   ]
  },
  {
   "cell_type": "code",
   "execution_count": 11,
   "metadata": {
    "collapsed": true
   },
   "outputs": [],
   "source": [
    "avg_life_expectancy = np.mean(life_expectancy)\n",
    "stddev_life_expectancy = np.std(life_expectancy)\n",
    "avg_child_mortality = np.mean(child_mortality)\n",
    "stddev_child_mortality = np.std(child_mortality)"
   ]
  },
  {
   "cell_type": "markdown",
   "metadata": {},
   "source": [
    "The next step is to transform the data by calculating z_x = (x - x_mean)/x_stddev and z_y = (y - y_mean)/y_stddev for each x and y value, then multiplying together to get z_x * z_y. We can use the numpy \"subtract,\" \"divide,\" and \"multiply\" functions for this."
   ]
  },
  {
   "cell_type": "code",
   "execution_count": 12,
   "metadata": {
    "collapsed": true
   },
   "outputs": [],
   "source": [
    "transformed_life_expectancy = np.divide(np.subtract(life_expectancy, avg_life_expectancy), stddev_life_expectancy)\n",
    "transformed_child_mortality = np.divide(np.subtract(child_mortality, avg_child_mortality), stddev_child_mortality)\n",
    "products = np.multiply(transformed_life_expectancy, transformed_child_mortality)"
   ]
  },
  {
   "cell_type": "markdown",
   "metadata": {},
   "source": [
    "Finally, we add up the values in this array and divide by n-1, where n is the number of values, to get the final correlation coefficient."
   ]
  },
  {
   "cell_type": "code",
   "execution_count": 13,
   "metadata": {},
   "outputs": [
    {
     "name": "stdout",
     "output_type": "stream",
     "text": [
      "This is the correlation coefficient:  -0.876785711187\n"
     ]
    }
   ],
   "source": [
    "correlation_coefficient = np.sum(products) / (len(products) - 1)\n",
    "print(\"This is the correlation coefficient: \", correlation_coefficient)"
   ]
  },
  {
   "cell_type": "markdown",
   "metadata": {},
   "source": [
    "As you can see the correlation coefficient is negative and very close to -1, indicating that this is a strong negative correlation as expected. \n",
    "\n",
    "Now it's your turn. Let's take a look at another pair of variables: fertility and population. Fill in the following cells to make the scatterplot."
   ]
  },
  {
   "cell_type": "code",
   "execution_count": null,
   "metadata": {
    "collapsed": true
   },
   "outputs": [],
   "source": [
    "joined_data.scatter(    ) # fill this in to get a scatterplot of fertility vs population"
   ]
  },
  {
   "cell_type": "markdown",
   "metadata": {},
   "source": [
    "Note that this scatterplot has 2 big \"outliers\" in the top left of the graph, whose populations are far greater than the rest of the data points (India and China). In order to see any relationship in the scatterplot that may be obscured by these outliers, let's use a call to \"where\" to get rid of these 2 outliers and redo the scatterplot. Fill in the following cell to do this."
   ]
  },
  {
   "cell_type": "code",
   "execution_count": null,
   "metadata": {
    "collapsed": true
   },
   "outputs": [],
   "source": [
    "joined_data = joined_data.where(\"population\", predicates.are.below(1e9))\n",
    "joined_data.scatter(    ) # fill this in to get a scatterplot of fertility vs population without outliers"
   ]
  },
  {
   "cell_type": "markdown",
   "metadata": {},
   "source": [
    "Now guess whether the correlation is strong or weak, and if it's positive or negative. Then fill in the following cells to find out if you're right by computing the correlation coefficient!"
   ]
  },
  {
   "cell_type": "code",
   "execution_count": null,
   "metadata": {
    "collapsed": true
   },
   "outputs": [],
   "source": [
    "fertility = joined_data.column(    )\n",
    "population = joined_data.column(    )\n",
    "\n",
    "avg_fertility = \n",
    "stddev_fertility = \n",
    "avg_population = \n",
    "stddev_population = \n",
    "\n",
    "transformed_fertility = np.divide(np.subtract(    ),    )\n",
    "transformed_population = np.divide(np.subtract(    ),    )\n",
    "products = \n",
    "\n",
    "correlation_coefficient = np.sum(    ) / (    )\n",
    "print(\"This is the correlation coefficient: \", correlation_coefficient)"
   ]
  },
  {
   "cell_type": "markdown",
   "metadata": {},
   "source": [
    "A much quicker way to compute the correlation coefficient is to use the np.corrcoef() function. To check if you filled in the previous cells correctly and found the right value, run the next cell to see the right answer."
   ]
  },
  {
   "cell_type": "code",
   "execution_count": 52,
   "metadata": {
    "scrolled": true
   },
   "outputs": [
    {
     "name": "stdout",
     "output_type": "stream",
     "text": [
      "This is the correlation coefficient:  -0.0583302137464\n"
     ]
    }
   ],
   "source": [
    "print(\"This is the correlation coefficient: \", \n",
    "      np.corrcoef(joined_data.column(\"population\"), joined_data.column(\"fertility\"))[1,0])"
   ]
  },
  {
   "cell_type": "markdown",
   "metadata": {},
   "source": [
    "## Line of Best Fit\n",
    "\n",
    "The last thing you learned about correlation is the idea of a line of best fit. This is a line that roughly \"fits\" the data by describing the ideal linear relationship between the data points. Luckily we can plot lines of best fit easily using the datascience library by adding an additional argument, \"fit_line = True\", to our call to the scatter function. Here's an example."
   ]
  },
  {
   "cell_type": "code",
   "execution_count": 53,
   "metadata": {},
   "outputs": [
    {
     "data": {
      "image/png": "[encoded data removed]",
      "text/plain": [
       "<matplotlib.figure.Figure at 0x109b7b2b0>"
      ]
     },
     "metadata": {},
     "output_type": "display_data"
    }
   ],
   "source": [
    "joined_data.scatter(\"life expectancy\", \"child mortality\", fit_line=True)"
   ]
  },
  {
   "cell_type": "markdown",
   "metadata": {},
   "source": [
    "When the data is strongly correlated (correlation coefficient close to 1 or -1), the line closely fits most of the data points well. But when the data is not strongly correlated (correlation coefficient close to 0), the lie of best fit doesn't seem to fit the data at all. Let's see what the line of best fit looks like for population and fertility. Fill in the following cell to create a scatterplot of population and fertility with a best fit line."
   ]
  },
  {
   "cell_type": "code",
   "execution_count": 54,
   "metadata": {},
   "outputs": [
    {
     "data": {
      "image/png": "[encoded data removed]",
      "text/plain": [
       "<matplotlib.figure.Figure at 0x109e5a748>"
      ]
     },
     "metadata": {},
     "output_type": "display_data"
    }
   ],
   "source": [
    "joined_data.scatter(    ) # fill this in"
   ]
  },
  {
   "cell_type": "markdown",
   "metadata": {},
   "source": [
    "In the next lesson, we'll learn how to actually mathematically find the equation for this line of best fit by using a technique known as \"regression.\""
   ]
  }
 ],
 "metadata": {
  "celltoolbar": "Raw Cell Format",
  "kernelspec": {
   "display_name": "Python 3",
   "language": "python",
   "name": "python3"
  },
  "language_info": {
   "codemirror_mode": {
    "name": "ipython",
    "version": 3
   },
   "file_extension": ".py",
   "mimetype": "text/x-python",
   "name": "python",
   "nbconvert_exporter": "python",
   "pygments_lexer": "ipython3",
   "version": "3.6.0"
  }
 },
 "nbformat": 4,
 "nbformat_minor": 2
}
