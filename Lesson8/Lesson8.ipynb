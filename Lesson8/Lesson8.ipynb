{
 "cells": [
  {
   "cell_type": "code",
   "execution_count": 3,
   "metadata": {
    "collapsed": true
   },
   "outputs": [],
   "source": [
    "import matplotlib\n",
    "matplotlib.use('Agg')\n",
    "from datascience import Table\n",
    "%matplotlib inline\n",
    "import matplotlib.pyplot as plt\n",
    "import numpy as np\n",
    "plt.style.use('fivethirtyeight')"
   ]
  },
  {
   "cell_type": "code",
   "execution_count": 70,
   "metadata": {
    "collapsed": true
   },
   "outputs": [],
   "source": [
    "def checker(strong, positive):\n",
    "    if strong:\n",
    "        if positive:\n",
    "            print(\"Try Again!\")\n",
    "        else:\n",
    "            print(\"You are correct! You have now successfully learned how to calculated the correlation coefficient and make a scatter plot in python!\")   \n",
    "    else:\n",
    "        print(\"Try Again!\")"
   ]
  },
  {
   "cell_type": "markdown",
   "metadata": {},
   "source": [
    "In this worksheet, we'll be exploring the programming tools involved in the mathematical and data visualization tools introduced in the worksheet. This includes scatter plots, lines of best fit (regression), and correlation coefficients. "
   ]
  },
  {
   "cell_type": "markdown",
   "metadata": {},
   "source": [
    "Here is the basic syntax to create scatter plots using the datascience library. First, it is necessary to have a table of data, either imported from a csv file using the '.read_table('example.csv')' or with a table you have built yourself. Then, the '.scatter('Columnname')' gives you a scatter plot. The amount of prisoners admitted to hospitals vs. time has been graphed below. This data was extracted from the 2011 Census of India. "
   ]
  },
  {
   "cell_type": "code",
   "execution_count": 50,
   "metadata": {
    "collapsed": false
   },
   "outputs": [
    {
     "data": {
      "image/png": "[encoded data removed]",
      "text/plain": [
       "<matplotlib.figure.Figure at 0x10e97b240>"
      ]
     },
     "metadata": {},
     "output_type": "display_data"
    }
   ],
   "source": [
    "disease_data=(Table.read_table('prisoners_over_time.csv'))\n",
    "disease_data.scatter('Prisoners admitted to Hospitals')"
   ]
  },
  {
   "cell_type": "markdown",
   "metadata": {},
   "source": [
    "In the earlier lesson, we learned how to calculate the correlation coefficient. Coding a function to calculate the correlation coefficient makes the task much less difficult. We'll be learning to do this two different ways. The first way incorporates two different functions from the numpy library: np.std(...) and np.mean(...). np.std calculates the standard deviation and np.mean calculates the mean of the list. In the data we graphed above, we have two axes, \"Prisoners admitted to Hospitals\" and \"Years\". We'll do the correlation coefficient for this. Read through the function below and use the knowledge learned in the lesson earlier to fill in the blanks! \n"
   ]
  },
  {
   "cell_type": "code",
   "execution_count": 52,
   "metadata": {
    "collapsed": false
   },
   "outputs": [
    {
     "ename": "SyntaxError",
     "evalue": "invalid syntax (<ipython-input-52-eb505852cbba>, line 6)",
     "output_type": "error",
     "traceback": [
      "\u001b[0;36m  File \u001b[0;32m\"<ipython-input-52-eb505852cbba>\"\u001b[0;36m, line \u001b[0;32m6\u001b[0m\n\u001b[0;31m    prisoners_mean=######\u001b[0m\n\u001b[0m                         ^\u001b[0m\n\u001b[0;31mSyntaxError\u001b[0m\u001b[0;31m:\u001b[0m invalid syntax\n"
     ]
    }
   ],
   "source": [
    "years=disease_data.column(0)\n",
    "prisoners=disease_data.column(1)\n",
    "\n",
    "years_mean=np.mean(years)\n",
    "years_std=np.std(years)\n",
    "prisoners_mean=######\n",
    "prisoners_std=######\n",
    "    \n",
    "correlation_coefficient=0\n",
    "index=0\n",
    "for x in years:\n",
    "    y=prisoners[index]\n",
    "    index+=1\n",
    "    \n",
    "    #This is where we calculate zx = (x - X̄)/Sx and zy = (y - Ȳ)/Sy. Fill in the code as needed! \n",
    "    zx= #########\n",
    "    zy= ######### \n",
    "    zxzy=zx*zy\n",
    "    \n",
    "    correlation_coefficient=zxzy+##################\n",
    "    \n",
    "num_points=disease_data.num_rows\n",
    "correlation_coefficient=correlation_coefficient/##########\n",
    "\n",
    "print(\"This is the correlation coefficient:\",correlation_coefficient)\n",
    "    "
   ]
  },
  {
   "cell_type": "markdown",
   "metadata": {},
   "source": [
    "The next way is to use the np.corrcoef() function which should calculate the correlation coefficient for you."
   ]
  },
  {
   "cell_type": "code",
   "execution_count": 53,
   "metadata": {
    "collapsed": false
   },
   "outputs": [
    {
     "name": "stdout",
     "output_type": "stream",
     "text": [
      "This is the correlation coefficient:  0.806690661953\n"
     ]
    }
   ],
   "source": [
    "print(\"This is the correlation coefficient: \", np.corrcoef(years,prisoners)[1,0])"
   ]
  },
  {
   "cell_type": "markdown",
   "metadata": {},
   "source": [
    "You'll notice that we put [1,0] in front of the command we gave you. This is because the function from numpy returns an array, which we must index into for the proper correlation coefficient. "
   ]
  },
  {
   "cell_type": "markdown",
   "metadata": {},
   "source": [
    "In class, we used a small dataset from Mrs. Ganguly's classroom. Let's replicate this and see if we get the same results!\n"
   ]
  },
  {
   "cell_type": "code",
   "execution_count": 54,
   "metadata": {
    "collapsed": false
   },
   "outputs": [
    {
     "data": {
      "text/html": [
       "<table border=\"1\" class=\"dataframe\">\n",
       "    <thead>\n",
       "        <tr>\n",
       "            <th>Student</th> <th>1st Week</th> <th>12th Week</th>\n",
       "        </tr>\n",
       "    </thead>\n",
       "    <tbody>\n",
       "        <tr>\n",
       "            <td>Sathvik</td> <td>3       </td> <td>7        </td>\n",
       "        </tr>\n",
       "    </tbody>\n",
       "        <tr>\n",
       "            <td>Anjali </td> <td>1       </td> <td>2        </td>\n",
       "        </tr>\n",
       "    </tbody>\n",
       "        <tr>\n",
       "            <td>Shreyan</td> <td>1       </td> <td>4        </td>\n",
       "        </tr>\n",
       "    </tbody>\n",
       "        <tr>\n",
       "            <td>Chaaru </td> <td>2       </td> <td>5        </td>\n",
       "        </tr>\n",
       "    </tbody>\n",
       "        <tr>\n",
       "            <td>Rishi  </td> <td>2       </td> <td>6        </td>\n",
       "        </tr>\n",
       "    </tbody>\n",
       "        <tr>\n",
       "            <td>Divya  </td> <td>3       </td> <td>5        </td>\n",
       "        </tr>\n",
       "    </tbody>\n",
       "</table>"
      ],
      "text/plain": [
       "Student | 1st Week | 12th Week\n",
       "Sathvik | 3        | 7\n",
       "Anjali  | 1        | 2\n",
       "Shreyan | 1        | 4\n",
       "Chaaru  | 2        | 5\n",
       "Rishi   | 2        | 6\n",
       "Divya   | 3        | 5"
      ]
     },
     "execution_count": 54,
     "metadata": {},
     "output_type": "execute_result"
    }
   ],
   "source": [
    "classroom_data=Table().with_columns([\n",
    "    'Student',['Sathvik','Anjali', 'Shreyan','Chaaru','Rishi','Divya'],\n",
    "    '1st Week', [3,1,1,2,2,3],\n",
    "    '12th Week', [7,2,4,5,6,5]\n",
    "])\n",
    "classroom_data"
   ]
  },
  {
   "cell_type": "code",
   "execution_count": 58,
   "metadata": {
    "collapsed": false
   },
   "outputs": [
    {
     "data": {
      "image/png": "[encoded data removed]",
      "text/plain": [
       "<matplotlib.figure.Figure at 0x112de3898>"
      ]
     },
     "metadata": {},
     "output_type": "display_data"
    }
   ],
   "source": [
    "classroom_data.scatter('1st Week','12th Week',fit_line=True)"
   ]
  },
  {
   "cell_type": "markdown",
   "metadata": {},
   "source": [
    "Here we see that the graph is the same as we saw earlier."
   ]
  },
  {
   "cell_type": "code",
   "execution_count": 60,
   "metadata": {
    "collapsed": false
   },
   "outputs": [
    {
     "name": "stdout",
     "output_type": "stream",
     "text": [
      "The correlation coefficient is: 0.778936180334\n"
     ]
    }
   ],
   "source": [
    "print(\"The correlation coefficient is:\", np.corrcoef(classroom_data.column(1),classroom_data.column(2))[1,0])"
   ]
  },
  {
   "cell_type": "markdown",
   "metadata": {},
   "source": [
    "There! We managed to replicate everything we did earlier fairly quickly! Now it's your turn. Here I have provided a small data set with students' grades from 1-100 and the amount of absences they've had. "
   ]
  },
  {
   "cell_type": "code",
   "execution_count": 75,
   "metadata": {
    "collapsed": false
   },
   "outputs": [
    {
     "data": {
      "text/html": [
       "<table border=\"1\" class=\"dataframe\">\n",
       "    <thead>\n",
       "        <tr>\n",
       "            <th>Student</th> <th>Absences</th> <th>Grades</th>\n",
       "        </tr>\n",
       "    </thead>\n",
       "    <tbody>\n",
       "        <tr>\n",
       "            <td>Rashi  </td> <td>0       </td> <td>99    </td>\n",
       "        </tr>\n",
       "    </tbody>\n",
       "        <tr>\n",
       "            <td>Amit   </td> <td>1       </td> <td>95    </td>\n",
       "        </tr>\n",
       "    </tbody>\n",
       "        <tr>\n",
       "            <td>Simaran</td> <td>2       </td> <td>90    </td>\n",
       "        </tr>\n",
       "    </tbody>\n",
       "        <tr>\n",
       "            <td>Shruti </td> <td>3       </td> <td>80    </td>\n",
       "        </tr>\n",
       "    </tbody>\n",
       "        <tr>\n",
       "            <td>Eesha  </td> <td>4       </td> <td>75    </td>\n",
       "        </tr>\n",
       "    </tbody>\n",
       "        <tr>\n",
       "            <td>Arpit  </td> <td>7       </td> <td>68    </td>\n",
       "        </tr>\n",
       "    </tbody>\n",
       "</table>"
      ],
      "text/plain": [
       "Student | Absences | Grades\n",
       "Rashi   | 0        | 99\n",
       "Amit    | 1        | 95\n",
       "Simaran | 2        | 90\n",
       "Shruti  | 3        | 80\n",
       "Eesha   | 4        | 75\n",
       "Arpit   | 7        | 68"
      ]
     },
     "execution_count": 75,
     "metadata": {},
     "output_type": "execute_result"
    }
   ],
   "source": [
    "absences_data=Table().with_columns([\n",
    "    'Student',['Rashi','Amit', 'Simaran','Shruti','Eesha','Arpit'],\n",
    "    'Absences', [0,1,2,3,4,7],\n",
    "    'Grades', [99,95,90,80,75,68]\n",
    "])\n",
    "absences=absences_data.column(1)\n",
    "grades=absences_data.column(2)\n",
    "absences_data"
   ]
  },
  {
   "cell_type": "markdown",
   "metadata": {},
   "source": [
    "Now, use this data to graph a scatter plot of the data and predict which kind of correlation you think it will be."
   ]
  },
  {
   "cell_type": "code",
   "execution_count": null,
   "metadata": {
    "collapsed": false
   },
   "outputs": [],
   "source": []
  },
  {
   "cell_type": "markdown",
   "metadata": {},
   "source": [
    "Now, calculate the correlation coefficient in any way you wish. I have provided the columns with variable names 'absences' and 'grades'."
   ]
  },
  {
   "cell_type": "code",
   "execution_count": null,
   "metadata": {
    "collapsed": false
   },
   "outputs": [],
   "source": []
  },
  {
   "cell_type": "markdown",
   "metadata": {},
   "source": [
    "Now, tell me whether it's a positive correlation or a negative correlation and whether it's strong or weak. Fill in the variables strong=True/False and positive=True/False"
   ]
  },
  {
   "cell_type": "code",
   "execution_count": 73,
   "metadata": {
    "collapsed": false
   },
   "outputs": [
    {
     "ename": "SyntaxError",
     "evalue": "invalid syntax (<ipython-input-73-8660ec59d39b>, line 1)",
     "output_type": "error",
     "traceback": [
      "\u001b[0;36m  File \u001b[0;32m\"<ipython-input-73-8660ec59d39b>\"\u001b[0;36m, line \u001b[0;32m1\u001b[0m\n\u001b[0;31m    strong=#########\u001b[0m\n\u001b[0m                    ^\u001b[0m\n\u001b[0;31mSyntaxError\u001b[0m\u001b[0;31m:\u001b[0m invalid syntax\n"
     ]
    }
   ],
   "source": [
    "strong=#########\n",
    "positive=############\n",
    "\n",
    "checker(strong,positive)"
   ]
  },
  {
   "cell_type": "markdown",
   "metadata": {},
   "source": [
    "We can use the fit_line specification in the .scatter command in order to create a fit line. You'll be learning how to do this in more detail next time. Here's an example:"
   ]
  },
  {
   "cell_type": "code",
   "execution_count": 78,
   "metadata": {
    "collapsed": false
   },
   "outputs": [
    {
     "data": {
      "image/png": "[encoded data removed]",
      "text/plain": [
       "<matplotlib.figure.Figure at 0x1135b5780>"
      ]
     },
     "metadata": {},
     "output_type": "display_data"
    }
   ],
   "source": [
    "absences_data.scatter('Absences','Grades',fit_line=True)"
   ]
  },
  {
   "cell_type": "code",
   "execution_count": null,
   "metadata": {
    "collapsed": true
   },
   "outputs": [],
   "source": []
  }
 ],
 "metadata": {
  "celltoolbar": "Raw Cell Format",
  "kernelspec": {
   "display_name": "Python 3",
   "language": "python",
   "name": "python3"
  },
  "language_info": {
   "codemirror_mode": {
    "name": "ipython",
    "version": 3
   },
   "file_extension": ".py",
   "mimetype": "text/x-python",
   "name": "python",
   "nbconvert_exporter": "python",
   "pygments_lexer": "ipython3",
   "version": "3.6.0"
  }
 },
 "nbformat": 4,
 "nbformat_minor": 2
}
