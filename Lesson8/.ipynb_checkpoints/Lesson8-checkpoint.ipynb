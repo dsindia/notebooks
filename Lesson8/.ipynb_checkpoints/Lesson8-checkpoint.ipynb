{
 "cells": [
  {
   "cell_type": "code",
   "execution_count": 3,
   "metadata": {
    "collapsed": true
   },
   "outputs": [],
   "source": [
    "import matplotlib\n",
    "matplotlib.use('Agg')\n",
    "from datascience import Table\n",
    "%matplotlib inline\n",
    "import matplotlib.pyplot as plt\n",
    "import numpy as np\n",
    "plt.style.use('fivethirtyeight')"
   ]
  },
  {
   "cell_type": "markdown",
   "metadata": {},
   "source": [
    "In this worksheet, we'll be exploring the programming tools involved in the mathematical and data visualization tools introduced in the worksheet. This includes scatter plots, lines of best fit (regression), and correlation coefficients. "
   ]
  },
  {
   "cell_type": "markdown",
   "metadata": {},
   "source": [
    "Here is the basic syntax to create scatter plots using the datascience library. First, it is necessary to have a table of data, either imported from a csv file using the '.read_table('example.csv')' or with a table you have built yourself. Then, the '.scatter('Columnname')' gives you a scatter plot. The amount of prisoners admitted to hospitals vs. time has been graphed below. This data was extracted from the 2011 Census of India. "
   ]
  },
  {
   "cell_type": "code",
   "execution_count": 50,
   "metadata": {
    "collapsed": false
   },
   "outputs": [
    {
     "data": {
      "image/png": "[encoded data removed]",
      "text/plain": [
       "<matplotlib.figure.Figure at 0x10e97b240>"
      ]
     },
     "metadata": {},
     "output_type": "display_data"
    }
   ],
   "source": [
    "disease_data=(Table.read_table('prisoners_over_time.csv'))\n",
    "disease_data.scatter('Prisoners admitted to Hospitals')"
   ]
  },
  {
   "cell_type": "markdown",
   "metadata": {},
   "source": [
    "In the earlier lesson, we learned how to calculate the correlation coefficient. Coding a function to calculate the correlation coefficient makes the task much less difficult. We'll be learning to do this two different ways. The first way incorporates two different functions from the numpy library: np.std(...) and np.mean(...). np.std calculates the standard deviation and np.mean calculates the mean of the list. In the data we graphed above, we have two axes, \"Prisoners admitted to Hospitals\" and \"Years\". We'll do the correlation coefficient for this. Read through the function below and use the knowledge learned in the lesson earlier to fill in the blanks! \n"
   ]
  },
  {
   "cell_type": "code",
   "execution_count": 52,
   "metadata": {
    "collapsed": false
   },
   "outputs": [
    {
     "ename": "SyntaxError",
     "evalue": "invalid syntax (<ipython-input-52-eb505852cbba>, line 6)",
     "output_type": "error",
     "traceback": [
      "\u001b[0;36m  File \u001b[0;32m\"<ipython-input-52-eb505852cbba>\"\u001b[0;36m, line \u001b[0;32m6\u001b[0m\n\u001b[0;31m    prisoners_mean=######\u001b[0m\n\u001b[0m                         ^\u001b[0m\n\u001b[0;31mSyntaxError\u001b[0m\u001b[0;31m:\u001b[0m invalid syntax\n"
     ]
    }
   ],
   "source": [
    "years=disease_data.column(0)\n",
    "prisoners=disease_data.column(1)\n",
    "\n",
    "years_mean=np.mean(years)\n",
    "years_std=np.std(years)\n",
    "prisoners_mean=######\n",
    "prisoners_std=######\n",
    "    \n",
    "correlation_coefficient=0\n",
    "index=0\n",
    "for x in years:\n",
    "    y=prisoners[index]\n",
    "    index+=1\n",
    "    \n",
    "    #This is where we calculate zx = (x - X̄)/Sx and zy = (y - Ȳ)/Sy. Fill in the code as needed! \n",
    "    zx= #########\n",
    "    zy= ######### \n",
    "    zxzy=zx*zy\n",
    "    \n",
    "    correlation_coefficient=zxzy+##################\n",
    "    \n",
    "num_points=disease_data.num_rows\n",
    "correlation_coefficient=correlation_coefficient/##########\n",
    "\n",
    "print(\"This is the correlation coefficient:\",correlation_coefficient)\n",
    "    "
   ]
  },
  {
   "cell_type": "markdown",
   "metadata": {},
   "source": [
    "The next way is to use the np.corrcoef() function which should calculate the correlation coefficient for you."
   ]
  },
  {
   "cell_type": "code",
   "execution_count": 53,
   "metadata": {
    "collapsed": false
   },
   "outputs": [
    {
     "name": "stdout",
     "output_type": "stream",
     "text": [
      "This is the correlation coefficient:  0.806690661953\n"
     ]
    }
   ],
   "source": [
    "print(\"This is the correlation coefficient: \", np.corrcoef(years,prisoners)[1,0])"
   ]
  },
  {
   "cell_type": "markdown",
   "metadata": {},
   "source": [
    "You'll notice that we put [1,0] in front of the command we gave you. This is because the function from numpy returns an array, which we must index into for the proper correlation coefficient. "
   ]
  },
  {
   "cell_type": "code",
   "execution_count": null,
   "metadata": {
    "collapsed": true
   },
   "outputs": [],
   "source": []
  },
  {
   "cell_type": "code",
   "execution_count": null,
   "metadata": {
    "collapsed": true
   },
   "outputs": [],
   "source": []
  }
 ],
 "metadata": {
  "kernelspec": {
   "display_name": "Python 3",
   "language": "python",
   "name": "python3"
  },
  "language_info": {
   "codemirror_mode": {
    "name": "ipython",
    "version": 3
   },
   "file_extension": ".py",
   "mimetype": "text/x-python",
   "name": "python",
   "nbconvert_exporter": "python",
   "pygments_lexer": "ipython3",
   "version": "3.6.0"
  }
 },
 "nbformat": 4,
 "nbformat_minor": 2
}
