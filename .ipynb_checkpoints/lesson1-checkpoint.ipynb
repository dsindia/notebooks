{
 "cells": [
  {
   "cell_type": "markdown",
   "metadata": {},
   "source": [
    "<img src=\"dsi.png\" style=\"height:128px;\">\n"
   ]
  },
  {
   "cell_type": "markdown",
   "metadata": {},
   "source": [
    "# Lesson 1: Why Data Science?"
   ]
  },
  {
   "cell_type": "markdown",
   "metadata": {},
   "source": [
    "Welcome to the interactive Jupyter Notebook-based component of Data Science for India! Each week, we're going to practice what we covered in the worksheets with *programs* on the computer. We talked a lot about how computers are useful when working with data, so let's close out today's session with an example.\n",
    "\n",
    "Today we're going to look at some data, and how we can *visualize* it! Along the way, we'll learn about Jupyter Notebooks and how to use them. In this notebook, you will also see some lines of *code*. Code is something that a machine can understand and *interpret*, or make sense of. \n",
    "\n",
    "Just like you know how to speak English or Hindi, you'll soon know how to write code in a language called Python. Python is just one of the many languages computers can understand! For today, you won't need to write any code unless you are curious and want to play around (go ahead!). Instead, just look at a few of the cool things we can do with data science."
   ]
  },
  {
   "cell_type": "markdown",
   "metadata": {},
   "source": [
    "Run each \"cell\", or block of code, by pressing the keys \"Shift\" and \"Enter\" at the same time. "
   ]
  },
  {
   "cell_type": "code",
   "execution_count": 1,
   "metadata": {
    "collapsed": true
   },
   "outputs": [],
   "source": [
    "# Below we have `import` statements, which help us set up the notebook! \n",
    "import numpy as np\n",
    "from datascience import *\n",
    "import matplotlib\n",
    "%matplotlib inline\n",
    "import matplotlib.pyplot as plt\n",
    "plt.style.use('fivethirtyeight')"
   ]
  },
  {
   "cell_type": "markdown",
   "metadata": {},
   "source": [
    "Some lines of code are equal to a value. In Jupyter notebooks, we actually get to see what the result of the last line of code is equal to."
   ]
  },
  {
   "cell_type": "markdown",
   "metadata": {},
   "source": [
    "Here, we're going to read a *table* of data about the quality of different bodies of water all over India. You might recognize some of these rivers and lakes. In fact, you might have even been there!\n"
   ]
  },
  {
   "cell_type": "markdown",
   "metadata": {},
   "source": [
    "The *rows* (displayed sideways) of the table represent the location where the measurements were taken, and the *columns* (displayed vertically), show the different types of measurements. You might even recognize some from chemistry class."
   ]
  },
  {
   "cell_type": "code",
   "execution_count": 23,
   "metadata": {
    "collapsed": false
   },
   "outputs": [
    {
     "data": {
      "text/html": [
       "<table border=\"1\" class=\"dataframe\">\n",
       "    <thead>\n",
       "        <tr>\n",
       "            <th>Station Code</th> <th>Water Quality</th> <th>Locations</th> <th>State Name</th> <th>TEMPERATURE (degree Centigrade)-Minimum</th> <th>TEMPERATURE (degree Centigrade)-Maximum</th> <th>TEMPERATURE (degree Centigrade)-Mean</th> <th>Dissolved Oxygen(D.O.) (mg/l)-Minimum</th> <th>Dissolved Oxygen(D.O.) (mg/l)-Maximum</th> <th>Dissolved Oxygen(D.O.) (mg/l)-Mean</th> <th>pH-Minimum</th> <th>pH-Maximum</th> <th>pH-Mean</th> <th>CONDUCTIVITY (µmhos/cm)-Minimum</th> <th>CONDUCTIVITY (µmhos/cm)-Maximum</th> <th>CONDUCTIVITY (µmhos/cm)-Mean</th> <th>Biochemical oxygen demand (B.O.D.) (mg/l)-Minimum</th> <th>Biochemical oxygen demand (B.O.D.) (mg/l)-Maximum</th> <th>Biochemical oxygen demand (B.O.D.) (mg/l)-Mean</th> <th>NITRATE- N+ NITRITE-N (mg/l)-Minimum</th> <th>NITRATE- N+ NITRITE-N (mg/l)-Maximum</th> <th>NITRATE- N+ NITRITE-N (mg/l)-Mean</th> <th>FECAL COLIFORM (MPN/100ml)-Minimum</th> <th>FECAL COLIFORM (MPN/100ml)-Maximum</th> <th>FECAL COLIFORM (MPN/100ml)-Mean</th> <th>TOTAL COLIFORM (MPN/100ml)-Minimum</th> <th>TOTAL COLIFORM (MPN/100ml)-Maximum</th> <th>TOTAL COLIFORM (MPN/100ml)-Mean</th>\n",
       "        </tr>\n",
       "    </thead>\n",
       "    <tbody>\n",
       "        <tr>\n",
       "            <td>1001        </td> <td>\"WATER QUALITY OF RIVER- BEAS\"</td> <td>\"BEAS AT UPSTREAM MANALI\"                 </td> <td>\"HIMACHAL PRADESH\"</td> <td>2.5                                    </td> <td>14                                     </td> <td>9                                   </td> <td>8.4                                  </td> <td>10.3                                 </td> <td>9                                 </td> <td>7.2       </td> <td>8         </td> <td>8      </td> <td>68                             </td> <td>101                            </td> <td>85                          </td> <td>0.1                                              </td> <td>0.3                                              </td> <td>0.1                                           </td> <td>0.06                                </td> <td>0.42                                </td> <td>0.2                              </td> <td>0                                 </td> <td>920                               </td> <td>106                            </td> <td>11                                </td> <td>2400                              </td> <td>397                            </td>\n",
       "        </tr>\n",
       "    </tbody>\n",
       "        <tr>\n",
       "            <td>1002        </td> <td>\"WATER QUALITY OF RIVER- BEAS\"</td> <td>\"BEAS AT DOWNSTREAM KULU\"                 </td> <td>\"HIMACHAL PRADESH\"</td> <td>5.6                                    </td> <td>14                                     </td> <td>10                                  </td> <td>8                                    </td> <td>10.2                                 </td> <td>9                                 </td> <td>7.1       </td> <td>8.3       </td> <td>8      </td> <td>69                             </td> <td>165                            </td> <td>102                         </td> <td>0.2                                              </td> <td>0.4                                              </td> <td>0.3                                           </td> <td>0.04                                </td> <td>0.89                                </td> <td>0.4                              </td> <td>33                                </td> <td>350                               </td> <td>153                            </td> <td>160                               </td> <td>2400                              </td> <td>954                            </td>\n",
       "        </tr>\n",
       "    </tbody>\n",
       "        <tr>\n",
       "            <td>1003        </td> <td>\"WATER QUALITY OF RIVER- BEAS\"</td> <td>\"BEAS AT DOWNSTREAM AUT\"                  </td> <td>\"HIMACHAL PRADESH\"</td> <td>5                                      </td> <td>14.1                                   </td> <td>11                                  </td> <td>8.2                                  </td> <td>10.5                                 </td> <td>9                                 </td> <td>7.3       </td> <td>8.5       </td> <td>8      </td> <td>65                             </td> <td>178                            </td> <td>96                          </td> <td>0.1                                              </td> <td>0.5                                              </td> <td>0.2                                           </td> <td>0.04                                </td> <td>0.64                                </td> <td>0.3                              </td> <td>2                                 </td> <td>140                               </td> <td>58                             </td> <td>27                                </td> <td>2400                              </td> <td>653                            </td>\n",
       "        </tr>\n",
       "    </tbody>\n",
       "        <tr>\n",
       "            <td>1004        </td> <td>\"WATER QUALITY OF RIVER- BEAS\"</td> <td>\"BEAS AT UPSTREAM PANDON DAM\"             </td> <td>\"HIMACHAL PRADESH\"</td> <td>5.5                                    </td> <td>18                                     </td> <td>13                                  </td> <td>8.1                                  </td> <td>10.6                                 </td> <td>9                                 </td> <td>7         </td> <td>8.2       </td> <td>8      </td> <td>56                             </td> <td>130                            </td> <td>94                          </td> <td>0.1                                              </td> <td>0.2                                              </td> <td>0.2                                           </td> <td>0.24                                </td> <td>0.71                                </td> <td>0.4                              </td> <td>7                                 </td> <td>79                                </td> <td>34                             </td> <td>34                                </td> <td>920                               </td> <td>317                            </td>\n",
       "        </tr>\n",
       "    </tbody>\n",
       "        <tr>\n",
       "            <td>1005        </td> <td>\"WATER QUALITY OF RIVER- BEAS\"</td> <td>\"BEAS AT EXIT OF TUNNEL DEHAL POWER HOUSE\"</td> <td>\"HIMACHAL PRADESH\"</td> <td>5                                      </td> <td>21                                     </td> <td>14                                  </td> <td>7.9                                  </td> <td>12                                   </td> <td>10                                </td> <td>7.3       </td> <td>8.4       </td> <td>8      </td> <td>56                             </td> <td>227                            </td> <td>112                         </td> <td>0.1                                              </td> <td>0.4                                              </td> <td>0.2                                           </td> <td>0.08                                </td> <td>0.69                                </td> <td>0.5                              </td> <td>23                                </td> <td>920                               </td> <td>213                            </td> <td>160                               </td> <td>2400                              </td> <td>1072                           </td>\n",
       "        </tr>\n",
       "    </tbody>\n",
       "        <tr>\n",
       "            <td>1550        </td> <td>\"WATER QUALITY OF RIVER- BEAS\"</td> <td>\"UPSTREAM MANDI\"                          </td> <td>\"HIMACHAL PRADESH\"</td> <td>6                                      </td> <td>20                                     </td> <td>16                                  </td> <td>7.1                                  </td> <td>11.1                                 </td> <td>9                                 </td> <td>7.2       </td> <td>8.7       </td> <td>8      </td> <td>66                             </td> <td>164                            </td> <td>117                         </td> <td>0.1                                              </td> <td>0.4                                              </td> <td>0.2                                           </td> <td>0.01                                </td> <td>1.39                                </td> <td>0.5                              </td> <td>17                                </td> <td>350                               </td> <td>100                            </td> <td>220                               </td> <td>2400                              </td> <td>722                            </td>\n",
       "        </tr>\n",
       "    </tbody>\n",
       "        <tr>\n",
       "            <td>1006        </td> <td>\"WATER QUALITY OF RIVER- BEAS\"</td> <td>\"BEAS AT DOWNSTREAM MANDI\"                </td> <td>\"HIMACHAL PRADESH\"</td> <td>6.5                                    </td> <td>21                                     </td> <td>16                                  </td> <td>7.8                                  </td> <td>10.3                                 </td> <td>9                                 </td> <td>7.4       </td> <td>8.4       </td> <td>8      </td> <td>86                             </td> <td>220                            </td> <td>155                         </td> <td>0.2                                              </td> <td>0.6                                              </td> <td>0.5                                           </td> <td>0.08                                </td> <td>1.53                                </td> <td>0.7                              </td> <td>27                                </td> <td>920                               </td> <td>445                            </td> <td>540                               </td> <td>2400                              </td> <td>1855                           </td>\n",
       "        </tr>\n",
       "    </tbody>\n",
       "        <tr>\n",
       "            <td>2604        </td> <td>\"WATER QUALITY OF RIVER- BEAS\"</td> <td>\"BEAS AT DOWNSTREAM JAISINGHPUR\"          </td> <td>\"HIMACHAL PRADESH\"</td> <td>8.9                                    </td> <td>22                                     </td> <td>19                                  </td> <td>7.8                                  </td> <td>9                                    </td> <td>8                                 </td> <td>7.5       </td> <td>8.7       </td> <td>8      </td> <td>97                             </td> <td>361                            </td> <td>211                         </td> <td>0.2                                              </td> <td>0.8                                              </td> <td>0.5                                           </td> <td>0.15                                </td> <td>1.46                                </td> <td>0.5                              </td> <td>4                                 </td> <td>11                                </td> <td>7                              </td> <td>22                                </td> <td>170                               </td> <td>72                             </td>\n",
       "        </tr>\n",
       "    </tbody>\n",
       "        <tr>\n",
       "            <td>1007        </td> <td>\"WATER QUALITY OF RIVER- BEAS\"</td> <td>\"BEAS AT DOWNSTREAM ALAMPUR\"              </td> <td>\"HIMACHAL PRADESH\"</td> <td>20                                     </td> <td>22                                     </td> <td>19                                  </td> <td>8.3                                  </td> <td>9.1                                  </td> <td>8                                 </td> <td>8.2       </td> <td>8.9       </td> <td>8      </td> <td>130                            </td> <td>356                            </td> <td>202                         </td> <td>1                                                </td> <td>1                                                </td> <td>0.6                                           </td> <td>0.1                                 </td> <td>1.18                                </td> <td>0.4                              </td> <td>6                                 </td> <td>14                                </td> <td>9                              </td> <td>94                                </td> <td>280                               </td> <td>123                            </td>\n",
       "        </tr>\n",
       "    </tbody>\n",
       "        <tr>\n",
       "            <td>1008        </td> <td>\"WATER QUALITY OF RIVER- BEAS\"</td> <td>\"BEAS AT DOWNSTREAM DEHRAGOPIPUR\"         </td> <td>\"HIMACHAL PRADESH\"</td> <td>9                                      </td> <td>24                                     </td> <td>19                                  </td> <td>7.5                                  </td> <td>9.6                                  </td> <td>8                                 </td> <td>7.1       </td> <td>8.4       </td> <td>8      </td> <td>124                            </td> <td>638                            </td> <td>280                         </td> <td>0.1                                              </td> <td>1.1                                              </td> <td>0.7                                           </td> <td>0                                   </td> <td>7.07                                </td> <td>1.1                              </td> <td>0                                 </td> <td>21                                </td> <td>10                             </td> <td>12                                </td> <td>540                               </td> <td>157                            </td>\n",
       "        </tr>\n",
       "    </tbody>\n",
       "</table>\n",
       "<p>... (1704 rows omitted)</p"
      ],
      "text/plain": [
       "Station Code | Water Quality                  | Locations                                  | State Name         | TEMPERATURE (degree Centigrade)-Minimum | TEMPERATURE (degree Centigrade)-Maximum | TEMPERATURE (degree Centigrade)-Mean | Dissolved Oxygen(D.O.) (mg/l)-Minimum | Dissolved Oxygen(D.O.) (mg/l)-Maximum | Dissolved Oxygen(D.O.) (mg/l)-Mean | pH-Minimum | pH-Maximum | pH-Mean | CONDUCTIVITY (µmhos/cm)-Minimum | CONDUCTIVITY (µmhos/cm)-Maximum | CONDUCTIVITY (µmhos/cm)-Mean | Biochemical oxygen demand (B.O.D.) (mg/l)-Minimum | Biochemical oxygen demand (B.O.D.) (mg/l)-Maximum | Biochemical oxygen demand (B.O.D.) (mg/l)-Mean | NITRATE- N+ NITRITE-N (mg/l)-Minimum | NITRATE- N+ NITRITE-N (mg/l)-Maximum | NITRATE- N+ NITRITE-N (mg/l)-Mean | FECAL COLIFORM (MPN/100ml)-Minimum | FECAL COLIFORM (MPN/100ml)-Maximum | FECAL COLIFORM (MPN/100ml)-Mean | TOTAL COLIFORM (MPN/100ml)-Minimum | TOTAL COLIFORM (MPN/100ml)-Maximum | TOTAL COLIFORM (MPN/100ml)-Mean\n",
       "1001         | \"WATER QUALITY OF RIVER- BEAS\" | \"BEAS AT UPSTREAM MANALI\"                  | \"HIMACHAL PRADESH\" | 2.5                                     | 14                                      | 9                                    | 8.4                                   | 10.3                                  | 9                                  | 7.2        | 8          | 8       | 68                              | 101                             | 85                           | 0.1                                               | 0.3                                               | 0.1                                            | 0.06                                 | 0.42                                 | 0.2                               | 0                                  | 920                                | 106                             | 11                                 | 2400                               | 397\n",
       "1002         | \"WATER QUALITY OF RIVER- BEAS\" | \"BEAS AT DOWNSTREAM KULU\"                  | \"HIMACHAL PRADESH\" | 5.6                                     | 14                                      | 10                                   | 8                                     | 10.2                                  | 9                                  | 7.1        | 8.3        | 8       | 69                              | 165                             | 102                          | 0.2                                               | 0.4                                               | 0.3                                            | 0.04                                 | 0.89                                 | 0.4                               | 33                                 | 350                                | 153                             | 160                                | 2400                               | 954\n",
       "1003         | \"WATER QUALITY OF RIVER- BEAS\" | \"BEAS AT DOWNSTREAM AUT\"                   | \"HIMACHAL PRADESH\" | 5                                       | 14.1                                    | 11                                   | 8.2                                   | 10.5                                  | 9                                  | 7.3        | 8.5        | 8       | 65                              | 178                             | 96                           | 0.1                                               | 0.5                                               | 0.2                                            | 0.04                                 | 0.64                                 | 0.3                               | 2                                  | 140                                | 58                              | 27                                 | 2400                               | 653\n",
       "1004         | \"WATER QUALITY OF RIVER- BEAS\" | \"BEAS AT UPSTREAM PANDON DAM\"              | \"HIMACHAL PRADESH\" | 5.5                                     | 18                                      | 13                                   | 8.1                                   | 10.6                                  | 9                                  | 7          | 8.2        | 8       | 56                              | 130                             | 94                           | 0.1                                               | 0.2                                               | 0.2                                            | 0.24                                 | 0.71                                 | 0.4                               | 7                                  | 79                                 | 34                              | 34                                 | 920                                | 317\n",
       "1005         | \"WATER QUALITY OF RIVER- BEAS\" | \"BEAS AT EXIT OF TUNNEL DEHAL POWER HOUSE\" | \"HIMACHAL PRADESH\" | 5                                       | 21                                      | 14                                   | 7.9                                   | 12                                    | 10                                 | 7.3        | 8.4        | 8       | 56                              | 227                             | 112                          | 0.1                                               | 0.4                                               | 0.2                                            | 0.08                                 | 0.69                                 | 0.5                               | 23                                 | 920                                | 213                             | 160                                | 2400                               | 1072\n",
       "1550         | \"WATER QUALITY OF RIVER- BEAS\" | \"UPSTREAM MANDI\"                           | \"HIMACHAL PRADESH\" | 6                                       | 20                                      | 16                                   | 7.1                                   | 11.1                                  | 9                                  | 7.2        | 8.7        | 8       | 66                              | 164                             | 117                          | 0.1                                               | 0.4                                               | 0.2                                            | 0.01                                 | 1.39                                 | 0.5                               | 17                                 | 350                                | 100                             | 220                                | 2400                               | 722\n",
       "1006         | \"WATER QUALITY OF RIVER- BEAS\" | \"BEAS AT DOWNSTREAM MANDI\"                 | \"HIMACHAL PRADESH\" | 6.5                                     | 21                                      | 16                                   | 7.8                                   | 10.3                                  | 9                                  | 7.4        | 8.4        | 8       | 86                              | 220                             | 155                          | 0.2                                               | 0.6                                               | 0.5                                            | 0.08                                 | 1.53                                 | 0.7                               | 27                                 | 920                                | 445                             | 540                                | 2400                               | 1855\n",
       "2604         | \"WATER QUALITY OF RIVER- BEAS\" | \"BEAS AT DOWNSTREAM JAISINGHPUR\"           | \"HIMACHAL PRADESH\" | 8.9                                     | 22                                      | 19                                   | 7.8                                   | 9                                     | 8                                  | 7.5        | 8.7        | 8       | 97                              | 361                             | 211                          | 0.2                                               | 0.8                                               | 0.5                                            | 0.15                                 | 1.46                                 | 0.5                               | 4                                  | 11                                 | 7                               | 22                                 | 170                                | 72\n",
       "1007         | \"WATER QUALITY OF RIVER- BEAS\" | \"BEAS AT DOWNSTREAM ALAMPUR\"               | \"HIMACHAL PRADESH\" | 20                                      | 22                                      | 19                                   | 8.3                                   | 9.1                                   | 8                                  | 8.2        | 8.9        | 8       | 130                             | 356                             | 202                          | 1                                                 | 1                                                 | 0.6                                            | 0.1                                  | 1.18                                 | 0.4                               | 6                                  | 14                                 | 9                               | 94                                 | 280                                | 123\n",
       "1008         | \"WATER QUALITY OF RIVER- BEAS\" | \"BEAS AT DOWNSTREAM DEHRAGOPIPUR\"          | \"HIMACHAL PRADESH\" | 9                                       | 24                                      | 19                                   | 7.5                                   | 9.6                                   | 8                                  | 7.1        | 8.4        | 8       | 124                             | 638                             | 280                          | 0.1                                               | 1.1                                               | 0.7                                            | 0                                    | 7.07                                 | 1.1                               | 0                                  | 21                                 | 10                              | 12                                 | 540                                | 157\n",
       "... (1704 rows omitted)"
      ]
     },
     "execution_count": 23,
     "metadata": {},
     "output_type": "execute_result"
    }
   ],
   "source": [
    "water = Table().read_table(\"water_quality.csv\")\n",
    "water"
   ]
  },
  {
   "cell_type": "markdown",
   "metadata": {},
   "source": [
    "Of course, the Jupyter notebook won't show us *all* the data points. Let's see how many locations were part of the survey. "
   ]
  },
  {
   "cell_type": "markdown",
   "metadata": {},
   "source": [
    "To give us a little bit more information, let's look at the states where data was taken."
   ]
  },
  {
   "cell_type": "code",
   "execution_count": 27,
   "metadata": {
    "collapsed": false
   },
   "outputs": [
    {
     "data": {
      "text/html": [
       "<table border=\"1\" class=\"dataframe\">\n",
       "    <thead>\n",
       "        <tr>\n",
       "            <th>State Name</th> <th>count</th>\n",
       "        </tr>\n",
       "    </thead>\n",
       "    <tbody>\n",
       "        <tr>\n",
       "            <td>\"ANDHRA PRADESH\"                </td> <td>96   </td>\n",
       "        </tr>\n",
       "    </tbody>\n",
       "        <tr>\n",
       "            <td>\"ASSAM\"                         </td> <td>100  </td>\n",
       "        </tr>\n",
       "    </tbody>\n",
       "        <tr>\n",
       "            <td>\"BIHAR\"                         </td> <td>86   </td>\n",
       "        </tr>\n",
       "    </tbody>\n",
       "        <tr>\n",
       "            <td>\"CHANDIGARH\"                    </td> <td>9    </td>\n",
       "        </tr>\n",
       "    </tbody>\n",
       "        <tr>\n",
       "            <td>\"CHHATTISGARH\"                  </td> <td>24   </td>\n",
       "        </tr>\n",
       "    </tbody>\n",
       "        <tr>\n",
       "            <td>\"DAMAN & DIU, DADRANAGAR HAVELI\"</td> <td>22   </td>\n",
       "        </tr>\n",
       "    </tbody>\n",
       "        <tr>\n",
       "            <td>\"DELHI\"                         </td> <td>12   </td>\n",
       "        </tr>\n",
       "    </tbody>\n",
       "        <tr>\n",
       "            <td>\"GOA\"                           </td> <td>29   </td>\n",
       "        </tr>\n",
       "    </tbody>\n",
       "        <tr>\n",
       "            <td>\"GUJARAT\"                       </td> <td>58   </td>\n",
       "        </tr>\n",
       "    </tbody>\n",
       "        <tr>\n",
       "            <td>\"HARYANA\"                       </td> <td>18   </td>\n",
       "        </tr>\n",
       "    </tbody>\n",
       "</table>\n",
       "<p>... (22 rows omitted)</p"
      ],
      "text/plain": [
       "State Name                       | count\n",
       "\"ANDHRA PRADESH\"                 | 96\n",
       "\"ASSAM\"                          | 100\n",
       "\"BIHAR\"                          | 86\n",
       "\"CHANDIGARH\"                     | 9\n",
       "\"CHHATTISGARH\"                   | 24\n",
       "\"DAMAN & DIU, DADRANAGAR HAVELI\" | 22\n",
       "\"DELHI\"                          | 12\n",
       "\"GOA\"                            | 29\n",
       "\"GUJARAT\"                        | 58\n",
       "\"HARYANA\"                        | 18\n",
       "... (22 rows omitted)"
      ]
     },
     "execution_count": 27,
     "metadata": {},
     "output_type": "execute_result"
    }
   ],
   "source": [
    "states = water.group(\"State Name\")\n",
    "states"
   ]
  },
  {
   "cell_type": "code",
   "execution_count": 31,
   "metadata": {
    "collapsed": false
   },
   "outputs": [
    {
     "name": "stdout",
     "output_type": "stream",
     "text": [
      "Data was taken at 1714 locations in 32 states.\n"
     ]
    }
   ],
   "source": [
    "print(\"Data was taken at \" + str(water.num_rows) + \" locations\" + \" in \" + str(states.num_rows) + \" states.\")"
   ]
  },
  {
   "cell_type": "markdown",
   "metadata": {},
   "source": [
    "Let's see if we can figure out some information about the temperature of the water from each state. But first, let's clean out the table."
   ]
  },
  {
   "cell_type": "code",
   "execution_count": 88,
   "metadata": {
    "collapsed": false
   },
   "outputs": [
    {
     "name": "stdout",
     "output_type": "stream",
     "text": [
      "[ nan]\n",
      "[ nan]\n",
      "[ nan]\n",
      "[ nan]\n",
      "[ nan]\n",
      "[ nan]\n",
      "[ nan]\n",
      "[ nan]\n",
      "[ nan]\n",
      "[ nan]\n",
      "[ nan]\n",
      "[ nan]\n",
      "[ nan]\n",
      "[ nan]\n",
      "[ nan]\n",
      "[ nan]\n",
      "[ nan]\n",
      "[ nan]\n",
      "[ nan]\n",
      "[ nan]\n",
      "[ nan]\n",
      "[ nan]\n",
      "[ nan]\n",
      "[ nan]\n",
      "[ nan]\n",
      "[ nan]\n",
      "[ nan]\n",
      "[ nan]\n",
      "[ nan]\n",
      "[ nan]\n",
      "[ nan]\n",
      "[ nan]\n",
      "[ nan]\n",
      "[ nan]\n",
      "[ nan]\n",
      "[ nan]\n",
      "[ nan]\n",
      "[ nan]\n",
      "[ nan]\n",
      "[ nan]\n",
      "[ nan]\n",
      "[ nan]\n",
      "[ nan]\n",
      "[ nan]\n",
      "[ nan]\n",
      "[ nan]\n",
      "[ nan]\n",
      "[ nan]\n",
      "[ nan]\n"
     ]
    }
   ],
   "source": [
    "water_copy = Table.read_table(\"water_quality.csv\")\n",
    "for i in water_copy.rows\n",
    "    if row.column(6) != row.column(6):\n",
    "        "
   ]
  },
  {
   "cell_type": "code",
   "execution_count": null,
   "metadata": {
    "collapsed": false
   },
   "outputs": [],
   "source": []
  },
  {
   "cell_type": "code",
   "execution_count": null,
   "metadata": {
    "collapsed": true
   },
   "outputs": [],
   "source": []
  }
 ],
 "metadata": {
  "kernelspec": {
   "display_name": "Python 3",
   "language": "python",
   "name": "python3"
  },
  "language_info": {
   "codemirror_mode": {
    "name": "ipython",
    "version": 3
   },
   "file_extension": ".py",
   "mimetype": "text/x-python",
   "name": "python",
   "nbconvert_exporter": "python",
   "pygments_lexer": "ipython3",
   "version": "3.6.0"
  }
 },
 "nbformat": 4,
 "nbformat_minor": 0
}
