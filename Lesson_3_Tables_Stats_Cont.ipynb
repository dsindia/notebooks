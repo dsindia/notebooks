{
 "cells": [
  {
   "cell_type": "markdown",
   "metadata": {},
   "source": [
    "## Lesson 3: Intro to Statistics (Part 2), Python Wrap-Up, and Tables"
   ]
  },
  {
   "cell_type": "markdown",
   "metadata": {},
   "source": [
    "On the worksheet, we learned a bit more about standard deviation and discovered a couple ways to compare individual points in our dataset to one another. Now, let's discover how we can use Python to process data. Along the way, we'll apply what we learned on the worksheet with these new Python tools."
   ]
  },
  {
   "cell_type": "markdown",
   "metadata": {},
   "source": [
    "## Packages"
   ]
  },
  {
   "cell_type": "markdown",
   "metadata": {},
   "source": [
    "No, not the kind at the post office (should we keep this?). \n",
    "A package is simply a set of useful programs that we use so that we don’t have to write the same code all the time. \n",
    "For example, imagine you write a program that generates prime numbers, you could write this into a package called “generatePrime” and publish it on the web. Then your friend, who has to write a cybersecurity program for a bank can simply type “import generatePrime” in his program and call your function to generate a large prime number for him to work with. Another friend of yours wishes to write a program to assign one prime number to each of her classmates as a part of a school project. She too, can import your package and use your function to help with her project.\n",
    "It is important to note here that **you** did not change your code at all, and yet, two different people were greatly aided by it in two completely different ways."
   ]
  },
  {
   "cell_type": "markdown",
   "metadata": {},
   "source": [
    "**What do packages do?** Because packages allow you to use code again and again, it makes life easier for programmers like you! Packages will allow you to do a lot more with your programs, all while making them shorter and more readable."
   ]
  },
  {
   "cell_type": "markdown",
   "metadata": {},
   "source": [
    "**What Packages Will We Use?**"
   ]
  },
  {
   "cell_type": "markdown",
   "metadata": {},
   "source": [
    "**Datascience**: This package allows us to look at data in tables, and change these tables to show us what we want. "
   ]
  },
  {
   "cell_type": "markdown",
   "metadata": {},
   "source": [
    "**Numpy**: This package is important for scientific computing and has functions to help us calculate important formulas and process lots of data."
   ]
  },
  {
   "cell_type": "markdown",
   "metadata": {},
   "source": [
    "When you call functions from a package, you put the package's name and the \".\" character before the function's name. If you're going to be using these packages a lot, retyping the name can get tiring! This is why we use the \"as\" keyword once we import the package. After that line of code, the package can be referred to whatever you call it. Try importing numpy as np below."
   ]
  },
  {
   "cell_type": "code",
   "execution_count": 8,
   "metadata": {
    "collapsed": true
   },
   "outputs": [],
   "source": [
    "import numpy as np#Leave blank for students"
   ]
  },
  {
   "cell_type": "markdown",
   "metadata": {},
   "source": [
    "Here's another way to import a package (The * just means \"everything\")"
   ]
  },
  {
   "cell_type": "code",
   "execution_count": 9,
   "metadata": {
    "collapsed": true
   },
   "outputs": [],
   "source": [
    "from datascience import *"
   ]
  },
  {
   "cell_type": "code",
   "execution_count": null,
   "metadata": {
    "collapsed": true
   },
   "outputs": [],
   "source": []
  }
 ],
 "metadata": {
  "kernelspec": {
   "display_name": "Python 3",
   "language": "python",
   "name": "python3"
  },
  "language_info": {
   "codemirror_mode": {
    "name": "ipython",
    "version": 3
   },
   "file_extension": ".py",
   "mimetype": "text/x-python",
   "name": "python",
   "nbconvert_exporter": "python",
   "pygments_lexer": "ipython3",
   "version": "3.6.0"
  }
 },
 "nbformat": 4,
 "nbformat_minor": 2
}
 {
   "cell_type": "markdown",
   "metadata": {},
   "source": [
    "On worksheet, we learned a bit more about standard deviation and discovered a couple ways to compare individual points in our dataset to one another. Now, let's discover how we can use Python to process data. Along the way, we'll apply what we learned on the worksheet with these new Python tools."
   ]
  },
