{
 "cells": [
  {
   "cell_type": "markdown",
   "metadata": {},
   "source": [
    "## Lesson 4: Exercises"
   ]
  },
  {
   "cell_type": "markdown",
   "metadata": {},
   "source": [
    "Today, we'll be going over a couple Python exercises to reinforce your knowledge about tables and basic statistics."
   ]
  },
  {
   "cell_type": "code",
   "execution_count": 2,
   "metadata": {
    "collapsed": true
   },
   "outputs": [],
   "source": [
    "import numpy as np\n",
    "from datascience import *"
   ]
  },
  {
   "cell_type": "markdown",
   "metadata": {},
   "source": [
    " \n",
    "Royal Challengers Bangalore finished last in IPL 2017. The coach wants to build a strong team next year to win the trophy by buying the best possible players in the auction. He’s a great cricketer and coach, but he’s not very good at math! Your job is write a program to help him put a team together that's within his budget. There are 3 categories of players with the following costs in crores.\n",
    "Tier 1: 10\n",
    "Tier 2: 5\n",
    "Tier 3: 2\n",
    " \n",
    "The coach has 100 crores to spend and can purchase 11 to 16 players he wants from this set of 20. Write a function that accepts the coach's input for the number of players he wants that's within his budget. \n",
    "\n",
    "\n",
    "Thus your function should also print out a team sheet with the input number of players by using the random function to return however many ever players required from each tier.  If he enters a number below 11 or above 16, return an error message. \n",
    "\n",
    " \n",
    "Sample Output: \n",
    "5 tier one players and 6 tier two players\n",
    "[\"Virat Kohli\", \"Joe Root\",\n",
    "\"Ravindra Jadeja\", \n",
    "\"Shakib Al Hasan\",  \n",
    "\"Morne Morkel\", \n",
    "\"Hardhik Pandeya\",\n",
    "\"Sarfaraz Khan\", \n",
    "\"Umesh Yadhav\", \n",
    "\"Yusuf Pathan\", \n",
    "\"Usman Khwaja\",  \n",
    "\"Mitchell Marsh\"]\n",
    "Sample Input : \n",
    "10\n",
    " \n",
    "Sample Output: \n",
    "Too few players for the team!"
   ]
  },
  {
   "cell_type": "code",
   "execution_count": 22,
   "metadata": {
    "collapsed": false
   },
   "outputs": [
    {
     "data": {
      "text/html": [
       "<table border=\"1\" class=\"dataframe\">\n",
       "    <thead>\n",
       "        <tr>\n",
       "            <th>Tier</th> <th>Name</th> <th>Salary</th>\n",
       "        </tr>\n",
       "    </thead>\n",
       "    <tbody>\n",
       "        <tr>\n",
       "            <td>1   </td> <td>Virat Kohli    </td> <td>10    </td>\n",
       "        </tr>\n",
       "    </tbody>\n",
       "        <tr>\n",
       "            <td>1   </td> <td>Joe Root       </td> <td>10    </td>\n",
       "        </tr>\n",
       "    </tbody>\n",
       "        <tr>\n",
       "            <td>1   </td> <td>Ravindra Jadeja</td> <td>10    </td>\n",
       "        </tr>\n",
       "    </tbody>\n",
       "        <tr>\n",
       "            <td>1   </td> <td>Shakib Al Hasan</td> <td>10    </td>\n",
       "        </tr>\n",
       "    </tbody>\n",
       "        <tr>\n",
       "            <td>1   </td> <td>Morne Morkel   </td> <td>10    </td>\n",
       "        </tr>\n",
       "    </tbody>\n",
       "        <tr>\n",
       "            <td>2   </td> <td>Hardhik Pandeya</td> <td>5     </td>\n",
       "        </tr>\n",
       "    </tbody>\n",
       "        <tr>\n",
       "            <td>2   </td> <td>Sarfaraz Khan  </td> <td>5     </td>\n",
       "        </tr>\n",
       "    </tbody>\n",
       "        <tr>\n",
       "            <td>2   </td> <td>Umesh Yadhav   </td> <td>5     </td>\n",
       "        </tr>\n",
       "    </tbody>\n",
       "        <tr>\n",
       "            <td>2   </td> <td>Yusuf Pathan   </td> <td>5     </td>\n",
       "        </tr>\n",
       "    </tbody>\n",
       "        <tr>\n",
       "            <td>2   </td> <td>Usman Khwaja   </td> <td>5     </td>\n",
       "        </tr>\n",
       "    </tbody>\n",
       "</table>\n",
       "<p>... (1 rows omitted)</p"
      ],
      "text/plain": [
       "Tier | Name            | Salary\n",
       "1    | Virat Kohli     | 10\n",
       "1    | Joe Root        | 10\n",
       "1    | Ravindra Jadeja | 10\n",
       "1    | Shakib Al Hasan | 10\n",
       "1    | Morne Morkel    | 10\n",
       "2    | Hardhik Pandeya | 5\n",
       "2    | Sarfaraz Khan   | 5\n",
       "2    | Umesh Yadhav    | 5\n",
       "2    | Yusuf Pathan    | 5\n",
       "2    | Usman Khwaja    | 5\n",
       "... (1 rows omitted)"
      ]
     },
     "execution_count": 22,
     "metadata": {},
     "output_type": "execute_result"
    }
   ],
   "source": [
    "names = [\"Virat Kohli\", \"Joe Root\",\n",
    "\"Ravindra Jadeja\", \n",
    "\"Shakib Al Hasan\",  \n",
    "\"Morne Morkel\", \n",
    "\"Hardhik Pandeya\",\n",
    "\"Sarfaraz Khan\", \n",
    "\"Umesh Yadhav\", \n",
    "\"Yusuf Pathan\", \n",
    "\"Usman Khwaja\",  \n",
    "\"Mitchell Marsh\"]\n",
    "players = Table().with_columns(\"Tier\", [1]*5 + [2] * 6,\n",
    "                    \"Name\", names , \"Salary\", [10] * 5 + [5] * 6)\n",
    "players\n"
   ]
  },
  {
   "cell_type": "code",
   "execution_count": 44,
   "metadata": {
    "collapsed": false
   },
   "outputs": [
    {
     "ename": "SyntaxError",
     "evalue": "invalid syntax (<ipython-input-44-52fef59e4036>, line 7)",
     "output_type": "error",
     "traceback": [
      "\u001b[0;36m  File \u001b[0;32m\"<ipython-input-44-52fef59e4036>\"\u001b[0;36m, line \u001b[0;32m7\u001b[0m\n\u001b[0;31m    tier_1 =\u001b[0m\n\u001b[0m             ^\u001b[0m\n\u001b[0;31mSyntaxError\u001b[0m\u001b[0;31m:\u001b[0m invalid syntax\n"
     ]
    }
   ],
   "source": [
    "def select_players(n):\n",
    "    if n < 11:\n",
    "        print(\"Too few players!\")\n",
    "    elif n > 16:\n",
    "        print(\"Too many players!\")\n",
    "    else:\n",
    "        tier_1 = \n",
    "        tier_2 = \n",
    "        tier_3 = \n",
    "        t1 = players.where(\"Tier\", are.equal_to(1)).take(range(0, tier_1)).column(\"Name\")\n",
    "        t2 = players.where(\"\")\n",
    "        #Keep going from here, return t1 + t2 + t3, print total cost\n",
    "        total_salary = \n",
    "        if total_salary > 100:\n",
    "            return \"Too expensive! Select \"\n",
    "        return t1"
   ]
  },
  {
   "cell_type": "code",
   "execution_count": 42,
   "metadata": {
    "collapsed": false
   },
   "outputs": [
    {
     "data": {
      "text/html": [
       "<table border=\"1\" class=\"dataframe\">\n",
       "    <thead>\n",
       "        <tr>\n",
       "            <th>Name</th>\n",
       "        </tr>\n",
       "    </thead>\n",
       "    <tbody>\n",
       "        <tr>\n",
       "            <td>Virat Kohli</td>\n",
       "        </tr>\n",
       "    </tbody>\n",
       "        <tr>\n",
       "            <td>Joe Root   </td>\n",
       "        </tr>\n",
       "    </tbody>\n",
       "</table>"
      ],
      "text/plain": [
       "Name\n",
       "Virat Kohli\n",
       "Joe Root"
      ]
     },
     "execution_count": 42,
     "metadata": {},
     "output_type": "execute_result"
    }
   ],
   "source": [
    "select_players(11)"
   ]
  },
  {
   "cell_type": "markdown",
   "metadata": {},
   "source": [
    "Raju the builder has made N measurements. Now, he wants to know the average value of the measurements made. In order to make the average value a better representative of the measurements, before calculating the average, he wants first to remove the highest K and the lowest K measurements. After that, he will calculate the average value among the remaining N - 2K measurements.\n",
    "Could you help Raju find the average value he will get after these manipulations?\n",
    "\n",
    "\n",
    "Sample Input: \n",
    "N - 5 \n",
    "K - 1\n",
    "N values - 2 9 -10 25 1\n",
    "Sample Output: \n",
    "4.00000\n"
   ]
  },
  {
   "cell_type": "code",
   "execution_count": null,
   "metadata": {
    "collapsed": true
   },
   "outputs": [],
   "source": [
    "def new_measurements(n, k, arr):\n",
    "    \n",
    "    for i in range(___, ___):\n",
    "        "
   ]
  }
 ],
 "metadata": {
  "kernelspec": {
   "display_name": "Python 3",
   "language": "python",
   "name": "python3"
  },
  "language_info": {
   "codemirror_mode": {
    "name": "ipython",
    "version": 3
   },
   "file_extension": ".py",
   "mimetype": "text/x-python",
   "name": "python",
   "nbconvert_exporter": "python",
   "pygments_lexer": "ipython3",
   "version": "3.6.0"
  }
 },
 "nbformat": 4,
 "nbformat_minor": 2
}
