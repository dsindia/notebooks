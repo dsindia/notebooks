{
 "cells": [
  {
   "cell_type": "markdown",
   "metadata": {},
   "source": [
    "## Lesson 4: Exercises"
   ]
  },
  {
   "cell_type": "markdown",
   "metadata": {},
   "source": [
    "Today, we'll be going over a couple Python exercises to reinforce your knowledge about tables and basic statistics."
   ]
  },
  {
   "cell_type": "code",
   "execution_count": 2,
   "metadata": {
    "collapsed": true
   },
   "outputs": [],
   "source": [
    "import numpy as np\n",
    "from datascience import *"
   ]
  },
  {
   "cell_type": "markdown",
   "metadata": {},
   "source": [
    "**RCB's Cricket Confusion** Should this be a \"challenge problem?\"\n",
    "\n",
    "Royal Challengers Bangalore finished last in IPL 2017. The coach wants to build a strong team next year to win the trophy by buying the best possible players in the auction. He’s a great cricketer and coach, but he’s not very good at math! Your job is write a program to help him put a team together that's within his budget. There are 3 categories of players with the following costs in crores.\n",
    "Tier 1: 1\n",
    "Tier 2: 0.5\n",
    "Tier 3: 0.25\n",
    " \n",
    "The coach has 10 crores to spend and can purchase 11 to 16 players he wants from this set of 28. Write a function that accepts the coach's input for the number of players he wants that's within his budget.\n",
    "*Return* the players' total salary and *print* their names.\n",
    "REMEMBER: We refer to the first value in a column with 0!\n",
    "\n",
    " \n",
    "Sample Output: select_players(2, 4, 5)\n",
    "[MS Dhoni, Virat Kohli, Suresh Raina, Ambati Rayudu, Rohit Sharma, Murali Vijay, Amit Mishra, Axar Patel, Stuart Binny, Wriddhiman Saha, Mohit Sharma]\n",
    "5.25\n",
    "\n",
    "Sample Input: select_players(2, 2, 5)\n",
    "Sample Output: Too few players!\n",
    "\n",
    "Sample Input: select_players(10, 3, 1)\n",
    "Sample Output: Too many players!"
   ]
  },
  {
   "cell_type": "code",
   "execution_count": 17,
   "metadata": {
    "collapsed": false
   },
   "outputs": [
    {
     "data": {
      "text/html": [
       "<table border=\"1\" class=\"dataframe\">\n",
       "    <thead>\n",
       "        <tr>\n",
       "            <th>PLAYER</th> <th>Salary</th> <th>Tier</th>\n",
       "        </tr>\n",
       "    </thead>\n",
       "    <tbody>\n",
       "        <tr>\n",
       "            <td>MS Dhoni         </td> <td>1     </td> <td>1   </td>\n",
       "        </tr>\n",
       "    </tbody>\n",
       "        <tr>\n",
       "            <td>Virat Kohli      </td> <td>1     </td> <td>1   </td>\n",
       "        </tr>\n",
       "    </tbody>\n",
       "        <tr>\n",
       "            <td>Ajinkya Rahan    </td> <td>1     </td> <td>1   </td>\n",
       "        </tr>\n",
       "    </tbody>\n",
       "        <tr>\n",
       "            <td>Ravi Ashwin      </td> <td>1     </td> <td>1   </td>\n",
       "        </tr>\n",
       "    </tbody>\n",
       "        <tr>\n",
       "            <td>Suresh Raina     </td> <td>0.5   </td> <td>2   </td>\n",
       "        </tr>\n",
       "    </tbody>\n",
       "        <tr>\n",
       "            <td>Ambati Rayudu    </td> <td>0.5   </td> <td>2   </td>\n",
       "        </tr>\n",
       "    </tbody>\n",
       "        <tr>\n",
       "            <td>Rohit Sharma     </td> <td>0.5   </td> <td>2   </td>\n",
       "        </tr>\n",
       "    </tbody>\n",
       "        <tr>\n",
       "            <td>Murali Vijay     </td> <td>0.5   </td> <td>2   </td>\n",
       "        </tr>\n",
       "    </tbody>\n",
       "        <tr>\n",
       "            <td>Shikhar Dhawan   </td> <td>0.5   </td> <td>2   </td>\n",
       "        </tr>\n",
       "    </tbody>\n",
       "        <tr>\n",
       "            <td>Bhuvneshwar Kumar</td> <td>0.5   </td> <td>2   </td>\n",
       "        </tr>\n",
       "    </tbody>\n",
       "</table>\n",
       "<p>... (18 rows omitted)</p"
      ],
      "text/plain": [
       "PLAYER            | Salary | Tier\n",
       "MS Dhoni          | 1      | 1\n",
       "Virat Kohli       | 1      | 1\n",
       "Ajinkya Rahan     | 1      | 1\n",
       "Ravi Ashwin       | 1      | 1\n",
       "Suresh Raina      | 0.5    | 2\n",
       "Ambati Rayudu     | 0.5    | 2\n",
       "Rohit Sharma      | 0.5    | 2\n",
       "Murali Vijay      | 0.5    | 2\n",
       "Shikhar Dhawan    | 0.5    | 2\n",
       "Bhuvneshwar Kumar | 0.5    | 2\n",
       "... (18 rows omitted)"
      ]
     },
     "execution_count": 17,
     "metadata": {},
     "output_type": "execute_result"
    }
   ],
   "source": [
    "players = Table().read_table(\"cricket_tiers.csv\")\n",
    "#Source: http://www.totalsportek.com/cricket/indian-player-salaries-central-contracts-2015/\n",
    "players"
   ]
  },
  {
   "cell_type": "markdown",
   "metadata": {},
   "source": [
    "Hint: The code below will help you decide how to select players of each tier. What do you think each line says?"
   ]
  },
  {
   "cell_type": "code",
   "execution_count": 15,
   "metadata": {
    "collapsed": false
   },
   "outputs": [
    {
     "name": "stdout",
     "output_type": "stream",
     "text": [
      "4\n",
      "10\n",
      "14\n"
     ]
    }
   ],
   "source": [
    "for i in range(1, 4):\n",
    "    print(players.where(\"Tier\", are.equal_to(i)).num_rows)"
   ]
  },
  {
   "cell_type": "code",
   "execution_count": null,
   "metadata": {
    "collapsed": false,
    "scrolled": true
   },
   "outputs": [],
   "source": [
    "def select_players(tier_1, tier_2, tier_3):\n",
    "    total_players = tier_1 + tier_2 + tier_3\n",
    "    if total_players < 11:\n",
    "        print(\"Too few players!\")\n",
    "    elif total_players > 16:\n",
    "        print(\"Too many players!\")\n",
    "    else:\n",
    "        t1 = players._________(\"______\", are.equal_to(_______)).take(range(0, tier_1)).column(\"PLAYER\")\n",
    "        t2 =\n",
    "        t3 = \n",
    "        \n",
    "        #How will you access the players' names using the column() function?\n",
    "        \n",
    "        \n",
    "        \n",
    "        total_salary = __________+_____________+______________\n",
    "        if total_salary > 100:\n",
    "            return \"Too expensive! Select a different combination!\"\n",
    "        return total_salary"
   ]
  },
  {
   "cell_type": "markdown",
   "metadata": {},
   "source": [
    "**Building a Better Estimate**\n",
    "\n",
    "Raju the builder has made N measurements. Now, he wants to know the average value of the measurements made. In order to make the average value a better representative of the measurements, before calculating the average, he wants first to remove the highest K and the lowest K measurements. After that, he will calculate the average value among the remaining N - 2K measurements.\n",
    "Could you help Raju find the average value he will get after these manipulations?\n",
    "\n",
    "\n",
    "Sample Input: \n",
    "N - 5 \n",
    "K - 1\n",
    "N values - 2 9 -10 25 1\n",
    "Sample Output: \n",
    "4.00000\n"
   ]
  },
  {
   "cell_type": "code",
   "execution_count": null,
   "metadata": {
    "collapsed": false
   },
   "outputs": [],
   "source": [
    "def new_measurements(n, k, arr):\n",
    "    \n",
    "    for i in range(___, ___):\n",
    "        "
   ]
  },
  {
   "cell_type": "markdown",
   "metadata": {},
   "source": [
    "**Aditi’s Career Planning**\n",
    " \n",
    "Aditi can’t decide what field she wants to work in when she grows up! She likes medicine and engineering equally so her father advised her to pick the field that pays the most to an average worker. Aditi has collected tables containing the necessary data on the salaries of professionals in these fields and stored them in 2 unsorted arrays. Can you help her find out which job to pick as per her father’s advice? \n",
    "\n",
    "Hint: use the sort() function.\n",
    "\n"
   ]
  },
  {
   "cell_type": "code",
   "execution_count": 6,
   "metadata": {
    "collapsed": true
   },
   "outputs": [],
   "source": [
    "engg_salaries = Table.read_table(\"engineering_data.csv\").column(\"Salary\")\n",
    "#Source: http://research.aspiringminds.com/resources/#datasets\n",
    "doc_salaries = Table.read_table(\"doctor_salaries.csv\").column(\"Salary\")\n",
    "#Source: https://www.glassdoor.com/Salaries/india-doctor-salary-SRCH_IL.0,5_IN115_KO6,12_IP6.htm\n"
   ]
  },
  {
   "cell_type": "code",
   "execution_count": null,
   "metadata": {
    "collapsed": false
   },
   "outputs": [],
   "source": [
    "def salary(med, engg, law):\n",
    "    #In Python, we can define functions inside our own functions. \n",
    "    #This function will compute a certain quantity from each array for you to help you compare the salaries.\n",
    "    #What quantity do you think it is?\n",
    "    def helper(array):\n",
    "        \n",
    "        _________________\n",
    "        \n",
    "        _________________\n",
    "        length = len(array)\n",
    "        if ___________:\n",
    "            return array[___]\n",
    "        else:\n",
    "            return __________\n",
    "        \n",
    "    med_salary = _____________\n",
    "    engg_salary = ____________\n",
    "    law_salary = _____________\n",
    "    #The max() function takes the maximum of all the values you put into it\n",
    "    best_salary = max(___________, ______________, ___________) \n",
    "    if best_salary == engg_salary:\n",
    "        print(\"Engineering\")\n",
    "    elif best_salary == med_salary:\n",
    "        print(\"Medicine\")\n",
    "    else:\n",
    "        print(law)"
   ]
  }
 ],
 "metadata": {
  "kernelspec": {
   "display_name": "Python 3",
   "language": "python",
   "name": "python3"
  },
  "language_info": {
   "codemirror_mode": {
    "name": "ipython",
    "version": 3
   },
   "file_extension": ".py",
   "mimetype": "text/x-python",
   "name": "python",
   "nbconvert_exporter": "python",
   "pygments_lexer": "ipython3",
   "version": "3.6.0"
  }
 },
 "nbformat": 4,
 "nbformat_minor": 2
}
