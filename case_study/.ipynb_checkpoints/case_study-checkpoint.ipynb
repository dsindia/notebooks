{
 "cells": [
  {
   "cell_type": "markdown",
   "metadata": {},
   "source": [
    "<img src=\"../dsi.png\" style=\"height:128px;\">"
   ]
  },
  {
   "cell_type": "markdown",
   "metadata": {},
   "source": [
    "# Lesson 10: Case Study"
   ]
  },
  {
   "cell_type": "markdown",
   "metadata": {},
   "source": [
    "You’ve learned a lot about data science in this course! Now, you’ll get the chance to go over the topics we covered while analyzing real-world data. We’re going to be looking at some data about engineers in India from the Aspiring Minds Employability Outcomes Survey (http://research.aspiringminds.com/resources/#ameo). This dataset contains information about their salaries, positions, academic performance, and much more!\n"
   ]
  },
  {
   "cell_type": "code",
   "execution_count": 1,
   "metadata": {
    "collapsed": true
   },
   "outputs": [],
   "source": [
    "import numpy as np\n",
    "from datascience import *\n",
    "from matplotlib import pyplot as plt\n",
    "import random\n",
    "%matplotlib inline\n",
    "plt.style.use('fivethirtyeight')"
   ]
  },
  {
   "cell_type": "markdown",
   "metadata": {},
   "source": [
    "The main table we're going to be using for this analysis is going to be called `salaries`"
   ]
  },
  {
   "cell_type": "code",
   "execution_count": 2,
   "metadata": {
    "collapsed": false
   },
   "outputs": [],
   "source": [
    "salaries = Table().read_table(\"engineering_data.csv\").drop(0).where(\"JobCity\", are.not_equal_to(\"-1\"))"
   ]
  },
  {
   "cell_type": "markdown",
   "metadata": {},
   "source": [
    "## Question 1: Warm-Up"
   ]
  },
  {
   "cell_type": "markdown",
   "metadata": {
    "collapsed": false
   },
   "source": [
    "Let's take a look at our table of salaries and answer a couple questions."
   ]
  },
  {
   "cell_type": "code",
   "execution_count": 15,
   "metadata": {
    "collapsed": false
   },
   "outputs": [
    {
     "data": {
      "text/html": [
       "<table border=\"1\" class=\"dataframe\">\n",
       "    <thead>\n",
       "        <tr>\n",
       "            <th>ID</th> <th>Salary</th> <th>DOJ</th> <th>DOL</th> <th>Designation</th> <th>JobCity</th> <th>Gender</th> <th>DOB</th> <th>10percentage</th> <th>10board</th> <th>12graduation</th> <th>12percentage</th> <th>12board</th> <th>CollegeID</th> <th>CollegeTier</th> <th>Degree</th> <th>Specialization</th> <th>collegeGPA</th> <th>CollegeCityID</th> <th>CollegeCityTier</th> <th>CollegeState</th> <th>GraduationYear</th> <th>English</th> <th>Logical</th> <th>Quant</th> <th>Domain</th> <th>ComputerProgramming</th> <th>ElectronicsAndSemicon</th> <th>ComputerScience</th> <th>MechanicalEngg</th> <th>ElectricalEngg</th> <th>TelecomEngg</th> <th>CivilEngg</th> <th>conscientiousness</th> <th>agreeableness</th> <th>extraversion</th> <th>nueroticism</th> <th>openess_to_experience</th>\n",
       "        </tr>\n",
       "    </thead>\n",
       "    <tbody>\n",
       "        <tr>\n",
       "            <td>203097 </td> <td>420000 </td> <td>6/1/12 0:00</td> <td>present    </td> <td>senior quality engineer </td> <td>Bangalore</td> <td>f     </td> <td>2/19/90 0:00</td> <td>84.3        </td> <td>board ofsecondary education,ap</td> <td>2007        </td> <td>95.8        </td> <td>board of intermediate education,ap</td> <td>1141     </td> <td>2          </td> <td>B.Tech/B.E.</td> <td>computer engineering                     </td> <td>78        </td> <td>1141         </td> <td>0              </td> <td>Andhra Pradesh</td> <td>2011          </td> <td>515    </td> <td>585    </td> <td>525  </td> <td>0.635979</td> <td>445                </td> <td>-1                   </td> <td>-1             </td> <td>-1            </td> <td>-1            </td> <td>-1         </td> <td>-1       </td> <td>0.9737           </td> <td>0.8128       </td> <td>0.5269      </td> <td>1.3549     </td> <td>-0.4455              </td>\n",
       "        </tr>\n",
       "    </tbody>\n",
       "        <tr>\n",
       "            <td>579905 </td> <td>500000 </td> <td>9/1/13 0:00</td> <td>present    </td> <td>assistant manager       </td> <td>Indore   </td> <td>m     </td> <td>10/4/89 0:00</td> <td>85.4        </td> <td>cbse                          </td> <td>2007        </td> <td>85          </td> <td>cbse                              </td> <td>5807     </td> <td>2          </td> <td>B.Tech/B.E.</td> <td>electronics and communication engineering</td> <td>70.06     </td> <td>5807         </td> <td>0              </td> <td>Madhya Pradesh</td> <td>2012          </td> <td>695    </td> <td>610    </td> <td>780  </td> <td>0.960603</td> <td>-1                 </td> <td>466                  </td> <td>-1             </td> <td>-1            </td> <td>-1            </td> <td>-1         </td> <td>-1       </td> <td>-0.7335          </td> <td>0.3789       </td> <td>1.2396      </td> <td>-0.1076    </td> <td>0.8637               </td>\n",
       "        </tr>\n",
       "    </tbody>\n",
       "        <tr>\n",
       "            <td>810601 </td> <td>325000 </td> <td>6/1/14 0:00</td> <td>present    </td> <td>systems engineer        </td> <td>Chennai  </td> <td>f     </td> <td>8/3/92 0:00 </td> <td>85          </td> <td>cbse                          </td> <td>2010        </td> <td>68.2        </td> <td>cbse                              </td> <td>64       </td> <td>2          </td> <td>B.Tech/B.E.</td> <td>information technology                   </td> <td>70        </td> <td>64           </td> <td>0              </td> <td>Uttar Pradesh </td> <td>2014          </td> <td>615    </td> <td>545    </td> <td>370  </td> <td>0.450877</td> <td>395                </td> <td>-1                   </td> <td>-1             </td> <td>-1            </td> <td>-1            </td> <td>-1         </td> <td>-1       </td> <td>0.2718           </td> <td>1.7109       </td> <td>0.1637      </td> <td>-0.8682    </td> <td>0.6721               </td>\n",
       "        </tr>\n",
       "    </tbody>\n",
       "        <tr>\n",
       "            <td>267447 </td> <td>1100000</td> <td>7/1/11 0:00</td> <td>present    </td> <td>senior software engineer</td> <td>Gurgaon  </td> <td>m     </td> <td>12/5/89 0:00</td> <td>85.6        </td> <td>cbse                          </td> <td>2007        </td> <td>83.6        </td> <td>cbse                              </td> <td>6920     </td> <td>1          </td> <td>B.Tech/B.E.</td> <td>computer engineering                     </td> <td>74.64     </td> <td>6920         </td> <td>1              </td> <td>New Delhi     </td> <td>2011          </td> <td>635    </td> <td>585    </td> <td>625  </td> <td>0.974396</td> <td>615                </td> <td>-1                   </td> <td>-1             </td> <td>-1            </td> <td>-1            </td> <td>-1         </td> <td>-1       </td> <td>0.0464           </td> <td>0.3448       </td> <td>-0.344      </td> <td>-0.4078    </td> <td>-0.9194              </td>\n",
       "        </tr>\n",
       "    </tbody>\n",
       "        <tr>\n",
       "            <td>343523 </td> <td>200000 </td> <td>3/1/14 0:00</td> <td>3/1/15 0:00</td> <td>get                     </td> <td>Manesar  </td> <td>m     </td> <td>2/27/91 0:00</td> <td>78          </td> <td>cbse                          </td> <td>2008        </td> <td>76.8        </td> <td>cbse                              </td> <td>11368    </td> <td>2          </td> <td>B.Tech/B.E.</td> <td>electronics and communication engineering</td> <td>73.9      </td> <td>11368        </td> <td>0              </td> <td>Uttar Pradesh </td> <td>2012          </td> <td>545    </td> <td>625    </td> <td>465  </td> <td>0.124502</td> <td>-1                 </td> <td>233                  </td> <td>-1             </td> <td>-1            </td> <td>-1            </td> <td>-1         </td> <td>-1       </td> <td>-0.881           </td> <td>-0.2793      </td> <td>-1.0697     </td> <td>0.09163    </td> <td>-0.1295              </td>\n",
       "        </tr>\n",
       "    </tbody>\n",
       "        <tr>\n",
       "            <td>1027655</td> <td>300000 </td> <td>6/1/14 0:00</td> <td>present    </td> <td>system engineer         </td> <td>Hyderabad</td> <td>m     </td> <td>7/2/92 0:00 </td> <td>89.92       </td> <td>state board                   </td> <td>2010        </td> <td>87          </td> <td>state board                       </td> <td>5086     </td> <td>2          </td> <td>B.Tech/B.E.</td> <td>electronics and communication engineering</td> <td>76.32     </td> <td>5086         </td> <td>0              </td> <td>Karnataka     </td> <td>2014          </td> <td>560    </td> <td>555    </td> <td>620  </td> <td>-1      </td> <td>645                </td> <td>-1                   </td> <td>407            </td> <td>-1            </td> <td>-1            </td> <td>-1         </td> <td>-1       </td> <td>-0.3027          </td> <td>-0.6201      </td> <td>-2.2954     </td> <td>-0.7415    </td> <td>-0.8608              </td>\n",
       "        </tr>\n",
       "    </tbody>\n",
       "        <tr>\n",
       "            <td>947847 </td> <td>300000 </td> <td>8/1/14 0:00</td> <td>5/1/15 0:00</td> <td>java software engineer  </td> <td>Banglore </td> <td>m     </td> <td>2/1/93 0:00 </td> <td>86.08       </td> <td>state board                   </td> <td>2010        </td> <td>67.5        </td> <td>state board                       </td> <td>314      </td> <td>2          </td> <td>B.Tech/B.E.</td> <td>computer science & engineering           </td> <td>72.98     </td> <td>314          </td> <td>1              </td> <td>Karnataka     </td> <td>2014          </td> <td>590    </td> <td>435    </td> <td>380  </td> <td>0.356536</td> <td>405                </td> <td>-1                   </td> <td>346            </td> <td>-1            </td> <td>-1            </td> <td>-1         </td> <td>-1       </td> <td>1.7081           </td> <td>-0.1054      </td> <td>-1.0379     </td> <td>-2.0092    </td> <td>-1.0872              </td>\n",
       "        </tr>\n",
       "    </tbody>\n",
       "        <tr>\n",
       "            <td>912934 </td> <td>400000 </td> <td>7/1/14 0:00</td> <td>7/1/15 0:00</td> <td>mechanical engineer     </td> <td>Bangalore</td> <td>m     </td> <td>5/27/92 0:00</td> <td>92          </td> <td>cbse                          </td> <td>2010        </td> <td>91          </td> <td>cbse                              </td> <td>1757     </td> <td>1          </td> <td>B.Tech/B.E.</td> <td>mechanical engineering                   </td> <td>8.58      </td> <td>1757         </td> <td>0              </td> <td>Tamil Nadu    </td> <td>2016          </td> <td>545    </td> <td>555    </td> <td>590  </td> <td>0.829585</td> <td>-1                 </td> <td>-1                   </td> <td>-1             </td> <td>469           </td> <td>-1            </td> <td>-1         </td> <td>-1       </td> <td>-0.0154          </td> <td>1.2114       </td> <td>0.01        </td> <td>0.1459     </td> <td>1.247                </td>\n",
       "        </tr>\n",
       "    </tbody>\n",
       "        <tr>\n",
       "            <td>552574 </td> <td>600000 </td> <td>7/1/13 0:00</td> <td>present    </td> <td>electrical engineer     </td> <td>Noida    </td> <td>m     </td> <td>9/17/91 0:00</td> <td>90          </td> <td>cbse                          </td> <td>2009        </td> <td>91.2        </td> <td>cbse                              </td> <td>13       </td> <td>1          </td> <td>B.Tech/B.E.</td> <td>electronics and electrical engineering   </td> <td>85.03     </td> <td>13           </td> <td>1              </td> <td>New Delhi     </td> <td>2013          </td> <td>615    </td> <td>670    </td> <td>530  </td> <td>0.694479</td> <td>735                </td> <td>366                  </td> <td>-1             </td> <td>-1            </td> <td>-1            </td> <td>-1         </td> <td>-1       </td> <td>-0.159           </td> <td>0.5454       </td> <td>-0.6048     </td> <td>-0.7415    </td> <td>-0.2859              </td>\n",
       "        </tr>\n",
       "    </tbody>\n",
       "        <tr>\n",
       "            <td>1203363</td> <td>230000 </td> <td>7/1/14 0:00</td> <td>present    </td> <td>project engineer        </td> <td>Kolkata  </td> <td>m     </td> <td>6/13/93 0:00</td> <td>77          </td> <td>cbse                          </td> <td>2010        </td> <td>72.2        </td> <td>cbse                              </td> <td>8640     </td> <td>2          </td> <td>B.Tech/B.E.</td> <td>electronics and communication engineering</td> <td>78        </td> <td>8640         </td> <td>1              </td> <td>West Bengal   </td> <td>2014          </td> <td>605    </td> <td>565    </td> <td>545  </td> <td>0.493596</td> <td>385                </td> <td>324                  </td> <td>-1             </td> <td>-1            </td> <td>-1            </td> <td>-1         </td> <td>-1       </td> <td>-1.308           </td> <td>0.5454       </td> <td>-0.9122     </td> <td>0.9066     </td> <td>0.0973               </td>\n",
       "        </tr>\n",
       "    </tbody>\n",
       "</table>\n",
       "<p>... (3527 rows omitted)</p"
      ],
      "text/plain": [
       "ID      | Salary  | DOJ         | DOL         | Designation              | JobCity   | Gender | DOB          | 10percentage | 10board                        | 12graduation | 12percentage | 12board                            | CollegeID | CollegeTier | Degree      | Specialization                            | collegeGPA | CollegeCityID | CollegeCityTier | CollegeState   | GraduationYear | English | Logical | Quant | Domain   | ComputerProgramming | ElectronicsAndSemicon | ComputerScience | MechanicalEngg | ElectricalEngg | TelecomEngg | CivilEngg | conscientiousness | agreeableness | extraversion | nueroticism | openess_to_experience\n",
       "203097  | 420000  | 6/1/12 0:00 | present     | senior quality engineer  | Bangalore | f      | 2/19/90 0:00 | 84.3         | board ofsecondary education,ap | 2007         | 95.8         | board of intermediate education,ap | 1141      | 2           | B.Tech/B.E. | computer engineering                      | 78         | 1141          | 0               | Andhra Pradesh | 2011           | 515     | 585     | 525   | 0.635979 | 445                 | -1                    | -1              | -1             | -1             | -1          | -1        | 0.9737            | 0.8128        | 0.5269       | 1.3549      | -0.4455\n",
       "579905  | 500000  | 9/1/13 0:00 | present     | assistant manager        | Indore    | m      | 10/4/89 0:00 | 85.4         | cbse                           | 2007         | 85           | cbse                               | 5807      | 2           | B.Tech/B.E. | electronics and communication engineering | 70.06      | 5807          | 0               | Madhya Pradesh | 2012           | 695     | 610     | 780   | 0.960603 | -1                  | 466                   | -1              | -1             | -1             | -1          | -1        | -0.7335           | 0.3789        | 1.2396       | -0.1076     | 0.8637\n",
       "810601  | 325000  | 6/1/14 0:00 | present     | systems engineer         | Chennai   | f      | 8/3/92 0:00  | 85           | cbse                           | 2010         | 68.2         | cbse                               | 64        | 2           | B.Tech/B.E. | information technology                    | 70         | 64            | 0               | Uttar Pradesh  | 2014           | 615     | 545     | 370   | 0.450877 | 395                 | -1                    | -1              | -1             | -1             | -1          | -1        | 0.2718            | 1.7109        | 0.1637       | -0.8682     | 0.6721\n",
       "267447  | 1100000 | 7/1/11 0:00 | present     | senior software engineer | Gurgaon   | m      | 12/5/89 0:00 | 85.6         | cbse                           | 2007         | 83.6         | cbse                               | 6920      | 1           | B.Tech/B.E. | computer engineering                      | 74.64      | 6920          | 1               | New Delhi      | 2011           | 635     | 585     | 625   | 0.974396 | 615                 | -1                    | -1              | -1             | -1             | -1          | -1        | 0.0464            | 0.3448        | -0.344       | -0.4078     | -0.9194\n",
       "343523  | 200000  | 3/1/14 0:00 | 3/1/15 0:00 | get                      | Manesar   | m      | 2/27/91 0:00 | 78           | cbse                           | 2008         | 76.8         | cbse                               | 11368     | 2           | B.Tech/B.E. | electronics and communication engineering | 73.9       | 11368         | 0               | Uttar Pradesh  | 2012           | 545     | 625     | 465   | 0.124502 | -1                  | 233                   | -1              | -1             | -1             | -1          | -1        | -0.881            | -0.2793       | -1.0697      | 0.09163     | -0.1295\n",
       "1027655 | 300000  | 6/1/14 0:00 | present     | system engineer          | Hyderabad | m      | 7/2/92 0:00  | 89.92        | state board                    | 2010         | 87           | state board                        | 5086      | 2           | B.Tech/B.E. | electronics and communication engineering | 76.32      | 5086          | 0               | Karnataka      | 2014           | 560     | 555     | 620   | -1       | 645                 | -1                    | 407             | -1             | -1             | -1          | -1        | -0.3027           | -0.6201       | -2.2954      | -0.7415     | -0.8608\n",
       "947847  | 300000  | 8/1/14 0:00 | 5/1/15 0:00 | java software engineer   | Banglore  | m      | 2/1/93 0:00  | 86.08        | state board                    | 2010         | 67.5         | state board                        | 314       | 2           | B.Tech/B.E. | computer science & engineering            | 72.98      | 314           | 1               | Karnataka      | 2014           | 590     | 435     | 380   | 0.356536 | 405                 | -1                    | 346             | -1             | -1             | -1          | -1        | 1.7081            | -0.1054       | -1.0379      | -2.0092     | -1.0872\n",
       "912934  | 400000  | 7/1/14 0:00 | 7/1/15 0:00 | mechanical engineer      | Bangalore | m      | 5/27/92 0:00 | 92           | cbse                           | 2010         | 91           | cbse                               | 1757      | 1           | B.Tech/B.E. | mechanical engineering                    | 8.58       | 1757          | 0               | Tamil Nadu     | 2016           | 545     | 555     | 590   | 0.829585 | -1                  | -1                    | -1              | 469            | -1             | -1          | -1        | -0.0154           | 1.2114        | 0.01         | 0.1459      | 1.247\n",
       "552574  | 600000  | 7/1/13 0:00 | present     | electrical engineer      | Noida     | m      | 9/17/91 0:00 | 90           | cbse                           | 2009         | 91.2         | cbse                               | 13        | 1           | B.Tech/B.E. | electronics and electrical engineering    | 85.03      | 13            | 1               | New Delhi      | 2013           | 615     | 670     | 530   | 0.694479 | 735                 | 366                   | -1              | -1             | -1             | -1          | -1        | -0.159            | 0.5454        | -0.6048      | -0.7415     | -0.2859\n",
       "1203363 | 230000  | 7/1/14 0:00 | present     | project engineer         | Kolkata   | m      | 6/13/93 0:00 | 77           | cbse                           | 2010         | 72.2         | cbse                               | 8640      | 2           | B.Tech/B.E. | electronics and communication engineering | 78         | 8640          | 1               | West Bengal    | 2014           | 605     | 565     | 545   | 0.493596 | 385                 | 324                   | -1              | -1             | -1             | -1          | -1        | -1.308            | 0.5454        | -0.9122      | 0.9066      | 0.0973\n",
       "... (3527 rows omitted)"
      ]
     },
     "execution_count": 15,
     "metadata": {},
     "output_type": "execute_result"
    }
   ],
   "source": [
    "salaries"
   ]
  },
  {
   "cell_type": "markdown",
   "metadata": {
    "collapsed": false
   },
   "source": [
    "**A.** Was this a randomized controlled experiment or experimental study? Why?\n"
   ]
  },
  {
   "cell_type": "markdown",
   "metadata": {},
   "source": []
  },
  {
   "cell_type": "markdown",
   "metadata": {},
   "source": [
    "**B.** Does this dataset describe a sample or a population? Why?"
   ]
  },
  {
   "cell_type": "code",
   "execution_count": null,
   "metadata": {
    "collapsed": true
   },
   "outputs": [],
   "source": []
  },
  {
   "cell_type": "markdown",
   "metadata": {},
   "source": [
    "**C.** It's okay for them to use Numpy to calculate the average salary (this should be on the entire table)"
   ]
  },
  {
   "cell_type": "markdown",
   "metadata": {},
   "source": [
    "**D.** They should write a function to calculate standard deviation though (on the entire table)"
   ]
  },
  {
   "cell_type": "markdown",
   "metadata": {},
   "source": [
    "## Question 2: Tables and Probability"
   ]
  },
  {
   "cell_type": "markdown",
   "metadata": {},
   "source": [
    "Intro text: Let's take a deeper look? Basically, convert this to starter code."
   ]
  },
  {
   "cell_type": "markdown",
   "metadata": {},
   "source": [
    "**A.** Find the city where someone got their job and the state where they went to college."
   ]
  },
  {
   "cell_type": "code",
   "execution_count": 21,
   "metadata": {
    "collapsed": false
   },
   "outputs": [
    {
     "data": {
      "text/html": [
       "<table border=\"1\" class=\"dataframe\">\n",
       "    <thead>\n",
       "        <tr>\n",
       "            <th>JobCity</th> <th>CollegeState</th>\n",
       "        </tr>\n",
       "    </thead>\n",
       "    <tbody>\n",
       "        <tr>\n",
       "            <td>Bangalore</td> <td>Andhra Pradesh</td>\n",
       "        </tr>\n",
       "    </tbody>\n",
       "        <tr>\n",
       "            <td>Indore   </td> <td>Madhya Pradesh</td>\n",
       "        </tr>\n",
       "    </tbody>\n",
       "        <tr>\n",
       "            <td>Chennai  </td> <td>Uttar Pradesh </td>\n",
       "        </tr>\n",
       "    </tbody>\n",
       "        <tr>\n",
       "            <td>Gurgaon  </td> <td>New Delhi     </td>\n",
       "        </tr>\n",
       "    </tbody>\n",
       "        <tr>\n",
       "            <td>Manesar  </td> <td>Uttar Pradesh </td>\n",
       "        </tr>\n",
       "    </tbody>\n",
       "        <tr>\n",
       "            <td>Hyderabad</td> <td>Karnataka     </td>\n",
       "        </tr>\n",
       "    </tbody>\n",
       "        <tr>\n",
       "            <td>Banglore </td> <td>Karnataka     </td>\n",
       "        </tr>\n",
       "    </tbody>\n",
       "        <tr>\n",
       "            <td>Bangalore</td> <td>Tamil Nadu    </td>\n",
       "        </tr>\n",
       "    </tbody>\n",
       "        <tr>\n",
       "            <td>Noida    </td> <td>New Delhi     </td>\n",
       "        </tr>\n",
       "    </tbody>\n",
       "        <tr>\n",
       "            <td>Kolkata  </td> <td>West Bengal   </td>\n",
       "        </tr>\n",
       "    </tbody>\n",
       "</table>\n",
       "<p>... (3527 rows omitted)</p"
      ],
      "text/plain": [
       "JobCity   | CollegeState\n",
       "Bangalore | Andhra Pradesh\n",
       "Indore    | Madhya Pradesh\n",
       "Chennai   | Uttar Pradesh\n",
       "Gurgaon   | New Delhi\n",
       "Manesar   | Uttar Pradesh\n",
       "Hyderabad | Karnataka\n",
       "Banglore  | Karnataka\n",
       "Bangalore | Tamil Nadu\n",
       "Noida     | New Delhi\n",
       "Kolkata   | West Bengal\n",
       "... (3527 rows omitted)"
      ]
     },
     "execution_count": 21,
     "metadata": {},
     "output_type": "execute_result"
    }
   ],
   "source": [
    "#Don't re-run this\n",
    "job_cities = salaries.select(\"JobCity\", \"CollegeState\")\n",
    "job_cities"
   ]
  },
  {
   "cell_type": "markdown",
   "metadata": {},
   "source": [
    "**B.** However, we need something to help us map the city in which someone works to a state. Let's look at our dataset with information on the top 500 cities in India from Lesson 9."
   ]
  },
  {
   "cell_type": "code",
   "execution_count": 38,
   "metadata": {
    "collapsed": false
   },
   "outputs": [
    {
     "data": {
      "text/html": [
       "<table border=\"1\" class=\"dataframe\">\n",
       "    <thead>\n",
       "        <tr>\n",
       "            <th>name_of_city</th> <th>state_code</th> <th>dist_code</th> <th>population_total</th> <th>population_male</th> <th>population_female</th> <th>0-6_population_total</th> <th>0-6_population_male</th> <th>0-6_population_female</th> <th>literates_total</th> <th>literates_male</th> <th>literates_female</th> <th>sex_ratio</th> <th>child_sex_ratio</th> <th>effective_literacy_rate_total</th> <th>effective_literacy_rate_male</th> <th>effective_literacy_rate_female</th> <th>location</th> <th>total_graduates</th> <th>male_graduates</th> <th>female_graduates</th> <th>state</th>\n",
       "        </tr>\n",
       "    </thead>\n",
       "    <tbody>\n",
       "        <tr>\n",
       "            <td>Abohar      </td> <td>3         </td> <td>9        </td> <td>145238          </td> <td>76840          </td> <td>68398            </td> <td>15870               </td> <td>8587               </td> <td>7283                 </td> <td>103319         </td> <td>58347         </td> <td>44972           </td> <td>890      </td> <td>848            </td> <td>79.86                        </td> <td>85.49                       </td> <td>73.59                         </td> <td>30.1452928,74.1993043</td> <td>16287          </td> <td>8612          </td> <td>7675            </td> <td>Punjab        </td>\n",
       "        </tr>\n",
       "    </tbody>\n",
       "        <tr>\n",
       "            <td>Achalpur    </td> <td>27        </td> <td>7        </td> <td>112293          </td> <td>58256          </td> <td>54037            </td> <td>11810               </td> <td>6186               </td> <td>5624                 </td> <td>92433          </td> <td>49347         </td> <td>43086           </td> <td>928      </td> <td>909            </td> <td>91.99                        </td> <td>94.77                       </td> <td>89                            </td> <td>21.257584,77.5086754 </td> <td>8863           </td> <td>5269          </td> <td>3594            </td> <td>Maharashtra   </td>\n",
       "        </tr>\n",
       "    </tbody>\n",
       "        <tr>\n",
       "            <td>Adilabad    </td> <td>28        </td> <td>1        </td> <td>117388          </td> <td>59232          </td> <td>58156            </td> <td>13103               </td> <td>6731               </td> <td>6372                 </td> <td>83955          </td> <td>46295         </td> <td>37660           </td> <td>982      </td> <td>947            </td> <td>80.51                        </td> <td>88.18                       </td> <td>72.73                         </td> <td>19.0809075,79.560344 </td> <td>10565          </td> <td>6797          </td> <td>3768            </td> <td>Andhra Pradesh</td>\n",
       "        </tr>\n",
       "    </tbody>\n",
       "        <tr>\n",
       "            <td>Adityapur   </td> <td>20        </td> <td>24       </td> <td>173988          </td> <td>91495          </td> <td>82493            </td> <td>23042               </td> <td>12063              </td> <td>10979                </td> <td>125985         </td> <td>71470         </td> <td>54515           </td> <td>902      </td> <td>910            </td> <td>83.46                        </td> <td>89.98                       </td> <td>76.23                         </td> <td>22.7834741,86.1576889</td> <td>19225          </td> <td>12189         </td> <td>7036            </td> <td>Jharkhand     </td>\n",
       "        </tr>\n",
       "    </tbody>\n",
       "        <tr>\n",
       "            <td>Adoni       </td> <td>28        </td> <td>21       </td> <td>166537          </td> <td>82743          </td> <td>83794            </td> <td>18406               </td> <td>9355               </td> <td>9051                 </td> <td>101292         </td> <td>56203         </td> <td>45089           </td> <td>1013     </td> <td>968            </td> <td>68.38                        </td> <td>76.58                       </td> <td>60.33                         </td> <td>15.6322227,77.2728368</td> <td>11902          </td> <td>7871          </td> <td>4031            </td> <td>Andhra Pradesh</td>\n",
       "        </tr>\n",
       "    </tbody>\n",
       "        <tr>\n",
       "            <td>Agartala    </td> <td>16        </td> <td>1        </td> <td>399688          </td> <td>199616         </td> <td>200072           </td> <td>33635               </td> <td>17341              </td> <td>16294                </td> <td>343633         </td> <td>174524        </td> <td>169109          </td> <td>1002     </td> <td>940            </td> <td>93.88                        </td> <td>95.75                       </td> <td>92.02                         </td> <td>23.831457,91.2867777 </td> <td>52711          </td> <td>30215         </td> <td>22496           </td> <td>Tripura       </td>\n",
       "        </tr>\n",
       "    </tbody>\n",
       "        <tr>\n",
       "            <td>Agra        </td> <td>9         </td> <td>15       </td> <td>1574542         </td> <td>849771         </td> <td>724771           </td> <td>186516              </td> <td>105279             </td> <td>81237                </td> <td>880530         </td> <td>503805        </td> <td>376725          </td> <td>853      </td> <td>772            </td> <td>63.44                        </td> <td>67.67                       </td> <td>58.54                         </td> <td>27.1766701,78.0080745</td> <td>185813         </td> <td>106082        </td> <td>79731           </td> <td>Uttar Pradesh </td>\n",
       "        </tr>\n",
       "    </tbody>\n",
       "        <tr>\n",
       "            <td>Ahmadabad   </td> <td>24        </td> <td>7        </td> <td>5570585         </td> <td>2935869        </td> <td>2634716          </td> <td>589076              </td> <td>317917             </td> <td>271159               </td> <td>4464303        </td> <td>2459823       </td> <td>2004480         </td> <td>897      </td> <td>853            </td> <td>89.62                        </td> <td>93.96                       </td> <td>84.81                         </td> <td>23.022505,72.5713621 </td> <td>769858         </td> <td>435267        </td> <td>334591          </td> <td>Gujarat       </td>\n",
       "        </tr>\n",
       "    </tbody>\n",
       "        <tr>\n",
       "            <td>Ahmadnagar  </td> <td>27        </td> <td>26       </td> <td>350905          </td> <td>179755         </td> <td>171150           </td> <td>36712               </td> <td>19748              </td> <td>16964                </td> <td>287468         </td> <td>152819        </td> <td>134649          </td> <td>952      </td> <td>859            </td> <td>91.49                        </td> <td>95.51                       </td> <td>87.33                         </td> <td>19.0952075,74.7495916</td> <td>51661          </td> <td>29832         </td> <td>21829           </td> <td>Maharashtra   </td>\n",
       "        </tr>\n",
       "    </tbody>\n",
       "        <tr>\n",
       "            <td>Aizawl      </td> <td>15        </td> <td>3        </td> <td>291822          </td> <td>143803         </td> <td>148019           </td> <td>35147               </td> <td>17667              </td> <td>17480                </td> <td>253588         </td> <td>125256        </td> <td>128332          </td> <td>1029     </td> <td>989            </td> <td>98.8                         </td> <td>99.3                        </td> <td>98.31                         </td> <td>23.727107,92.7176389 </td> <td>26832          </td> <td>14900         </td> <td>11932           </td> <td>Mizoram       </td>\n",
       "        </tr>\n",
       "    </tbody>\n",
       "</table>\n",
       "<p>... (483 rows omitted)</p"
      ],
      "text/plain": [
       "name_of_city | state_code | dist_code | population_total | population_male | population_female | 0-6_population_total | 0-6_population_male | 0-6_population_female | literates_total | literates_male | literates_female | sex_ratio | child_sex_ratio | effective_literacy_rate_total | effective_literacy_rate_male | effective_literacy_rate_female | location              | total_graduates | male_graduates | female_graduates | state\n",
       "Abohar       | 3          | 9         | 145238           | 76840           | 68398             | 15870                | 8587                | 7283                  | 103319          | 58347          | 44972            | 890       | 848             | 79.86                         | 85.49                        | 73.59                          | 30.1452928,74.1993043 | 16287           | 8612           | 7675             | Punjab\n",
       "Achalpur     | 27         | 7         | 112293           | 58256           | 54037             | 11810                | 6186                | 5624                  | 92433           | 49347          | 43086            | 928       | 909             | 91.99                         | 94.77                        | 89                             | 21.257584,77.5086754  | 8863            | 5269           | 3594             | Maharashtra\n",
       "Adilabad     | 28         | 1         | 117388           | 59232           | 58156             | 13103                | 6731                | 6372                  | 83955           | 46295          | 37660            | 982       | 947             | 80.51                         | 88.18                        | 72.73                          | 19.0809075,79.560344  | 10565           | 6797           | 3768             | Andhra Pradesh\n",
       "Adityapur    | 20         | 24        | 173988           | 91495           | 82493             | 23042                | 12063               | 10979                 | 125985          | 71470          | 54515            | 902       | 910             | 83.46                         | 89.98                        | 76.23                          | 22.7834741,86.1576889 | 19225           | 12189          | 7036             | Jharkhand\n",
       "Adoni        | 28         | 21        | 166537           | 82743           | 83794             | 18406                | 9355                | 9051                  | 101292          | 56203          | 45089            | 1013      | 968             | 68.38                         | 76.58                        | 60.33                          | 15.6322227,77.2728368 | 11902           | 7871           | 4031             | Andhra Pradesh\n",
       "Agartala     | 16         | 1         | 399688           | 199616          | 200072            | 33635                | 17341               | 16294                 | 343633          | 174524         | 169109           | 1002      | 940             | 93.88                         | 95.75                        | 92.02                          | 23.831457,91.2867777  | 52711           | 30215          | 22496            | Tripura\n",
       "Agra         | 9          | 15        | 1574542          | 849771          | 724771            | 186516               | 105279              | 81237                 | 880530          | 503805         | 376725           | 853       | 772             | 63.44                         | 67.67                        | 58.54                          | 27.1766701,78.0080745 | 185813          | 106082         | 79731            | Uttar Pradesh\n",
       "Ahmadabad    | 24         | 7         | 5570585          | 2935869         | 2634716           | 589076               | 317917              | 271159                | 4464303         | 2459823        | 2004480          | 897       | 853             | 89.62                         | 93.96                        | 84.81                          | 23.022505,72.5713621  | 769858          | 435267         | 334591           | Gujarat\n",
       "Ahmadnagar   | 27         | 26        | 350905           | 179755          | 171150            | 36712                | 19748               | 16964                 | 287468          | 152819         | 134649           | 952       | 859             | 91.49                         | 95.51                        | 87.33                          | 19.0952075,74.7495916 | 51661           | 29832          | 21829            | Maharashtra\n",
       "Aizawl       | 15         | 3         | 291822           | 143803          | 148019            | 35147                | 17667               | 17480                 | 253588          | 125256         | 128332           | 1029      | 989             | 98.8                          | 99.3                         | 98.31                          | 23.727107,92.7176389  | 26832           | 14900          | 11932            | Mizoram\n",
       "... (483 rows omitted)"
      ]
     },
     "execution_count": 38,
     "metadata": {},
     "output_type": "execute_result"
    }
   ],
   "source": [
    "cities = Table().read_table(\"cities.csv\")\n",
    "#preprocessing\n",
    "states = cities.column(\"state_name\")\n",
    "state_lst = list(states)\n",
    "processed_states = [s.title() for s in state_lst]\n",
    "cities = cities.drop(\"state_name\").with_column(\"state\", processed_states)\n",
    "cities"
   ]
  },
  {
   "cell_type": "markdown",
   "metadata": {},
   "source": [
    "Join this table with our `job_cities` table."
   ]
  },
  {
   "cell_type": "code",
   "execution_count": null,
   "metadata": {
    "collapsed": true
   },
   "outputs": [],
   "source": [
    "#STARTER CODE"
   ]
  },
  {
   "cell_type": "markdown",
   "metadata": {},
   "source": [
    "**C.** The table above shows us the states in which people went to college and the states where they are working. Calculate the probability that someone went to college and got their job in the same state.\n"
   ]
  },
  {
   "cell_type": "code",
   "execution_count": null,
   "metadata": {
    "collapsed": true
   },
   "outputs": [],
   "source": [
    "#STARTER CODE"
   ]
  },
  {
   "cell_type": "markdown",
   "metadata": {},
   "source": [
    "**D.** Use the Complement Rule to find the probability that someone is working in a state different from where they went to college.\n"
   ]
  },
  {
   "cell_type": "code",
   "execution_count": null,
   "metadata": {
    "collapsed": true
   },
   "outputs": [],
   "source": []
  },
  {
   "cell_type": "markdown",
   "metadata": {},
   "source": [
    "**E.** Now, find the amount of subjects in the table working in each city. [Description of rows + columns]"
   ]
  },
  {
   "cell_type": "code",
   "execution_count": 42,
   "metadata": {
    "collapsed": false
   },
   "outputs": [
    {
     "data": {
      "text/html": [
       "<table border=\"1\" class=\"dataframe\">\n",
       "    <thead>\n",
       "        <tr>\n",
       "            <th>JobCity</th> <th>count</th> <th>Average Salary (Rupees)</th>\n",
       "        </tr>\n",
       "    </thead>\n",
       "    <tbody>\n",
       "        <tr>\n",
       "            <td>Bangalore</td> <td>647  </td> <td>560000                 </td>\n",
       "        </tr>\n",
       "    </tbody>\n",
       "        <tr>\n",
       "            <td>Noida    </td> <td>386  </td> <td>335000                 </td>\n",
       "        </tr>\n",
       "    </tbody>\n",
       "        <tr>\n",
       "            <td>Hyderabad</td> <td>357  </td> <td>185000                 </td>\n",
       "        </tr>\n",
       "    </tbody>\n",
       "        <tr>\n",
       "            <td>Pune     </td> <td>320  </td> <td>360000                 </td>\n",
       "        </tr>\n",
       "    </tbody>\n",
       "        <tr>\n",
       "            <td>Chennai  </td> <td>304  </td> <td>180000                 </td>\n",
       "        </tr>\n",
       "    </tbody>\n",
       "        <tr>\n",
       "            <td>New Delhi</td> <td>222  </td> <td>570000                 </td>\n",
       "        </tr>\n",
       "    </tbody>\n",
       "        <tr>\n",
       "            <td>Gurgaon  </td> <td>214  </td> <td>120000                 </td>\n",
       "        </tr>\n",
       "    </tbody>\n",
       "        <tr>\n",
       "            <td>Mumbai   </td> <td>147  </td> <td>360000                 </td>\n",
       "        </tr>\n",
       "    </tbody>\n",
       "        <tr>\n",
       "            <td>Kolkata  </td> <td>118  </td> <td>150000                 </td>\n",
       "        </tr>\n",
       "    </tbody>\n",
       "        <tr>\n",
       "            <td>Jaipur   </td> <td>52   </td> <td>266667                 </td>\n",
       "        </tr>\n",
       "    </tbody>\n",
       "</table>\n",
       "<p>... (283 rows omitted)</p"
      ],
      "text/plain": [
       "JobCity   | count | Average Salary (Rupees)\n",
       "Bangalore | 647   | 560000\n",
       "Noida     | 386   | 335000\n",
       "Hyderabad | 357   | 185000\n",
       "Pune      | 320   | 360000\n",
       "Chennai   | 304   | 180000\n",
       "New Delhi | 222   | 570000\n",
       "Gurgaon   | 214   | 120000\n",
       "Mumbai    | 147   | 360000\n",
       "Kolkata   | 118   | 150000\n",
       "Jaipur    | 52    | 266667\n",
       "... (283 rows omitted)"
      ]
     },
     "execution_count": 42,
     "metadata": {},
     "output_type": "execute_result"
    }
   ],
   "source": [
    "city_jobs = salaries.group(\"JobCity\").sort(\"count\", descending = True)\n",
    "averaged = salaries.group(\"JobCity\", np.mean).where(\"JobCity\", are.contained_in(city_jobs.column(0))).column(\"Salary mean\")\n",
    "city_jobs = city_jobs.with_column(\"Average Salary (Rupees)\", averaged)\n",
    "city_jobs"
   ]
  },
  {
   "cell_type": "markdown",
   "metadata": {},
   "source": [
    "**TODO: CONVERT THESE INTO THEIR OWN CELLS**\n",
    "F. Using the table below, find the probability that someone works in Bangalore (the count column shows the number of graduates surveyed)\n",
    "\n",
    "\n",
    "G. Using the same table, calculate the probability that someone is from either New Delhi or Hyderabad. Leave your answer in the form of a mathematical expression with two fractions.\n"
   ]
  },
  {
   "cell_type": "markdown",
   "metadata": {},
   "source": [
    "**H.** Let's look at the GDP per capita (economic output per person) of a couple cities in India. "
   ]
  },
  {
   "cell_type": "code",
   "execution_count": 46,
   "metadata": {
    "collapsed": false
   },
   "outputs": [
    {
     "data": {
      "text/html": [
       "<table border=\"1\" class=\"dataframe\">\n",
       "    <thead>\n",
       "        <tr>\n",
       "            <th>City</th> <th>GDP per capita\r",
       "(PPP)</th>\n",
       "        </tr>\n",
       "    </thead>\n",
       "    <tbody>\n",
       "        <tr>\n",
       "            <td>New Delhi</td> <td>$12,747             </td>\n",
       "        </tr>\n",
       "    </tbody>\n",
       "        <tr>\n",
       "            <td>Mumbai   </td> <td>$7,005              </td>\n",
       "        </tr>\n",
       "    </tbody>\n",
       "        <tr>\n",
       "            <td>Chennai  </td> <td>$6,469              </td>\n",
       "        </tr>\n",
       "    </tbody>\n",
       "        <tr>\n",
       "            <td>Hyderabad</td> <td>$5,063              </td>\n",
       "        </tr>\n",
       "    </tbody>\n",
       "        <tr>\n",
       "            <td>Bangalore</td> <td>$5,051              </td>\n",
       "        </tr>\n",
       "    </tbody>\n",
       "        <tr>\n",
       "            <td>Kolkata  </td> <td>$4,036              </td>\n",
       "        </tr>\n",
       "    </tbody>\n",
       "</table>"
      ],
      "text/plain": [
       "City      | GDP per capita\n",
       "(PPP)\n",
       "New Delhi | $12,747\n",
       "Mumbai    | $7,005\n",
       "Chennai   | $6,469\n",
       "Hyderabad | $5,063\n",
       "Bangalore | $5,051\n",
       "Kolkata   | $4,036"
      ]
     },
     "execution_count": 46,
     "metadata": {},
     "output_type": "execute_result"
    }
   ],
   "source": [
    "#Table Source: https://www.brookings.edu/wp-content/uploads/2015/01/bmpp_GMM_final.pdf\n",
    "city_gdp = Table().read_table(\"city_gdp.csv\")\n",
    "city_gdp = city_gdp.drop(0).drop(1).drop(1)\n",
    "city_gdp"
   ]
  },
  {
   "cell_type": "markdown",
   "metadata": {},
   "source": [
    "**TODO:** Describe how to process these data (basically convert code below into starter code) such that you can make a bar chart"
   ]
  },
  {
   "cell_type": "code",
   "execution_count": 48,
   "metadata": {
    "collapsed": false
   },
   "outputs": [
    {
     "data": {
      "image/png": "[encoded data removed]",
      "text/plain": [
       "<matplotlib.figure.Figure at 0x1163fd470>"
      ]
     },
     "metadata": {},
     "output_type": "display_data"
    }
   ],
   "source": [
    "#Table Source: https://www.brookings.edu/wp-content/uploads/2015/01/bmpp_GMM_final.pdf\n",
    "#Asking the students to do at least part of this themselves will be a cool example of how cleaning data is important too\n",
    "def convert_dollars(arr):\n",
    "    converted = np.array([])\n",
    "    for i in arr:\n",
    "        i = i.replace(\"$\",\"\").replace(\",\", \"\")\n",
    "        converted = np.append(i, converted)\n",
    "    converted = converted.astype(np.int)[::-1] #Array was coming out reversed\n",
    "    return (converted * 58.9323) / 1000\n",
    "#Exchange rate: https://www.poundsterlinglive.com/best-exchange-rates/us-dollar-to-indian-rupee-exchange-rate-on-2014-05-29\n",
    "gdp_rupees = convert_dollars(city_gdp.column(1))\n",
    "cleaned = Table().with_columns(\"City\", city_gdp.column(0), \"GDP per capita (Thousands of Rupees)\", gdp_rupees).sort(1, descending = True)\n",
    "#cleaned.bar(\"City\")\n",
    "#plt.yticks(np.arange(cleaned.num_rows), cleaned.column(0))\n",
    "cleaned.barh(\"City\")"
   ]
  },
  {
   "cell_type": "markdown",
   "metadata": {},
   "source": [
    "**I.** Make a bar chart of average salary vs. city (from city_jobs) "
   ]
  },
  {
   "cell_type": "code",
   "execution_count": null,
   "metadata": {
    "collapsed": true
   },
   "outputs": [],
   "source": []
  },
  {
   "cell_type": "markdown",
   "metadata": {},
   "source": [
    "**J.** Do you think that if the survey had more respondents, would the distribution of average salaries look more like the graph of GDP per capita? Why or why not?\n"
   ]
  },
  {
   "cell_type": "code",
   "execution_count": null,
   "metadata": {
    "collapsed": true
   },
   "outputs": [],
   "source": []
  },
  {
   "cell_type": "markdown",
   "metadata": {},
   "source": [
    "## Question 3: Correlation and Regression Questions"
   ]
  },
  {
   "cell_type": "markdown",
   "metadata": {},
   "source": [
    "**A.** Write a function to convert an array to standard units."
   ]
  },
  {
   "cell_type": "code",
   "execution_count": 49,
   "metadata": {
    "collapsed": true
   },
   "outputs": [],
   "source": [
    "#These should be implemented by students\n",
    "def standard_units(nums):\n",
    "    return (nums - np.mean(nums))/np.std(nums)"
   ]
  },
  {
   "cell_type": "markdown",
   "metadata": {},
   "source": [
    "**B.** Write a function to calculate the correlation coefficient between two arrays."
   ]
  },
  {
   "cell_type": "code",
   "execution_count": 53,
   "metadata": {
    "collapsed": true
   },
   "outputs": [],
   "source": [
    "#Average of the product of x and y values in standard units \n",
    "def calc_r(tbl, col_1, col_2):\n",
    "    return np.mean(standard_units(tbl.column(col_1)) * standard_units(tbl.column(col_2)))"
   ]
  },
  {
   "cell_type": "markdown",
   "metadata": {},
   "source": [
    "**C.** The graduates took the AMCAT, an exam that assesses skills required for certain professions. Calculate the correlation coefficient between exam scores on subject tests and salaries. "
   ]
  },
  {
   "cell_type": "code",
   "execution_count": 55,
   "metadata": {
    "collapsed": false
   },
   "outputs": [
    {
     "name": "stdout",
     "output_type": "stream",
     "text": [
      "Number of Unique Professions ElectricalEngg 87\n",
      "r ElectricalEngg 0.242604625626\n",
      "Number of Unique Professions ComputerScience 161\n",
      "r ComputerScience 0.128899744755\n",
      "Number of Unique Professions CivilEngg 24\n",
      "r CivilEngg 0.246086564427\n",
      "Number of Unique Professions MechanicalEngg 90\n",
      "r MechanicalEngg 0.182627170214\n"
     ]
    }
   ],
   "source": [
    "#Should definitely contain more starter code, we could ask them to do sth like return the max? Prob statement can be changed too.\n",
    "for i in np.array([\"ElectricalEngg\", \"ComputerScience\", \"CivilEngg\", \"MechanicalEngg\"]):\n",
    "    tbl = salaries.where(i, are.not_equal_to(-1))\n",
    "    print(\"Number of Unique Professions \" + i, tbl.group(\"Designation\").num_rows)\n",
    "    print(\"r \" + i, calc_r(tbl, i, \"Salary\"))\n"
   ]
  },
  {
   "cell_type": "code",
   "execution_count": 8,
   "metadata": {
    "collapsed": true
   },
   "outputs": [],
   "source": []
  },
  {
   "cell_type": "code",
   "execution_count": 29,
   "metadata": {
    "collapsed": false
   },
   "outputs": [
    {
     "name": "stdout",
     "output_type": "stream",
     "text": [
      "r- 12th grade CBSE  0.291328325835\n",
      "r- 10th grade CBSE 0.288531200826\n",
      "r- collegeGPA 0.22521889079\n"
     ]
    }
   ],
   "source": [
    "salary_12 = salaries.where(\"12board\", are.equal_to(\"cbse\")).select(\"Salary\", \"12percentage\")\n",
    "r12 = calc_r(salary_12, \"12percentage\", \"Salary\")\n",
    "print(\"r- 12th grade CBSE \", r12)\n",
    "salary_10 = salaries.where(\"10board\", are.equal_to(\"cbse\")).select(\"Salary\", \"10percentage\")\n",
    "r10 = calc_r(salary_10, \"10percentage\", \"Salary\")\n",
    "print(\"r- 10th grade CBSE\", r10)\n",
    "college_cbse = salaries.where(\"12board\", are.equal_to(\"cbse\"))\n",
    "print(\"r- collegeGPA\", calc_r(college_cbse, \"collegeGPA\", \"Salary\"))"
   ]
  },
  {
   "cell_type": "markdown",
   "metadata": {},
   "source": [
    "## Question 4"
   ]
  },
  {
   "cell_type": "code",
   "execution_count": 56,
   "metadata": {
    "collapsed": false
   },
   "outputs": [
    {
     "data": {
      "text/html": [
       "<table border=\"1\" class=\"dataframe\">\n",
       "    <thead>\n",
       "        <tr>\n",
       "            <th>JobCity</th> <th>Salary mean</th> <th>Cost of Living Plus Rent Index</th>\n",
       "        </tr>\n",
       "    </thead>\n",
       "    <tbody>\n",
       "        <tr>\n",
       "            <td>Chennai   </td> <td>288701     </td> <td>18.41                         </td>\n",
       "        </tr>\n",
       "    </tbody>\n",
       "        <tr>\n",
       "            <td>Mangalore </td> <td>333182     </td> <td>15.21                         </td>\n",
       "        </tr>\n",
       "    </tbody>\n",
       "        <tr>\n",
       "            <td>Noida     </td> <td>298769     </td> <td>20.35                         </td>\n",
       "        </tr>\n",
       "    </tbody>\n",
       "        <tr>\n",
       "            <td>Coimbatore</td> <td>279500     </td> <td>15.64                         </td>\n",
       "        </tr>\n",
       "    </tbody>\n",
       "        <tr>\n",
       "            <td>Jaipur    </td> <td>252115     </td> <td>16.85                         </td>\n",
       "        </tr>\n",
       "    </tbody>\n",
       "        <tr>\n",
       "            <td>Kochi     </td> <td>200000     </td> <td>16.44                         </td>\n",
       "        </tr>\n",
       "    </tbody>\n",
       "</table>"
      ],
      "text/plain": [
       "JobCity    | Salary mean | Cost of Living Plus Rent Index\n",
       "Chennai    | 288701      | 18.41\n",
       "Mangalore  | 333182      | 15.21\n",
       "Noida      | 298769      | 20.35\n",
       "Coimbatore | 279500      | 15.64\n",
       "Jaipur     | 252115      | 16.85\n",
       "Kochi      | 200000      | 16.44"
      ]
     },
     "execution_count": 56,
     "metadata": {},
     "output_type": "execute_result"
    }
   ],
   "source": [
    "cost_of_living = Table().read_table(\"cost_of_living.csv\")\n",
    "averaged = salaries.group(\"JobCity\", np.mean).where(\"JobCity\",\n",
    "                                                    are.contained_in(cost_of_living.column(1)))\n",
    "processed = averaged.select(\"JobCity\", \"Salary mean\").join(\"JobCity\", cost_of_living, \"City\")\n",
    "processed.drop(\"Rank\").sort(\"Cost of Living Index\").take(random.sample(range(0, processed.num_rows), 6)).select(0, 1, 4)"
   ]
  },
  {
   "cell_type": "code",
   "execution_count": 69,
   "metadata": {
    "collapsed": false
   },
   "outputs": [
    {
     "data": {
      "text/plain": [
       "0.27711335728288633"
      ]
     },
     "execution_count": 69,
     "metadata": {},
     "output_type": "execute_result"
    }
   ],
   "source": [
    "calc_r(processed, \"Cost of Living Plus Rent Index\", \"Salary mean\")"
   ]
  },
  {
   "cell_type": "code",
   "execution_count": 89,
   "metadata": {
    "collapsed": false
   },
   "outputs": [],
   "source": [
    "q4_tbl = processed.select(\"JobCity\", \"Cost of Living Plus Rent Index\", \"Salary mean\").sort(1, descending = True)"
   ]
  },
  {
   "cell_type": "code",
   "execution_count": 93,
   "metadata": {
    "collapsed": false
   },
   "outputs": [
    {
     "data": {
      "text/plain": [
       "81150.918565750631"
      ]
     },
     "execution_count": 93,
     "metadata": {},
     "output_type": "execute_result"
    }
   ],
   "source": [
    "np.std(q4_tbl.column(2))"
   ]
  },
  {
   "cell_type": "code",
   "execution_count": null,
   "metadata": {
    "collapsed": true
   },
   "outputs": [],
   "source": [
    "n"
   ]
  }
 ],
 "metadata": {
  "kernelspec": {
   "display_name": "Python 3",
   "language": "python",
   "name": "python3"
  },
  "language_info": {
   "codemirror_mode": {
    "name": "ipython",
    "version": 3
   },
   "file_extension": ".py",
   "mimetype": "text/x-python",
   "name": "python",
   "nbconvert_exporter": "python",
   "pygments_lexer": "ipython3",
   "version": "3.6.0"
  }
 },
 "nbformat": 4,
 "nbformat_minor": 2
}
