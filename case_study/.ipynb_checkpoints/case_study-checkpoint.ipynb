{
 "cells": [
  {
   "cell_type": "markdown",
   "metadata": {},
   "source": [
    "<img src=\"../dsi.png\" style=\"height:128px;\">"
   ]
  },
  {
   "cell_type": "markdown",
   "metadata": {},
   "source": [
    "# Lesson 10: Case Study"
   ]
  },
  {
   "cell_type": "markdown",
   "metadata": {},
   "source": [
    "You’ve learned a lot about data science in this course! Now, you’ll get the chance to go over the topics we covered while analyzing real-world data. We’re going to be looking at some data about engineers in India from the Aspiring Minds Employability Outcomes Survey (http://research.aspiringminds.com/resources/#ameo). This dataset contains information about their salaries, positions, academic performance, and much more!\n"
   ]
  },
  {
   "cell_type": "markdown",
   "metadata": {},
   "source": [
    "Making tables/graphs for the worksheet "
   ]
  },
  {
   "cell_type": "code",
   "execution_count": 56,
   "metadata": {
    "collapsed": true
   },
   "outputs": [],
   "source": [
    "import numpy as np\n",
    "from datascience import *\n",
    "from matplotlib import pyplot as plt\n",
    "import random\n",
    "%matplotlib inline\n",
    "plt.style.use('fivethirtyeight')"
   ]
  },
  {
   "cell_type": "code",
   "execution_count": 57,
   "metadata": {
    "collapsed": false
   },
   "outputs": [],
   "source": [
    "salaries = Table().read_table(\"engineering_data.csv\").drop(0).where(\"JobCity\", are.not_equal_to(\"-1\"))\n"
   ]
  },
  {
   "cell_type": "markdown",
   "metadata": {},
   "source": [
    "## Question 1"
   ]
  },
  {
   "cell_type": "code",
   "execution_count": 55,
   "metadata": {
    "collapsed": false
   },
   "outputs": [
    {
     "data": {
      "text/html": [
       "<table border=\"1\" class=\"dataframe\">\n",
       "    <thead>\n",
       "        <tr>\n",
       "            <th>ID</th> <th>Salary</th> <th>Designation</th> <th>JobCity</th> <th>Gender</th> <th>10percentage</th> <th>10board</th> <th>12graduation</th> <th>12percentage</th> <th>12board</th> <th>CollegeID</th> <th>CollegeTier</th> <th>Degree</th> <th>Specialization</th> <th>collegeGPA</th> <th>CollegeCityID</th> <th>CollegeCityTier</th> <th>CollegeState</th> <th>GraduationYear</th> <th>English</th> <th>Logical</th> <th>Quant</th> <th>Domain</th> <th>ComputerProgramming</th> <th>ElectronicsAndSemicon</th> <th>ComputerScience</th> <th>MechanicalEngg</th> <th>ElectricalEngg</th> <th>TelecomEngg</th> <th>CivilEngg</th> <th>conscientiousness</th> <th>agreeableness</th> <th>extraversion</th> <th>nueroticism</th> <th>openess_to_experience</th>\n",
       "        </tr>\n",
       "    </thead>\n",
       "    <tbody>\n",
       "        <tr>\n",
       "            <td>1145718</td> <td>100000</td> <td>sales account manager      </td> <td>Sonipat  </td> <td>m     </td> <td>79.75       </td> <td>state board                        </td> <td>2008        </td> <td>67.57       </td> <td>state board                   </td> <td>7861     </td> <td>2          </td> <td>B.Tech/B.E.</td> <td>mechanical engineering                   </td> <td>72.31     </td> <td>7861         </td> <td>1              </td> <td>West Bengal  </td> <td>2015          </td> <td>605    </td> <td>455    </td> <td>175  </td> <td>0.598281</td> <td>385                </td> <td>-1                   </td> <td>-1             </td> <td>407           </td> <td>-1            </td> <td>-1         </td> <td>-1       </td> <td>1.1336           </td> <td>0.0459       </td> <td>-0.1437     </td> <td>-0.3612    </td> <td>-0.4776              </td>\n",
       "        </tr>\n",
       "    </tbody>\n",
       "        <tr>\n",
       "            <td>1029968</td> <td>205000</td> <td>javascript developer       </td> <td>Chennai  </td> <td>m     </td> <td>60.2        </td> <td>state board                        </td> <td>2010        </td> <td>65          </td> <td>state board                   </td> <td>9259     </td> <td>2          </td> <td>B.Tech/B.E.</td> <td>information technology                   </td> <td>75        </td> <td>9259         </td> <td>0              </td> <td>Tamil Nadu   </td> <td>2014          </td> <td>300    </td> <td>335    </td> <td>345  </td> <td>0.356536</td> <td>375                </td> <td>-1                   </td> <td>346            </td> <td>-1            </td> <td>-1            </td> <td>-1         </td> <td>-1       </td> <td>-0.0154          </td> <td>1.2114       </td> <td>0.9322      </td> <td>0.0192     </td> <td>1.4386               </td>\n",
       "        </tr>\n",
       "    </tbody>\n",
       "        <tr>\n",
       "            <td>980852 </td> <td>200000</td> <td>business process analyst   </td> <td>Gurgaon  </td> <td>m     </td> <td>82.8        </td> <td>cbse                               </td> <td>2009        </td> <td>77.2        </td> <td>cbse                          </td> <td>7557     </td> <td>2          </td> <td>B.Tech/B.E.</td> <td>electronics and electrical engineering   </td> <td>71.51     </td> <td>7557         </td> <td>1              </td> <td>New Delhi    </td> <td>2014          </td> <td>430    </td> <td>650    </td> <td>605  </td> <td>0.298769</td> <td>445                </td> <td>-1                   </td> <td>-1             </td> <td>-1            </td> <td>356           </td> <td>-1         </td> <td>-1       </td> <td>-1.0208          </td> <td>-0.6201      </td> <td>0.1637      </td> <td>1.0333     </td> <td>1.0554               </td>\n",
       "        </tr>\n",
       "    </tbody>\n",
       "        <tr>\n",
       "            <td>215660 </td> <td>105000</td> <td>java software engineer     </td> <td>Kolkata  </td> <td>m     </td> <td>69.2        </td> <td>jharkhand academic council         </td> <td>2007        </td> <td>58.6        </td> <td>jharkhand academic council    </td> <td>5026     </td> <td>2          </td> <td>B.Tech/B.E.</td> <td>electronics and communication engineering</td> <td>63        </td> <td>5026         </td> <td>0              </td> <td>Orissa       </td> <td>2011          </td> <td>605    </td> <td>435    </td> <td>505  </td> <td>0.538387</td> <td>305                </td> <td>333                  </td> <td>-1             </td> <td>-1            </td> <td>-1            </td> <td>233        </td> <td>-1       </td> <td>0.2009           </td> <td>-0.4353      </td> <td>-0.0537     </td> <td>1.1199     </td> <td>0.3444               </td>\n",
       "        </tr>\n",
       "    </tbody>\n",
       "        <tr>\n",
       "            <td>346596 </td> <td>220000</td> <td>associate software engineer</td> <td>Bangalore</td> <td>m     </td> <td>69.4        </td> <td>icse                               </td> <td>2008        </td> <td>65.12       </td> <td>karnataka pre-university board</td> <td>8811     </td> <td>2          </td> <td>B.Tech/B.E.</td> <td>computer engineering                     </td> <td>65.5      </td> <td>8811         </td> <td>1              </td> <td>Karnataka    </td> <td>2012          </td> <td>585    </td> <td>645    </td> <td>475  </td> <td>0.793581</td> <td>495                </td> <td>-1                   </td> <td>-1             </td> <td>-1            </td> <td>-1            </td> <td>-1         </td> <td>-1       </td> <td>-0.5332          </td> <td>0.5008       </td> <td>-0.9245     </td> <td>-0.2609    </td> <td>-0.9194              </td>\n",
       "        </tr>\n",
       "    </tbody>\n",
       "        <tr>\n",
       "            <td>1120553</td> <td>300000</td> <td>software engineer          </td> <td>Pune     </td> <td>f     </td> <td>73          </td> <td>cbse                               </td> <td>2009        </td> <td>60          </td> <td>cbse                          </td> <td>23       </td> <td>2          </td> <td>B.Tech/B.E.</td> <td>electronics and communication engineering</td> <td>73        </td> <td>23           </td> <td>0              </td> <td>Uttar Pradesh</td> <td>2013          </td> <td>440    </td> <td>400    </td> <td>270  </td> <td>0.991398</td> <td>-1                 </td> <td>516                  </td> <td>284            </td> <td>-1            </td> <td>-1            </td> <td>-1         </td> <td>-1       </td> <td>-0.0154          </td> <td>0.3789       </td> <td>0.3174      </td> <td>0.5262     </td> <td>-0.8608              </td>\n",
       "        </tr>\n",
       "    </tbody>\n",
       "        <tr>\n",
       "            <td>416714 </td> <td>300000</td> <td>system engineer            </td> <td>Kolkata  </td> <td>m     </td> <td>64.4        </td> <td>jharkhand secondary education board</td> <td>2005        </td> <td>53          </td> <td>jharkhand academic council    </td> <td>8926     </td> <td>2          </td> <td>MCA        </td> <td>computer application                     </td> <td>71        </td> <td>8926         </td> <td>1              </td> <td>West Bengal  </td> <td>2012          </td> <td>375    </td> <td>535    </td> <td>625  </td> <td>0.90149 </td> <td>545                </td> <td>-1                   </td> <td>-1             </td> <td>-1            </td> <td>-1            </td> <td>-1         </td> <td>-1       </td> <td>-0.1855          </td> <td>0.6568       </td> <td>-0.7794     </td> <td>0.1798     </td> <td>0.0284               </td>\n",
       "        </tr>\n",
       "    </tbody>\n",
       "</table>"
      ],
      "text/plain": [
       "ID      | Salary | Designation                 | JobCity   | Gender | 10percentage | 10board                             | 12graduation | 12percentage | 12board                        | CollegeID | CollegeTier | Degree      | Specialization                            | collegeGPA | CollegeCityID | CollegeCityTier | CollegeState  | GraduationYear | English | Logical | Quant | Domain   | ComputerProgramming | ElectronicsAndSemicon | ComputerScience | MechanicalEngg | ElectricalEngg | TelecomEngg | CivilEngg | conscientiousness | agreeableness | extraversion | nueroticism | openess_to_experience\n",
       "1145718 | 100000 | sales account manager       | Sonipat   | m      | 79.75        | state board                         | 2008         | 67.57        | state board                    | 7861      | 2           | B.Tech/B.E. | mechanical engineering                    | 72.31      | 7861          | 1               | West Bengal   | 2015           | 605     | 455     | 175   | 0.598281 | 385                 | -1                    | -1              | 407            | -1             | -1          | -1        | 1.1336            | 0.0459        | -0.1437      | -0.3612     | -0.4776\n",
       "1029968 | 205000 | javascript developer        | Chennai   | m      | 60.2         | state board                         | 2010         | 65           | state board                    | 9259      | 2           | B.Tech/B.E. | information technology                    | 75         | 9259          | 0               | Tamil Nadu    | 2014           | 300     | 335     | 345   | 0.356536 | 375                 | -1                    | 346             | -1             | -1             | -1          | -1        | -0.0154           | 1.2114        | 0.9322       | 0.0192      | 1.4386\n",
       "980852  | 200000 | business process analyst    | Gurgaon   | m      | 82.8         | cbse                                | 2009         | 77.2         | cbse                           | 7557      | 2           | B.Tech/B.E. | electronics and electrical engineering    | 71.51      | 7557          | 1               | New Delhi     | 2014           | 430     | 650     | 605   | 0.298769 | 445                 | -1                    | -1              | -1             | 356            | -1          | -1        | -1.0208           | -0.6201       | 0.1637       | 1.0333      | 1.0554\n",
       "215660  | 105000 | java software engineer      | Kolkata   | m      | 69.2         | jharkhand academic council          | 2007         | 58.6         | jharkhand academic council     | 5026      | 2           | B.Tech/B.E. | electronics and communication engineering | 63         | 5026          | 0               | Orissa        | 2011           | 605     | 435     | 505   | 0.538387 | 305                 | 333                   | -1              | -1             | -1             | 233         | -1        | 0.2009            | -0.4353       | -0.0537      | 1.1199      | 0.3444\n",
       "346596  | 220000 | associate software engineer | Bangalore | m      | 69.4         | icse                                | 2008         | 65.12        | karnataka pre-university board | 8811      | 2           | B.Tech/B.E. | computer engineering                      | 65.5       | 8811          | 1               | Karnataka     | 2012           | 585     | 645     | 475   | 0.793581 | 495                 | -1                    | -1              | -1             | -1             | -1          | -1        | -0.5332           | 0.5008        | -0.9245      | -0.2609     | -0.9194\n",
       "1120553 | 300000 | software engineer           | Pune      | f      | 73           | cbse                                | 2009         | 60           | cbse                           | 23        | 2           | B.Tech/B.E. | electronics and communication engineering | 73         | 23            | 0               | Uttar Pradesh | 2013           | 440     | 400     | 270   | 0.991398 | -1                  | 516                   | 284             | -1             | -1             | -1          | -1        | -0.0154           | 0.3789        | 0.3174       | 0.5262      | -0.8608\n",
       "416714  | 300000 | system engineer             | Kolkata   | m      | 64.4         | jharkhand secondary education board | 2005         | 53           | jharkhand academic council     | 8926      | 2           | MCA         | computer application                      | 71         | 8926          | 1               | West Bengal   | 2012           | 375     | 535     | 625   | 0.90149  | 545                 | -1                    | -1              | -1             | -1             | -1          | -1        | -0.1855           | 0.6568        | -0.7794      | 0.1798      | 0.0284"
      ]
     },
     "execution_count": 55,
     "metadata": {},
     "output_type": "execute_result"
    }
   ],
   "source": [
    "#Don't re-run the next line\n",
    "salaries.take(random.sample(range(0, salaries.num_rows), 7)).drop([\"DOJ\", \"DOL\", \"DOB\"])"
   ]
  },
  {
   "cell_type": "code",
   "execution_count": 56,
   "metadata": {
    "collapsed": false
   },
   "outputs": [
    {
     "name": "stdout",
     "output_type": "stream",
     "text": [
      "3537\n"
     ]
    }
   ],
   "source": [
    "print(salaries.num_rows)"
   ]
  },
  {
   "cell_type": "markdown",
   "metadata": {},
   "source": [
    "## Question 2"
   ]
  },
  {
   "cell_type": "code",
   "execution_count": 120,
   "metadata": {
    "collapsed": false
   },
   "outputs": [
    {
     "data": {
      "text/plain": [
       "302270.10284488456"
      ]
     },
     "execution_count": 120,
     "metadata": {},
     "output_type": "execute_result"
    }
   ],
   "source": [
    "top_10_cities = salaries.group(\"JobCity\").sort(\"count\", descending = True).take(np.arange(10))\n",
    "averaged = salaries.group(\"JobCity\", np.mean).where(\"JobCity\", are.contained_in(top_10_cities.column(0))).column(\"Salary mean\")\n",
    "top_10_cities = top_10_cities.with_column(\"Average Salary (Rupees)\", averaged)\n",
    "np.average(top_10_cities.where(\"JobCity\", lambda c : c == \"New Delhi\" or c == \"Gurgaon\" or c == \"Noida\").column(\n",
    "\"Average Salary (Rupees)\"))\n"
   ]
  },
  {
   "cell_type": "code",
   "execution_count": 206,
   "metadata": {
    "collapsed": false
   },
   "outputs": [
    {
     "name": "stdout",
     "output_type": "stream",
     "text": [
      "12747\n",
      "7005\n",
      "6469\n",
      "5063\n",
      "5051\n",
      "4036\n",
      "['Delhi' 'Mumbai' 'Chennai' 'Hyderabad' 'Bangalore' 'Kolkata' 'Jaipur'\n",
      " 'Pune']\n",
      "[ 751210.0281      412820.7615      381233.0487      298374.2349\n",
      "  297667.0473      237850.7628        9454.54545455   13800.        ]\n"
     ]
    },
    {
     "data": {
      "text/plain": [
       "([<matplotlib.axis.YTick at 0x10f3c9be0>,\n",
       "  <matplotlib.axis.YTick at 0x10f4b6438>,\n",
       "  <matplotlib.axis.YTick at 0x102499438>,\n",
       "  <matplotlib.axis.YTick at 0x10f5f46d8>,\n",
       "  <matplotlib.axis.YTick at 0x10f5fe1d0>,\n",
       "  <matplotlib.axis.YTick at 0x10f5fec88>,\n",
       "  <matplotlib.axis.YTick at 0x10f602780>,\n",
       "  <matplotlib.axis.YTick at 0x10f607278>],\n",
       " <a list of 8 Text yticklabel objects>)"
      ]
     },
     "execution_count": 206,
     "metadata": {},
     "output_type": "execute_result"
    },
    {
     "data": {
      "image/png": "[encoded data removed]",
      "text/plain": [
       "<matplotlib.figure.Figure at 0x10df5fb70>"
      ]
     },
     "metadata": {},
     "output_type": "display_data"
    }
   ],
   "source": [
    "#Table Source: https://www.brookings.edu/wp-content/uploads/2015/01/bmpp_GMM_final.pdf\n",
    "#Asking the students to do at least part of this themselves will be a cool example of how cleaning data is important too\n",
    "city_gdp = Table().read_table(\"city_gdp.csv\")\n",
    "city_gdp = city_gdp.drop(0).drop(1).drop(1)\n",
    "np.append(city_gdp.column(0), [\"Jaipur\", \"Pune\"])\n",
    "#np.append(city_gdp.column(1), )\n",
    "#Source for Jaipur/Pune GDP: https://www.brookings.edu/research/global-metro-monitor/\n",
    "#Jaipur GDP (PPP adjusted): $31.2 b\n",
    "#Jaipur Pop: http://indiapopulation2017.in/population-of-jaipur-2017.html, 3.30m\n",
    "#Pune GDP: $69b\n",
    "#Pune Pop: http://indiapopulation2017.in/population-of-pune-2017.html 5m\n",
    "jp_gdp = np.array([31200000000, 69000000000])\n",
    "jp_pop = np.array([3300000, 5000000])\n",
    "#GDP Per Capita is calculated by dividing GDP per person\n",
    "def gdp_per_capita(gdp, pop):\n",
    "    data = np.array([])\n",
    "    for i in np.arange(0, 2):\n",
    "        data = np.append(data, gdp[i] / pop[i])\n",
    "    return data\n",
    "per_capita = gdp_per_capita(jp_gdp, jp_pop)\n",
    "jp = np.array([\"Jaipur\", \"Pune\"])\n",
    "def convert_dollars(arr):\n",
    "    converted = np.array([])\n",
    "    for i in arr:\n",
    "        i = i.replace(\"$\",\"\").replace(\",\", \"\")\n",
    "        print(i)\n",
    "        converted = np.append(i, converted)\n",
    "    converted = converted.astype(np.int)[::-1] #Array was coming out reversed\n",
    "    return converted * 58.9323\n",
    "#Exchange rate: https://www.poundsterlinglive.com/best-exchange-rates/us-dollar-to-indian-rupee-exchange-rate-on-2014-05-29\n",
    "gdp_rupees = np.append(convert_dollars(city_gdp.column(1)), per_capita)\n",
    "#Combine the column of GDP in rupees w/Jaipur and Pune's GDPs\n",
    "cities = np.append(city_gdp.column(0), jp)\n",
    "print(cities)\n",
    "print(gdp_rupees)\n",
    "cleaned = Table().with_columns(\"City\", cities, \"GDP per capita\", gdp_rupees).sort(1, descending = True)\n",
    "#cleaned.bar(\"City\")\n",
    "plt.barh(np.arange(cleaned.num_rows), cleaned.column(1))\n",
    "plt.yticks(np.arange(cleaned.num_rows), cleaned.column(0))\n"
   ]
  },
  {
   "cell_type": "code",
   "execution_count": 48,
   "metadata": {
    "collapsed": false
   },
   "outputs": [
    {
     "data": {
      "text/html": [
       "<table border=\"1\" class=\"dataframe\">\n",
       "    <thead>\n",
       "        <tr>\n",
       "            <th>JobCity</th> <th>CollegeState</th>\n",
       "        </tr>\n",
       "    </thead>\n",
       "    <tbody>\n",
       "        <tr>\n",
       "            <td>Hyderabad </td> <td>Telangana     </td>\n",
       "        </tr>\n",
       "    </tbody>\n",
       "        <tr>\n",
       "            <td>New Delhi </td> <td>Uttar Pradesh </td>\n",
       "        </tr>\n",
       "    </tbody>\n",
       "        <tr>\n",
       "            <td>Pune      </td> <td>Orissa        </td>\n",
       "        </tr>\n",
       "    </tbody>\n",
       "        <tr>\n",
       "            <td>New Delhi </td> <td>New Delhi     </td>\n",
       "        </tr>\n",
       "    </tbody>\n",
       "        <tr>\n",
       "            <td>Ahmednagar</td> <td>Uttar Pradesh </td>\n",
       "        </tr>\n",
       "    </tbody>\n",
       "        <tr>\n",
       "            <td>Hyderabad </td> <td>Andhra Pradesh</td>\n",
       "        </tr>\n",
       "    </tbody>\n",
       "        <tr>\n",
       "            <td>Chandigarh</td> <td>Uttarakhand   </td>\n",
       "        </tr>\n",
       "    </tbody>\n",
       "        <tr>\n",
       "            <td>Hyderabad </td> <td>Uttar Pradesh </td>\n",
       "        </tr>\n",
       "    </tbody>\n",
       "        <tr>\n",
       "            <td>Gurgaon   </td> <td>Uttar Pradesh </td>\n",
       "        </tr>\n",
       "    </tbody>\n",
       "        <tr>\n",
       "            <td>Sonipat   </td> <td>Haryana       </td>\n",
       "        </tr>\n",
       "    </tbody>\n",
       "        <tr>\n",
       "            <td>Ahmedabad </td> <td>Gujarat       </td>\n",
       "        </tr>\n",
       "    </tbody>\n",
       "        <tr>\n",
       "            <td>Chennai   </td> <td>Uttar Pradesh </td>\n",
       "        </tr>\n",
       "    </tbody>\n",
       "</table>"
      ],
      "text/plain": [
       "<IPython.core.display.HTML object>"
      ]
     },
     "metadata": {},
     "output_type": "display_data"
    }
   ],
   "source": [
    "#Don't re-run this\n",
    "job_cities = salaries.select(\"JobCity\", \"CollegeState\").take(random.sample(range(0, salaries.num_rows), 12))\n",
    "job_cities.show()"
   ]
  },
  {
   "cell_type": "code",
   "execution_count": 52,
   "metadata": {
    "collapsed": false
   },
   "outputs": [],
   "source": [
    "job_states = np.array([\"Telangana\", \"New Delhi\", \"Maharashtra\", \"New Delhi\", \"Maharashtra\", \"Telangana\", \"Punjab\", \n",
    "              \"Telangana\", \"Haryana\", \"Haryana\", \"Gujarat\", \"Tamil Nadu\"])"
   ]
  },
  {
   "cell_type": "code",
   "execution_count": 54,
   "metadata": {
    "collapsed": false
   },
   "outputs": [
    {
     "data": {
      "text/html": [
       "<table border=\"1\" class=\"dataframe\">\n",
       "    <thead>\n",
       "        <tr>\n",
       "            <th>JobCity</th> <th>CollegeState</th> <th>JobState</th>\n",
       "        </tr>\n",
       "    </thead>\n",
       "    <tbody>\n",
       "        <tr>\n",
       "            <td>Hyderabad </td> <td>Telangana     </td> <td>Telangana  </td>\n",
       "        </tr>\n",
       "    </tbody>\n",
       "        <tr>\n",
       "            <td>New Delhi </td> <td>Uttar Pradesh </td> <td>New Delhi  </td>\n",
       "        </tr>\n",
       "    </tbody>\n",
       "        <tr>\n",
       "            <td>Pune      </td> <td>Orissa        </td> <td>Maharashtra</td>\n",
       "        </tr>\n",
       "    </tbody>\n",
       "        <tr>\n",
       "            <td>New Delhi </td> <td>New Delhi     </td> <td>New Delhi  </td>\n",
       "        </tr>\n",
       "    </tbody>\n",
       "        <tr>\n",
       "            <td>Ahmednagar</td> <td>Uttar Pradesh </td> <td>Maharashtra</td>\n",
       "        </tr>\n",
       "    </tbody>\n",
       "        <tr>\n",
       "            <td>Hyderabad </td> <td>Andhra Pradesh</td> <td>Telangana  </td>\n",
       "        </tr>\n",
       "    </tbody>\n",
       "        <tr>\n",
       "            <td>Chandigarh</td> <td>Uttarakhand   </td> <td>Punjab     </td>\n",
       "        </tr>\n",
       "    </tbody>\n",
       "        <tr>\n",
       "            <td>Hyderabad </td> <td>Uttar Pradesh </td> <td>Telangana  </td>\n",
       "        </tr>\n",
       "    </tbody>\n",
       "        <tr>\n",
       "            <td>Gurgaon   </td> <td>Uttar Pradesh </td> <td>Haryana    </td>\n",
       "        </tr>\n",
       "    </tbody>\n",
       "        <tr>\n",
       "            <td>Sonipat   </td> <td>Haryana       </td> <td>Haryana    </td>\n",
       "        </tr>\n",
       "    </tbody>\n",
       "        <tr>\n",
       "            <td>Ahmedabad </td> <td>Gujarat       </td> <td>Gujarat    </td>\n",
       "        </tr>\n",
       "    </tbody>\n",
       "        <tr>\n",
       "            <td>Chennai   </td> <td>Uttar Pradesh </td> <td>Tamil Nadu </td>\n",
       "        </tr>\n",
       "    </tbody>\n",
       "</table>"
      ],
      "text/plain": [
       "<IPython.core.display.HTML object>"
      ]
     },
     "metadata": {},
     "output_type": "display_data"
    }
   ],
   "source": [
    "job_cities.with_column(\"JobState\", job_states).show()"
   ]
  },
  {
   "cell_type": "markdown",
   "metadata": {},
   "source": [
    "## Question 3"
   ]
  },
  {
   "cell_type": "code",
   "execution_count": 16,
   "metadata": {
    "collapsed": false
   },
   "outputs": [
    {
     "name": "stdout",
     "output_type": "stream",
     "text": [
      "Number of Unique Professions ElectricalEngg 87\n",
      "r ElectricalEngg 0.242604625626\n",
      "Number of Unique Professions ComputerScience 161\n",
      "r ComputerScience 0.128899744755\n",
      "Number of Unique Professions CivilEngg 24\n",
      "r CivilEngg 0.246086564427\n",
      "Number of Unique Professions MechanicalEngg 90\n",
      "r MechanicalEngg 0.182627170214\n"
     ]
    }
   ],
   "source": [
    "for i in [\"ElectricalEngg\", \"ComputerScience\", \"CivilEngg\", \"MechanicalEngg\"]:\n",
    "    tbl = salaries.where(i, are.not_equal_to(-1))\n",
    "    print(\"Number of Unique Professions \" + i, tbl.group(\"Designation\").num_rows)\n",
    "    print(\"r \" + i, calc_r(tbl, i, \"Salary\"))\n"
   ]
  },
  {
   "cell_type": "code",
   "execution_count": 8,
   "metadata": {
    "collapsed": true
   },
   "outputs": [],
   "source": [
    "#These should be implemented by students\n",
    "#Calculating distance from the mean, dividing by standard deviation\n",
    "def standard_units(nums):\n",
    "    return (nums - np.mean(nums))/np.std(nums)\n",
    "#Average of the product of x and y values in standard units \n",
    "def calc_r(tbl, col_1, col_2):\n",
    "    return np.mean(standard_units(tbl.column(col_1)) * standard_units(tbl.column(col_2)))"
   ]
  },
  {
   "cell_type": "code",
   "execution_count": 29,
   "metadata": {
    "collapsed": false
   },
   "outputs": [
    {
     "name": "stdout",
     "output_type": "stream",
     "text": [
      "r- 12th grade CBSE  0.291328325835\n",
      "r- 10th grade CBSE 0.288531200826\n",
      "r- collegeGPA 0.22521889079\n"
     ]
    }
   ],
   "source": [
    "salary_12 = salaries.where(\"12board\", are.equal_to(\"cbse\")).select(\"Salary\", \"12percentage\")\n",
    "r12 = calc_r(salary_12, \"12percentage\", \"Salary\")\n",
    "print(\"r- 12th grade CBSE \", r12)\n",
    "salary_10 = salaries.where(\"10board\", are.equal_to(\"cbse\")).select(\"Salary\", \"10percentage\")\n",
    "r10 = calc_r(salary_10, \"10percentage\", \"Salary\")\n",
    "print(\"r- 10th grade CBSE\", r10)\n",
    "college_cbse = salaries.where(\"12board\", are.equal_to(\"cbse\"))\n",
    "print(\"r- collegeGPA\", calc_r(college_cbse, \"collegeGPA\", \"Salary\"))"
   ]
  },
  {
   "cell_type": "markdown",
   "metadata": {},
   "source": [
    "## Question 4"
   ]
  },
  {
   "cell_type": "code",
   "execution_count": 80,
   "metadata": {
    "collapsed": false
   },
   "outputs": [
    {
     "data": {
      "text/html": [
       "<table border=\"1\" class=\"dataframe\">\n",
       "    <thead>\n",
       "        <tr>\n",
       "            <th>Rank</th> <th>City</th> <th>Cost of Living Index</th> <th>Rent Index</th> <th>Cost of Living Plus Rent Index</th> <th>Groceries Index</th> <th>Restaurant Price Index</th> <th>Local Purchasing Power Index</th>\n",
       "        </tr>\n",
       "    </thead>\n",
       "    <tbody>\n",
       "        <tr>\n",
       "            <td>1   </td> <td>Ahmedabad  </td> <td>29.26               </td> <td>6.61      </td> <td>18.18                         </td> <td>31.59          </td> <td>20.84                 </td> <td>55.58                       </td>\n",
       "        </tr>\n",
       "    </tbody>\n",
       "        <tr>\n",
       "            <td>2   </td> <td>Bangalore  </td> <td>30.64               </td> <td>9.68      </td> <td>20.39                         </td> <td>33.42          </td> <td>19.5                  </td> <td>85.76                       </td>\n",
       "        </tr>\n",
       "    </tbody>\n",
       "        <tr>\n",
       "            <td>3   </td> <td>Bhubaneswar</td> <td>25.91               </td> <td>4.66      </td> <td>15.52                         </td> <td>29.79          </td> <td>14.91                 </td> <td>51.16                       </td>\n",
       "        </tr>\n",
       "    </tbody>\n",
       "        <tr>\n",
       "            <td>4   </td> <td>Chandigarh </td> <td>29.65               </td> <td>6.41      </td> <td>18.29                         </td> <td>31.42          </td> <td>20.38                 </td> <td>63.36                       </td>\n",
       "        </tr>\n",
       "    </tbody>\n",
       "        <tr>\n",
       "            <td>5   </td> <td>Chennai    </td> <td>29                  </td> <td>7.34      </td> <td>18.41                         </td> <td>31.48          </td> <td>19.21                 </td> <td>68.68                       </td>\n",
       "        </tr>\n",
       "    </tbody>\n",
       "        <tr>\n",
       "            <td>6   </td> <td>Coimbatore </td> <td>25.12               </td> <td>5.73      </td> <td>15.64                         </td> <td>26.61          </td> <td>15.49                 </td> <td>46.49                       </td>\n",
       "        </tr>\n",
       "    </tbody>\n",
       "        <tr>\n",
       "            <td>7   </td> <td>New Delhi  </td> <td>33.1                </td> <td>9.97      </td> <td>21.79                         </td> <td>33.04          </td> <td>26.02                 </td> <td>68.13                       </td>\n",
       "        </tr>\n",
       "    </tbody>\n",
       "        <tr>\n",
       "            <td>8   </td> <td>Goa        </td> <td>28.93               </td> <td>7.65      </td> <td>18.53                         </td> <td>31.22          </td> <td>21.98                 </td> <td>52.73                       </td>\n",
       "        </tr>\n",
       "    </tbody>\n",
       "        <tr>\n",
       "            <td>9   </td> <td>Gurgaon    </td> <td>36.29               </td> <td>10.53     </td> <td>23.69                         </td> <td>35.6           </td> <td>32.21                 </td> <td>94.28                       </td>\n",
       "        </tr>\n",
       "    </tbody>\n",
       "        <tr>\n",
       "            <td>10  </td> <td>Hyderabad  </td> <td>27.16               </td> <td>6.49      </td> <td>17.05                         </td> <td>29.35          </td> <td>17.82                 </td> <td>65.45                       </td>\n",
       "        </tr>\n",
       "    </tbody>\n",
       "</table>\n",
       "<p>... (17 rows omitted)</p"
      ],
      "text/plain": [
       "Rank | City        | Cost of Living Index | Rent Index | Cost of Living Plus Rent Index | Groceries Index | Restaurant Price Index | Local Purchasing Power Index\n",
       "1    | Ahmedabad   | 29.26                | 6.61       | 18.18                          | 31.59           | 20.84                  | 55.58\n",
       "2    | Bangalore   | 30.64                | 9.68       | 20.39                          | 33.42           | 19.5                   | 85.76\n",
       "3    | Bhubaneswar | 25.91                | 4.66       | 15.52                          | 29.79           | 14.91                  | 51.16\n",
       "4    | Chandigarh  | 29.65                | 6.41       | 18.29                          | 31.42           | 20.38                  | 63.36\n",
       "5    | Chennai     | 29                   | 7.34       | 18.41                          | 31.48           | 19.21                  | 68.68\n",
       "6    | Coimbatore  | 25.12                | 5.73       | 15.64                          | 26.61           | 15.49                  | 46.49\n",
       "7    | New Delhi   | 33.1                 | 9.97       | 21.79                          | 33.04           | 26.02                  | 68.13\n",
       "8    | Goa         | 28.93                | 7.65       | 18.53                          | 31.22           | 21.98                  | 52.73\n",
       "9    | Gurgaon     | 36.29                | 10.53      | 23.69                          | 35.6            | 32.21                  | 94.28\n",
       "10   | Hyderabad   | 27.16                | 6.49       | 17.05                          | 29.35           | 17.82                  | 65.45\n",
       "... (17 rows omitted)"
      ]
     },
     "execution_count": 80,
     "metadata": {},
     "output_type": "execute_result"
    }
   ],
   "source": [
    "cost_of_living = Table().read_table(\"cost_of_living.csv\")\n",
    "#Source: https://www.numbeo.com/cost-of-living/country_result.jsp?country=India\n",
    "cost_of_living"
   ]
  },
  {
   "cell_type": "code",
   "execution_count": 81,
   "metadata": {
    "collapsed": false
   },
   "outputs": [
    {
     "data": {
      "text/html": [
       "<table border=\"1\" class=\"dataframe\">\n",
       "    <thead>\n",
       "        <tr>\n",
       "            <th>JobCity</th> <th>Salary mean</th> <th>Cost of Living Index</th> <th>Rent Index</th> <th>Cost of Living Plus Rent Index</th> <th>Groceries Index</th> <th>Restaurant Price Index</th> <th>Local Purchasing Power Index</th>\n",
       "        </tr>\n",
       "    </thead>\n",
       "    <tbody>\n",
       "        <tr>\n",
       "            <td>Gurgaon           </td> <td>335818     </td> <td>36.29               </td> <td>10.53     </td> <td>23.69                         </td> <td>35.6           </td> <td>32.21                 </td> <td>94.28                       </td>\n",
       "        </tr>\n",
       "    </tbody>\n",
       "        <tr>\n",
       "            <td>Mumbai            </td> <td>367347     </td> <td>33.25               </td> <td>23.72     </td> <td>28.59                         </td> <td>35.84          </td> <td>23.96                 </td> <td>63.7                        </td>\n",
       "        </tr>\n",
       "    </tbody>\n",
       "        <tr>\n",
       "            <td>Noida             </td> <td>298769     </td> <td>33.11               </td> <td>7.02      </td> <td>20.35                         </td> <td>34.77          </td> <td>22.69                 </td> <td>82.21                       </td>\n",
       "        </tr>\n",
       "    </tbody>\n",
       "        <tr>\n",
       "            <td>New Delhi         </td> <td>271689     </td> <td>33.1                </td> <td>9.97      </td> <td>21.79                         </td> <td>33.04          </td> <td>26.02                 </td> <td>68.13                       </td>\n",
       "        </tr>\n",
       "    </tbody>\n",
       "        <tr>\n",
       "            <td>Pune              </td> <td>330750     </td> <td>30.87               </td> <td>7.89      </td> <td>19.64                         </td> <td>32.92          </td> <td>22.1                  </td> <td>85.31                       </td>\n",
       "        </tr>\n",
       "    </tbody>\n",
       "        <tr>\n",
       "            <td>Bangalore         </td> <td>355471     </td> <td>30.64               </td> <td>9.68      </td> <td>20.39                         </td> <td>33.42          </td> <td>19.5                  </td> <td>85.76                       </td>\n",
       "        </tr>\n",
       "    </tbody>\n",
       "        <tr>\n",
       "            <td>Thane             </td> <td>345000     </td> <td>30.34               </td> <td>8.73      </td> <td>19.78                         </td> <td>31.99          </td> <td>20.49                 </td> <td>58.83                       </td>\n",
       "        </tr>\n",
       "    </tbody>\n",
       "        <tr>\n",
       "            <td>Chandigarh        </td> <td>320962     </td> <td>29.65               </td> <td>6.41      </td> <td>18.29                         </td> <td>31.42          </td> <td>20.38                 </td> <td>63.36                       </td>\n",
       "        </tr>\n",
       "    </tbody>\n",
       "        <tr>\n",
       "            <td>Ahmedabad         </td> <td>266667     </td> <td>29.26               </td> <td>6.61      </td> <td>18.18                         </td> <td>31.59          </td> <td>20.84                 </td> <td>55.58                       </td>\n",
       "        </tr>\n",
       "    </tbody>\n",
       "        <tr>\n",
       "            <td>Chennai           </td> <td>288701     </td> <td>29                  </td> <td>7.34      </td> <td>18.41                         </td> <td>31.48          </td> <td>19.21                 </td> <td>68.68                       </td>\n",
       "        </tr>\n",
       "    </tbody>\n",
       "        <tr>\n",
       "            <td>Kolkata           </td> <td>250763     </td> <td>28.48               </td> <td>6.92      </td> <td>17.94                         </td> <td>30.05          </td> <td>23.36                 </td> <td>46.81                       </td>\n",
       "        </tr>\n",
       "    </tbody>\n",
       "        <tr>\n",
       "            <td>Jaipur            </td> <td>252115     </td> <td>28.46               </td> <td>4.72      </td> <td>16.85                         </td> <td>30.22          </td> <td>16.91                 </td> <td>65.7                        </td>\n",
       "        </tr>\n",
       "    </tbody>\n",
       "        <tr>\n",
       "            <td>Lucknow           </td> <td>213750     </td> <td>28.45               </td> <td>4.72      </td> <td>16.85                         </td> <td>29.48          </td> <td>18.27                 </td> <td>62.69                       </td>\n",
       "        </tr>\n",
       "    </tbody>\n",
       "        <tr>\n",
       "            <td>Surat             </td> <td>180000     </td> <td>28.28               </td> <td>4.61      </td> <td>16.71                         </td> <td>29.5           </td> <td>20.91                 </td> <td>54.56                       </td>\n",
       "        </tr>\n",
       "    </tbody>\n",
       "        <tr>\n",
       "            <td>Nagpur            </td> <td>206667     </td> <td>27.9                </td> <td>5.06      </td> <td>16.73                         </td> <td>29.69          </td> <td>19.61                 </td> <td>79.41                       </td>\n",
       "        </tr>\n",
       "    </tbody>\n",
       "        <tr>\n",
       "            <td>Indore            </td> <td>237800     </td> <td>27.82               </td> <td>4.48      </td> <td>16.41                         </td> <td>27.7           </td> <td>18.18                 </td> <td>43.68                       </td>\n",
       "        </tr>\n",
       "    </tbody>\n",
       "        <tr>\n",
       "            <td>Vadodara          </td> <td>590000     </td> <td>27.79               </td> <td>3.95      </td> <td>16.14                         </td> <td>32.19          </td> <td>16.52                 </td> <td>67.02                       </td>\n",
       "        </tr>\n",
       "    </tbody>\n",
       "        <tr>\n",
       "            <td>Hyderabad         </td> <td>308711     </td> <td>27.16               </td> <td>6.49      </td> <td>17.05                         </td> <td>29.35          </td> <td>17.82                 </td> <td>65.45                       </td>\n",
       "        </tr>\n",
       "    </tbody>\n",
       "        <tr>\n",
       "            <td>Mysore            </td> <td>284444     </td> <td>26.48               </td> <td>4.57      </td> <td>15.77                         </td> <td>32.2           </td> <td>13.13                 </td> <td>35.57                       </td>\n",
       "        </tr>\n",
       "    </tbody>\n",
       "        <tr>\n",
       "            <td>Visakhapatnam     </td> <td>186429     </td> <td>25.99               </td> <td>5.27      </td> <td>15.86                         </td> <td>28.85          </td> <td>17.14                 </td> <td>52.77                       </td>\n",
       "        </tr>\n",
       "    </tbody>\n",
       "        <tr>\n",
       "            <td>Kochi             </td> <td>200000     </td> <td>25.99               </td> <td>6.45      </td> <td>16.44                         </td> <td>28.94          </td> <td>14.98                 </td> <td>55.8                        </td>\n",
       "        </tr>\n",
       "    </tbody>\n",
       "        <tr>\n",
       "            <td>Bhubaneswar       </td> <td>229318     </td> <td>25.91               </td> <td>4.66      </td> <td>15.52                         </td> <td>29.79          </td> <td>14.91                 </td> <td>51.16                       </td>\n",
       "        </tr>\n",
       "    </tbody>\n",
       "        <tr>\n",
       "            <td>Coimbatore        </td> <td>279500     </td> <td>25.12               </td> <td>5.73      </td> <td>15.64                         </td> <td>26.61          </td> <td>15.49                 </td> <td>46.49                       </td>\n",
       "        </tr>\n",
       "    </tbody>\n",
       "        <tr>\n",
       "            <td>Mangalore         </td> <td>333182     </td> <td>24.2                </td> <td>5.82      </td> <td>15.21                         </td> <td>25.67          </td> <td>13.22                 </td> <td>91.24                       </td>\n",
       "        </tr>\n",
       "    </tbody>\n",
       "        <tr>\n",
       "            <td>Thiruvananthapuram</td> <td>305714     </td> <td>22.01               </td> <td>5.31      </td> <td>13.84                         </td> <td>23.96          </td> <td>12.28                 </td> <td>62.01                       </td>\n",
       "        </tr>\n",
       "    </tbody>\n",
       "</table>"
      ],
      "text/plain": [
       "<IPython.core.display.HTML object>"
      ]
     },
     "metadata": {},
     "output_type": "display_data"
    }
   ],
   "source": [
    "averaged = salaries.group(\"JobCity\", np.mean).where(\"JobCity\",\n",
    "                                                    are.contained_in(cost_of_living.column(1)))\n",
    "processed = averaged.select(\"JobCity\", \"Salary mean\").join(\"JobCity\", cost_of_living, \"City\")\n",
    "processed.drop(\"Rank\").sort(\"Cost of Living Index\", descending = True).show()"
   ]
  },
  {
   "cell_type": "code",
   "execution_count": 69,
   "metadata": {
    "collapsed": false
   },
   "outputs": [
    {
     "data": {
      "text/plain": [
       "0.27711335728288633"
      ]
     },
     "execution_count": 69,
     "metadata": {},
     "output_type": "execute_result"
    }
   ],
   "source": [
    "calc_r(processed, \"Cost of Living Plus Rent Index\", \"Salary mean\")"
   ]
  },
  {
   "cell_type": "code",
   "execution_count": 70,
   "metadata": {
    "collapsed": false
   },
   "outputs": [
    {
     "data": {
      "image/png": "[encoded data removed]",
      "text/plain": [
       "<matplotlib.figure.Figure at 0x11177f940>"
      ]
     },
     "metadata": {},
     "output_type": "display_data"
    }
   ],
   "source": [
    "processed.scatter(\"Cost of Living Plus Rent Index\", \"Salary mean\")"
   ]
  },
  {
   "cell_type": "code",
   "execution_count": 89,
   "metadata": {
    "collapsed": false
   },
   "outputs": [],
   "source": [
    "q4_tbl = processed.select(\"JobCity\", \"Cost of Living Plus Rent Index\", \"Salary mean\").sort(1, descending = True)"
   ]
  },
  {
   "cell_type": "code",
   "execution_count": 93,
   "metadata": {
    "collapsed": false
   },
   "outputs": [
    {
     "data": {
      "text/plain": [
       "81150.918565750631"
      ]
     },
     "execution_count": 93,
     "metadata": {},
     "output_type": "execute_result"
    }
   ],
   "source": [
    "np.std(q4_tbl.column(2))"
   ]
  },
  {
   "cell_type": "code",
   "execution_count": null,
   "metadata": {
    "collapsed": true
   },
   "outputs": [],
   "source": [
    "n"
   ]
  }
 ],
 "metadata": {
  "kernelspec": {
   "display_name": "Python 3",
   "language": "python",
   "name": "python3"
  },
  "language_info": {
   "codemirror_mode": {
    "name": "ipython",
    "version": 3
   },
   "file_extension": ".py",
   "mimetype": "text/x-python",
   "name": "python",
   "nbconvert_exporter": "python",
   "pygments_lexer": "ipython3",
   "version": "3.6.0"
  }
 },
 "nbformat": 4,
 "nbformat_minor": 2
}
