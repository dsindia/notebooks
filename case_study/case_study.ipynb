{
 "cells": [
  {
   "cell_type": "markdown",
   "metadata": {},
   "source": [
    "<img src=\"../dsi.png\" style=\"height:128px;\">"
   ]
  },
  {
   "cell_type": "markdown",
   "metadata": {},
   "source": [
    "# Lesson 10: Case Study"
   ]
  },
  {
   "cell_type": "markdown",
   "metadata": {},
   "source": [
    "You’ve learned a lot about data science in this course! Now, you’ll get the chance to go over the topics we covered while analyzing real-world data. We’re going to be looking at some data about engineers in India from the Aspiring Minds Employability Outcomes Survey (http://research.aspiringminds.com/resources/#ameo). This dataset contains information about their salaries, positions, academic performance, and much more!\n"
   ]
  },
  {
   "cell_type": "markdown",
   "metadata": {},
   "source": [
    "Making tables/graphs for the worksheet "
   ]
  },
  {
   "cell_type": "code",
   "execution_count": 54,
   "metadata": {
    "collapsed": true
   },
   "outputs": [],
   "source": [
    "import numpy as np\n",
    "from datascience import *\n",
    "from matplotlib import pyplot as plt\n",
    "import random\n",
    "%matplotlib inline\n",
    "plt.style.use('fivethirtyeight')"
   ]
  },
  {
   "cell_type": "code",
   "execution_count": 55,
   "metadata": {
    "collapsed": false
   },
   "outputs": [
    {
     "data": {
      "text/html": [
       "<table border=\"1\" class=\"dataframe\">\n",
       "    <thead>\n",
       "        <tr>\n",
       "            <th>ID</th> <th>Salary</th> <th>Designation</th> <th>JobCity</th> <th>Gender</th> <th>10percentage</th> <th>10board</th> <th>12graduation</th> <th>12percentage</th> <th>12board</th> <th>CollegeID</th> <th>CollegeTier</th> <th>Degree</th> <th>Specialization</th> <th>collegeGPA</th> <th>CollegeCityID</th> <th>CollegeCityTier</th> <th>CollegeState</th> <th>GraduationYear</th> <th>English</th> <th>Logical</th> <th>Quant</th> <th>Domain</th> <th>ComputerProgramming</th> <th>ElectronicsAndSemicon</th> <th>ComputerScience</th> <th>MechanicalEngg</th> <th>ElectricalEngg</th> <th>TelecomEngg</th> <th>CivilEngg</th> <th>conscientiousness</th> <th>agreeableness</th> <th>extraversion</th> <th>nueroticism</th> <th>openess_to_experience</th>\n",
       "        </tr>\n",
       "    </thead>\n",
       "    <tbody>\n",
       "        <tr>\n",
       "            <td>1145718</td> <td>100000</td> <td>sales account manager      </td> <td>Sonipat  </td> <td>m     </td> <td>79.75       </td> <td>state board                        </td> <td>2008        </td> <td>67.57       </td> <td>state board                   </td> <td>7861     </td> <td>2          </td> <td>B.Tech/B.E.</td> <td>mechanical engineering                   </td> <td>72.31     </td> <td>7861         </td> <td>1              </td> <td>West Bengal  </td> <td>2015          </td> <td>605    </td> <td>455    </td> <td>175  </td> <td>0.598281</td> <td>385                </td> <td>-1                   </td> <td>-1             </td> <td>407           </td> <td>-1            </td> <td>-1         </td> <td>-1       </td> <td>1.1336           </td> <td>0.0459       </td> <td>-0.1437     </td> <td>-0.3612    </td> <td>-0.4776              </td>\n",
       "        </tr>\n",
       "    </tbody>\n",
       "        <tr>\n",
       "            <td>1029968</td> <td>205000</td> <td>javascript developer       </td> <td>Chennai  </td> <td>m     </td> <td>60.2        </td> <td>state board                        </td> <td>2010        </td> <td>65          </td> <td>state board                   </td> <td>9259     </td> <td>2          </td> <td>B.Tech/B.E.</td> <td>information technology                   </td> <td>75        </td> <td>9259         </td> <td>0              </td> <td>Tamil Nadu   </td> <td>2014          </td> <td>300    </td> <td>335    </td> <td>345  </td> <td>0.356536</td> <td>375                </td> <td>-1                   </td> <td>346            </td> <td>-1            </td> <td>-1            </td> <td>-1         </td> <td>-1       </td> <td>-0.0154          </td> <td>1.2114       </td> <td>0.9322      </td> <td>0.0192     </td> <td>1.4386               </td>\n",
       "        </tr>\n",
       "    </tbody>\n",
       "        <tr>\n",
       "            <td>980852 </td> <td>200000</td> <td>business process analyst   </td> <td>Gurgaon  </td> <td>m     </td> <td>82.8        </td> <td>cbse                               </td> <td>2009        </td> <td>77.2        </td> <td>cbse                          </td> <td>7557     </td> <td>2          </td> <td>B.Tech/B.E.</td> <td>electronics and electrical engineering   </td> <td>71.51     </td> <td>7557         </td> <td>1              </td> <td>New Delhi    </td> <td>2014          </td> <td>430    </td> <td>650    </td> <td>605  </td> <td>0.298769</td> <td>445                </td> <td>-1                   </td> <td>-1             </td> <td>-1            </td> <td>356           </td> <td>-1         </td> <td>-1       </td> <td>-1.0208          </td> <td>-0.6201      </td> <td>0.1637      </td> <td>1.0333     </td> <td>1.0554               </td>\n",
       "        </tr>\n",
       "    </tbody>\n",
       "        <tr>\n",
       "            <td>215660 </td> <td>105000</td> <td>java software engineer     </td> <td>Kolkata  </td> <td>m     </td> <td>69.2        </td> <td>jharkhand academic council         </td> <td>2007        </td> <td>58.6        </td> <td>jharkhand academic council    </td> <td>5026     </td> <td>2          </td> <td>B.Tech/B.E.</td> <td>electronics and communication engineering</td> <td>63        </td> <td>5026         </td> <td>0              </td> <td>Orissa       </td> <td>2011          </td> <td>605    </td> <td>435    </td> <td>505  </td> <td>0.538387</td> <td>305                </td> <td>333                  </td> <td>-1             </td> <td>-1            </td> <td>-1            </td> <td>233        </td> <td>-1       </td> <td>0.2009           </td> <td>-0.4353      </td> <td>-0.0537     </td> <td>1.1199     </td> <td>0.3444               </td>\n",
       "        </tr>\n",
       "    </tbody>\n",
       "        <tr>\n",
       "            <td>346596 </td> <td>220000</td> <td>associate software engineer</td> <td>Bangalore</td> <td>m     </td> <td>69.4        </td> <td>icse                               </td> <td>2008        </td> <td>65.12       </td> <td>karnataka pre-university board</td> <td>8811     </td> <td>2          </td> <td>B.Tech/B.E.</td> <td>computer engineering                     </td> <td>65.5      </td> <td>8811         </td> <td>1              </td> <td>Karnataka    </td> <td>2012          </td> <td>585    </td> <td>645    </td> <td>475  </td> <td>0.793581</td> <td>495                </td> <td>-1                   </td> <td>-1             </td> <td>-1            </td> <td>-1            </td> <td>-1         </td> <td>-1       </td> <td>-0.5332          </td> <td>0.5008       </td> <td>-0.9245     </td> <td>-0.2609    </td> <td>-0.9194              </td>\n",
       "        </tr>\n",
       "    </tbody>\n",
       "        <tr>\n",
       "            <td>1120553</td> <td>300000</td> <td>software engineer          </td> <td>Pune     </td> <td>f     </td> <td>73          </td> <td>cbse                               </td> <td>2009        </td> <td>60          </td> <td>cbse                          </td> <td>23       </td> <td>2          </td> <td>B.Tech/B.E.</td> <td>electronics and communication engineering</td> <td>73        </td> <td>23           </td> <td>0              </td> <td>Uttar Pradesh</td> <td>2013          </td> <td>440    </td> <td>400    </td> <td>270  </td> <td>0.991398</td> <td>-1                 </td> <td>516                  </td> <td>284            </td> <td>-1            </td> <td>-1            </td> <td>-1         </td> <td>-1       </td> <td>-0.0154          </td> <td>0.3789       </td> <td>0.3174      </td> <td>0.5262     </td> <td>-0.8608              </td>\n",
       "        </tr>\n",
       "    </tbody>\n",
       "        <tr>\n",
       "            <td>416714 </td> <td>300000</td> <td>system engineer            </td> <td>Kolkata  </td> <td>m     </td> <td>64.4        </td> <td>jharkhand secondary education board</td> <td>2005        </td> <td>53          </td> <td>jharkhand academic council    </td> <td>8926     </td> <td>2          </td> <td>MCA        </td> <td>computer application                     </td> <td>71        </td> <td>8926         </td> <td>1              </td> <td>West Bengal  </td> <td>2012          </td> <td>375    </td> <td>535    </td> <td>625  </td> <td>0.90149 </td> <td>545                </td> <td>-1                   </td> <td>-1             </td> <td>-1            </td> <td>-1            </td> <td>-1         </td> <td>-1       </td> <td>-0.1855          </td> <td>0.6568       </td> <td>-0.7794     </td> <td>0.1798     </td> <td>0.0284               </td>\n",
       "        </tr>\n",
       "    </tbody>\n",
       "</table>"
      ],
      "text/plain": [
       "ID      | Salary | Designation                 | JobCity   | Gender | 10percentage | 10board                             | 12graduation | 12percentage | 12board                        | CollegeID | CollegeTier | Degree      | Specialization                            | collegeGPA | CollegeCityID | CollegeCityTier | CollegeState  | GraduationYear | English | Logical | Quant | Domain   | ComputerProgramming | ElectronicsAndSemicon | ComputerScience | MechanicalEngg | ElectricalEngg | TelecomEngg | CivilEngg | conscientiousness | agreeableness | extraversion | nueroticism | openess_to_experience\n",
       "1145718 | 100000 | sales account manager       | Sonipat   | m      | 79.75        | state board                         | 2008         | 67.57        | state board                    | 7861      | 2           | B.Tech/B.E. | mechanical engineering                    | 72.31      | 7861          | 1               | West Bengal   | 2015           | 605     | 455     | 175   | 0.598281 | 385                 | -1                    | -1              | 407            | -1             | -1          | -1        | 1.1336            | 0.0459        | -0.1437      | -0.3612     | -0.4776\n",
       "1029968 | 205000 | javascript developer        | Chennai   | m      | 60.2         | state board                         | 2010         | 65           | state board                    | 9259      | 2           | B.Tech/B.E. | information technology                    | 75         | 9259          | 0               | Tamil Nadu    | 2014           | 300     | 335     | 345   | 0.356536 | 375                 | -1                    | 346             | -1             | -1             | -1          | -1        | -0.0154           | 1.2114        | 0.9322       | 0.0192      | 1.4386\n",
       "980852  | 200000 | business process analyst    | Gurgaon   | m      | 82.8         | cbse                                | 2009         | 77.2         | cbse                           | 7557      | 2           | B.Tech/B.E. | electronics and electrical engineering    | 71.51      | 7557          | 1               | New Delhi     | 2014           | 430     | 650     | 605   | 0.298769 | 445                 | -1                    | -1              | -1             | 356            | -1          | -1        | -1.0208           | -0.6201       | 0.1637       | 1.0333      | 1.0554\n",
       "215660  | 105000 | java software engineer      | Kolkata   | m      | 69.2         | jharkhand academic council          | 2007         | 58.6         | jharkhand academic council     | 5026      | 2           | B.Tech/B.E. | electronics and communication engineering | 63         | 5026          | 0               | Orissa        | 2011           | 605     | 435     | 505   | 0.538387 | 305                 | 333                   | -1              | -1             | -1             | 233         | -1        | 0.2009            | -0.4353       | -0.0537      | 1.1199      | 0.3444\n",
       "346596  | 220000 | associate software engineer | Bangalore | m      | 69.4         | icse                                | 2008         | 65.12        | karnataka pre-university board | 8811      | 2           | B.Tech/B.E. | computer engineering                      | 65.5       | 8811          | 1               | Karnataka     | 2012           | 585     | 645     | 475   | 0.793581 | 495                 | -1                    | -1              | -1             | -1             | -1          | -1        | -0.5332           | 0.5008        | -0.9245      | -0.2609     | -0.9194\n",
       "1120553 | 300000 | software engineer           | Pune      | f      | 73           | cbse                                | 2009         | 60           | cbse                           | 23        | 2           | B.Tech/B.E. | electronics and communication engineering | 73         | 23            | 0               | Uttar Pradesh | 2013           | 440     | 400     | 270   | 0.991398 | -1                  | 516                   | 284             | -1             | -1             | -1          | -1        | -0.0154           | 0.3789        | 0.3174       | 0.5262      | -0.8608\n",
       "416714  | 300000 | system engineer             | Kolkata   | m      | 64.4         | jharkhand secondary education board | 2005         | 53           | jharkhand academic council     | 8926      | 2           | MCA         | computer application                      | 71         | 8926          | 1               | West Bengal   | 2012           | 375     | 535     | 625   | 0.90149  | 545                 | -1                    | -1              | -1             | -1             | -1          | -1        | -0.1855           | 0.6568        | -0.7794      | 0.1798      | 0.0284"
      ]
     },
     "execution_count": 55,
     "metadata": {},
     "output_type": "execute_result"
    }
   ],
   "source": [
    "salaries = Table().read_table(\"engineering_data.csv\").drop(0).where(\"JobCity\", are.not_equal_to(\"-1\"))\n",
    "#Don't re-run the next line\n",
    "salaries.take(random.sample(range(0, salaries.num_rows), 7)).drop([\"DOJ\", \"DOL\", \"DOB\"])"
   ]
  },
  {
   "cell_type": "code",
   "execution_count": 56,
   "metadata": {
    "collapsed": false
   },
   "outputs": [
    {
     "name": "stdout",
     "output_type": "stream",
     "text": [
      "3537\n"
     ]
    }
   ],
   "source": [
    "print(salaries.num_rows)"
   ]
  },
  {
   "cell_type": "code",
   "execution_count": 120,
   "metadata": {
    "collapsed": false
   },
   "outputs": [
    {
     "data": {
      "text/plain": [
       "302270.10284488456"
      ]
     },
     "execution_count": 120,
     "metadata": {},
     "output_type": "execute_result"
    }
   ],
   "source": [
    "top_10_cities = salaries.group(\"JobCity\").sort(\"count\", descending = True).take(np.arange(10))\n",
    "averaged = salaries.group(\"JobCity\", np.mean).where(\"JobCity\", are.contained_in(top_10_cities.column(0))).column(\"Salary mean\")\n",
    "top_10_cities = top_10_cities.with_column(\"Average Salary (Rupees)\", averaged)\n",
    "np.average(top_10_cities.where(\"JobCity\", lambda c : c == \"New Delhi\" or c == \"Gurgaon\" or c == \"Noida\").column(\n",
    "\"Average Salary (Rupees)\"))\n"
   ]
  },
  {
   "cell_type": "code",
   "execution_count": 206,
   "metadata": {
    "collapsed": false
   },
   "outputs": [
    {
     "name": "stdout",
     "output_type": "stream",
     "text": [
      "12747\n",
      "7005\n",
      "6469\n",
      "5063\n",
      "5051\n",
      "4036\n",
      "['Delhi' 'Mumbai' 'Chennai' 'Hyderabad' 'Bangalore' 'Kolkata' 'Jaipur'\n",
      " 'Pune']\n",
      "[ 751210.0281      412820.7615      381233.0487      298374.2349\n",
      "  297667.0473      237850.7628        9454.54545455   13800.        ]\n"
     ]
    },
    {
     "data": {
      "text/plain": [
       "([<matplotlib.axis.YTick at 0x10f3c9be0>,\n",
       "  <matplotlib.axis.YTick at 0x10f4b6438>,\n",
       "  <matplotlib.axis.YTick at 0x102499438>,\n",
       "  <matplotlib.axis.YTick at 0x10f5f46d8>,\n",
       "  <matplotlib.axis.YTick at 0x10f5fe1d0>,\n",
       "  <matplotlib.axis.YTick at 0x10f5fec88>,\n",
       "  <matplotlib.axis.YTick at 0x10f602780>,\n",
       "  <matplotlib.axis.YTick at 0x10f607278>],\n",
       " <a list of 8 Text yticklabel objects>)"
      ]
     },
     "execution_count": 206,
     "metadata": {},
     "output_type": "execute_result"
    },
    {
     "data": {
      "image/png": "[encoded data removed]",
      "text/plain": [
       "<matplotlib.figure.Figure at 0x10df5fb70>"
      ]
     },
     "metadata": {},
     "output_type": "display_data"
    }
   ],
   "source": [
    "#Table Source: https://www.brookings.edu/wp-content/uploads/2015/01/bmpp_GMM_final.pdf\n",
    "#Asking the students to do at least part of this themselves will be a cool example of how cleaning data is important too\n",
    "city_gdp = Table().read_table(\"city_gdp.csv\")\n",
    "city_gdp = city_gdp.drop(0).drop(1).drop(1)\n",
    "np.append(city_gdp.column(0), [\"Jaipur\", \"Pune\"])\n",
    "#np.append(city_gdp.column(1), )\n",
    "#Source for Jaipur/Pune GDP: https://www.brookings.edu/research/global-metro-monitor/\n",
    "#Jaipur GDP (PPP adjusted): $31.2 b\n",
    "#Jaipur Pop: http://indiapopulation2017.in/population-of-jaipur-2017.html, 3.30m\n",
    "#Pune GDP: $69b\n",
    "#Pune Pop: http://indiapopulation2017.in/population-of-pune-2017.html 5m\n",
    "jp_gdp = np.array([31200000000, 69000000000])\n",
    "jp_pop = np.array([3300000, 5000000])\n",
    "#GDP Per Capita is calculated by dividing GDP per person\n",
    "def gdp_per_capita(gdp, pop):\n",
    "    data = np.array([])\n",
    "    for i in np.arange(0, 2):\n",
    "        data = np.append(data, gdp[i] / pop[i])\n",
    "    return data\n",
    "per_capita = gdp_per_capita(jp_gdp, jp_pop)\n",
    "jp = np.array([\"Jaipur\", \"Pune\"])\n",
    "def convert_dollars(arr):\n",
    "    converted = np.array([])\n",
    "    for i in arr:\n",
    "        i = i.replace(\"$\",\"\").replace(\",\", \"\")\n",
    "        print(i)\n",
    "        converted = np.append(i, converted)\n",
    "    converted = converted.astype(np.int)[::-1] #Array was coming out reversed\n",
    "    return converted * 58.9323\n",
    "#Exchange rate: https://www.poundsterlinglive.com/best-exchange-rates/us-dollar-to-indian-rupee-exchange-rate-on-2014-05-29\n",
    "gdp_rupees = np.append(convert_dollars(city_gdp.column(1)), per_capita)\n",
    "#Combine the column of GDP in rupees w/Jaipur and Pune's GDPs\n",
    "cities = np.append(city_gdp.column(0), jp)\n",
    "print(cities)\n",
    "print(gdp_rupees)\n",
    "cleaned = Table().with_columns(\"City\", cities, \"GDP per capita\", gdp_rupees).sort(1, descending = True)\n",
    "#cleaned.bar(\"City\")\n",
    "plt.barh(np.arange(cleaned.num_rows), cleaned.column(1))\n",
    "plt.yticks(np.arange(cleaned.num_rows), cleaned.column(0))\n"
   ]
  },
  {
   "cell_type": "code",
   "execution_count": 72,
   "metadata": {
    "collapsed": false
   },
   "outputs": [
    {
     "data": {
      "text/html": [
       "<table border=\"1\" class=\"dataframe\">\n",
       "    <thead>\n",
       "        <tr>\n",
       "            <th>JobCity</th> <th>CollegeState</th> <th>JobState</th>\n",
       "        </tr>\n",
       "    </thead>\n",
       "    <tbody>\n",
       "        <tr>\n",
       "            <td>Gurgaon  </td> <td>Punjab       </td> <td>Karnataka    </td>\n",
       "        </tr>\n",
       "    </tbody>\n",
       "        <tr>\n",
       "            <td>Bangalore</td> <td>Karnataka    </td> <td>Telangana    </td>\n",
       "        </tr>\n",
       "    </tbody>\n",
       "        <tr>\n",
       "            <td>Mumbai   </td> <td>Uttar Pradesh</td> <td>Haryana      </td>\n",
       "        </tr>\n",
       "    </tbody>\n",
       "        <tr>\n",
       "            <td>Bangalore</td> <td>Karnataka    </td> <td>Rajasthan    </td>\n",
       "        </tr>\n",
       "    </tbody>\n",
       "        <tr>\n",
       "            <td>Noida    </td> <td>Rajasthan    </td> <td>Uttar Pradesh</td>\n",
       "        </tr>\n",
       "    </tbody>\n",
       "        <tr>\n",
       "            <td>Hyderabad</td> <td>Telangana    </td> <td>Rajasthan    </td>\n",
       "        </tr>\n",
       "    </tbody>\n",
       "        <tr>\n",
       "            <td>Bangalore</td> <td>Karnataka    </td> <td>Telangana    </td>\n",
       "        </tr>\n",
       "    </tbody>\n",
       "        <tr>\n",
       "            <td>Noida    </td> <td>Uttarakhand  </td> <td>Rajasthan    </td>\n",
       "        </tr>\n",
       "    </tbody>\n",
       "        <tr>\n",
       "            <td>Bangalore</td> <td>Haryana      </td> <td>Haryana      </td>\n",
       "        </tr>\n",
       "    </tbody>\n",
       "        <tr>\n",
       "            <td>Noida    </td> <td>Uttar Pradesh</td> <td>Kerala       </td>\n",
       "        </tr>\n",
       "    </tbody>\n",
       "        <tr>\n",
       "            <td>Bangalore</td> <td>Uttar Pradesh</td> <td>Telangana    </td>\n",
       "        </tr>\n",
       "    </tbody>\n",
       "        <tr>\n",
       "            <td>Chennai  </td> <td>Orissa       </td> <td>Karnataka    </td>\n",
       "        </tr>\n",
       "    </tbody>\n",
       "</table>"
      ],
      "text/plain": [
       "<IPython.core.display.HTML object>"
      ]
     },
     "metadata": {},
     "output_type": "display_data"
    }
   ],
   "source": [
    "#Don't re-run this\n",
    "salaries.select(\"JobCity\", \"CollegeState\").take(random.sample(range(0, salaries.num_rows), 12)).with_column(\n",
    "    \"JobState\", np.array([\"Karnataka\", \"Telangana\", \"Haryana\", \"Rajasthan\", \"Uttar Pradesh\",\n",
    "                                      \"Rajasthan\", \"Telangana\", \"Rajasthan\", \"Haryana\", \"Kerala\", \"Telangana\",\n",
    "                                      \"Karnataka\"])).show()"
   ]
  },
  {
   "cell_type": "code",
   "execution_count": null,
   "metadata": {
    "collapsed": true
   },
   "outputs": [],
   "source": []
  }
 ],
 "metadata": {
  "kernelspec": {
   "display_name": "Python 3",
   "language": "python",
   "name": "python3"
  },
  "language_info": {
   "codemirror_mode": {
    "name": "ipython",
    "version": 3
   },
   "file_extension": ".py",
   "mimetype": "text/x-python",
   "name": "python",
   "nbconvert_exporter": "python",
   "pygments_lexer": "ipython3",
   "version": "3.6.0"
  }
 },
 "nbformat": 4,
 "nbformat_minor": 2
}
