{
 "cells": [
  {
   "cell_type": "markdown",
   "metadata": {
    "deletable": true,
    "editable": true
   },
   "source": [
    "<img src=\"../dsi.png\" style=\"height:128px;\">"
   ]
  },
  {
   "cell_type": "markdown",
   "metadata": {
    "deletable": true,
    "editable": true
   },
   "source": [
    "# Lesson 10: Case Study"
   ]
  },
  {
   "cell_type": "markdown",
   "metadata": {
    "deletable": true,
    "editable": true
   },
   "source": [
    "You’ve learned a lot about data science in this course! Now, you’ll get the chance to go over the topics we covered while analyzing real-world data. We’re going to be looking at some data about engineers in India from the Aspiring Minds Employability Outcomes Survey (http://research.aspiringminds.com/resources/#ameo). This dataset contains information about their salaries, positions, academic performance, and much more!\n"
   ]
  },
  {
   "cell_type": "code",
   "execution_count": null,
   "metadata": {
    "collapsed": true,
    "deletable": true,
    "editable": true
   },
   "outputs": [],
   "source": [
    "import numpy as np\n",
    "from datascience import *\n",
    "from matplotlib import pyplot as plt\n",
    "import random\n",
    "%matplotlib inline\n",
    "plt.style.use('fivethirtyeight')"
   ]
  },
  {
   "cell_type": "markdown",
   "metadata": {
    "deletable": true,
    "editable": true
   },
   "source": [
    "The main table we're going to be using for this analysis is going to be called `salaries`"
   ]
  },
  {
   "cell_type": "code",
   "execution_count": null,
   "metadata": {
    "collapsed": false,
    "deletable": true,
    "editable": true
   },
   "outputs": [],
   "source": [
    "salaries = Table().read_table(\"engineering_data.csv\").drop(0).where(\"JobCity\", are.not_equal_to(\"-1\"))"
   ]
  },
  {
   "cell_type": "markdown",
   "metadata": {
    "deletable": true,
    "editable": true
   },
   "source": [
    "## Question 1: Warm-Up"
   ]
  },
  {
   "cell_type": "markdown",
   "metadata": {
    "collapsed": false,
    "deletable": true,
    "editable": true
   },
   "source": [
    "Let's take a look at our table of salaries and answer a couple of questions."
   ]
  },
  {
   "cell_type": "code",
   "execution_count": null,
   "metadata": {
    "collapsed": false,
    "deletable": true,
    "editable": true
   },
   "outputs": [],
   "source": [
    "salaries"
   ]
  },
  {
   "cell_type": "markdown",
   "metadata": {
    "collapsed": false,
    "deletable": true,
    "editable": true
   },
   "source": [
    "**A.** Was this a randomized controlled experiment or experimental study? Why?\n"
   ]
  },
  {
   "cell_type": "markdown",
   "metadata": {
    "deletable": true,
    "editable": true
   },
   "source": [
    "**Answer (double click this cell to edit):**"
   ]
  },
  {
   "cell_type": "markdown",
   "metadata": {
    "deletable": true,
    "editable": true
   },
   "source": [
    "**B.** Does this dataset describe a sample or a population? Why?"
   ]
  },
  {
   "cell_type": "markdown",
   "metadata": {
    "collapsed": true,
    "deletable": true,
    "editable": true
   },
   "source": [
    "**Answer:**"
   ]
  },
  {
   "cell_type": "markdown",
   "metadata": {
    "deletable": true,
    "editable": true
   },
   "source": [
    "**C.** Calculate the average salary of all the graduates. _Hint: Is there a numpy function that you can use?_"
   ]
  },
  {
   "cell_type": "code",
   "execution_count": null,
   "metadata": {
    "collapsed": false
   },
   "outputs": [],
   "source": [
    "\"***YOUR CODE HERE***\""
   ]
  },
  {
   "cell_type": "markdown",
   "metadata": {
    "deletable": true,
    "editable": true
   },
   "source": [
    "**D.** Calculate the standard deviation of the salaries (it’s okay if you leave your answer in square-root form). To do this, first define a function that calculates the standard deviation of an input array."
   ]
  },
  {
   "cell_type": "code",
   "execution_count": null,
   "metadata": {
    "collapsed": false
   },
   "outputs": [],
   "source": [
    "\"***YOUR CODE HERE***\""
   ]
  },
  {
   "cell_type": "markdown",
   "metadata": {
    "deletable": true,
    "editable": true
   },
   "source": [
    "## Question 2: Tables and Probability"
   ]
  },
  {
   "cell_type": "markdown",
   "metadata": {
    "deletable": true,
    "editable": true
   },
   "source": [
    "Now, let's take a deeper look at this dataset."
   ]
  },
  {
   "cell_type": "markdown",
   "metadata": {
    "deletable": true,
    "editable": true
   },
   "source": [
    "**A.** We want to look at where people choose to work after they go to college. From `salaries`, create a two-column table `job_cities` with one column for job locations, and another column for college locations."
   ]
  },
  {
   "cell_type": "code",
   "execution_count": null,
   "metadata": {
    "collapsed": false,
    "deletable": true,
    "editable": true
   },
   "outputs": [],
   "source": [
    "# Don't re-run this\n",
    "job_cities = salaries.select(\"JobCity\", \"CollegeState\")\n",
    "job_cities"
   ]
  },
  {
   "cell_type": "markdown",
   "metadata": {
    "deletable": true,
    "editable": true
   },
   "source": [
    "**B.** In the above table, we have cities in one column and states in the other, so it's hard to see which rows match up. To help us, let's import the table of data from the 500 largest cities in India. Run the cell below."
   ]
  },
  {
   "cell_type": "code",
   "execution_count": null,
   "metadata": {
    "collapsed": false,
    "deletable": true,
    "editable": true
   },
   "outputs": [],
   "source": [
    "cities = Table().read_table(\"cities.csv\")\n",
    "states = cities.column(\"state_name\")\n",
    "state_lst = list(states)\n",
    "processed_states = [s.title() for s in state_lst]\n",
    "cities = cities.drop(\"state_name\").with_column(\"state\", processed_states)\n",
    "cities.show()"
   ]
  },
  {
   "cell_type": "markdown",
   "metadata": {
    "deletable": true,
    "editable": true
   },
   "source": [
    "Create a new table `states`, by joining this table with our `job_cities` table. In your `states` table you should get rid of all of the irrelevant columns – we only want two columns, and they should both contain names of states."
   ]
  },
  {
   "cell_type": "code",
   "execution_count": null,
   "metadata": {
    "collapsed": false,
    "deletable": true,
    "editable": true
   },
   "outputs": [],
   "source": [
    "states = job_cities.join(..., ..., ...).select(..., ...)\n",
    "states"
   ]
  },
  {
   "cell_type": "markdown",
   "metadata": {
    "deletable": true,
    "editable": true
   },
   "source": [
    "**C.** The `states` table above shows us the states in which people went to college and the states where they are working. Calculate the probability that someone went to college and got their job in the same state.\n"
   ]
  },
  {
   "cell_type": "code",
   "execution_count": null,
   "metadata": {
    "collapsed": false,
    "deletable": true,
    "editable": true
   },
   "outputs": [],
   "source": [
    "total = states.num_rows\n",
    "college_state = ...\n",
    "state = ...\n",
    "count = 0\n",
    "for i in range(len(college_state)):\n",
    "    if ...:\n",
    "        count += 1\n",
    "        \n",
    "prob_same_state = count / total\n",
    "prob_same_state"
   ]
  },
  {
   "cell_type": "markdown",
   "metadata": {
    "deletable": true,
    "editable": true
   },
   "source": [
    "**D.** Use the Complement Rule to find the probability that someone is working in a state different from where they went to college.\n"
   ]
  },
  {
   "cell_type": "code",
   "execution_count": null,
   "metadata": {
    "collapsed": false,
    "deletable": true,
    "editable": true
   },
   "outputs": [],
   "source": [
    "prob_different_state = ...\n",
    "prob_different_state"
   ]
  },
  {
   "cell_type": "markdown",
   "metadata": {
    "deletable": true,
    "editable": true
   },
   "source": [
    "Now, let us consider the `city_jobs` table, defined below."
   ]
  },
  {
   "cell_type": "code",
   "execution_count": null,
   "metadata": {
    "collapsed": false,
    "deletable": true,
    "editable": true
   },
   "outputs": [],
   "source": [
    "city_jobs = salaries.group(\"JobCity\").sort(\"count\", descending = True)\n",
    "averaged = salaries.group(\"JobCity\", np.mean).where(\"JobCity\", are.contained_in(city_jobs.column(0))).column(\"Salary mean\")\n",
    "city_jobs = city_jobs.with_column(\"Average Salary (Rupees)\", averaged)\n",
    "city_jobs"
   ]
  },
  {
   "cell_type": "markdown",
   "metadata": {
    "deletable": true,
    "editable": true
   },
   "source": [
    "**E.** Using the `city_jobs` table above, find the probability that someone works in Bangalore. _Hint: np.sum(x) finds the sum of array `x`._"
   ]
  },
  {
   "cell_type": "code",
   "execution_count": null,
   "metadata": {
    "collapsed": false
   },
   "outputs": [],
   "source": [
    "prob_works_banglore = ...\n",
    "prob_works_banglore"
   ]
  },
  {
   "cell_type": "markdown",
   "metadata": {},
   "source": [
    "**F.** Using the same table, calculate the probability that someone is from either New Delhi or Hyderabad. It may be easier to do this question by looking at the table rather than writing code... either way is fine."
   ]
  },
  {
   "cell_type": "code",
   "execution_count": null,
   "metadata": {
    "collapsed": true
   },
   "outputs": [],
   "source": [
    "prob_banglore_or_delhi = ...\n",
    "prob_banglore_or_delhi = "
   ]
  },
  {
   "cell_type": "markdown",
   "metadata": {
    "deletable": true,
    "editable": true
   },
   "source": [
    "**G.** Let's look at the GDP per capita (economic output per person) of a couple cities in India. "
   ]
  },
  {
   "cell_type": "code",
   "execution_count": null,
   "metadata": {
    "collapsed": false,
    "deletable": true,
    "editable": true
   },
   "outputs": [],
   "source": [
    "# Table Source: https://www.brookings.edu/wp-content/uploads/2015/01/bmpp_GMM_final.pdf\n",
    "city_gdp = Table().read_table(\"city_gdp.csv\")\n",
    "city_gdp = city_gdp.drop(0).drop(1).drop(1)\n",
    "city_gdp"
   ]
  },
  {
   "cell_type": "markdown",
   "metadata": {
    "deletable": true,
    "editable": true
   },
   "source": [
    "**H.** Fill in the code below to convert the values in the second column of `city_gdp` from strings to integers, and then display the data as a bar graph."
   ]
  },
  {
   "cell_type": "code",
   "execution_count": null,
   "metadata": {
    "collapsed": false,
    "deletable": true,
    "editable": true
   },
   "outputs": [],
   "source": [
    "# Table Source: https://www.brookings.edu/wp-content/uploads/2015/01/bmpp_GMM_final.pdf\n",
    "# Exchange rate: https://www.poundsterlinglive.com/best-exchange-rates/us-dollar-to-indian-rupee-exchange-rate-on-2014-05-29\n",
    "\n",
    "def clean_and_convert(arr):\n",
    "    converted = np.array([])\n",
    "    for i in arr:\n",
    "        val = int(i.replace(..., ...).replace(..., ...))\n",
    "        converted = np.append(..., ...)\n",
    "    return (converted * 58.9323) / 1000                # Converting from USD to thousands of INR\n",
    "\n",
    "gdp_rupees = clean_and_convert(city_gdp.column(1))\n",
    "cleaned = Table().with_columns(\"City\", city_gdp.column(0), \"GDP per capita (Thousands of Rupees)\", gdp_rupees).sort(1, descending = True)\n",
    "cleaned.barh(...)"
   ]
  },
  {
   "cell_type": "markdown",
   "metadata": {
    "deletable": true,
    "editable": true
   },
   "source": [
    "**J.** Do you think that if the survey had more respondents, would the distribution of average salaries look more like the graph of GDP per capita? Why or why not?\n"
   ]
  },
  {
   "cell_type": "markdown",
   "metadata": {
    "collapsed": true,
    "deletable": true,
    "editable": true
   },
   "source": [
    "**Answer:**"
   ]
  },
  {
   "cell_type": "markdown",
   "metadata": {
    "deletable": true,
    "editable": true
   },
   "source": [
    "## Question 3: Correlation and Regression Questions"
   ]
  },
  {
   "cell_type": "markdown",
   "metadata": {
    "deletable": true,
    "editable": true
   },
   "source": [
    "**A.** Write a function that takes in an array and outputs the array converted to standard units."
   ]
  },
  {
   "cell_type": "code",
   "execution_count": null,
   "metadata": {
    "collapsed": true,
    "deletable": true,
    "editable": true
   },
   "outputs": [],
   "source": [
    "def standard_units(values):\n",
    "    \"***YOUR CODE HERE***\"\n",
    "    \n",
    "    return (values - np.mean(values))/np.std(values)"
   ]
  },
  {
   "cell_type": "markdown",
   "metadata": {
    "deletable": true,
    "editable": true
   },
   "source": [
    "**B.** Write a function that takes in two arrays and returns the correlation coefficient between them. It may help to review the definition of $r$ before preceeding. _Hint: There's a reason part B is coming after part A!_"
   ]
  },
  {
   "cell_type": "code",
   "execution_count": null,
   "metadata": {
    "collapsed": true,
    "deletable": true,
    "editable": true
   },
   "outputs": [],
   "source": [
    "def correlation(x, y):\n",
    "    \"***YOUR CODE HERE***\"\n",
    "    \n",
    "    return np.mean(standard_units(x) * standard_units(y))"
   ]
  },
  {
   "cell_type": "markdown",
   "metadata": {
    "deletable": true,
    "editable": true
   },
   "source": [
    "**C.** The graduates took the AMCAT, an exam that assesses skills required for certain professions."
   ]
  },
  {
   "cell_type": "code",
   "execution_count": null,
   "metadata": {
    "collapsed": false
   },
   "outputs": [],
   "source": [
    "subjects = salaries.select(\"ComputerProgramming\", \"ElectronicsAndSemicon\", \"ComputerScience\", \"MechanicalEngg\", \"ElectricalEngg\", \"TelecomEngg\", \"CivilEngg\")\n",
    "subjects"
   ]
  },
  {
   "cell_type": "markdown",
   "metadata": {},
   "source": [
    "Calculate the correlation coefficient between exam scores on subject tests and salaries. "
   ]
  },
  {
   "cell_type": "code",
   "execution_count": null,
   "metadata": {
    "collapsed": false,
    "deletable": true,
    "editable": true
   },
   "outputs": [],
   "source": [
    "subject_names = np.array([\"ComputerProgramming\", \"ElectronicsAndSemicon\", \"ComputerScience\", \"MechanicalEngg\", \"ElectricalEngg\", \"TelecomEngg\", \"CivilEngg\"])\n",
    "    \n",
    "for subject_name in subject_names:\n",
    "    tbl = salaries.where(subject_name, are.not_equal_to(-1))\n",
    "    print(subject_name, \"r =\", correlation(salaries.column(subject_name), salaries.column(\"Salary\")))\n"
   ]
  },
  {
   "cell_type": "markdown",
   "metadata": {
    "collapsed": true,
    "deletable": true,
    "editable": true
   },
   "source": [
    "**D.** Make scatter plots of the profession with the highest and lowest correlation to the salary. Is this what you expect?"
   ]
  },
  {
   "cell_type": "code",
   "execution_count": null,
   "metadata": {
    "collapsed": false,
    "deletable": true,
    "editable": true
   },
   "outputs": [],
   "source": [
    "\"***YOUR CODE HERE***\""
   ]
  },
  {
   "cell_type": "markdown",
   "metadata": {
    "deletable": true,
    "editable": true
   },
   "source": [
    "**E.** Would we use linear regression here? Why or why not??\n"
   ]
  },
  {
   "cell_type": "markdown",
   "metadata": {},
   "source": [
    "**Answer:**"
   ]
  },
  {
   "cell_type": "markdown",
   "metadata": {
    "deletable": true,
    "editable": true
   },
   "source": [
    "## Question 4: Correlation and Regression Implementation"
   ]
  },
  {
   "cell_type": "markdown",
   "metadata": {
    "collapsed": true,
    "deletable": true,
    "editable": true
   },
   "source": [
    "You've done a lot of questions thus far! Now, for something exciting. Here, we're going to be conducting our own analysis using linear regression on students' exam scores. Not only will we find the regression line, we're also going to use this *model* to predict how much someone might earn!\n"
   ]
  },
  {
   "cell_type": "markdown",
   "metadata": {
    "deletable": true,
    "editable": true
   },
   "source": [
    "Before we begin, let's just get this out of the way.\n"
   ]
  },
  {
   "cell_type": "markdown",
   "metadata": {
    "deletable": true,
    "editable": true
   },
   "source": [
    "**A.** Will getting higher marks on your exams *cause* you to earn more money?\n"
   ]
  },
  {
   "cell_type": "markdown",
   "metadata": {
    "collapsed": true,
    "deletable": true,
    "editable": true
   },
   "source": [
    "**Answer:**"
   ]
  },
  {
   "cell_type": "markdown",
   "metadata": {
    "deletable": true,
    "editable": true
   },
   "source": [
    "**B.** Let's take a look at the `salaries` table again. We're going to be plotting people's scores from their 12th grade board exams. We chose the 12th grade scores over 10th grade scores, as they've obviously picked up more relevant skills since then, and over college GPA because that takes into account courses that may not have to do with the subjects' careers. Here are the correlation coefficients for each factor."
   ]
  },
  {
   "cell_type": "markdown",
   "metadata": {
    "deletable": true,
    "editable": true
   },
   "source": [
    "*Class 10 CBSE Scores: 0.28*\n",
    "\n",
    "*Class 12 CBSE Scores: 0.29*\n",
    "\n",
    "*College GPA: 0.22*\n"
   ]
  },
  {
   "cell_type": "code",
   "execution_count": null,
   "metadata": {
    "collapsed": false,
    "deletable": true,
    "editable": true
   },
   "outputs": [],
   "source": [
    "salaries"
   ]
  },
  {
   "cell_type": "markdown",
   "metadata": {
    "deletable": true,
    "editable": true
   },
   "source": [
    "In addition to the column 12percentage, we also have a column called 12board, which contains information on whether or not a student took exams from their state board or the CBSE. We want to look at the exam which the most students took, so let's clean out our dataset.\n",
    "\n",
    "Create a table called salary_12, with columns Salary and 12percentage from the table. It should only contain entries where the subjects took the CBSE exams. Once you're done, run the next cell to make a scatter plot.\n",
    "\n"
   ]
  },
  {
   "cell_type": "code",
   "execution_count": null,
   "metadata": {
    "collapsed": true,
    "deletable": true,
    "editable": true
   },
   "outputs": [],
   "source": [
    "salary_12 = salaries.____(\"_____\", are.______(\"_______\"))._______(\"______\", \"________\")\n"
   ]
  },
  {
   "cell_type": "code",
   "execution_count": null,
   "metadata": {
    "collapsed": true,
    "deletable": true,
    "editable": true
   },
   "outputs": [],
   "source": [
    "salary_12.scatter(\"12percentage\", \"Salary\", fit_line=True)"
   ]
  },
  {
   "cell_type": "markdown",
   "metadata": {
    "deletable": true,
    "editable": true
   },
   "source": [
    "**C.** Great! Now that we have our table, it's time to calculate the regression line!\n",
    "\n",
    "For starters, calculate $r$, the correlation coefficient between 12percentage and salary.\n",
    "\n",
    "Hint: Make sure you use a function you defined in Question 3 of the case study.\n",
    "\n"
   ]
  },
  {
   "cell_type": "code",
   "execution_count": null,
   "metadata": {
    "collapsed": true,
    "deletable": true,
    "editable": true
   },
   "outputs": [],
   "source": [
    "r = "
   ]
  },
  {
   "cell_type": "markdown",
   "metadata": {
    "deletable": true,
    "editable": true
   },
   "source": [
    "Write the function values, which calculates the slope and intercept of the regression line. You can use NumPy functions for this.\n",
    "\n"
   ]
  },
  {
   "cell_type": "code",
   "execution_count": null,
   "metadata": {
    "collapsed": true,
    "deletable": true,
    "editable": true
   },
   "outputs": [],
   "source": [
    "def values(tbl, r, col_1, col_2):\n",
    "    m = \n",
    "    b = \n",
    "    return m, b\n",
    "line_vals = values(salary_12, r, \"12percentage\", \"Salary\")\n",
    "slope = line_vals[0]\n",
    "intercept = line_vals[1]\n",
    "\n",
    "print(\"Slope: \" + str(slope))\n",
    "print(\"Intercept: \" + str(intercept))\n"
   ]
  },
  {
   "cell_type": "markdown",
   "metadata": {
    "deletable": true,
    "editable": true
   },
   "source": [
    "**D.** Write a function, predict_salary, that takes in an array, a slope, and an intercept, and returns the predictions for the regression line. This should just take one line of code.\n",
    "\n"
   ]
  },
  {
   "cell_type": "code",
   "execution_count": null,
   "metadata": {
    "collapsed": false,
    "deletable": true,
    "editable": true
   },
   "outputs": [],
   "source": [
    "def predict_salary(values, m, b):\n",
    "    \"***YOUR CODE HERE***\"\n",
    "\n",
    "salary_predictions = predict_salary(test_data.column(\"12percentage\"), slope, intercept)"
   ]
  },
  {
   "cell_type": "markdown",
   "metadata": {
    "deletable": true,
    "editable": true
   },
   "source": [
    "**E.** Let's now see how good our predictions were. Create a new table, salary_comp, that adds the column of predictions to our salary_12 table.\n",
    "\n"
   ]
  },
  {
   "cell_type": "code",
   "execution_count": null,
   "metadata": {
    "collapsed": true,
    "deletable": true,
    "editable": true
   },
   "outputs": [],
   "source": [
    "salary_comp = salary_12.with_column(..., __________)"
   ]
  },
  {
   "cell_type": "markdown",
   "metadata": {
    "deletable": true,
    "editable": true
   },
   "source": [
    "Run the cell below to look at a scatter plot of salaries.\n",
    "\n"
   ]
  },
  {
   "cell_type": "code",
   "execution_count": null,
   "metadata": {
    "collapsed": true,
    "deletable": true,
    "editable": true
   },
   "outputs": [],
   "source": [
    "plt.scatter(salary_12.column(0), salary_12.column(1))\n",
    "plt.scatter(salary_12.column(0), salary_12.column(2))"
   ]
  },
  {
   "cell_type": "markdown",
   "metadata": {
    "deletable": true,
    "editable": true
   },
   "source": [
    "Write a function called rmse that allows us to find the root mean squared error of salary_predictions. It should take in two column names. Once you're done writing it, call it and see what happens!\n",
    "\n"
   ]
  },
  {
   "cell_type": "code",
   "execution_count": null,
   "metadata": {
    "collapsed": true,
    "deletable": true,
    "editable": true
   },
   "outputs": [],
   "source": [
    "def rmse(col_1, col_2):\n",
    "    # First, calculate the total squared error.\n",
    "    total_squared error = sum((salary_predictions.column(______) - ___________) ** 2)\n",
    "    return np.____(total_squared_error / ____.num_rows)\n",
    "rmse(______, \"_____\", \"_______\")\n"
   ]
  },
  {
   "cell_type": "markdown",
   "metadata": {
    "deletable": true,
    "editable": true
   },
   "source": [
    "**F.** In Lesson 9, we briefly discussed a method called least squares that allows us to minimize the squared error of our regression line. Now, we're actually going to use it. The datascience library contains a function called minimize, that takes in a function and gives us an array of the parameters that give us the lowest output of the function using the least squares method.\n",
    "\n"
   ]
  },
  {
   "cell_type": "markdown",
   "metadata": {
    "deletable": true,
    "editable": true
   },
   "source": [
    "Call `minimize` on `rmse` and print `min_slope` and `min_intercept`. How does it look like compared to your previous values?\n",
    "\n"
   ]
  },
  {
   "cell_type": "code",
   "execution_count": null,
   "metadata": {
    "collapsed": true,
    "deletable": true,
    "editable": true
   },
   "outputs": [],
   "source": [
    "minimized_params = \n",
    "min_slope = minimize_params[0]\n",
    "min_intercept = minimize_params[1]\n",
    "\n",
    "print(...)"
   ]
  },
  {
   "cell_type": "markdown",
   "metadata": {
    "deletable": true,
    "editable": true
   },
   "source": [
    "**G.** Predict salaries using your new values for the slope and intercept.\n",
    "\n"
   ]
  },
  {
   "cell_type": "code",
   "execution_count": null,
   "metadata": {
    "collapsed": true,
    "deletable": true,
    "editable": true
   },
   "outputs": [],
   "source": [
    "least_squares_predictions = \n"
   ]
  },
  {
   "cell_type": "markdown",
   "metadata": {
    "deletable": true,
    "editable": true
   },
   "source": [
    "Add this to your `salary_comp` table and plot the results."
   ]
  },
  {
   "cell_type": "code",
   "execution_count": null,
   "metadata": {
    "collapsed": true,
    "deletable": true,
    "editable": true
   },
   "outputs": [],
   "source": [
    "salary_comp = salary_comp.with_column(\"_______\", _______)\n"
   ]
  },
  {
   "cell_type": "markdown",
   "metadata": {
    "deletable": true,
    "editable": true
   },
   "source": [
    "**H.** Now, let's look at this table, called `test`. Are the salaries calculated here?\n",
    "\n"
   ]
  },
  {
   "cell_type": "code",
   "execution_count": null,
   "metadata": {
    "collapsed": false,
    "deletable": true,
    "editable": true
   },
   "outputs": [],
   "source": [
    "test = Table().read_table(\"engineering_salaries_test.csv\")\n",
    "test\n"
   ]
  },
  {
   "cell_type": "markdown",
   "metadata": {
    "deletable": true,
    "editable": true
   },
   "source": [
    "Filter out the table, predict the salaries, and plot the results. This is similar to something you've already done, just with different data!\n",
    "\n"
   ]
  },
  {
   "cell_type": "markdown",
   "metadata": {
    "deletable": true,
    "editable": true
   },
   "source": [
    "## Conclusion\n",
    "\n",
    "Although this table was specific to engineering graduates, you can try finding data for other professions online and doing an analysis just like this! Do you think it'll be similar or different for other professions? Why? Why not? You don't have to answer these questions, but definitely give them some thought. We hope you had fun applying your skills here and hope you're ready to do some more work with real data in the next session!\n",
    "\n"
   ]
  }
 ],
 "metadata": {
  "kernelspec": {
   "display_name": "Python 3",
   "language": "python",
   "name": "python3"
  },
  "language_info": {
   "codemirror_mode": {
    "name": "ipython",
    "version": 3
   },
   "file_extension": ".py",
   "mimetype": "text/x-python",
   "name": "python",
   "nbconvert_exporter": "python",
   "pygments_lexer": "ipython3",
   "version": "3.6.0"
  }
 },
 "nbformat": 4,
 "nbformat_minor": 2
}
