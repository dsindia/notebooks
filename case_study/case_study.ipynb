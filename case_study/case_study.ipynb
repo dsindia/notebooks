{
 "cells": [
  {
   "cell_type": "markdown",
   "metadata": {},
   "source": [
    "<img src=\"../dsi.png\" style=\"height:128px;\">"
   ]
  },
  {
   "cell_type": "markdown",
   "metadata": {},
   "source": [
    "# Lesson 10: Case Study"
   ]
  },
  {
   "cell_type": "markdown",
   "metadata": {},
   "source": [
    "You’ve learned a lot about data science in this course! Now, you’ll get the chance to go over the topics we covered while analyzing real-world data. We’re going to be looking at some data about engineers in India from the Aspiring Minds Employability Outcomes Survey (http://research.aspiringminds.com/resources/#ameo). This dataset contains information about their salaries, positions, academic performance, and much more!\n"
   ]
  },
  {
   "cell_type": "code",
   "execution_count": 8,
   "metadata": {
    "collapsed": true
   },
   "outputs": [],
   "source": [
    "import numpy as np\n",
    "from datascience import *\n",
    "from matplotlib import pyplot as plt\n",
    "import random\n",
    "%matplotlib inline\n",
    "plt.style.use('fivethirtyeight')"
   ]
  },
  {
   "cell_type": "markdown",
   "metadata": {},
   "source": [
    "The main table we're going to be using for this analysis is going to be called `salaries`"
   ]
  },
  {
   "cell_type": "code",
   "execution_count": 9,
   "metadata": {
    "collapsed": false
   },
   "outputs": [],
   "source": [
    "salaries = Table().read_table(\"engineering_data.csv\").drop(0).where(\"JobCity\", are.not_equal_to(\"-1\"))"
   ]
  },
  {
   "cell_type": "markdown",
   "metadata": {},
   "source": [
    "## Question 1: Warm-Up"
   ]
  },
  {
   "cell_type": "markdown",
   "metadata": {
    "collapsed": false
   },
   "source": [
    "Let's take a look at our table of salaries and answer a couple questions."
   ]
  },
  {
   "cell_type": "code",
   "execution_count": 15,
   "metadata": {
    "collapsed": false
   },
   "outputs": [
    {
     "data": {
      "text/html": [
       "<table border=\"1\" class=\"dataframe\">\n",
       "    <thead>\n",
       "        <tr>\n",
       "            <th>ID</th> <th>Salary</th> <th>DOJ</th> <th>DOL</th> <th>Designation</th> <th>JobCity</th> <th>Gender</th> <th>DOB</th> <th>10percentage</th> <th>10board</th> <th>12graduation</th> <th>12percentage</th> <th>12board</th> <th>CollegeID</th> <th>CollegeTier</th> <th>Degree</th> <th>Specialization</th> <th>collegeGPA</th> <th>CollegeCityID</th> <th>CollegeCityTier</th> <th>CollegeState</th> <th>GraduationYear</th> <th>English</th> <th>Logical</th> <th>Quant</th> <th>Domain</th> <th>ComputerProgramming</th> <th>ElectronicsAndSemicon</th> <th>ComputerScience</th> <th>MechanicalEngg</th> <th>ElectricalEngg</th> <th>TelecomEngg</th> <th>CivilEngg</th> <th>conscientiousness</th> <th>agreeableness</th> <th>extraversion</th> <th>nueroticism</th> <th>openess_to_experience</th>\n",
       "        </tr>\n",
       "    </thead>\n",
       "    <tbody>\n",
       "        <tr>\n",
       "            <td>203097 </td> <td>420000 </td> <td>6/1/12 0:00</td> <td>present    </td> <td>senior quality engineer </td> <td>Bangalore</td> <td>f     </td> <td>2/19/90 0:00</td> <td>84.3        </td> <td>board ofsecondary education,ap</td> <td>2007        </td> <td>95.8        </td> <td>board of intermediate education,ap</td> <td>1141     </td> <td>2          </td> <td>B.Tech/B.E.</td> <td>computer engineering                     </td> <td>78        </td> <td>1141         </td> <td>0              </td> <td>Andhra Pradesh</td> <td>2011          </td> <td>515    </td> <td>585    </td> <td>525  </td> <td>0.635979</td> <td>445                </td> <td>-1                   </td> <td>-1             </td> <td>-1            </td> <td>-1            </td> <td>-1         </td> <td>-1       </td> <td>0.9737           </td> <td>0.8128       </td> <td>0.5269      </td> <td>1.3549     </td> <td>-0.4455              </td>\n",
       "        </tr>\n",
       "    </tbody>\n",
       "        <tr>\n",
       "            <td>579905 </td> <td>500000 </td> <td>9/1/13 0:00</td> <td>present    </td> <td>assistant manager       </td> <td>Indore   </td> <td>m     </td> <td>10/4/89 0:00</td> <td>85.4        </td> <td>cbse                          </td> <td>2007        </td> <td>85          </td> <td>cbse                              </td> <td>5807     </td> <td>2          </td> <td>B.Tech/B.E.</td> <td>electronics and communication engineering</td> <td>70.06     </td> <td>5807         </td> <td>0              </td> <td>Madhya Pradesh</td> <td>2012          </td> <td>695    </td> <td>610    </td> <td>780  </td> <td>0.960603</td> <td>-1                 </td> <td>466                  </td> <td>-1             </td> <td>-1            </td> <td>-1            </td> <td>-1         </td> <td>-1       </td> <td>-0.7335          </td> <td>0.3789       </td> <td>1.2396      </td> <td>-0.1076    </td> <td>0.8637               </td>\n",
       "        </tr>\n",
       "    </tbody>\n",
       "        <tr>\n",
       "            <td>810601 </td> <td>325000 </td> <td>6/1/14 0:00</td> <td>present    </td> <td>systems engineer        </td> <td>Chennai  </td> <td>f     </td> <td>8/3/92 0:00 </td> <td>85          </td> <td>cbse                          </td> <td>2010        </td> <td>68.2        </td> <td>cbse                              </td> <td>64       </td> <td>2          </td> <td>B.Tech/B.E.</td> <td>information technology                   </td> <td>70        </td> <td>64           </td> <td>0              </td> <td>Uttar Pradesh </td> <td>2014          </td> <td>615    </td> <td>545    </td> <td>370  </td> <td>0.450877</td> <td>395                </td> <td>-1                   </td> <td>-1             </td> <td>-1            </td> <td>-1            </td> <td>-1         </td> <td>-1       </td> <td>0.2718           </td> <td>1.7109       </td> <td>0.1637      </td> <td>-0.8682    </td> <td>0.6721               </td>\n",
       "        </tr>\n",
       "    </tbody>\n",
       "        <tr>\n",
       "            <td>267447 </td> <td>1100000</td> <td>7/1/11 0:00</td> <td>present    </td> <td>senior software engineer</td> <td>Gurgaon  </td> <td>m     </td> <td>12/5/89 0:00</td> <td>85.6        </td> <td>cbse                          </td> <td>2007        </td> <td>83.6        </td> <td>cbse                              </td> <td>6920     </td> <td>1          </td> <td>B.Tech/B.E.</td> <td>computer engineering                     </td> <td>74.64     </td> <td>6920         </td> <td>1              </td> <td>New Delhi     </td> <td>2011          </td> <td>635    </td> <td>585    </td> <td>625  </td> <td>0.974396</td> <td>615                </td> <td>-1                   </td> <td>-1             </td> <td>-1            </td> <td>-1            </td> <td>-1         </td> <td>-1       </td> <td>0.0464           </td> <td>0.3448       </td> <td>-0.344      </td> <td>-0.4078    </td> <td>-0.9194              </td>\n",
       "        </tr>\n",
       "    </tbody>\n",
       "        <tr>\n",
       "            <td>343523 </td> <td>200000 </td> <td>3/1/14 0:00</td> <td>3/1/15 0:00</td> <td>get                     </td> <td>Manesar  </td> <td>m     </td> <td>2/27/91 0:00</td> <td>78          </td> <td>cbse                          </td> <td>2008        </td> <td>76.8        </td> <td>cbse                              </td> <td>11368    </td> <td>2          </td> <td>B.Tech/B.E.</td> <td>electronics and communication engineering</td> <td>73.9      </td> <td>11368        </td> <td>0              </td> <td>Uttar Pradesh </td> <td>2012          </td> <td>545    </td> <td>625    </td> <td>465  </td> <td>0.124502</td> <td>-1                 </td> <td>233                  </td> <td>-1             </td> <td>-1            </td> <td>-1            </td> <td>-1         </td> <td>-1       </td> <td>-0.881           </td> <td>-0.2793      </td> <td>-1.0697     </td> <td>0.09163    </td> <td>-0.1295              </td>\n",
       "        </tr>\n",
       "    </tbody>\n",
       "        <tr>\n",
       "            <td>1027655</td> <td>300000 </td> <td>6/1/14 0:00</td> <td>present    </td> <td>system engineer         </td> <td>Hyderabad</td> <td>m     </td> <td>7/2/92 0:00 </td> <td>89.92       </td> <td>state board                   </td> <td>2010        </td> <td>87          </td> <td>state board                       </td> <td>5086     </td> <td>2          </td> <td>B.Tech/B.E.</td> <td>electronics and communication engineering</td> <td>76.32     </td> <td>5086         </td> <td>0              </td> <td>Karnataka     </td> <td>2014          </td> <td>560    </td> <td>555    </td> <td>620  </td> <td>-1      </td> <td>645                </td> <td>-1                   </td> <td>407            </td> <td>-1            </td> <td>-1            </td> <td>-1         </td> <td>-1       </td> <td>-0.3027          </td> <td>-0.6201      </td> <td>-2.2954     </td> <td>-0.7415    </td> <td>-0.8608              </td>\n",
       "        </tr>\n",
       "    </tbody>\n",
       "        <tr>\n",
       "            <td>947847 </td> <td>300000 </td> <td>8/1/14 0:00</td> <td>5/1/15 0:00</td> <td>java software engineer  </td> <td>Banglore </td> <td>m     </td> <td>2/1/93 0:00 </td> <td>86.08       </td> <td>state board                   </td> <td>2010        </td> <td>67.5        </td> <td>state board                       </td> <td>314      </td> <td>2          </td> <td>B.Tech/B.E.</td> <td>computer science & engineering           </td> <td>72.98     </td> <td>314          </td> <td>1              </td> <td>Karnataka     </td> <td>2014          </td> <td>590    </td> <td>435    </td> <td>380  </td> <td>0.356536</td> <td>405                </td> <td>-1                   </td> <td>346            </td> <td>-1            </td> <td>-1            </td> <td>-1         </td> <td>-1       </td> <td>1.7081           </td> <td>-0.1054      </td> <td>-1.0379     </td> <td>-2.0092    </td> <td>-1.0872              </td>\n",
       "        </tr>\n",
       "    </tbody>\n",
       "        <tr>\n",
       "            <td>912934 </td> <td>400000 </td> <td>7/1/14 0:00</td> <td>7/1/15 0:00</td> <td>mechanical engineer     </td> <td>Bangalore</td> <td>m     </td> <td>5/27/92 0:00</td> <td>92          </td> <td>cbse                          </td> <td>2010        </td> <td>91          </td> <td>cbse                              </td> <td>1757     </td> <td>1          </td> <td>B.Tech/B.E.</td> <td>mechanical engineering                   </td> <td>8.58      </td> <td>1757         </td> <td>0              </td> <td>Tamil Nadu    </td> <td>2016          </td> <td>545    </td> <td>555    </td> <td>590  </td> <td>0.829585</td> <td>-1                 </td> <td>-1                   </td> <td>-1             </td> <td>469           </td> <td>-1            </td> <td>-1         </td> <td>-1       </td> <td>-0.0154          </td> <td>1.2114       </td> <td>0.01        </td> <td>0.1459     </td> <td>1.247                </td>\n",
       "        </tr>\n",
       "    </tbody>\n",
       "        <tr>\n",
       "            <td>552574 </td> <td>600000 </td> <td>7/1/13 0:00</td> <td>present    </td> <td>electrical engineer     </td> <td>Noida    </td> <td>m     </td> <td>9/17/91 0:00</td> <td>90          </td> <td>cbse                          </td> <td>2009        </td> <td>91.2        </td> <td>cbse                              </td> <td>13       </td> <td>1          </td> <td>B.Tech/B.E.</td> <td>electronics and electrical engineering   </td> <td>85.03     </td> <td>13           </td> <td>1              </td> <td>New Delhi     </td> <td>2013          </td> <td>615    </td> <td>670    </td> <td>530  </td> <td>0.694479</td> <td>735                </td> <td>366                  </td> <td>-1             </td> <td>-1            </td> <td>-1            </td> <td>-1         </td> <td>-1       </td> <td>-0.159           </td> <td>0.5454       </td> <td>-0.6048     </td> <td>-0.7415    </td> <td>-0.2859              </td>\n",
       "        </tr>\n",
       "    </tbody>\n",
       "        <tr>\n",
       "            <td>1203363</td> <td>230000 </td> <td>7/1/14 0:00</td> <td>present    </td> <td>project engineer        </td> <td>Kolkata  </td> <td>m     </td> <td>6/13/93 0:00</td> <td>77          </td> <td>cbse                          </td> <td>2010        </td> <td>72.2        </td> <td>cbse                              </td> <td>8640     </td> <td>2          </td> <td>B.Tech/B.E.</td> <td>electronics and communication engineering</td> <td>78        </td> <td>8640         </td> <td>1              </td> <td>West Bengal   </td> <td>2014          </td> <td>605    </td> <td>565    </td> <td>545  </td> <td>0.493596</td> <td>385                </td> <td>324                  </td> <td>-1             </td> <td>-1            </td> <td>-1            </td> <td>-1         </td> <td>-1       </td> <td>-1.308           </td> <td>0.5454       </td> <td>-0.9122     </td> <td>0.9066     </td> <td>0.0973               </td>\n",
       "        </tr>\n",
       "    </tbody>\n",
       "</table>\n",
       "<p>... (3527 rows omitted)</p"
      ],
      "text/plain": [
       "ID      | Salary  | DOJ         | DOL         | Designation              | JobCity   | Gender | DOB          | 10percentage | 10board                        | 12graduation | 12percentage | 12board                            | CollegeID | CollegeTier | Degree      | Specialization                            | collegeGPA | CollegeCityID | CollegeCityTier | CollegeState   | GraduationYear | English | Logical | Quant | Domain   | ComputerProgramming | ElectronicsAndSemicon | ComputerScience | MechanicalEngg | ElectricalEngg | TelecomEngg | CivilEngg | conscientiousness | agreeableness | extraversion | nueroticism | openess_to_experience\n",
       "203097  | 420000  | 6/1/12 0:00 | present     | senior quality engineer  | Bangalore | f      | 2/19/90 0:00 | 84.3         | board ofsecondary education,ap | 2007         | 95.8         | board of intermediate education,ap | 1141      | 2           | B.Tech/B.E. | computer engineering                      | 78         | 1141          | 0               | Andhra Pradesh | 2011           | 515     | 585     | 525   | 0.635979 | 445                 | -1                    | -1              | -1             | -1             | -1          | -1        | 0.9737            | 0.8128        | 0.5269       | 1.3549      | -0.4455\n",
       "579905  | 500000  | 9/1/13 0:00 | present     | assistant manager        | Indore    | m      | 10/4/89 0:00 | 85.4         | cbse                           | 2007         | 85           | cbse                               | 5807      | 2           | B.Tech/B.E. | electronics and communication engineering | 70.06      | 5807          | 0               | Madhya Pradesh | 2012           | 695     | 610     | 780   | 0.960603 | -1                  | 466                   | -1              | -1             | -1             | -1          | -1        | -0.7335           | 0.3789        | 1.2396       | -0.1076     | 0.8637\n",
       "810601  | 325000  | 6/1/14 0:00 | present     | systems engineer         | Chennai   | f      | 8/3/92 0:00  | 85           | cbse                           | 2010         | 68.2         | cbse                               | 64        | 2           | B.Tech/B.E. | information technology                    | 70         | 64            | 0               | Uttar Pradesh  | 2014           | 615     | 545     | 370   | 0.450877 | 395                 | -1                    | -1              | -1             | -1             | -1          | -1        | 0.2718            | 1.7109        | 0.1637       | -0.8682     | 0.6721\n",
       "267447  | 1100000 | 7/1/11 0:00 | present     | senior software engineer | Gurgaon   | m      | 12/5/89 0:00 | 85.6         | cbse                           | 2007         | 83.6         | cbse                               | 6920      | 1           | B.Tech/B.E. | computer engineering                      | 74.64      | 6920          | 1               | New Delhi      | 2011           | 635     | 585     | 625   | 0.974396 | 615                 | -1                    | -1              | -1             | -1             | -1          | -1        | 0.0464            | 0.3448        | -0.344       | -0.4078     | -0.9194\n",
       "343523  | 200000  | 3/1/14 0:00 | 3/1/15 0:00 | get                      | Manesar   | m      | 2/27/91 0:00 | 78           | cbse                           | 2008         | 76.8         | cbse                               | 11368     | 2           | B.Tech/B.E. | electronics and communication engineering | 73.9       | 11368         | 0               | Uttar Pradesh  | 2012           | 545     | 625     | 465   | 0.124502 | -1                  | 233                   | -1              | -1             | -1             | -1          | -1        | -0.881            | -0.2793       | -1.0697      | 0.09163     | -0.1295\n",
       "1027655 | 300000  | 6/1/14 0:00 | present     | system engineer          | Hyderabad | m      | 7/2/92 0:00  | 89.92        | state board                    | 2010         | 87           | state board                        | 5086      | 2           | B.Tech/B.E. | electronics and communication engineering | 76.32      | 5086          | 0               | Karnataka      | 2014           | 560     | 555     | 620   | -1       | 645                 | -1                    | 407             | -1             | -1             | -1          | -1        | -0.3027           | -0.6201       | -2.2954      | -0.7415     | -0.8608\n",
       "947847  | 300000  | 8/1/14 0:00 | 5/1/15 0:00 | java software engineer   | Banglore  | m      | 2/1/93 0:00  | 86.08        | state board                    | 2010         | 67.5         | state board                        | 314       | 2           | B.Tech/B.E. | computer science & engineering            | 72.98      | 314           | 1               | Karnataka      | 2014           | 590     | 435     | 380   | 0.356536 | 405                 | -1                    | 346             | -1             | -1             | -1          | -1        | 1.7081            | -0.1054       | -1.0379      | -2.0092     | -1.0872\n",
       "912934  | 400000  | 7/1/14 0:00 | 7/1/15 0:00 | mechanical engineer      | Bangalore | m      | 5/27/92 0:00 | 92           | cbse                           | 2010         | 91           | cbse                               | 1757      | 1           | B.Tech/B.E. | mechanical engineering                    | 8.58       | 1757          | 0               | Tamil Nadu     | 2016           | 545     | 555     | 590   | 0.829585 | -1                  | -1                    | -1              | 469            | -1             | -1          | -1        | -0.0154           | 1.2114        | 0.01         | 0.1459      | 1.247\n",
       "552574  | 600000  | 7/1/13 0:00 | present     | electrical engineer      | Noida     | m      | 9/17/91 0:00 | 90           | cbse                           | 2009         | 91.2         | cbse                               | 13        | 1           | B.Tech/B.E. | electronics and electrical engineering    | 85.03      | 13            | 1               | New Delhi      | 2013           | 615     | 670     | 530   | 0.694479 | 735                 | 366                   | -1              | -1             | -1             | -1          | -1        | -0.159            | 0.5454        | -0.6048      | -0.7415     | -0.2859\n",
       "1203363 | 230000  | 7/1/14 0:00 | present     | project engineer         | Kolkata   | m      | 6/13/93 0:00 | 77           | cbse                           | 2010         | 72.2         | cbse                               | 8640      | 2           | B.Tech/B.E. | electronics and communication engineering | 78         | 8640          | 1               | West Bengal    | 2014           | 605     | 565     | 545   | 0.493596 | 385                 | 324                   | -1              | -1             | -1             | -1          | -1        | -1.308            | 0.5454        | -0.9122      | 0.9066      | 0.0973\n",
       "... (3527 rows omitted)"
      ]
     },
     "execution_count": 15,
     "metadata": {},
     "output_type": "execute_result"
    }
   ],
   "source": [
    "salaries"
   ]
  },
  {
   "cell_type": "markdown",
   "metadata": {
    "collapsed": false
   },
   "source": [
    "**A.** Was this a randomized controlled experiment or experimental study? Why?\n"
   ]
  },
  {
   "cell_type": "markdown",
   "metadata": {},
   "source": [
    "**Answer (double click this cell to edit):**"
   ]
  },
  {
   "cell_type": "markdown",
   "metadata": {},
   "source": [
    "**B.** Does this dataset describe a sample or a population? Why?"
   ]
  },
  {
   "cell_type": "markdown",
   "metadata": {
    "collapsed": true
   },
   "source": [
    "**Answer:**\n"
   ]
  },
  {
   "cell_type": "markdown",
   "metadata": {},
   "source": [
    "**C.** Calculate the average salary of all the graduates. Hint: Is there a numpy function that you can use?\n"
   ]
  },
  {
   "cell_type": "code",
   "execution_count": 1,
   "metadata": {
    "collapsed": false
   },
   "outputs": [
    {
     "data": {
      "text/plain": [
       "'***YOUR CODE HERE***'"
      ]
     },
     "execution_count": 1,
     "metadata": {},
     "output_type": "execute_result"
    }
   ],
   "source": [
    "\"***YOUR CODE HERE***\""
   ]
  },
  {
   "cell_type": "markdown",
   "metadata": {},
   "source": [
    "**D.** Calculate the standard deviation of the salaries. To do this, first define a function that calculates the standard deviation of an input array.\n",
    "**Hint:** `np.sqrt` will help you find the square root."
   ]
  },
  {
   "cell_type": "code",
   "execution_count": null,
   "metadata": {
    "collapsed": true
   },
   "outputs": [],
   "source": [
    "\"***YOUR CODE HERE***\""
   ]
  },
  {
   "cell_type": "markdown",
   "metadata": {},
   "source": [
    "## Question 2: Tables and Probability"
   ]
  },
  {
   "cell_type": "markdown",
   "metadata": {},
   "source": [
    "Now, let's take a deeper look at this dataset."
   ]
  },
  {
   "cell_type": "markdown",
   "metadata": {},
   "source": [
    "**A.** We want to look at where people choose to work after they go to college. From salaries, create a two-column table job_cities with one column for job locations, and another column for college locations.\n"
   ]
  },
  {
   "cell_type": "code",
   "execution_count": 21,
   "metadata": {
    "collapsed": false
   },
   "outputs": [
    {
     "data": {
      "text/html": [
       "<table border=\"1\" class=\"dataframe\">\n",
       "    <thead>\n",
       "        <tr>\n",
       "            <th>JobCity</th> <th>CollegeState</th>\n",
       "        </tr>\n",
       "    </thead>\n",
       "    <tbody>\n",
       "        <tr>\n",
       "            <td>Bangalore</td> <td>Andhra Pradesh</td>\n",
       "        </tr>\n",
       "    </tbody>\n",
       "        <tr>\n",
       "            <td>Indore   </td> <td>Madhya Pradesh</td>\n",
       "        </tr>\n",
       "    </tbody>\n",
       "        <tr>\n",
       "            <td>Chennai  </td> <td>Uttar Pradesh </td>\n",
       "        </tr>\n",
       "    </tbody>\n",
       "        <tr>\n",
       "            <td>Gurgaon  </td> <td>New Delhi     </td>\n",
       "        </tr>\n",
       "    </tbody>\n",
       "        <tr>\n",
       "            <td>Manesar  </td> <td>Uttar Pradesh </td>\n",
       "        </tr>\n",
       "    </tbody>\n",
       "        <tr>\n",
       "            <td>Hyderabad</td> <td>Karnataka     </td>\n",
       "        </tr>\n",
       "    </tbody>\n",
       "        <tr>\n",
       "            <td>Banglore </td> <td>Karnataka     </td>\n",
       "        </tr>\n",
       "    </tbody>\n",
       "        <tr>\n",
       "            <td>Bangalore</td> <td>Tamil Nadu    </td>\n",
       "        </tr>\n",
       "    </tbody>\n",
       "        <tr>\n",
       "            <td>Noida    </td> <td>New Delhi     </td>\n",
       "        </tr>\n",
       "    </tbody>\n",
       "        <tr>\n",
       "            <td>Kolkata  </td> <td>West Bengal   </td>\n",
       "        </tr>\n",
       "    </tbody>\n",
       "</table>\n",
       "<p>... (3527 rows omitted)</p"
      ],
      "text/plain": [
       "JobCity   | CollegeState\n",
       "Bangalore | Andhra Pradesh\n",
       "Indore    | Madhya Pradesh\n",
       "Chennai   | Uttar Pradesh\n",
       "Gurgaon   | New Delhi\n",
       "Manesar   | Uttar Pradesh\n",
       "Hyderabad | Karnataka\n",
       "Banglore  | Karnataka\n",
       "Bangalore | Tamil Nadu\n",
       "Noida     | New Delhi\n",
       "Kolkata   | West Bengal\n",
       "... (3527 rows omitted)"
      ]
     },
     "execution_count": 21,
     "metadata": {},
     "output_type": "execute_result"
    }
   ],
   "source": [
    "#Don't re-run this\n",
    "job_cities = salaries.select(\"JobCity\", \"CollegeState\")\n",
    "job_cities"
   ]
  },
  {
   "cell_type": "markdown",
   "metadata": {},
   "source": [
    "**B.** In the above table, we have cities in one column and states in the other, so it's hard to see which rows match up. To help us, let's import the table of data from the 500 largest cities in India. Run the cell below.\n"
   ]
  },
  {
   "cell_type": "code",
   "execution_count": 5,
   "metadata": {
    "collapsed": false
   },
   "outputs": [
    {
     "data": {
      "text/html": [
       "<table border=\"1\" class=\"dataframe\">\n",
       "    <thead>\n",
       "        <tr>\n",
       "            <th>name_of_city</th> <th>state_code</th> <th>dist_code</th> <th>population_total</th> <th>population_male</th> <th>population_female</th> <th>0-6_population_total</th> <th>0-6_population_male</th> <th>0-6_population_female</th> <th>literates_total</th> <th>literates_male</th> <th>literates_female</th> <th>sex_ratio</th> <th>child_sex_ratio</th> <th>effective_literacy_rate_total</th> <th>effective_literacy_rate_male</th> <th>effective_literacy_rate_female</th> <th>location</th> <th>total_graduates</th> <th>male_graduates</th> <th>female_graduates</th> <th>state</th>\n",
       "        </tr>\n",
       "    </thead>\n",
       "    <tbody>\n",
       "        <tr>\n",
       "            <td>Abohar      </td> <td>3         </td> <td>9        </td> <td>145238          </td> <td>76840          </td> <td>68398            </td> <td>15870               </td> <td>8587               </td> <td>7283                 </td> <td>103319         </td> <td>58347         </td> <td>44972           </td> <td>890      </td> <td>848            </td> <td>79.86                        </td> <td>85.49                       </td> <td>73.59                         </td> <td>30.1452928,74.1993043</td> <td>16287          </td> <td>8612          </td> <td>7675            </td> <td>Punjab        </td>\n",
       "        </tr>\n",
       "    </tbody>\n",
       "        <tr>\n",
       "            <td>Achalpur    </td> <td>27        </td> <td>7        </td> <td>112293          </td> <td>58256          </td> <td>54037            </td> <td>11810               </td> <td>6186               </td> <td>5624                 </td> <td>92433          </td> <td>49347         </td> <td>43086           </td> <td>928      </td> <td>909            </td> <td>91.99                        </td> <td>94.77                       </td> <td>89                            </td> <td>21.257584,77.5086754 </td> <td>8863           </td> <td>5269          </td> <td>3594            </td> <td>Maharashtra   </td>\n",
       "        </tr>\n",
       "    </tbody>\n",
       "        <tr>\n",
       "            <td>Adilabad    </td> <td>28        </td> <td>1        </td> <td>117388          </td> <td>59232          </td> <td>58156            </td> <td>13103               </td> <td>6731               </td> <td>6372                 </td> <td>83955          </td> <td>46295         </td> <td>37660           </td> <td>982      </td> <td>947            </td> <td>80.51                        </td> <td>88.18                       </td> <td>72.73                         </td> <td>19.0809075,79.560344 </td> <td>10565          </td> <td>6797          </td> <td>3768            </td> <td>Andhra Pradesh</td>\n",
       "        </tr>\n",
       "    </tbody>\n",
       "        <tr>\n",
       "            <td>Adityapur   </td> <td>20        </td> <td>24       </td> <td>173988          </td> <td>91495          </td> <td>82493            </td> <td>23042               </td> <td>12063              </td> <td>10979                </td> <td>125985         </td> <td>71470         </td> <td>54515           </td> <td>902      </td> <td>910            </td> <td>83.46                        </td> <td>89.98                       </td> <td>76.23                         </td> <td>22.7834741,86.1576889</td> <td>19225          </td> <td>12189         </td> <td>7036            </td> <td>Jharkhand     </td>\n",
       "        </tr>\n",
       "    </tbody>\n",
       "        <tr>\n",
       "            <td>Adoni       </td> <td>28        </td> <td>21       </td> <td>166537          </td> <td>82743          </td> <td>83794            </td> <td>18406               </td> <td>9355               </td> <td>9051                 </td> <td>101292         </td> <td>56203         </td> <td>45089           </td> <td>1013     </td> <td>968            </td> <td>68.38                        </td> <td>76.58                       </td> <td>60.33                         </td> <td>15.6322227,77.2728368</td> <td>11902          </td> <td>7871          </td> <td>4031            </td> <td>Andhra Pradesh</td>\n",
       "        </tr>\n",
       "    </tbody>\n",
       "        <tr>\n",
       "            <td>Agartala    </td> <td>16        </td> <td>1        </td> <td>399688          </td> <td>199616         </td> <td>200072           </td> <td>33635               </td> <td>17341              </td> <td>16294                </td> <td>343633         </td> <td>174524        </td> <td>169109          </td> <td>1002     </td> <td>940            </td> <td>93.88                        </td> <td>95.75                       </td> <td>92.02                         </td> <td>23.831457,91.2867777 </td> <td>52711          </td> <td>30215         </td> <td>22496           </td> <td>Tripura       </td>\n",
       "        </tr>\n",
       "    </tbody>\n",
       "        <tr>\n",
       "            <td>Agra        </td> <td>9         </td> <td>15       </td> <td>1574542         </td> <td>849771         </td> <td>724771           </td> <td>186516              </td> <td>105279             </td> <td>81237                </td> <td>880530         </td> <td>503805        </td> <td>376725          </td> <td>853      </td> <td>772            </td> <td>63.44                        </td> <td>67.67                       </td> <td>58.54                         </td> <td>27.1766701,78.0080745</td> <td>185813         </td> <td>106082        </td> <td>79731           </td> <td>Uttar Pradesh </td>\n",
       "        </tr>\n",
       "    </tbody>\n",
       "        <tr>\n",
       "            <td>Ahmadabad   </td> <td>24        </td> <td>7        </td> <td>5570585         </td> <td>2935869        </td> <td>2634716          </td> <td>589076              </td> <td>317917             </td> <td>271159               </td> <td>4464303        </td> <td>2459823       </td> <td>2004480         </td> <td>897      </td> <td>853            </td> <td>89.62                        </td> <td>93.96                       </td> <td>84.81                         </td> <td>23.022505,72.5713621 </td> <td>769858         </td> <td>435267        </td> <td>334591          </td> <td>Gujarat       </td>\n",
       "        </tr>\n",
       "    </tbody>\n",
       "        <tr>\n",
       "            <td>Ahmadnagar  </td> <td>27        </td> <td>26       </td> <td>350905          </td> <td>179755         </td> <td>171150           </td> <td>36712               </td> <td>19748              </td> <td>16964                </td> <td>287468         </td> <td>152819        </td> <td>134649          </td> <td>952      </td> <td>859            </td> <td>91.49                        </td> <td>95.51                       </td> <td>87.33                         </td> <td>19.0952075,74.7495916</td> <td>51661          </td> <td>29832         </td> <td>21829           </td> <td>Maharashtra   </td>\n",
       "        </tr>\n",
       "    </tbody>\n",
       "        <tr>\n",
       "            <td>Aizawl      </td> <td>15        </td> <td>3        </td> <td>291822          </td> <td>143803         </td> <td>148019           </td> <td>35147               </td> <td>17667              </td> <td>17480                </td> <td>253588         </td> <td>125256        </td> <td>128332          </td> <td>1029     </td> <td>989            </td> <td>98.8                         </td> <td>99.3                        </td> <td>98.31                         </td> <td>23.727107,92.7176389 </td> <td>26832          </td> <td>14900         </td> <td>11932           </td> <td>Mizoram       </td>\n",
       "        </tr>\n",
       "    </tbody>\n",
       "</table>\n",
       "<p>... (483 rows omitted)</p"
      ],
      "text/plain": [
       "name_of_city | state_code | dist_code | population_total | population_male | population_female | 0-6_population_total | 0-6_population_male | 0-6_population_female | literates_total | literates_male | literates_female | sex_ratio | child_sex_ratio | effective_literacy_rate_total | effective_literacy_rate_male | effective_literacy_rate_female | location              | total_graduates | male_graduates | female_graduates | state\n",
       "Abohar       | 3          | 9         | 145238           | 76840           | 68398             | 15870                | 8587                | 7283                  | 103319          | 58347          | 44972            | 890       | 848             | 79.86                         | 85.49                        | 73.59                          | 30.1452928,74.1993043 | 16287           | 8612           | 7675             | Punjab\n",
       "Achalpur     | 27         | 7         | 112293           | 58256           | 54037             | 11810                | 6186                | 5624                  | 92433           | 49347          | 43086            | 928       | 909             | 91.99                         | 94.77                        | 89                             | 21.257584,77.5086754  | 8863            | 5269           | 3594             | Maharashtra\n",
       "Adilabad     | 28         | 1         | 117388           | 59232           | 58156             | 13103                | 6731                | 6372                  | 83955           | 46295          | 37660            | 982       | 947             | 80.51                         | 88.18                        | 72.73                          | 19.0809075,79.560344  | 10565           | 6797           | 3768             | Andhra Pradesh\n",
       "Adityapur    | 20         | 24        | 173988           | 91495           | 82493             | 23042                | 12063               | 10979                 | 125985          | 71470          | 54515            | 902       | 910             | 83.46                         | 89.98                        | 76.23                          | 22.7834741,86.1576889 | 19225           | 12189          | 7036             | Jharkhand\n",
       "Adoni        | 28         | 21        | 166537           | 82743           | 83794             | 18406                | 9355                | 9051                  | 101292          | 56203          | 45089            | 1013      | 968             | 68.38                         | 76.58                        | 60.33                          | 15.6322227,77.2728368 | 11902           | 7871           | 4031             | Andhra Pradesh\n",
       "Agartala     | 16         | 1         | 399688           | 199616          | 200072            | 33635                | 17341               | 16294                 | 343633          | 174524         | 169109           | 1002      | 940             | 93.88                         | 95.75                        | 92.02                          | 23.831457,91.2867777  | 52711           | 30215          | 22496            | Tripura\n",
       "Agra         | 9          | 15        | 1574542          | 849771          | 724771            | 186516               | 105279              | 81237                 | 880530          | 503805         | 376725           | 853       | 772             | 63.44                         | 67.67                        | 58.54                          | 27.1766701,78.0080745 | 185813          | 106082         | 79731            | Uttar Pradesh\n",
       "Ahmadabad    | 24         | 7         | 5570585          | 2935869         | 2634716           | 589076               | 317917              | 271159                | 4464303         | 2459823        | 2004480          | 897       | 853             | 89.62                         | 93.96                        | 84.81                          | 23.022505,72.5713621  | 769858          | 435267         | 334591           | Gujarat\n",
       "Ahmadnagar   | 27         | 26        | 350905           | 179755          | 171150            | 36712                | 19748               | 16964                 | 287468          | 152819         | 134649           | 952       | 859             | 91.49                         | 95.51                        | 87.33                          | 19.0952075,74.7495916 | 51661           | 29832          | 21829            | Maharashtra\n",
       "Aizawl       | 15         | 3         | 291822           | 143803          | 148019            | 35147                | 17667               | 17480                 | 253588          | 125256         | 128332           | 1029      | 989             | 98.8                          | 99.3                         | 98.31                          | 23.727107,92.7176389  | 26832           | 14900          | 11932            | Mizoram\n",
       "... (483 rows omitted)"
      ]
     },
     "execution_count": 5,
     "metadata": {},
     "output_type": "execute_result"
    }
   ],
   "source": [
    "cities = Table().read_table(\"cities.csv\")\n",
    "states = cities.column(\"state_name\")\n",
    "state_lst = list(states)\n",
    "processed_states = [s.title() for s in state_lst]\n",
    "cities = cities.drop(\"state_name\").with_column(\"state\", processed_states)\n",
    "cities"
   ]
  },
  {
   "cell_type": "markdown",
   "metadata": {},
   "source": [
    "Create a new table `states`, by joining this table with our `job_cities` table. In your `states` table you should get rid of all of the irrelevant columns – we only want two columns, and they should both contain names of states.\n"
   ]
  },
  {
   "cell_type": "code",
   "execution_count": null,
   "metadata": {
    "collapsed": true
   },
   "outputs": [],
   "source": [
    "states = job_cities.join(..., ..., ...).select(..., ...)\n",
    "states"
   ]
  },
  {
   "cell_type": "markdown",
   "metadata": {},
   "source": [
    "**C.** The `states` table above shows us the states in which people went to college and the states where they are working. Calculate the probability that someone went to college and got their job in the same state."
   ]
  },
  {
   "cell_type": "code",
   "execution_count": null,
   "metadata": {
    "collapsed": true
   },
   "outputs": [],
   "source": [
    "total = states.num_rows\n",
    "college_state = ...\n",
    "state = ...\n",
    "count = 0\n",
    "for i in range(len(college_state)):\n",
    "    if ...:\n",
    "        count += 1\n",
    "        \n",
    "prob_same_state = count / total\n",
    "prob_same_state"
   ]
  },
  {
   "cell_type": "markdown",
   "metadata": {},
   "source": [
    "**D.** Use the Complement Rule to find the probability that someone is working in a state different from where they went to college.\n",
    "\n"
   ]
  },
  {
   "cell_type": "code",
   "execution_count": null,
   "metadata": {
    "collapsed": true
   },
   "outputs": [],
   "source": [
    "prob_different_state = ...\n",
    "prob_different_state"
   ]
  },
  {
   "cell_type": "markdown",
   "metadata": {},
   "source": [
    "**E.** Now, find the amount of subjects in the table working in each city. [Description of rows + columns]"
   ]
  },
  {
   "cell_type": "code",
   "execution_count": 42,
   "metadata": {
    "collapsed": false
   },
   "outputs": [
    {
     "data": {
      "text/html": [
       "<table border=\"1\" class=\"dataframe\">\n",
       "    <thead>\n",
       "        <tr>\n",
       "            <th>JobCity</th> <th>count</th> <th>Average Salary (Rupees)</th>\n",
       "        </tr>\n",
       "    </thead>\n",
       "    <tbody>\n",
       "        <tr>\n",
       "            <td>Bangalore</td> <td>647  </td> <td>560000                 </td>\n",
       "        </tr>\n",
       "    </tbody>\n",
       "        <tr>\n",
       "            <td>Noida    </td> <td>386  </td> <td>335000                 </td>\n",
       "        </tr>\n",
       "    </tbody>\n",
       "        <tr>\n",
       "            <td>Hyderabad</td> <td>357  </td> <td>185000                 </td>\n",
       "        </tr>\n",
       "    </tbody>\n",
       "        <tr>\n",
       "            <td>Pune     </td> <td>320  </td> <td>360000                 </td>\n",
       "        </tr>\n",
       "    </tbody>\n",
       "        <tr>\n",
       "            <td>Chennai  </td> <td>304  </td> <td>180000                 </td>\n",
       "        </tr>\n",
       "    </tbody>\n",
       "        <tr>\n",
       "            <td>New Delhi</td> <td>222  </td> <td>570000                 </td>\n",
       "        </tr>\n",
       "    </tbody>\n",
       "        <tr>\n",
       "            <td>Gurgaon  </td> <td>214  </td> <td>120000                 </td>\n",
       "        </tr>\n",
       "    </tbody>\n",
       "        <tr>\n",
       "            <td>Mumbai   </td> <td>147  </td> <td>360000                 </td>\n",
       "        </tr>\n",
       "    </tbody>\n",
       "        <tr>\n",
       "            <td>Kolkata  </td> <td>118  </td> <td>150000                 </td>\n",
       "        </tr>\n",
       "    </tbody>\n",
       "        <tr>\n",
       "            <td>Jaipur   </td> <td>52   </td> <td>266667                 </td>\n",
       "        </tr>\n",
       "    </tbody>\n",
       "</table>\n",
       "<p>... (283 rows omitted)</p"
      ],
      "text/plain": [
       "JobCity   | count | Average Salary (Rupees)\n",
       "Bangalore | 647   | 560000\n",
       "Noida     | 386   | 335000\n",
       "Hyderabad | 357   | 185000\n",
       "Pune      | 320   | 360000\n",
       "Chennai   | 304   | 180000\n",
       "New Delhi | 222   | 570000\n",
       "Gurgaon   | 214   | 120000\n",
       "Mumbai    | 147   | 360000\n",
       "Kolkata   | 118   | 150000\n",
       "Jaipur    | 52    | 266667\n",
       "... (283 rows omitted)"
      ]
     },
     "execution_count": 42,
     "metadata": {},
     "output_type": "execute_result"
    }
   ],
   "source": [
    "city_jobs = salaries.group(\"JobCity\").sort(\"count\", descending = True)\n",
    "averaged = salaries.group(\"JobCity\", np.mean).where(\"JobCity\", are.contained_in(city_jobs.column(0))).column(\"Salary mean\")\n",
    "city_jobs = city_jobs.with_column(\"Average Salary (Rupees)\", averaged)\n",
    "city_jobs"
   ]
  },
  {
   "cell_type": "markdown",
   "metadata": {},
   "source": [
    "Now, let us consider the city_jobs table, defined below."
   ]
  },
  {
   "cell_type": "code",
   "execution_count": 10,
   "metadata": {
    "collapsed": false
   },
   "outputs": [
    {
     "data": {
      "text/html": [
       "<table border=\"1\" class=\"dataframe\">\n",
       "    <thead>\n",
       "        <tr>\n",
       "            <th>JobCity</th> <th>count</th> <th>Average Salary (Rupees)</th>\n",
       "        </tr>\n",
       "    </thead>\n",
       "    <tbody>\n",
       "        <tr>\n",
       "            <td>Bangalore</td> <td>647  </td> <td>560000                 </td>\n",
       "        </tr>\n",
       "    </tbody>\n",
       "        <tr>\n",
       "            <td>Noida    </td> <td>386  </td> <td>335000                 </td>\n",
       "        </tr>\n",
       "    </tbody>\n",
       "        <tr>\n",
       "            <td>Hyderabad</td> <td>357  </td> <td>185000                 </td>\n",
       "        </tr>\n",
       "    </tbody>\n",
       "        <tr>\n",
       "            <td>Pune     </td> <td>320  </td> <td>360000                 </td>\n",
       "        </tr>\n",
       "    </tbody>\n",
       "        <tr>\n",
       "            <td>Chennai  </td> <td>304  </td> <td>180000                 </td>\n",
       "        </tr>\n",
       "    </tbody>\n",
       "        <tr>\n",
       "            <td>New Delhi</td> <td>222  </td> <td>570000                 </td>\n",
       "        </tr>\n",
       "    </tbody>\n",
       "        <tr>\n",
       "            <td>Gurgaon  </td> <td>214  </td> <td>120000                 </td>\n",
       "        </tr>\n",
       "    </tbody>\n",
       "        <tr>\n",
       "            <td>Mumbai   </td> <td>147  </td> <td>360000                 </td>\n",
       "        </tr>\n",
       "    </tbody>\n",
       "        <tr>\n",
       "            <td>Kolkata  </td> <td>118  </td> <td>150000                 </td>\n",
       "        </tr>\n",
       "    </tbody>\n",
       "        <tr>\n",
       "            <td>Jaipur   </td> <td>52   </td> <td>266667                 </td>\n",
       "        </tr>\n",
       "    </tbody>\n",
       "</table>\n",
       "<p>... (283 rows omitted)</p"
      ],
      "text/plain": [
       "JobCity   | count | Average Salary (Rupees)\n",
       "Bangalore | 647   | 560000\n",
       "Noida     | 386   | 335000\n",
       "Hyderabad | 357   | 185000\n",
       "Pune      | 320   | 360000\n",
       "Chennai   | 304   | 180000\n",
       "New Delhi | 222   | 570000\n",
       "Gurgaon   | 214   | 120000\n",
       "Mumbai    | 147   | 360000\n",
       "Kolkata   | 118   | 150000\n",
       "Jaipur    | 52    | 266667\n",
       "... (283 rows omitted)"
      ]
     },
     "execution_count": 10,
     "metadata": {},
     "output_type": "execute_result"
    }
   ],
   "source": [
    "city_jobs = salaries.group(\"JobCity\").sort(\"count\", descending = True)\n",
    "averaged = salaries.group(\"JobCity\", np.mean).where(\"JobCity\", are.contained_in(city_jobs.column(0))).column(\"Salary mean\")\n",
    "city_jobs = city_jobs.with_column(\"Average Salary (Rupees)\", averaged)\n",
    "city_jobs"
   ]
  },
  {
   "cell_type": "markdown",
   "metadata": {},
   "source": [
    "**E.** Using the city_jobs table above, find the probability that someone works in Bangalore. Hint: np.sum(x) finds the sum of array x."
   ]
  },
  {
   "cell_type": "code",
   "execution_count": null,
   "metadata": {
    "collapsed": true
   },
   "outputs": [],
   "source": [
    "prob_works_banglore = ...\n",
    "prob_works_banglore"
   ]
  },
  {
   "cell_type": "markdown",
   "metadata": {},
   "source": [
    "**F.** Using the same table, calculate the probability that someone is from either New Delhi or Hyderabad. It may be easier to do this question by looking at the table rather than writing code... either way is fine."
   ]
  },
  {
   "cell_type": "code",
   "execution_count": null,
   "metadata": {
    "collapsed": true
   },
   "outputs": [],
   "source": [
    "prob_banglore_or_delhi = ...\n",
    "prob_banglore_or_delhi ="
   ]
  },
  {
   "cell_type": "markdown",
   "metadata": {},
   "source": [
    "**G.** Let's look at the GDP per capita (economic output per person) of a couple cities in India."
   ]
  },
  {
   "cell_type": "code",
   "execution_count": null,
   "metadata": {
    "collapsed": true
   },
   "outputs": [],
   "source": [
    "# Table Source: https://www.brookings.edu/wp-content/uploads/2015/01/bmpp_GMM_final.pdf\n",
    "city_gdp = Table().read_table(\"city_gdp.csv\")\n",
    "city_gdp = city_gdp.drop(0).drop(1).drop(1)\n",
    "city_gdp"
   ]
  },
  {
   "cell_type": "markdown",
   "metadata": {},
   "source": [
    "**H.** Fill in the code below to convert the values in the second column of city_gdp from strings to integers, and then display the data as a bar graph."
   ]
  },
  {
   "cell_type": "code",
   "execution_count": null,
   "metadata": {
    "collapsed": true
   },
   "outputs": [],
   "source": [
    "# Table Source: https://www.brookings.edu/wp-content/uploads/2015/01/bmpp_GMM_final.pdf\n",
    "# Exchange rate: https://www.poundsterlinglive.com/best-exchange-rates/us-dollar-to-indian-rupee-exchange-rate-on-2014-05-29\n",
    "\n",
    "def clean_and_convert(arr):\n",
    "    converted = np.array([])\n",
    "    for i in arr:\n",
    "        val = int(i.replace(..., ...).replace(..., ...))\n",
    "        converted = np.append(..., ...)\n",
    "    return (converted * 58.9323) / 1000                # Converting from USD to thousands of INR\n",
    "\n",
    "gdp_rupees = clean_and_convert(city_gdp.column(1))\n",
    "cleaned = Table().with_columns(\"City\", city_gdp.column(0), \"GDP per capita (Thousands of Rupees)\", gdp_rupees).sort(1, descending = True)\n",
    "cleaned.barh(...)"
   ]
  },
  {
   "cell_type": "markdown",
   "metadata": {},
   "source": [
    "**J.** Do you think that if the survey had more respondents, would the distribution of average salaries look more like the graph of GDP per capita? Why or why not?\n"
   ]
  },
  {
   "cell_type": "markdown",
   "metadata": {
    "collapsed": true
   },
   "source": [
    "**Answer:**"
   ]
  },
  {
   "cell_type": "markdown",
   "metadata": {},
   "source": [
    "## Question 3: Correlation and Regression Questions"
   ]
  },
  {
   "cell_type": "markdown",
   "metadata": {},
   "source": [
    "**A.** Write a function to convert an array to standard units."
   ]
  },
  {
   "cell_type": "code",
   "execution_count": 49,
   "metadata": {
    "collapsed": true
   },
   "outputs": [],
   "source": [
    "def standard_units(values):\n",
    "    \"***YOUR CODE HERE***\"\n",
    "    \n",
    "    return (values - np.mean(values))/np.std(values)"
   ]
  },
  {
   "cell_type": "markdown",
   "metadata": {},
   "source": [
    "**B.** Write a function that takes in two arrays and returns the correlation coefficient between them. It may help to review the definition of $r$ before preceeding. *Hint: There's a reason part B is coming after part A!*\n"
   ]
  },
  {
   "cell_type": "code",
   "execution_count": 53,
   "metadata": {
    "collapsed": true
   },
   "outputs": [],
   "source": [
    "def correlation(x, y):\n",
    "    \"***YOUR CODE HERE***\"\n",
    "    \n",
    "    return np.mean(standard_units(x) * standard_units(y))"
   ]
  },
  {
   "cell_type": "markdown",
   "metadata": {},
   "source": [
    "**C.** The graduates took the AMCAT, an exam that assesses skills required for certain professions."
   ]
  },
  {
   "cell_type": "code",
   "execution_count": null,
   "metadata": {
    "collapsed": true
   },
   "outputs": [],
   "source": [
    "subjects = salaries.select(\"ComputerProgramming\", \"ElectronicsAndSemicon\", \"ComputerScience\", \"MechanicalEngg\", \"ElectricalEngg\", \"TelecomEngg\", \"CivilEngg\")\n",
    "subjects"
   ]
  },
  {
   "cell_type": "markdown",
   "metadata": {},
   "source": [
    "Calculate the correlation coefficient between exam scores on subject tests and salaries.\n"
   ]
  },
  {
   "cell_type": "code",
   "execution_count": 55,
   "metadata": {
    "collapsed": false
   },
   "outputs": [
    {
     "name": "stdout",
     "output_type": "stream",
     "text": [
      "Number of Unique Professions ElectricalEngg 87\n",
      "r ElectricalEngg 0.242604625626\n",
      "Number of Unique Professions ComputerScience 161\n",
      "r ComputerScience 0.128899744755\n",
      "Number of Unique Professions CivilEngg 24\n",
      "r CivilEngg 0.246086564427\n",
      "Number of Unique Professions MechanicalEngg 90\n",
      "r MechanicalEngg 0.182627170214\n"
     ]
    }
   ],
   "source": [
    "#Should definitely contain more starter code? Prob statement can be changed too.\n",
    "for i in np.array([\"ElectricalEngg\", \"ComputerScience\", \"CivilEngg\", \"MechanicalEngg\"]):\n",
    "    tbl = salaries.where(i, are.not_equal_to(-1))\n",
    "    print(\"Number of Unique Professions \" + i, tbl.group(\"Designation\").num_rows)\n",
    "    print(\"r \" + i, calc_r(tbl, i, \"Salary\"))"
   ]
  },
  {
   "cell_type": "markdown",
   "metadata": {
    "collapsed": true
   },
   "source": [
    "**D.** Make scatter plots of the profession with the highest and lowest correlation to the salary. Is this what you expect?"
   ]
  },
  {
   "cell_type": "code",
   "execution_count": null,
   "metadata": {
    "collapsed": true
   },
   "outputs": [],
   "source": []
  },
  {
   "cell_type": "markdown",
   "metadata": {},
   "source": [
    "**E.** Would we use linear regression here? Why or why not??\n"
   ]
  },
  {
   "cell_type": "markdown",
   "metadata": {},
   "source": [
    "**Answer:**"
   ]
  },
  {
   "cell_type": "markdown",
   "metadata": {},
   "source": [
    "## Question 4: Correlation and Regression Implementation"
   ]
  },
  {
   "cell_type": "markdown",
   "metadata": {
    "collapsed": true
   },
   "source": [
    "You've done a lot of questions thus far! Now, for something exciting. Here, we're going to be conducting our own analysis using linear regression on students' exam scores. Not only will we find the regression line, we're also going to use this *model* to predict how much someone might earn!\n"
   ]
  },
  {
   "cell_type": "markdown",
   "metadata": {},
   "source": [
    "Before we begin, let's just get this out of the way.\n"
   ]
  },
  {
   "cell_type": "markdown",
   "metadata": {},
   "source": [
    "**A.** Will getting higher marks on your exams *cause* you to earn more money?\n"
   ]
  },
  {
   "cell_type": "markdown",
   "metadata": {
    "collapsed": true
   },
   "source": [
    "**Answer:**"
   ]
  },
  {
   "cell_type": "markdown",
   "metadata": {},
   "source": [
    "**B.** Let's take a look at the `salaries` table again. We're going to be plotting people's scores from their 12th grade board exams. We chose the 12th grade scores over 10th grade scores, as they've obviously picked up more relevant skills since then, and over college GPA because that takes into account courses that may not have to do with the subjects' careers. Here are the correlation coefficients for each factor.\n"
   ]
  },
  {
   "cell_type": "markdown",
   "metadata": {},
   "source": [
    "*Class 10 CBSE Scores: 0.28*\n",
    "\n",
    "*Class 12 CBSE Scores: 0.29*\n",
    "\n",
    "*College GPA: 0.22*\n"
   ]
  },
  {
   "cell_type": "code",
   "execution_count": 7,
   "metadata": {
    "collapsed": false
   },
   "outputs": [
    {
     "data": {
      "text/html": [
       "<table border=\"1\" class=\"dataframe\">\n",
       "    <thead>\n",
       "        <tr>\n",
       "            <th>ID</th> <th>Salary</th> <th>DOJ</th> <th>DOL</th> <th>Designation</th> <th>JobCity</th> <th>Gender</th> <th>DOB</th> <th>10percentage</th> <th>10board</th> <th>12graduation</th> <th>12percentage</th> <th>12board</th> <th>CollegeID</th> <th>CollegeTier</th> <th>Degree</th> <th>Specialization</th> <th>collegeGPA</th> <th>CollegeCityID</th> <th>CollegeCityTier</th> <th>CollegeState</th> <th>GraduationYear</th> <th>English</th> <th>Logical</th> <th>Quant</th> <th>Domain</th> <th>ComputerProgramming</th> <th>ElectronicsAndSemicon</th> <th>ComputerScience</th> <th>MechanicalEngg</th> <th>ElectricalEngg</th> <th>TelecomEngg</th> <th>CivilEngg</th> <th>conscientiousness</th> <th>agreeableness</th> <th>extraversion</th> <th>nueroticism</th> <th>openess_to_experience</th>\n",
       "        </tr>\n",
       "    </thead>\n",
       "    <tbody>\n",
       "        <tr>\n",
       "            <td>203097 </td> <td>420000 </td> <td>6/1/12 0:00</td> <td>present    </td> <td>senior quality engineer </td> <td>Bangalore</td> <td>f     </td> <td>2/19/90 0:00</td> <td>84.3        </td> <td>board ofsecondary education,ap</td> <td>2007        </td> <td>95.8        </td> <td>board of intermediate education,ap</td> <td>1141     </td> <td>2          </td> <td>B.Tech/B.E.</td> <td>computer engineering                     </td> <td>78        </td> <td>1141         </td> <td>0              </td> <td>Andhra Pradesh</td> <td>2011          </td> <td>515    </td> <td>585    </td> <td>525  </td> <td>0.635979</td> <td>445                </td> <td>-1                   </td> <td>-1             </td> <td>-1            </td> <td>-1            </td> <td>-1         </td> <td>-1       </td> <td>0.9737           </td> <td>0.8128       </td> <td>0.5269      </td> <td>1.3549     </td> <td>-0.4455              </td>\n",
       "        </tr>\n",
       "    </tbody>\n",
       "        <tr>\n",
       "            <td>579905 </td> <td>500000 </td> <td>9/1/13 0:00</td> <td>present    </td> <td>assistant manager       </td> <td>Indore   </td> <td>m     </td> <td>10/4/89 0:00</td> <td>85.4        </td> <td>cbse                          </td> <td>2007        </td> <td>85          </td> <td>cbse                              </td> <td>5807     </td> <td>2          </td> <td>B.Tech/B.E.</td> <td>electronics and communication engineering</td> <td>70.06     </td> <td>5807         </td> <td>0              </td> <td>Madhya Pradesh</td> <td>2012          </td> <td>695    </td> <td>610    </td> <td>780  </td> <td>0.960603</td> <td>-1                 </td> <td>466                  </td> <td>-1             </td> <td>-1            </td> <td>-1            </td> <td>-1         </td> <td>-1       </td> <td>-0.7335          </td> <td>0.3789       </td> <td>1.2396      </td> <td>-0.1076    </td> <td>0.8637               </td>\n",
       "        </tr>\n",
       "    </tbody>\n",
       "        <tr>\n",
       "            <td>810601 </td> <td>325000 </td> <td>6/1/14 0:00</td> <td>present    </td> <td>systems engineer        </td> <td>Chennai  </td> <td>f     </td> <td>8/3/92 0:00 </td> <td>85          </td> <td>cbse                          </td> <td>2010        </td> <td>68.2        </td> <td>cbse                              </td> <td>64       </td> <td>2          </td> <td>B.Tech/B.E.</td> <td>information technology                   </td> <td>70        </td> <td>64           </td> <td>0              </td> <td>Uttar Pradesh </td> <td>2014          </td> <td>615    </td> <td>545    </td> <td>370  </td> <td>0.450877</td> <td>395                </td> <td>-1                   </td> <td>-1             </td> <td>-1            </td> <td>-1            </td> <td>-1         </td> <td>-1       </td> <td>0.2718           </td> <td>1.7109       </td> <td>0.1637      </td> <td>-0.8682    </td> <td>0.6721               </td>\n",
       "        </tr>\n",
       "    </tbody>\n",
       "        <tr>\n",
       "            <td>267447 </td> <td>1100000</td> <td>7/1/11 0:00</td> <td>present    </td> <td>senior software engineer</td> <td>Gurgaon  </td> <td>m     </td> <td>12/5/89 0:00</td> <td>85.6        </td> <td>cbse                          </td> <td>2007        </td> <td>83.6        </td> <td>cbse                              </td> <td>6920     </td> <td>1          </td> <td>B.Tech/B.E.</td> <td>computer engineering                     </td> <td>74.64     </td> <td>6920         </td> <td>1              </td> <td>New Delhi     </td> <td>2011          </td> <td>635    </td> <td>585    </td> <td>625  </td> <td>0.974396</td> <td>615                </td> <td>-1                   </td> <td>-1             </td> <td>-1            </td> <td>-1            </td> <td>-1         </td> <td>-1       </td> <td>0.0464           </td> <td>0.3448       </td> <td>-0.344      </td> <td>-0.4078    </td> <td>-0.9194              </td>\n",
       "        </tr>\n",
       "    </tbody>\n",
       "        <tr>\n",
       "            <td>343523 </td> <td>200000 </td> <td>3/1/14 0:00</td> <td>3/1/15 0:00</td> <td>get                     </td> <td>Manesar  </td> <td>m     </td> <td>2/27/91 0:00</td> <td>78          </td> <td>cbse                          </td> <td>2008        </td> <td>76.8        </td> <td>cbse                              </td> <td>11368    </td> <td>2          </td> <td>B.Tech/B.E.</td> <td>electronics and communication engineering</td> <td>73.9      </td> <td>11368        </td> <td>0              </td> <td>Uttar Pradesh </td> <td>2012          </td> <td>545    </td> <td>625    </td> <td>465  </td> <td>0.124502</td> <td>-1                 </td> <td>233                  </td> <td>-1             </td> <td>-1            </td> <td>-1            </td> <td>-1         </td> <td>-1       </td> <td>-0.881           </td> <td>-0.2793      </td> <td>-1.0697     </td> <td>0.09163    </td> <td>-0.1295              </td>\n",
       "        </tr>\n",
       "    </tbody>\n",
       "        <tr>\n",
       "            <td>1027655</td> <td>300000 </td> <td>6/1/14 0:00</td> <td>present    </td> <td>system engineer         </td> <td>Hyderabad</td> <td>m     </td> <td>7/2/92 0:00 </td> <td>89.92       </td> <td>state board                   </td> <td>2010        </td> <td>87          </td> <td>state board                       </td> <td>5086     </td> <td>2          </td> <td>B.Tech/B.E.</td> <td>electronics and communication engineering</td> <td>76.32     </td> <td>5086         </td> <td>0              </td> <td>Karnataka     </td> <td>2014          </td> <td>560    </td> <td>555    </td> <td>620  </td> <td>-1      </td> <td>645                </td> <td>-1                   </td> <td>407            </td> <td>-1            </td> <td>-1            </td> <td>-1         </td> <td>-1       </td> <td>-0.3027          </td> <td>-0.6201      </td> <td>-2.2954     </td> <td>-0.7415    </td> <td>-0.8608              </td>\n",
       "        </tr>\n",
       "    </tbody>\n",
       "        <tr>\n",
       "            <td>947847 </td> <td>300000 </td> <td>8/1/14 0:00</td> <td>5/1/15 0:00</td> <td>java software engineer  </td> <td>Banglore </td> <td>m     </td> <td>2/1/93 0:00 </td> <td>86.08       </td> <td>state board                   </td> <td>2010        </td> <td>67.5        </td> <td>state board                       </td> <td>314      </td> <td>2          </td> <td>B.Tech/B.E.</td> <td>computer science & engineering           </td> <td>72.98     </td> <td>314          </td> <td>1              </td> <td>Karnataka     </td> <td>2014          </td> <td>590    </td> <td>435    </td> <td>380  </td> <td>0.356536</td> <td>405                </td> <td>-1                   </td> <td>346            </td> <td>-1            </td> <td>-1            </td> <td>-1         </td> <td>-1       </td> <td>1.7081           </td> <td>-0.1054      </td> <td>-1.0379     </td> <td>-2.0092    </td> <td>-1.0872              </td>\n",
       "        </tr>\n",
       "    </tbody>\n",
       "        <tr>\n",
       "            <td>912934 </td> <td>400000 </td> <td>7/1/14 0:00</td> <td>7/1/15 0:00</td> <td>mechanical engineer     </td> <td>Bangalore</td> <td>m     </td> <td>5/27/92 0:00</td> <td>92          </td> <td>cbse                          </td> <td>2010        </td> <td>91          </td> <td>cbse                              </td> <td>1757     </td> <td>1          </td> <td>B.Tech/B.E.</td> <td>mechanical engineering                   </td> <td>8.58      </td> <td>1757         </td> <td>0              </td> <td>Tamil Nadu    </td> <td>2016          </td> <td>545    </td> <td>555    </td> <td>590  </td> <td>0.829585</td> <td>-1                 </td> <td>-1                   </td> <td>-1             </td> <td>469           </td> <td>-1            </td> <td>-1         </td> <td>-1       </td> <td>-0.0154          </td> <td>1.2114       </td> <td>0.01        </td> <td>0.1459     </td> <td>1.247                </td>\n",
       "        </tr>\n",
       "    </tbody>\n",
       "        <tr>\n",
       "            <td>552574 </td> <td>600000 </td> <td>7/1/13 0:00</td> <td>present    </td> <td>electrical engineer     </td> <td>Noida    </td> <td>m     </td> <td>9/17/91 0:00</td> <td>90          </td> <td>cbse                          </td> <td>2009        </td> <td>91.2        </td> <td>cbse                              </td> <td>13       </td> <td>1          </td> <td>B.Tech/B.E.</td> <td>electronics and electrical engineering   </td> <td>85.03     </td> <td>13           </td> <td>1              </td> <td>New Delhi     </td> <td>2013          </td> <td>615    </td> <td>670    </td> <td>530  </td> <td>0.694479</td> <td>735                </td> <td>366                  </td> <td>-1             </td> <td>-1            </td> <td>-1            </td> <td>-1         </td> <td>-1       </td> <td>-0.159           </td> <td>0.5454       </td> <td>-0.6048     </td> <td>-0.7415    </td> <td>-0.2859              </td>\n",
       "        </tr>\n",
       "    </tbody>\n",
       "        <tr>\n",
       "            <td>1203363</td> <td>230000 </td> <td>7/1/14 0:00</td> <td>present    </td> <td>project engineer        </td> <td>Kolkata  </td> <td>m     </td> <td>6/13/93 0:00</td> <td>77          </td> <td>cbse                          </td> <td>2010        </td> <td>72.2        </td> <td>cbse                              </td> <td>8640     </td> <td>2          </td> <td>B.Tech/B.E.</td> <td>electronics and communication engineering</td> <td>78        </td> <td>8640         </td> <td>1              </td> <td>West Bengal   </td> <td>2014          </td> <td>605    </td> <td>565    </td> <td>545  </td> <td>0.493596</td> <td>385                </td> <td>324                  </td> <td>-1             </td> <td>-1            </td> <td>-1            </td> <td>-1         </td> <td>-1       </td> <td>-1.308           </td> <td>0.5454       </td> <td>-0.9122     </td> <td>0.9066     </td> <td>0.0973               </td>\n",
       "        </tr>\n",
       "    </tbody>\n",
       "</table>\n",
       "<p>... (3527 rows omitted)</p"
      ],
      "text/plain": [
       "ID      | Salary  | DOJ         | DOL         | Designation              | JobCity   | Gender | DOB          | 10percentage | 10board                        | 12graduation | 12percentage | 12board                            | CollegeID | CollegeTier | Degree      | Specialization                            | collegeGPA | CollegeCityID | CollegeCityTier | CollegeState   | GraduationYear | English | Logical | Quant | Domain   | ComputerProgramming | ElectronicsAndSemicon | ComputerScience | MechanicalEngg | ElectricalEngg | TelecomEngg | CivilEngg | conscientiousness | agreeableness | extraversion | nueroticism | openess_to_experience\n",
       "203097  | 420000  | 6/1/12 0:00 | present     | senior quality engineer  | Bangalore | f      | 2/19/90 0:00 | 84.3         | board ofsecondary education,ap | 2007         | 95.8         | board of intermediate education,ap | 1141      | 2           | B.Tech/B.E. | computer engineering                      | 78         | 1141          | 0               | Andhra Pradesh | 2011           | 515     | 585     | 525   | 0.635979 | 445                 | -1                    | -1              | -1             | -1             | -1          | -1        | 0.9737            | 0.8128        | 0.5269       | 1.3549      | -0.4455\n",
       "579905  | 500000  | 9/1/13 0:00 | present     | assistant manager        | Indore    | m      | 10/4/89 0:00 | 85.4         | cbse                           | 2007         | 85           | cbse                               | 5807      | 2           | B.Tech/B.E. | electronics and communication engineering | 70.06      | 5807          | 0               | Madhya Pradesh | 2012           | 695     | 610     | 780   | 0.960603 | -1                  | 466                   | -1              | -1             | -1             | -1          | -1        | -0.7335           | 0.3789        | 1.2396       | -0.1076     | 0.8637\n",
       "810601  | 325000  | 6/1/14 0:00 | present     | systems engineer         | Chennai   | f      | 8/3/92 0:00  | 85           | cbse                           | 2010         | 68.2         | cbse                               | 64        | 2           | B.Tech/B.E. | information technology                    | 70         | 64            | 0               | Uttar Pradesh  | 2014           | 615     | 545     | 370   | 0.450877 | 395                 | -1                    | -1              | -1             | -1             | -1          | -1        | 0.2718            | 1.7109        | 0.1637       | -0.8682     | 0.6721\n",
       "267447  | 1100000 | 7/1/11 0:00 | present     | senior software engineer | Gurgaon   | m      | 12/5/89 0:00 | 85.6         | cbse                           | 2007         | 83.6         | cbse                               | 6920      | 1           | B.Tech/B.E. | computer engineering                      | 74.64      | 6920          | 1               | New Delhi      | 2011           | 635     | 585     | 625   | 0.974396 | 615                 | -1                    | -1              | -1             | -1             | -1          | -1        | 0.0464            | 0.3448        | -0.344       | -0.4078     | -0.9194\n",
       "343523  | 200000  | 3/1/14 0:00 | 3/1/15 0:00 | get                      | Manesar   | m      | 2/27/91 0:00 | 78           | cbse                           | 2008         | 76.8         | cbse                               | 11368     | 2           | B.Tech/B.E. | electronics and communication engineering | 73.9       | 11368         | 0               | Uttar Pradesh  | 2012           | 545     | 625     | 465   | 0.124502 | -1                  | 233                   | -1              | -1             | -1             | -1          | -1        | -0.881            | -0.2793       | -1.0697      | 0.09163     | -0.1295\n",
       "1027655 | 300000  | 6/1/14 0:00 | present     | system engineer          | Hyderabad | m      | 7/2/92 0:00  | 89.92        | state board                    | 2010         | 87           | state board                        | 5086      | 2           | B.Tech/B.E. | electronics and communication engineering | 76.32      | 5086          | 0               | Karnataka      | 2014           | 560     | 555     | 620   | -1       | 645                 | -1                    | 407             | -1             | -1             | -1          | -1        | -0.3027           | -0.6201       | -2.2954      | -0.7415     | -0.8608\n",
       "947847  | 300000  | 8/1/14 0:00 | 5/1/15 0:00 | java software engineer   | Banglore  | m      | 2/1/93 0:00  | 86.08        | state board                    | 2010         | 67.5         | state board                        | 314       | 2           | B.Tech/B.E. | computer science & engineering            | 72.98      | 314           | 1               | Karnataka      | 2014           | 590     | 435     | 380   | 0.356536 | 405                 | -1                    | 346             | -1             | -1             | -1          | -1        | 1.7081            | -0.1054       | -1.0379      | -2.0092     | -1.0872\n",
       "912934  | 400000  | 7/1/14 0:00 | 7/1/15 0:00 | mechanical engineer      | Bangalore | m      | 5/27/92 0:00 | 92           | cbse                           | 2010         | 91           | cbse                               | 1757      | 1           | B.Tech/B.E. | mechanical engineering                    | 8.58       | 1757          | 0               | Tamil Nadu     | 2016           | 545     | 555     | 590   | 0.829585 | -1                  | -1                    | -1              | 469            | -1             | -1          | -1        | -0.0154           | 1.2114        | 0.01         | 0.1459      | 1.247\n",
       "552574  | 600000  | 7/1/13 0:00 | present     | electrical engineer      | Noida     | m      | 9/17/91 0:00 | 90           | cbse                           | 2009         | 91.2         | cbse                               | 13        | 1           | B.Tech/B.E. | electronics and electrical engineering    | 85.03      | 13            | 1               | New Delhi      | 2013           | 615     | 670     | 530   | 0.694479 | 735                 | 366                   | -1              | -1             | -1             | -1          | -1        | -0.159            | 0.5454        | -0.6048      | -0.7415     | -0.2859\n",
       "1203363 | 230000  | 7/1/14 0:00 | present     | project engineer         | Kolkata   | m      | 6/13/93 0:00 | 77           | cbse                           | 2010         | 72.2         | cbse                               | 8640      | 2           | B.Tech/B.E. | electronics and communication engineering | 78         | 8640          | 1               | West Bengal    | 2014           | 605     | 565     | 545   | 0.493596 | 385                 | 324                   | -1              | -1             | -1             | -1          | -1        | -1.308            | 0.5454        | -0.9122      | 0.9066      | 0.0973\n",
       "... (3527 rows omitted)"
      ]
     },
     "execution_count": 7,
     "metadata": {},
     "output_type": "execute_result"
    }
   ],
   "source": [
    "salaries"
   ]
  },
  {
   "cell_type": "markdown",
   "metadata": {},
   "source": [
    "In addition to the column 12percentage, we also have a column called 12board, which contains information on whether or not a student took exams from their state board or the CBSE. We want to look at the exam which the most students took, so let's clean out our dataset.\n",
    "\n",
    "Create a table called salary_12, with columns Salary and 12percentage from the table. It should only contain entries where the subjects took the CBSE exams. Once you're done, run the next cell to make a scatter plot.\n",
    "\n"
   ]
  },
  {
   "cell_type": "code",
   "execution_count": null,
   "metadata": {
    "collapsed": true
   },
   "outputs": [],
   "source": [
    "salary_12 = salaries.____(\"_____\", are.______(\"_______\"))._______(\"______\", \"________\")\n"
   ]
  },
  {
   "cell_type": "code",
   "execution_count": null,
   "metadata": {
    "collapsed": true
   },
   "outputs": [],
   "source": [
    "salary_12.scatter(\"12percentage\", \"Salary\", fit_line=True)\n"
   ]
  },
  {
   "cell_type": "markdown",
   "metadata": {},
   "source": [
    "**C.** Great! Now that we have our table, it's time to calculate the regression line!\n",
    "\n",
    "For starters, calculate r, the correlation coefficient between 12percentage and salary.\n",
    "\n",
    "Hint: Make sure you use a function you defined in Question 3 of the case study.\n",
    "\n"
   ]
  },
  {
   "cell_type": "code",
   "execution_count": null,
   "metadata": {
    "collapsed": true
   },
   "outputs": [],
   "source": [
    "r = "
   ]
  },
  {
   "cell_type": "markdown",
   "metadata": {},
   "source": [
    "Write the function values, which calculates the slope and intercept of the regression line. You can use NumPy functions for this.\n",
    "\n"
   ]
  },
  {
   "cell_type": "code",
   "execution_count": null,
   "metadata": {
    "collapsed": true
   },
   "outputs": [],
   "source": [
    "def values(tbl, r, col_1, col_2):\n",
    "    m = \n",
    "    b = \n",
    "    return m, b\n",
    "line_vals = values(salary_12, r, \"12percentage\", \"Salary\")\n",
    "slope = line_vals[0]\n",
    "intercept = line_vals[1]\n",
    "print(\"Slope: \" + str(slope))\n",
    "print(\"Intercept: \" + str(intercept))\n"
   ]
  },
  {
   "cell_type": "markdown",
   "metadata": {},
   "source": [
    "**D.** Write a function, predict_salary, that takes in an array, a slope, and an intercept, and returns the predictions for the regression line. This should just take one line of code.\n",
    "\n"
   ]
  },
  {
   "cell_type": "code",
   "execution_count": null,
   "metadata": {
    "collapsed": true
   },
   "outputs": [],
   "source": [
    "def predict_salary(values, m, b):\n",
    "    \"***YOUR CODE HERE***\"\n",
    "\n",
    "salary_predictions = predict_salary(test_data.column(\"12percentage\"), slope, intercept)"
   ]
  },
  {
   "cell_type": "markdown",
   "metadata": {},
   "source": [
    "**E.** Let's now see how good our predictions were. Create a new table, salary_comp, that adds the column of predictions to our salary_12 table.\n",
    "\n"
   ]
  },
  {
   "cell_type": "code",
   "execution_count": null,
   "metadata": {
    "collapsed": true
   },
   "outputs": [],
   "source": [
    "salary_comp = salary_12.with_column(..., __________)"
   ]
  },
  {
   "cell_type": "markdown",
   "metadata": {},
   "source": [
    "Run the cell below to look at a scatter plot of salaries.\n",
    "\n"
   ]
  },
  {
   "cell_type": "code",
   "execution_count": null,
   "metadata": {
    "collapsed": true
   },
   "outputs": [],
   "source": [
    "plt.scatter(salary_12.column(0), salary_12.column(1))\n",
    "plt.scatter(salary_12.column(0), salary_12.column(2))"
   ]
  },
  {
   "cell_type": "markdown",
   "metadata": {},
   "source": [
    "Write a function called rmse that allows us to find the root mean squared error of salary_predictions. It should take in two column names. Once you're done writing it, call it and see what happens!\n",
    "\n"
   ]
  },
  {
   "cell_type": "code",
   "execution_count": null,
   "metadata": {
    "collapsed": true
   },
   "outputs": [],
   "source": [
    "def rmse(col_1, col_2):\n",
    "    # First, calculate the total squared error.\n",
    "    total_squared error = sum((salary_predictions.column(______) - ___________) ** 2)\n",
    "    return np.____(total_squared_error / ____.num_rows)\n",
    "rmse(______, \"_____\", \"_______\")"
   ]
  },
  {
   "cell_type": "markdown",
   "metadata": {},
   "source": [
    "**F.** In Lesson 9, we briefly discussed a method called least squares that allows us to minimize the squared error of our regression line. Now, we're actually going to use it. The datascience library contains a function called minimize, that takes in a function and gives us an array of the parameters that give us the lowest output of the function using the least squares method.\n",
    "\n"
   ]
  },
  {
   "cell_type": "markdown",
   "metadata": {},
   "source": [
    "Call `minimize` on `rmse` and print `min_slope` and `min_intercept`. How does it look like compared to your previous values?\n",
    "\n"
   ]
  },
  {
   "cell_type": "code",
   "execution_count": null,
   "metadata": {
    "collapsed": true
   },
   "outputs": [],
   "source": [
    "minimized_params = \n",
    "min_slope = minimize_params[0]\n",
    "min_intercept = minimize_params[1]\n",
    "\n",
    "print(...)"
   ]
  },
  {
   "cell_type": "markdown",
   "metadata": {},
   "source": [
    "**G.** Predict salaries using your new values for the slope and intercept.\n",
    "\n"
   ]
  },
  {
   "cell_type": "code",
   "execution_count": null,
   "metadata": {
    "collapsed": true
   },
   "outputs": [],
   "source": [
    "least_squares_predictions = \n"
   ]
  },
  {
   "cell_type": "markdown",
   "metadata": {},
   "source": [
    "Add this to your salary_comp table and plot the results\n",
    "\n"
   ]
  },
  {
   "cell_type": "code",
   "execution_count": null,
   "metadata": {
    "collapsed": true
   },
   "outputs": [],
   "source": [
    "salary_comp = salary_comp.with_column(\"_______\", _______)\n"
   ]
  },
  {
   "cell_type": "markdown",
   "metadata": {},
   "source": [
    "**H.** Now, let's look at this table, called `test`. Are the salaries calculated here?\n",
    "\n"
   ]
  },
  {
   "cell_type": "code",
   "execution_count": 12,
   "metadata": {
    "collapsed": false
   },
   "outputs": [
    {
     "data": {
      "text/html": [
       "<table border=\"1\" class=\"dataframe\">\n",
       "    <thead>\n",
       "        <tr>\n",
       "            <th>Type</th> <th>ID</th> <th>Salary</th> <th>DOJ</th> <th>DOL</th> <th>Designation</th> <th>JobCity</th> <th>Gender</th> <th>DOB</th> <th>10percentage</th> <th>10board</th> <th>12graduation</th> <th>12percentage</th> <th>12board</th> <th>CollegeID</th> <th>CollegeTier</th> <th>Degree</th> <th>Specialization</th> <th>collegeGPA</th> <th>CollegeCityID</th> <th>CollegeCityTier</th> <th>CollegeState</th> <th>GraduationYear</th> <th>English</th> <th>Logical</th> <th>Quant</th> <th>Domain</th> <th>ComputerProgramming</th> <th>ElectronicsAndSemicon</th> <th>ComputerScience</th> <th>MechanicalEngg</th> <th>ElectricalEngg</th> <th>TelecomEngg</th> <th>CivilEngg</th> <th>conscientiousness</th> <th>agreeableness</th> <th>extraversion</th> <th>nueroticism</th> <th>openess_to_experience</th>\n",
       "        </tr>\n",
       "    </thead>\n",
       "    <tbody>\n",
       "        <tr>\n",
       "            <td>test</td> <td>664736 </td> <td>?     </td> <td>?   </td> <td>?   </td> <td>?          </td> <td>?      </td> <td>m     </td> <td>1/16/92 0:00 </td> <td>75          </td> <td>cbse       </td> <td>2009        </td> <td>74          </td> <td>cbse       </td> <td>13478    </td> <td>2          </td> <td>B.Tech/B.E.</td> <td>electronics and communication engineering</td> <td>67.2      </td> <td>13478        </td> <td>0              </td> <td>Haryana       </td> <td>2013          </td> <td>510    </td> <td>460    </td> <td>620  </td> <td>0.229482 </td> <td>385                </td> <td>266                  </td> <td>-1             </td> <td>-1            </td> <td>-1            </td> <td>-1         </td> <td>-1       </td> <td>0.2718           </td> <td>-0.2871      </td> <td>0.4711      </td> <td>-0.7415    </td> <td>-0.4776              </td>\n",
       "        </tr>\n",
       "    </tbody>\n",
       "        <tr>\n",
       "            <td>test</td> <td>1123290</td> <td>?     </td> <td>?   </td> <td>?   </td> <td>?          </td> <td>?      </td> <td>m     </td> <td>6/5/92 0:00  </td> <td>83          </td> <td>state board</td> <td>2009        </td> <td>75          </td> <td>state board</td> <td>65       </td> <td>2          </td> <td>B.Tech/B.E.</td> <td>information technology                   </td> <td>71.1      </td> <td>65           </td> <td>0              </td> <td>Uttar Pradesh </td> <td>2014          </td> <td>535    </td> <td>605    </td> <td>655  </td> <td>0.0800553</td> <td>545                </td> <td>-1                   </td> <td>253            </td> <td>-1            </td> <td>-1            </td> <td>-1         </td> <td>-1       </td> <td>0.7027           </td> <td>0.2124       </td> <td>1.2396      </td> <td>-0.8682    </td> <td>1.0554               </td>\n",
       "        </tr>\n",
       "    </tbody>\n",
       "        <tr>\n",
       "            <td>test</td> <td>1062444</td> <td>?     </td> <td>?   </td> <td>?   </td> <td>?          </td> <td>?      </td> <td>f     </td> <td>11/22/92 0:00</td> <td>85.2        </td> <td>cbse       </td> <td>2010        </td> <td>91.4        </td> <td>state board</td> <td>3505     </td> <td>2          </td> <td>B.Tech/B.E.</td> <td>information technology                   </td> <td>80.5      </td> <td>3505         </td> <td>0              </td> <td>Andhra Pradesh</td> <td>2014          </td> <td>745    </td> <td>690    </td> <td>655  </td> <td>0.990009 </td> <td>655                </td> <td>-1                   </td> <td>-1             </td> <td>-1            </td> <td>-1            </td> <td>-1         </td> <td>-1       </td> <td>0.1282           </td> <td>1.0449       </td> <td>-0.6048     </td> <td>-1.6289    </td> <td>-0.8608              </td>\n",
       "        </tr>\n",
       "    </tbody>\n",
       "        <tr>\n",
       "            <td>test</td> <td>1072028</td> <td>?     </td> <td>?   </td> <td>?   </td> <td>?          </td> <td>?      </td> <td>f     </td> <td>10/17/90 0:00</td> <td>81.8        </td> <td>state board</td> <td>2010        </td> <td>80.8        </td> <td>state board</td> <td>3931     </td> <td>2          </td> <td>B.Tech/B.E.</td> <td>information technology                   </td> <td>70.38     </td> <td>3931         </td> <td>0              </td> <td>Andhra Pradesh</td> <td>2014          </td> <td>325    </td> <td>455    </td> <td>415  </td> <td>0.842248 </td> <td>535                </td> <td>-1                   </td> <td>469            </td> <td>-1            </td> <td>-1            </td> <td>-1         </td> <td>-1       </td> <td>0.4155           </td> <td>1.0449       </td> <td>-0.6048     </td> <td>1.5404     </td> <td>1.0554               </td>\n",
       "        </tr>\n",
       "    </tbody>\n",
       "        <tr>\n",
       "            <td>test</td> <td>267259 </td> <td>?     </td> <td>?   </td> <td>?   </td> <td>?          </td> <td>?      </td> <td>m     </td> <td>3/20/90 0:00 </td> <td>78          </td> <td>cbse       </td> <td>2007        </td> <td>78          </td> <td>cbse       </td> <td>7564     </td> <td>2          </td> <td>B.Tech/B.E.</td> <td>computer engineering                     </td> <td>71        </td> <td>7564         </td> <td>0              </td> <td>Haryana       </td> <td>2011          </td> <td>475    </td> <td>395    </td> <td>435  </td> <td>0.864685 </td> <td>525                </td> <td>-1                   </td> <td>-1             </td> <td>-1            </td> <td>-1            </td> <td>-1         </td> <td>-1       </td> <td>0.0464           </td> <td>0.0328       </td> <td>-0.0537     </td> <td>0.0623     </td> <td>0.6603               </td>\n",
       "        </tr>\n",
       "    </tbody>\n",
       "        <tr>\n",
       "            <td>test</td> <td>283564 </td> <td>?     </td> <td>?   </td> <td>?   </td> <td>?          </td> <td>?      </td> <td>m     </td> <td>10/4/89 0:00 </td> <td>87          </td> <td>cbse       </td> <td>2007        </td> <td>68.4        </td> <td>cbse       </td> <td>2097     </td> <td>2          </td> <td>B.Tech/B.E.</td> <td>computer engineering                     </td> <td>70.24     </td> <td>2097         </td> <td>0              </td> <td>Uttar Pradesh </td> <td>2011          </td> <td>505    </td> <td>645    </td> <td>645  </td> <td>0.843124 </td> <td>515                </td> <td>-1                   </td> <td>-1             </td> <td>-1            </td> <td>-1            </td> <td>-1         </td> <td>-1       </td> <td>-0.2628          </td> <td>0.3448       </td> <td>0.0914      </td> <td>0.7673     </td> <td>-0.4455              </td>\n",
       "        </tr>\n",
       "    </tbody>\n",
       "        <tr>\n",
       "            <td>test</td> <td>1264575</td> <td>?     </td> <td>?   </td> <td>?   </td> <td>?          </td> <td>?      </td> <td>m     </td> <td>9/23/93 0:00 </td> <td>79.2        </td> <td>cbse       </td> <td>2010        </td> <td>73.73       </td> <td>cbse       </td> <td>8633     </td> <td>2          </td> <td>B.Tech/B.E.</td> <td>electronics and communication engineering</td> <td>70.9      </td> <td>8633         </td> <td>0              </td> <td>Uttar Pradesh </td> <td>2014          </td> <td>395    </td> <td>520    </td> <td>560  </td> <td>0.64939  </td> <td>405                </td> <td>356                  </td> <td>-1             </td> <td>-1            </td> <td>-1            </td> <td>388        </td> <td>-1       </td> <td>-2.7443          </td> <td>0.8784       </td> <td>-0.1437     </td> <td>0.2727     </td> <td>-0.0943              </td>\n",
       "        </tr>\n",
       "    </tbody>\n",
       "        <tr>\n",
       "            <td>test</td> <td>1091378</td> <td>?     </td> <td>?   </td> <td>?   </td> <td>?          </td> <td>?      </td> <td>m     </td> <td>4/26/89 0:00 </td> <td>67          </td> <td>state board</td> <td>2007        </td> <td>73          </td> <td>state board</td> <td>8949     </td> <td>2          </td> <td>MCA        </td> <td>computer application                     </td> <td>73        </td> <td>8949         </td> <td>1              </td> <td>Karnataka     </td> <td>2013          </td> <td>325    </td> <td>360    </td> <td>415  </td> <td>0.450877 </td> <td>395                </td> <td>-1                   </td> <td>-1             </td> <td>-1            </td> <td>-1            </td> <td>-1         </td> <td>-1       </td> <td>-0.3027          </td> <td>0.7119       </td> <td>1.2396      </td> <td>-0.2344    </td> <td>0.8637               </td>\n",
       "        </tr>\n",
       "    </tbody>\n",
       "        <tr>\n",
       "            <td>test</td> <td>361658 </td> <td>?     </td> <td>?   </td> <td>?   </td> <td>?          </td> <td>?      </td> <td>m     </td> <td>7/7/90 0:00  </td> <td>90.56       </td> <td>0          </td> <td>2008        </td> <td>83.33       </td> <td>0          </td> <td>1384     </td> <td>2          </td> <td>B.Tech/B.E.</td> <td>mechanical engineering                   </td> <td>84.1      </td> <td>1384         </td> <td>0              </td> <td>Karnataka     </td> <td>2012          </td> <td>415    </td> <td>405    </td> <td>495  </td> <td>0.607034 </td> <td>-1                 </td> <td>-1                   </td> <td>-1             </td> <td>409           </td> <td>-1            </td> <td>-1         </td> <td>-1       </td> <td>-0.1082          </td> <td>0.9688       </td> <td>0.2729      </td> <td>-0.4078    </td> <td>-1.2354              </td>\n",
       "        </tr>\n",
       "    </tbody>\n",
       "        <tr>\n",
       "            <td>test</td> <td>1119280</td> <td>?     </td> <td>?   </td> <td>?   </td> <td>?          </td> <td>?      </td> <td>f     </td> <td>4/6/92 0:00  </td> <td>73.8        </td> <td>cbse       </td> <td>2010        </td> <td>74          </td> <td>cbse       </td> <td>1125     </td> <td>2          </td> <td>B.Tech/B.E.</td> <td>information technology                   </td> <td>77        </td> <td>1125         </td> <td>0              </td> <td>Orissa        </td> <td>2014          </td> <td>385    </td> <td>495    </td> <td>415  </td> <td>0.864685 </td> <td>525                </td> <td>-1                   </td> <td>-1             </td> <td>-1            </td> <td>-1            </td> <td>-1         </td> <td>-1       </td> <td>0.8463           </td> <td>0.7119       </td> <td>0.9322      </td> <td>-2.136     </td> <td>1.6302               </td>\n",
       "        </tr>\n",
       "    </tbody>\n",
       "</table>\n",
       "<p>... (1490 rows omitted)</p"
      ],
      "text/plain": [
       "Type | ID      | Salary | DOJ  | DOL  | Designation | JobCity | Gender | DOB           | 10percentage | 10board     | 12graduation | 12percentage | 12board     | CollegeID | CollegeTier | Degree      | Specialization                            | collegeGPA | CollegeCityID | CollegeCityTier | CollegeState   | GraduationYear | English | Logical | Quant | Domain    | ComputerProgramming | ElectronicsAndSemicon | ComputerScience | MechanicalEngg | ElectricalEngg | TelecomEngg | CivilEngg | conscientiousness | agreeableness | extraversion | nueroticism | openess_to_experience\n",
       "test | 664736  | ?      | ?    | ?    | ?           | ?       | m      | 1/16/92 0:00  | 75           | cbse        | 2009         | 74           | cbse        | 13478     | 2           | B.Tech/B.E. | electronics and communication engineering | 67.2       | 13478         | 0               | Haryana        | 2013           | 510     | 460     | 620   | 0.229482  | 385                 | 266                   | -1              | -1             | -1             | -1          | -1        | 0.2718            | -0.2871       | 0.4711       | -0.7415     | -0.4776\n",
       "test | 1123290 | ?      | ?    | ?    | ?           | ?       | m      | 6/5/92 0:00   | 83           | state board | 2009         | 75           | state board | 65        | 2           | B.Tech/B.E. | information technology                    | 71.1       | 65            | 0               | Uttar Pradesh  | 2014           | 535     | 605     | 655   | 0.0800553 | 545                 | -1                    | 253             | -1             | -1             | -1          | -1        | 0.7027            | 0.2124        | 1.2396       | -0.8682     | 1.0554\n",
       "test | 1062444 | ?      | ?    | ?    | ?           | ?       | f      | 11/22/92 0:00 | 85.2         | cbse        | 2010         | 91.4         | state board | 3505      | 2           | B.Tech/B.E. | information technology                    | 80.5       | 3505          | 0               | Andhra Pradesh | 2014           | 745     | 690     | 655   | 0.990009  | 655                 | -1                    | -1              | -1             | -1             | -1          | -1        | 0.1282            | 1.0449        | -0.6048      | -1.6289     | -0.8608\n",
       "test | 1072028 | ?      | ?    | ?    | ?           | ?       | f      | 10/17/90 0:00 | 81.8         | state board | 2010         | 80.8         | state board | 3931      | 2           | B.Tech/B.E. | information technology                    | 70.38      | 3931          | 0               | Andhra Pradesh | 2014           | 325     | 455     | 415   | 0.842248  | 535                 | -1                    | 469             | -1             | -1             | -1          | -1        | 0.4155            | 1.0449        | -0.6048      | 1.5404      | 1.0554\n",
       "test | 267259  | ?      | ?    | ?    | ?           | ?       | m      | 3/20/90 0:00  | 78           | cbse        | 2007         | 78           | cbse        | 7564      | 2           | B.Tech/B.E. | computer engineering                      | 71         | 7564          | 0               | Haryana        | 2011           | 475     | 395     | 435   | 0.864685  | 525                 | -1                    | -1              | -1             | -1             | -1          | -1        | 0.0464            | 0.0328        | -0.0537      | 0.0623      | 0.6603\n",
       "test | 283564  | ?      | ?    | ?    | ?           | ?       | m      | 10/4/89 0:00  | 87           | cbse        | 2007         | 68.4         | cbse        | 2097      | 2           | B.Tech/B.E. | computer engineering                      | 70.24      | 2097          | 0               | Uttar Pradesh  | 2011           | 505     | 645     | 645   | 0.843124  | 515                 | -1                    | -1              | -1             | -1             | -1          | -1        | -0.2628           | 0.3448        | 0.0914       | 0.7673      | -0.4455\n",
       "test | 1264575 | ?      | ?    | ?    | ?           | ?       | m      | 9/23/93 0:00  | 79.2         | cbse        | 2010         | 73.73        | cbse        | 8633      | 2           | B.Tech/B.E. | electronics and communication engineering | 70.9       | 8633          | 0               | Uttar Pradesh  | 2014           | 395     | 520     | 560   | 0.64939   | 405                 | 356                   | -1              | -1             | -1             | 388         | -1        | -2.7443           | 0.8784        | -0.1437      | 0.2727      | -0.0943\n",
       "test | 1091378 | ?      | ?    | ?    | ?           | ?       | m      | 4/26/89 0:00  | 67           | state board | 2007         | 73           | state board | 8949      | 2           | MCA         | computer application                      | 73         | 8949          | 1               | Karnataka      | 2013           | 325     | 360     | 415   | 0.450877  | 395                 | -1                    | -1              | -1             | -1             | -1          | -1        | -0.3027           | 0.7119        | 1.2396       | -0.2344     | 0.8637\n",
       "test | 361658  | ?      | ?    | ?    | ?           | ?       | m      | 7/7/90 0:00   | 90.56        | 0           | 2008         | 83.33        | 0           | 1384      | 2           | B.Tech/B.E. | mechanical engineering                    | 84.1       | 1384          | 0               | Karnataka      | 2012           | 415     | 405     | 495   | 0.607034  | -1                  | -1                    | -1              | 409            | -1             | -1          | -1        | -0.1082           | 0.9688        | 0.2729       | -0.4078     | -1.2354\n",
       "test | 1119280 | ?      | ?    | ?    | ?           | ?       | f      | 4/6/92 0:00   | 73.8         | cbse        | 2010         | 74           | cbse        | 1125      | 2           | B.Tech/B.E. | information technology                    | 77         | 1125          | 0               | Orissa         | 2014           | 385     | 495     | 415   | 0.864685  | 525                 | -1                    | -1              | -1             | -1             | -1          | -1        | 0.8463            | 0.7119        | 0.9322       | -2.136      | 1.6302\n",
       "... (1490 rows omitted)"
      ]
     },
     "execution_count": 12,
     "metadata": {},
     "output_type": "execute_result"
    }
   ],
   "source": [
    "test = Table().read_table(\"engineering_salaries_test.csv\")\n",
    "test\n"
   ]
  },
  {
   "cell_type": "markdown",
   "metadata": {},
   "source": [
    "Filter out the table, predict the salaries, and plot the results. This is similar to something you've already done, just with different data!\n",
    "\n"
   ]
  },
  {
   "cell_type": "markdown",
   "metadata": {},
   "source": [
    "## Conclusion\n",
    "\n",
    "Although this table was specific to engineering graduates, you can try finding data for other professions online and doing an analysis just like this! Do you think it'll be similar or different for other professions? Why? Why not? You don't have to answer these questions, but definitely give them some thought. We hope you had fun applying your skills here and hope you're ready to do some more work with real data in the next session!\n"
   ]
  }
 ],
 "metadata": {
  "kernelspec": {
   "display_name": "Python 3",
   "language": "python",
   "name": "python3"
  },
  "language_info": {
   "codemirror_mode": {
    "name": "ipython",
    "version": 3
   },
   "file_extension": ".py",
   "mimetype": "text/x-python",
   "name": "python",
   "nbconvert_exporter": "python",
   "pygments_lexer": "ipython3",
   "version": "3.6.0"
  }
 },
 "nbformat": 4,
 "nbformat_minor": 2
}
