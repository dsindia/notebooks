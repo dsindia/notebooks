{
 "cells": [
  {
   "cell_type": "code",
   "execution_count": 2,
   "metadata": {
    "collapsed": false
   },
   "outputs": [],
   "source": [
    "import matplotlib.pyplot as plt\n",
    "import math\n",
    "import numpy as np\n",
    "import matplotlib.mlab as mlab\n",
    "import random\n",
    "from datascience import *\n",
    "%matplotlib inline\n",
    "import matplotlib.pyplot as plots\n",
    "plots.style.use('fivethirtyeight')\n",
    "import math"
   ]
  },
  {
   "cell_type": "markdown",
   "metadata": {},
   "source": [
    "# Intro to Probability -- Digging Deeper"
   ]
  },
  {
   "cell_type": "markdown",
   "metadata": {},
   "source": [
    "In the lesson, we ended with an experiment about coin flipping and we compared the empirical probabilities with the theoretical probabilites. Here, the same experiement is simulated, with an extra column for the theoretical probability. The experiment has been run 10 times, 100 times, 1000 times, and 10,000 times so you can see the difference between experimental and theoretical probablity as the numbers get extremely high. Run the cells and note what you see!"
   ]
  },
  {
   "cell_type": "code",
   "execution_count": 3,
   "metadata": {
    "collapsed": false
   },
   "outputs": [
    {
     "data": {
      "text/html": [
       "<table border=\"1\" class=\"dataframe\">\n",
       "    <thead>\n",
       "        <tr>\n",
       "            <th>Side</th> <th>Count</th> <th>Empirical Probability</th> <th>Theoretical Probability</th>\n",
       "        </tr>\n",
       "    </thead>\n",
       "    <tbody>\n",
       "        <tr>\n",
       "            <td>heads</td> <td>5    </td> <td>0.5                  </td> <td>0.5                    </td>\n",
       "        </tr>\n",
       "    </tbody>\n",
       "        <tr>\n",
       "            <td>tails</td> <td>5    </td> <td>0.5                  </td> <td>0.5                    </td>\n",
       "        </tr>\n",
       "    </tbody>\n",
       "</table>"
      ],
      "text/plain": [
       "Side  | Count | Empirical Probability | Theoretical Probability\n",
       "heads | 5     | 0.5                   | 0.5\n",
       "tails | 5     | 0.5                   | 0.5"
      ]
     },
     "execution_count": 3,
     "metadata": {},
     "output_type": "execute_result"
    }
   ],
   "source": [
    "run_amount=10\n",
    "heads,tails=0,0\n",
    "for i in range(run_amount):\n",
    "    coin=random.randint(0,1)\n",
    "    if coin==0:\n",
    "        heads+=1\n",
    "    else:\n",
    "        tails+=1\n",
    "theoretical_prob=(.5*run_amount)/run_amount\n",
    "Table().with_columns(\n",
    "    'Side', make_array('heads','tails'),\n",
    "    'Count', make_array(heads,tails),\n",
    "    'Empirical Probability', make_array(heads/run_amount,tails/run_amount),\n",
    "    'Theoretical Probability', make_array(theoretical_prob,theoretical_prob)\n",
    ")"
   ]
  },
  {
   "cell_type": "code",
   "execution_count": 8,
   "metadata": {
    "collapsed": false
   },
   "outputs": [
    {
     "data": {
      "text/html": [
       "<table border=\"1\" class=\"dataframe\">\n",
       "    <thead>\n",
       "        <tr>\n",
       "            <th>Side</th> <th>Count</th> <th>Empirical Probability</th> <th>Theoretical Probability</th>\n",
       "        </tr>\n",
       "    </thead>\n",
       "    <tbody>\n",
       "        <tr>\n",
       "            <td>heads</td> <td>41   </td> <td>0.41                 </td> <td>0.5                    </td>\n",
       "        </tr>\n",
       "    </tbody>\n",
       "        <tr>\n",
       "            <td>tails</td> <td>59   </td> <td>0.59                 </td> <td>0.5                    </td>\n",
       "        </tr>\n",
       "    </tbody>\n",
       "</table>"
      ],
      "text/plain": [
       "Side  | Count | Empirical Probability | Theoretical Probability\n",
       "heads | 41    | 0.41                  | 0.5\n",
       "tails | 59    | 0.59                  | 0.5"
      ]
     },
     "execution_count": 8,
     "metadata": {},
     "output_type": "execute_result"
    }
   ],
   "source": [
    "run_amount=100\n",
    "heads,tails=0,0\n",
    "for i in range(run_amount):\n",
    "    coin=random.randint(0,1)\n",
    "    if coin==0:\n",
    "        heads+=1\n",
    "    else:\n",
    "        tails+=1\n",
    "theoretical_prob=(.5*run_amount)/run_amount\n",
    "Table().with_columns(\n",
    "    'Side', make_array('heads','tails'),\n",
    "    'Count', make_array(heads,tails),\n",
    "    'Empirical Probability', make_array(heads/run_amount,tails/run_amount),\n",
    "    'Theoretical Probability', make_array(theoretical_prob,theoretical_prob)\n",
    ")"
   ]
  },
  {
   "cell_type": "code",
   "execution_count": 9,
   "metadata": {
    "collapsed": false
   },
   "outputs": [
    {
     "data": {
      "text/html": [
       "<table border=\"1\" class=\"dataframe\">\n",
       "    <thead>\n",
       "        <tr>\n",
       "            <th>Side</th> <th>Count</th> <th>Empirical Probability</th> <th>Theoretical Probability</th>\n",
       "        </tr>\n",
       "    </thead>\n",
       "    <tbody>\n",
       "        <tr>\n",
       "            <td>heads</td> <td>482  </td> <td>0.482                </td> <td>0.5                    </td>\n",
       "        </tr>\n",
       "    </tbody>\n",
       "        <tr>\n",
       "            <td>tails</td> <td>518  </td> <td>0.518                </td> <td>0.5                    </td>\n",
       "        </tr>\n",
       "    </tbody>\n",
       "</table>"
      ],
      "text/plain": [
       "Side  | Count | Empirical Probability | Theoretical Probability\n",
       "heads | 482   | 0.482                 | 0.5\n",
       "tails | 518   | 0.518                 | 0.5"
      ]
     },
     "execution_count": 9,
     "metadata": {},
     "output_type": "execute_result"
    }
   ],
   "source": [
    "run_amount=1000\n",
    "heads,tails=0,0\n",
    "for i in range(run_amount):\n",
    "    coin=random.randint(0,1)\n",
    "    if coin==0:\n",
    "        heads+=1\n",
    "    else:\n",
    "        tails+=1\n",
    "theoretical_prob=(.5*run_amount)/run_amount\n",
    "Table().with_columns(\n",
    "    'Side', make_array('heads','tails'),\n",
    "    'Count', make_array(heads,tails),\n",
    "    'Empirical Probability', make_array(heads/run_amount,tails/run_amount),\n",
    "    'Theoretical Probability', make_array(theoretical_prob,theoretical_prob)\n",
    ")"
   ]
  },
  {
   "cell_type": "code",
   "execution_count": 10,
   "metadata": {
    "collapsed": false
   },
   "outputs": [
    {
     "data": {
      "text/html": [
       "<table border=\"1\" class=\"dataframe\">\n",
       "    <thead>\n",
       "        <tr>\n",
       "            <th>Side</th> <th>Count</th> <th>Empirical Probability</th> <th>Theoretical Probability</th>\n",
       "        </tr>\n",
       "    </thead>\n",
       "    <tbody>\n",
       "        <tr>\n",
       "            <td>heads</td> <td>4892 </td> <td>0.4892               </td> <td>0.5                    </td>\n",
       "        </tr>\n",
       "    </tbody>\n",
       "        <tr>\n",
       "            <td>tails</td> <td>5108 </td> <td>0.5108               </td> <td>0.5                    </td>\n",
       "        </tr>\n",
       "    </tbody>\n",
       "</table>"
      ],
      "text/plain": [
       "Side  | Count | Empirical Probability | Theoretical Probability\n",
       "heads | 4892  | 0.4892                | 0.5\n",
       "tails | 5108  | 0.5108                | 0.5"
      ]
     },
     "execution_count": 10,
     "metadata": {},
     "output_type": "execute_result"
    }
   ],
   "source": [
    "run_amount=10000\n",
    "heads,tails=0,0\n",
    "for i in range(run_amount):\n",
    "    coin=random.randint(0,1)\n",
    "    if coin==0:\n",
    "        heads+=1\n",
    "    else:\n",
    "        tails+=1\n",
    "theoretical_prob=(.5*run_amount)/run_amount\n",
    "Table().with_columns(\n",
    "    'Side', make_array('heads','tails'),\n",
    "    'Count', make_array(heads,tails),\n",
    "    'Empirical Probability', make_array(heads/run_amount,tails/run_amount),\n",
    "    'Theoretical Probability', make_array(theoretical_prob,theoretical_prob)\n",
    ")\n"
   ]
  },
  {
   "cell_type": "markdown",
   "metadata": {},
   "source": [
    "You probably noticed that as the experiement is run more times, the experimental and theoretical probabilities begin to align more and more. Here's a histogram of the data. Notice that the bars are almost equivalent. "
   ]
  },
  {
   "cell_type": "code",
   "execution_count": 11,
   "metadata": {
    "collapsed": false
   },
   "outputs": [
    {
     "data": {
      "image/png": "[encoded data removed]",
      "text/plain": [
       "<matplotlib.figure.Figure at 0x11b281c50>"
      ]
     },
     "metadata": {},
     "output_type": "display_data"
    }
   ],
   "source": [
    "run_amount=10000\n",
    "heads,tails=0,0\n",
    "for i in range(run_amount):\n",
    "    coin=random.randint(0,1)\n",
    "    if coin==0:\n",
    "        heads+=1\n",
    "    else:\n",
    "        tails+=1\n",
    "        \n",
    "hist_table=Table().with_columns(\n",
    "    'Heads count', make_array(heads),\n",
    "    'Tails count', make_array(tails))\n",
    "hist_table.hist()\n",
    "sd_heads=np.std(heads)\n",
    "mean_heads=np.mean(heads)\n",
    "positions = np.arange(-3, 3.1, 1)*sd_heads + mean_heads\n",
    "plots.xticks(positions);"
   ]
  },
  {
   "cell_type": "markdown",
   "metadata": {},
   "source": [
    "On the worksheet for this lesson, we talked about how a normal distribution can be shown in an IQ test. Here is the visualization: "
   ]
  },
  {
   "cell_type": "code",
   "execution_count": 12,
   "metadata": {
    "collapsed": false
   },
   "outputs": [
    {
     "data": {
      "image/png": "[encoded data removed]",
      "text/plain": [
       "<matplotlib.figure.Figure at 0x11b299198>"
      ]
     },
     "metadata": {},
     "output_type": "display_data"
    }
   ],
   "source": [
    "mu = 100\n",
    "variance = 225\n",
    "sigma = 15\n",
    "x = np.linspace(mu-3*variance,mu+3*variance, 100)\n",
    "plt.plot(x,mlab.normpdf(x, mu, sigma))\n",
    "plt.axis([0,200, 0, 0.025])\n",
    "plt.show()\n"
   ]
  },
  {
   "cell_type": "markdown",
   "metadata": {},
   "source": [
    " Here are a few more examples of normal distributions:"
   ]
  },
  {
   "cell_type": "code",
   "execution_count": 14,
   "metadata": {
    "collapsed": false
   },
   "outputs": [
    {
     "data": {
      "image/png": "[encoded data removed]",
      "text/plain": [
       "<matplotlib.figure.Figure at 0x11e9b26d8>"
      ]
     },
     "metadata": {},
     "output_type": "display_data"
    }
   ],
   "source": [
    "mu = 0\n",
    "variance = 1\n",
    "sigma = math.sqrt(variance)\n",
    "x = np.linspace(mu-3*variance,mu+3*variance, 100)\n",
    "plt.plot(x,mlab.normpdf(x, mu, sigma))\n",
    "plt.show()"
   ]
  },
  {
   "cell_type": "code",
   "execution_count": 15,
   "metadata": {
    "collapsed": false,
    "scrolled": true
   },
   "outputs": [
    {
     "data": {
      "image/png": "[encoded data removed]",
      "text/plain": [
       "<matplotlib.figure.Figure at 0x11e939dd8>"
      ]
     },
     "metadata": {},
     "output_type": "display_data"
    }
   ],
   "source": [
    "mu = 0\n",
    "variance = 100\n",
    "sigma = math.sqrt(variance)\n",
    "x = np.linspace(mu-3*variance,mu+3*variance, 100)\n",
    "plt.plot(x,mlab.normpdf(x, mu, sigma))\n",
    "plt.show()"
   ]
  },
  {
   "cell_type": "markdown",
   "metadata": {},
   "source": [
    "Now make your own! Insert values for mu and variance, run the cell, and see what happens!\n"
   ]
  },
  {
   "cell_type": "code",
   "execution_count": 44,
   "metadata": {
    "collapsed": false
   },
   "outputs": [
    {
     "ename": "SyntaxError",
     "evalue": "invalid syntax (<ipython-input-44-03bdd3b47c0b>, line 1)",
     "output_type": "error",
     "traceback": [
      "\u001b[0;36m  File \u001b[0;32m\"<ipython-input-44-03bdd3b47c0b>\"\u001b[0;36m, line \u001b[0;32m1\u001b[0m\n\u001b[0;31m    mu = ##\u001b[0m\n\u001b[0m           ^\u001b[0m\n\u001b[0;31mSyntaxError\u001b[0m\u001b[0;31m:\u001b[0m invalid syntax\n"
     ]
    }
   ],
   "source": [
    "mu = ##\n",
    "variance = ##\n",
    "sigma = math.sqrt(variance)\n",
    "x = np.linspace(mu-3*variance,mu+3*variance, 100)\n",
    "plt.plot(x,mlab.normpdf(x, mu, sigma))\n",
    "plt.show()"
   ]
  },
  {
   "cell_type": "code",
   "execution_count": null,
   "metadata": {
    "collapsed": true
   },
   "outputs": [],
   "source": []
  }
 ],
 "metadata": {
  "kernelspec": {
   "display_name": "Python 3",
   "language": "python",
   "name": "python3"
  },
  "language_info": {
   "codemirror_mode": {
    "name": "ipython",
    "version": 3
   },
   "file_extension": ".py",
   "mimetype": "text/x-python",
   "name": "python",
   "nbconvert_exporter": "python",
   "pygments_lexer": "ipython3",
   "version": "3.6.0"
  }
 },
 "nbformat": 4,
 "nbformat_minor": 2
}
